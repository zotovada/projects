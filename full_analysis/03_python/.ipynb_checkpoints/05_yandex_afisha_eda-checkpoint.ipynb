{
 "cells": [
  {
   "cell_type": "markdown",
   "id": "9baea2dd-df03-4e8c-bb96-ff9477cf468a",
   "metadata": {},
   "source": [
    "# Яндекс Афиша: анализ данных\n",
    "\n",
    "- Автор: Зотова Дарья\n",
    "- Дата: 13.10.2025"
   ]
  },
  {
   "cell_type": "markdown",
   "id": "921908d4-10e1-40f1-8ab5-fbc8eb50193a",
   "metadata": {},
   "source": [
    "### Цель и задачи проекта\n",
    "\n",
    "**Цель:** Провести анализ данных Яндекс Афиши за лето–осень 2024 года, чтобы выявить инсайты об изменении пользовательских предпочтений, оценить влияние сезонности на продажи и активность пользователей, а также проверить гипотезы о различиях в поведении пользователей мобильных и стационарных устройств.\n",
    "\n",
    "**Задачи:**\n",
    "1. Загрузить данные и познакомиться с их содержимым.\n",
    "2. Провести предобработку данных.\n",
    "3. Провести исследовательский анализ данных:\n",
    "   - изучить распределение заказов по категориям (тип мероприятия, тип устройства, возрастной рейтинг);\n",
    "   - проанализировать осеннююю активность пользователей по дням и изучить недельную цикличность;\n",
    "   - определить топ-категории по числу мероприятий, заказов и выручке в разрезе регионов и билетных партнёров.\n",
    "4. Проверить гипотезы:\n",
    "   - Среднее количество заказов на одного пользователя мобильного приложения выше по сравнению с пользователями ПК.\n",
    "   - Среднее время между заказами пользователей мобильных приложений выше по сравнению с пользователями ПК.\n",
    "6. Сформулировать выводы по проведённому анализу и дать рекомендации сервису."
   ]
  },
  {
   "cell_type": "markdown",
   "id": "b0d519dd-1bb7-4ae4-b6a8-696889fb3b22",
   "metadata": {
    "jp-MarkdownHeadingCollapsed": true
   },
   "source": [
    "### Описание данных\n",
    "\n",
    "Данные состоят из трёх датасетов:\n",
    "\n",
    "- `final_tickets_orders_df.csv` содержит данные обо всех заказах билетов, совершённых с двух типов устройств — мобильных и ПК; \n",
    "- `final_tickets_events_df.csv` содержит данные о событиях, включая регион, город и площадку проведения мероприятия;\n",
    "- `final_tickets_tenge_df.csv` содержит данные о курсе тенге к рублю за 2024 год. Значения в рублях представлено для 100 тенге.\n",
    "\n",
    "**Описание датасета `final_tickets_orders_df.csv`:**\n",
    "\n",
    "- `order_id` — уникальный идентификатор заказа.\n",
    "- `user_id` — уникальный идентификатор пользователя.\n",
    "- `created_dt_msk` — дата создания заказа (московское время).\n",
    "- `created_ts_msk` — дата и время создания заказа (московское время).\n",
    "- `event_id` — идентификатор мероприятия из таблицы events.\n",
    "- `cinema_circuit` — сеть кинотеатров. Если не применимо, то здесь будет значение 'нет'.\n",
    "- `age_limit` — возрастное ограничение мероприятия.\n",
    "- `currency_code` — валюта оплаты, например rub для российских рублей.\n",
    "- `device_type_canonical` — тип устройства, с которого был оформлен заказ.\n",
    "- `revenue` — выручка от заказа.\n",
    "- `service_name` — название билетного оператора.\n",
    "- `tickets_count` — количество купленных билетов.\n",
    "- `total` — общая сумма заказа.\n",
    "- `days_since_prev` — количество дней с предыдущей покупки для каждого пользователя. Если покупки не было, то данные содержат пропуск.\n",
    "\n",
    "**Описание датасета `final_tickets_events_df.csv`:**\n",
    "\n",
    "- `event_id` — уникальный идентификатор мероприятия.\n",
    "- `event_name` — название мероприятия.\n",
    "- `event_type_description` — описание типа мероприятия.\n",
    "- `event_type_main` — основной тип мероприятия.\n",
    "- `organizers` — организаторы мероприятия.\n",
    "- `region_name` — название региона.\n",
    "- `city_name` — название города.\n",
    "- `city_id` — уникальный идентификатор города.\n",
    "- `venue_id` — уникальный идентификатор площадки.\n",
    "- `venue_name` — название площадки.\n",
    "- `venue_address` — адрес площадки.\n",
    "\n",
    "**Описание датасета `final_tickets_tenge_df.csv`:**\n",
    "\n",
    "- `nominal` — номинал (100 тенге);\n",
    "- `data` — дата;\n",
    "- `curs` — курс тенге к рублю;\n",
    "- `cdx` — обозначение валюты (kzt)."
   ]
  },
  {
   "cell_type": "markdown",
   "id": "67e56c1d-28f3-480c-96b5-dcc8d1a09f73",
   "metadata": {},
   "source": [
    "### Содержимое проекта\n",
    "\n",
    "1. Загрузка данных и знакомство с ними\n",
    "2. Предобработка данных\n",
    "    - 2.1. Типы данных\n",
    "    - 2.2. Наличие пропусков в данных\n",
    "    - 2.3. Анализ категориальных данных\n",
    "    - 2.4. Анализ числовых данных\n",
    "    - 2.5. Дубликаты в данных\n",
    "    - 2.6. Создание новых столбцов\n",
    "    - 2.7. Промежуточные выводы по предобработке данных\n",
    "3. Исследовательский анализ данных\n",
    "    - 3.1. Анализ распределения заказов по сегментам и их сезонные изменения\n",
    "    - 3.2. Осенняя активность пользователей\n",
    "    - 3.3. Топовые регионы и партнёры\n",
    "    - 3.4. Промежуточные выводы по исследовательскому анализу\n",
    "4. Статистический анализ данных\n",
    "    - 4.1. Сравнение групп\n",
    "    - 4.2. Проверка гипотез\n",
    "    - 4.3. Промежуточные выводы по статистическому анализу\n",
    "5. Итоговый вывод и рекомендации\n",
    "    - 5.1. Общий обзор проделанной работы\n",
    "    - 5.2. Главные выводы\n",
    "    - 5.3. Рекомендации\n",
    "\n",
    "---"
   ]
  },
  {
   "cell_type": "markdown",
   "id": "a95f5ded-d260-49d7-be47-5ba21fd3a43b",
   "metadata": {},
   "source": [
    "## Загрузка данных и знакомство с ними"
   ]
  },
  {
   "cell_type": "code",
   "execution_count": 1,
   "id": "0c457a08-5a51-4890-acbd-9644338fe52a",
   "metadata": {},
   "outputs": [],
   "source": [
    "# Импортируем библиотеки\n",
    "import pandas as pd\n",
    "import matplotlib.pyplot as plt\n",
    "import seaborn as sns\n",
    "import scipy.stats as st"
   ]
  },
  {
   "cell_type": "code",
   "execution_count": 2,
   "id": "162ea7d8-8cdb-4c91-9842-61348e4bab33",
   "metadata": {},
   "outputs": [],
   "source": [
    "# Выгружаем данные\n",
    "final_tickets_orders_df = pd.read_csv('https://code.s3.yandex.net/datasets/final_tickets_orders_df.csv')\n",
    "final_tickets_events_df = pd.read_csv('https://code.s3.yandex.net/datasets/final_tickets_events_df.csv')\n",
    "final_tickets_tenge_df = pd.read_csv('https://code.s3.yandex.net/datasets/final_tickets_tenge_df.csv')"
   ]
  },
  {
   "cell_type": "markdown",
   "id": "d0758d28-bdb4-45cb-aad0-4a95b00b83b2",
   "metadata": {},
   "source": [
    "Познакомимся с данными датасета `final_tickets_orders_df.csv` — выведем первые строки методом `head()`, а информацию о датафрейме методом `info()`:"
   ]
  },
  {
   "cell_type": "code",
   "execution_count": 3,
   "id": "cde8813f-b3bf-4f0c-9c00-36e83f21263a",
   "metadata": {},
   "outputs": [
    {
     "data": {
      "text/html": [
       "<div>\n",
       "<style scoped>\n",
       "    .dataframe tbody tr th:only-of-type {\n",
       "        vertical-align: middle;\n",
       "    }\n",
       "\n",
       "    .dataframe tbody tr th {\n",
       "        vertical-align: top;\n",
       "    }\n",
       "\n",
       "    .dataframe thead th {\n",
       "        text-align: right;\n",
       "    }\n",
       "</style>\n",
       "<table border=\"1\" class=\"dataframe\">\n",
       "  <thead>\n",
       "    <tr style=\"text-align: right;\">\n",
       "      <th></th>\n",
       "      <th>order_id</th>\n",
       "      <th>user_id</th>\n",
       "      <th>created_dt_msk</th>\n",
       "      <th>created_ts_msk</th>\n",
       "      <th>event_id</th>\n",
       "      <th>cinema_circuit</th>\n",
       "      <th>age_limit</th>\n",
       "      <th>currency_code</th>\n",
       "      <th>device_type_canonical</th>\n",
       "      <th>revenue</th>\n",
       "      <th>service_name</th>\n",
       "      <th>tickets_count</th>\n",
       "      <th>total</th>\n",
       "      <th>days_since_prev</th>\n",
       "    </tr>\n",
       "  </thead>\n",
       "  <tbody>\n",
       "    <tr>\n",
       "      <th>0</th>\n",
       "      <td>4359165</td>\n",
       "      <td>0002849b70a3ce2</td>\n",
       "      <td>2024-08-20</td>\n",
       "      <td>2024-08-20 16:08:03</td>\n",
       "      <td>169230</td>\n",
       "      <td>нет</td>\n",
       "      <td>16</td>\n",
       "      <td>rub</td>\n",
       "      <td>mobile</td>\n",
       "      <td>1521.94</td>\n",
       "      <td>Край билетов</td>\n",
       "      <td>4</td>\n",
       "      <td>10870.99</td>\n",
       "      <td>NaN</td>\n",
       "    </tr>\n",
       "    <tr>\n",
       "      <th>1</th>\n",
       "      <td>7965605</td>\n",
       "      <td>0005ca5e93f2cf4</td>\n",
       "      <td>2024-07-23</td>\n",
       "      <td>2024-07-23 18:36:24</td>\n",
       "      <td>237325</td>\n",
       "      <td>нет</td>\n",
       "      <td>0</td>\n",
       "      <td>rub</td>\n",
       "      <td>mobile</td>\n",
       "      <td>289.45</td>\n",
       "      <td>Мой билет</td>\n",
       "      <td>2</td>\n",
       "      <td>2067.51</td>\n",
       "      <td>NaN</td>\n",
       "    </tr>\n",
       "    <tr>\n",
       "      <th>2</th>\n",
       "      <td>7292370</td>\n",
       "      <td>0005ca5e93f2cf4</td>\n",
       "      <td>2024-10-06</td>\n",
       "      <td>2024-10-06 13:56:02</td>\n",
       "      <td>578454</td>\n",
       "      <td>нет</td>\n",
       "      <td>0</td>\n",
       "      <td>rub</td>\n",
       "      <td>mobile</td>\n",
       "      <td>1258.57</td>\n",
       "      <td>За билетом!</td>\n",
       "      <td>4</td>\n",
       "      <td>13984.16</td>\n",
       "      <td>75.0</td>\n",
       "    </tr>\n",
       "    <tr>\n",
       "      <th>3</th>\n",
       "      <td>1139875</td>\n",
       "      <td>000898990054619</td>\n",
       "      <td>2024-07-13</td>\n",
       "      <td>2024-07-13 19:40:48</td>\n",
       "      <td>387271</td>\n",
       "      <td>нет</td>\n",
       "      <td>0</td>\n",
       "      <td>rub</td>\n",
       "      <td>mobile</td>\n",
       "      <td>8.49</td>\n",
       "      <td>Лови билет!</td>\n",
       "      <td>2</td>\n",
       "      <td>212.28</td>\n",
       "      <td>NaN</td>\n",
       "    </tr>\n",
       "    <tr>\n",
       "      <th>4</th>\n",
       "      <td>972400</td>\n",
       "      <td>000898990054619</td>\n",
       "      <td>2024-10-04</td>\n",
       "      <td>2024-10-04 22:33:15</td>\n",
       "      <td>509453</td>\n",
       "      <td>нет</td>\n",
       "      <td>18</td>\n",
       "      <td>rub</td>\n",
       "      <td>mobile</td>\n",
       "      <td>1390.41</td>\n",
       "      <td>Билеты без проблем</td>\n",
       "      <td>3</td>\n",
       "      <td>10695.43</td>\n",
       "      <td>83.0</td>\n",
       "    </tr>\n",
       "  </tbody>\n",
       "</table>\n",
       "</div>"
      ],
      "text/plain": [
       "   order_id          user_id created_dt_msk       created_ts_msk  event_id  \\\n",
       "0   4359165  0002849b70a3ce2     2024-08-20  2024-08-20 16:08:03    169230   \n",
       "1   7965605  0005ca5e93f2cf4     2024-07-23  2024-07-23 18:36:24    237325   \n",
       "2   7292370  0005ca5e93f2cf4     2024-10-06  2024-10-06 13:56:02    578454   \n",
       "3   1139875  000898990054619     2024-07-13  2024-07-13 19:40:48    387271   \n",
       "4    972400  000898990054619     2024-10-04  2024-10-04 22:33:15    509453   \n",
       "\n",
       "  cinema_circuit  age_limit currency_code device_type_canonical  revenue  \\\n",
       "0            нет         16           rub                mobile  1521.94   \n",
       "1            нет          0           rub                mobile   289.45   \n",
       "2            нет          0           rub                mobile  1258.57   \n",
       "3            нет          0           rub                mobile     8.49   \n",
       "4            нет         18           rub                mobile  1390.41   \n",
       "\n",
       "         service_name  tickets_count     total  days_since_prev  \n",
       "0        Край билетов              4  10870.99              NaN  \n",
       "1           Мой билет              2   2067.51              NaN  \n",
       "2         За билетом!              4  13984.16             75.0  \n",
       "3         Лови билет!              2    212.28              NaN  \n",
       "4  Билеты без проблем              3  10695.43             83.0  "
      ]
     },
     "execution_count": 3,
     "metadata": {},
     "output_type": "execute_result"
    }
   ],
   "source": [
    "# Выводим первые строки датафрейма на экран\n",
    "final_tickets_orders_df.head()"
   ]
  },
  {
   "cell_type": "code",
   "execution_count": 4,
   "id": "893fc3a9-1ba3-4ea5-a77f-57af1899eefd",
   "metadata": {},
   "outputs": [
    {
     "name": "stdout",
     "output_type": "stream",
     "text": [
      "<class 'pandas.core.frame.DataFrame'>\n",
      "RangeIndex: 290849 entries, 0 to 290848\n",
      "Data columns (total 14 columns):\n",
      " #   Column                 Non-Null Count   Dtype  \n",
      "---  ------                 --------------   -----  \n",
      " 0   order_id               290849 non-null  int64  \n",
      " 1   user_id                290849 non-null  object \n",
      " 2   created_dt_msk         290849 non-null  object \n",
      " 3   created_ts_msk         290849 non-null  object \n",
      " 4   event_id               290849 non-null  int64  \n",
      " 5   cinema_circuit         290849 non-null  object \n",
      " 6   age_limit              290849 non-null  int64  \n",
      " 7   currency_code          290849 non-null  object \n",
      " 8   device_type_canonical  290849 non-null  object \n",
      " 9   revenue                290849 non-null  float64\n",
      " 10  service_name           290849 non-null  object \n",
      " 11  tickets_count          290849 non-null  int64  \n",
      " 12  total                  290849 non-null  float64\n",
      " 13  days_since_prev        268909 non-null  float64\n",
      "dtypes: float64(3), int64(4), object(7)\n",
      "memory usage: 31.1+ MB\n"
     ]
    }
   ],
   "source": [
    "# Выводим информацию о датафрейме\n",
    "final_tickets_orders_df.info()"
   ]
  },
  {
   "cell_type": "markdown",
   "id": "7eb580bc-0bb6-4f25-8389-a8c18aca2c97",
   "metadata": {},
   "source": [
    "Датасет `final_tickets_orders_df.csv` содержит 14 столбцов и 290 849 строк, в которых представлена информация обо всех заказах билетов, совершённых с двух типов устройств — мобильных и ПК.\n",
    "\n",
    "После первичного анализа данных можно сделать следующие выводы:\n",
    "\n",
    "- Названия столбцов соответствуют их сожержанию.\n",
    "- Типы столбцов корректны, кроме `created_dt_msk` и `created_ts_msk`, которые нужно привести к временному типу. `days_since_prev` имеет тип `float` из-за пропусков. Разрядность числовых столбцов можно оптимизировать.\n",
    "- На первый взгляд пропуски содержит только столбец `days_since_prev`.\n",
    "- Значения в столбцах соответствуют своему описанию.\n",
    "\n",
    "Теперь познакомимся с данными датасета `final_tickets_events_df.csv`."
   ]
  },
  {
   "cell_type": "code",
   "execution_count": 5,
   "id": "11bd6e11-1a8e-4abd-9e58-b7b11d37b39f",
   "metadata": {},
   "outputs": [
    {
     "data": {
      "text/html": [
       "<div>\n",
       "<style scoped>\n",
       "    .dataframe tbody tr th:only-of-type {\n",
       "        vertical-align: middle;\n",
       "    }\n",
       "\n",
       "    .dataframe tbody tr th {\n",
       "        vertical-align: top;\n",
       "    }\n",
       "\n",
       "    .dataframe thead th {\n",
       "        text-align: right;\n",
       "    }\n",
       "</style>\n",
       "<table border=\"1\" class=\"dataframe\">\n",
       "  <thead>\n",
       "    <tr style=\"text-align: right;\">\n",
       "      <th></th>\n",
       "      <th>event_id</th>\n",
       "      <th>event_name</th>\n",
       "      <th>event_type_description</th>\n",
       "      <th>event_type_main</th>\n",
       "      <th>organizers</th>\n",
       "      <th>region_name</th>\n",
       "      <th>city_name</th>\n",
       "      <th>city_id</th>\n",
       "      <th>venue_id</th>\n",
       "      <th>venue_name</th>\n",
       "      <th>venue_address</th>\n",
       "    </tr>\n",
       "  </thead>\n",
       "  <tbody>\n",
       "    <tr>\n",
       "      <th>0</th>\n",
       "      <td>4436</td>\n",
       "      <td>e4f26fba-da77-4c61-928a-6c3e434d793f</td>\n",
       "      <td>спектакль</td>\n",
       "      <td>театр</td>\n",
       "      <td>№4893</td>\n",
       "      <td>Североярская область</td>\n",
       "      <td>Озёрск</td>\n",
       "      <td>2</td>\n",
       "      <td>1600</td>\n",
       "      <td>Кладбище искусств \"Проблема\" и партнеры</td>\n",
       "      <td>наб. Загородная, д. 785</td>\n",
       "    </tr>\n",
       "    <tr>\n",
       "      <th>1</th>\n",
       "      <td>5785</td>\n",
       "      <td>5cc08a60-fdea-4186-9bb2-bffc3603fb77</td>\n",
       "      <td>спектакль</td>\n",
       "      <td>театр</td>\n",
       "      <td>№1931</td>\n",
       "      <td>Светополянский округ</td>\n",
       "      <td>Глиноград</td>\n",
       "      <td>54</td>\n",
       "      <td>2196</td>\n",
       "      <td>Лекции по искусству \"Свет\" Групп</td>\n",
       "      <td>ул. Ягодная, д. 942</td>\n",
       "    </tr>\n",
       "    <tr>\n",
       "      <th>2</th>\n",
       "      <td>8817</td>\n",
       "      <td>8e379a89-3a10-4811-ba06-ec22ebebe989</td>\n",
       "      <td>спектакль</td>\n",
       "      <td>театр</td>\n",
       "      <td>№4896</td>\n",
       "      <td>Североярская область</td>\n",
       "      <td>Озёрск</td>\n",
       "      <td>2</td>\n",
       "      <td>4043</td>\n",
       "      <td>Кинокомитет \"Золотая\" Инк</td>\n",
       "      <td>ш. Коммуны, д. 92 стр. 6</td>\n",
       "    </tr>\n",
       "    <tr>\n",
       "      <th>3</th>\n",
       "      <td>8849</td>\n",
       "      <td>682e3129-6a32-4952-9d8a-ef7f60d4c247</td>\n",
       "      <td>спектакль</td>\n",
       "      <td>театр</td>\n",
       "      <td>№4960</td>\n",
       "      <td>Каменевский регион</td>\n",
       "      <td>Глиногорск</td>\n",
       "      <td>213</td>\n",
       "      <td>1987</td>\n",
       "      <td>Выставка ремесел \"Свет\" Лтд</td>\n",
       "      <td>пер. Набережный, д. 35</td>\n",
       "    </tr>\n",
       "    <tr>\n",
       "      <th>4</th>\n",
       "      <td>8850</td>\n",
       "      <td>d6e99176-c77f-4af0-9222-07c571f6c624</td>\n",
       "      <td>спектакль</td>\n",
       "      <td>театр</td>\n",
       "      <td>№4770</td>\n",
       "      <td>Лесодальний край</td>\n",
       "      <td>Родниковец</td>\n",
       "      <td>55</td>\n",
       "      <td>4230</td>\n",
       "      <td>Фестивальный проект \"Листья\" Групп</td>\n",
       "      <td>пер. Проезжий, д. 9</td>\n",
       "    </tr>\n",
       "  </tbody>\n",
       "</table>\n",
       "</div>"
      ],
      "text/plain": [
       "   event_id                            event_name event_type_description  \\\n",
       "0      4436  e4f26fba-da77-4c61-928a-6c3e434d793f              спектакль   \n",
       "1      5785  5cc08a60-fdea-4186-9bb2-bffc3603fb77              спектакль   \n",
       "2      8817  8e379a89-3a10-4811-ba06-ec22ebebe989              спектакль   \n",
       "3      8849  682e3129-6a32-4952-9d8a-ef7f60d4c247              спектакль   \n",
       "4      8850  d6e99176-c77f-4af0-9222-07c571f6c624              спектакль   \n",
       "\n",
       "  event_type_main organizers           region_name   city_name  city_id  \\\n",
       "0           театр      №4893  Североярская область      Озёрск        2   \n",
       "1           театр      №1931  Светополянский округ   Глиноград       54   \n",
       "2           театр      №4896  Североярская область      Озёрск        2   \n",
       "3           театр      №4960    Каменевский регион  Глиногорск      213   \n",
       "4           театр      №4770      Лесодальний край  Родниковец       55   \n",
       "\n",
       "   venue_id                               venue_name             venue_address  \n",
       "0      1600  Кладбище искусств \"Проблема\" и партнеры   наб. Загородная, д. 785  \n",
       "1      2196         Лекции по искусству \"Свет\" Групп       ул. Ягодная, д. 942  \n",
       "2      4043                Кинокомитет \"Золотая\" Инк  ш. Коммуны, д. 92 стр. 6  \n",
       "3      1987              Выставка ремесел \"Свет\" Лтд    пер. Набережный, д. 35  \n",
       "4      4230       Фестивальный проект \"Листья\" Групп       пер. Проезжий, д. 9  "
      ]
     },
     "execution_count": 5,
     "metadata": {},
     "output_type": "execute_result"
    }
   ],
   "source": [
    "# Выводим первые строки датафрейма на экран\n",
    "final_tickets_events_df.head()"
   ]
  },
  {
   "cell_type": "code",
   "execution_count": 6,
   "id": "55975413-dfa0-4fae-9b6d-8152adb57470",
   "metadata": {},
   "outputs": [
    {
     "name": "stdout",
     "output_type": "stream",
     "text": [
      "<class 'pandas.core.frame.DataFrame'>\n",
      "RangeIndex: 22427 entries, 0 to 22426\n",
      "Data columns (total 11 columns):\n",
      " #   Column                  Non-Null Count  Dtype \n",
      "---  ------                  --------------  ----- \n",
      " 0   event_id                22427 non-null  int64 \n",
      " 1   event_name              22427 non-null  object\n",
      " 2   event_type_description  22427 non-null  object\n",
      " 3   event_type_main         22427 non-null  object\n",
      " 4   organizers              22427 non-null  object\n",
      " 5   region_name             22427 non-null  object\n",
      " 6   city_name               22427 non-null  object\n",
      " 7   city_id                 22427 non-null  int64 \n",
      " 8   venue_id                22427 non-null  int64 \n",
      " 9   venue_name              22427 non-null  object\n",
      " 10  venue_address           22427 non-null  object\n",
      "dtypes: int64(3), object(8)\n",
      "memory usage: 1.9+ MB\n"
     ]
    }
   ],
   "source": [
    "# Выводим информацию о датафрейме\n",
    "final_tickets_events_df.info()"
   ]
  },
  {
   "cell_type": "markdown",
   "id": "5d91b477-cc62-4bc1-8b59-572ea0843448",
   "metadata": {},
   "source": [
    "Датасет `final_tickets_events_df.csv` содержит 11 столбцов и 22 427 строк, в которых представлена информация о событиях, включая регион, город и площадку проведения мероприятия.\n",
    "\n",
    "После первичного анализа данных можно сделать следующие выводы:\n",
    "\n",
    "- Названия столбцов соответствуют их содержанию.\n",
    "- Значения во всех столбцах представлены корректными типами. \n",
    "- На первый взгляд столбцы не содержат пропуски.\n",
    "- Значения в столбцах соответствуют своему описанию.\n",
    "\n",
    "Теперь познакомимся с данными датасета `final_tickets_tenge_df.csv`."
   ]
  },
  {
   "cell_type": "code",
   "execution_count": 7,
   "id": "dad3ffcb-2627-4327-89a6-39e9e7e6df5d",
   "metadata": {},
   "outputs": [
    {
     "data": {
      "text/html": [
       "<div>\n",
       "<style scoped>\n",
       "    .dataframe tbody tr th:only-of-type {\n",
       "        vertical-align: middle;\n",
       "    }\n",
       "\n",
       "    .dataframe tbody tr th {\n",
       "        vertical-align: top;\n",
       "    }\n",
       "\n",
       "    .dataframe thead th {\n",
       "        text-align: right;\n",
       "    }\n",
       "</style>\n",
       "<table border=\"1\" class=\"dataframe\">\n",
       "  <thead>\n",
       "    <tr style=\"text-align: right;\">\n",
       "      <th></th>\n",
       "      <th>data</th>\n",
       "      <th>nominal</th>\n",
       "      <th>curs</th>\n",
       "      <th>cdx</th>\n",
       "    </tr>\n",
       "  </thead>\n",
       "  <tbody>\n",
       "    <tr>\n",
       "      <th>0</th>\n",
       "      <td>2024-01-10</td>\n",
       "      <td>100</td>\n",
       "      <td>19.9391</td>\n",
       "      <td>kzt</td>\n",
       "    </tr>\n",
       "    <tr>\n",
       "      <th>1</th>\n",
       "      <td>2024-01-11</td>\n",
       "      <td>100</td>\n",
       "      <td>19.7255</td>\n",
       "      <td>kzt</td>\n",
       "    </tr>\n",
       "    <tr>\n",
       "      <th>2</th>\n",
       "      <td>2024-01-12</td>\n",
       "      <td>100</td>\n",
       "      <td>19.5839</td>\n",
       "      <td>kzt</td>\n",
       "    </tr>\n",
       "    <tr>\n",
       "      <th>3</th>\n",
       "      <td>2024-01-13</td>\n",
       "      <td>100</td>\n",
       "      <td>19.4501</td>\n",
       "      <td>kzt</td>\n",
       "    </tr>\n",
       "    <tr>\n",
       "      <th>4</th>\n",
       "      <td>2024-01-14</td>\n",
       "      <td>100</td>\n",
       "      <td>19.4501</td>\n",
       "      <td>kzt</td>\n",
       "    </tr>\n",
       "  </tbody>\n",
       "</table>\n",
       "</div>"
      ],
      "text/plain": [
       "         data  nominal     curs  cdx\n",
       "0  2024-01-10      100  19.9391  kzt\n",
       "1  2024-01-11      100  19.7255  kzt\n",
       "2  2024-01-12      100  19.5839  kzt\n",
       "3  2024-01-13      100  19.4501  kzt\n",
       "4  2024-01-14      100  19.4501  kzt"
      ]
     },
     "execution_count": 7,
     "metadata": {},
     "output_type": "execute_result"
    }
   ],
   "source": [
    "# Выводим первые строки датафрейма на экран\n",
    "final_tickets_tenge_df.head()"
   ]
  },
  {
   "cell_type": "code",
   "execution_count": 8,
   "id": "6c37b051-d9d9-46d8-a781-6872dff5f228",
   "metadata": {},
   "outputs": [
    {
     "name": "stdout",
     "output_type": "stream",
     "text": [
      "<class 'pandas.core.frame.DataFrame'>\n",
      "RangeIndex: 357 entries, 0 to 356\n",
      "Data columns (total 4 columns):\n",
      " #   Column   Non-Null Count  Dtype  \n",
      "---  ------   --------------  -----  \n",
      " 0   data     357 non-null    object \n",
      " 1   nominal  357 non-null    int64  \n",
      " 2   curs     357 non-null    float64\n",
      " 3   cdx      357 non-null    object \n",
      "dtypes: float64(1), int64(1), object(2)\n",
      "memory usage: 11.3+ KB\n"
     ]
    }
   ],
   "source": [
    "# Выводим информацию о датафрейме\n",
    "final_tickets_tenge_df.info()"
   ]
  },
  {
   "cell_type": "markdown",
   "id": "5eab9588-4459-463f-aa26-3ae669f89790",
   "metadata": {},
   "source": [
    "Датасет `final_tickets_tenge_df.csv` содержит 4 столбца и 357 строк, в которых представлена информация о курсе тенге к рублю за 2024 год.\n",
    "\n",
    "После первичного анализа данных можно сделать следующие выводы:\n",
    "\n",
    "- Названия столбцов соответствуют их содержанию.\n",
    "- Типы столбцов корректны, кроме столбца `data`, который нужно привести к временному типу.\n",
    "- На первый взгляд столбцы не содержат пропуски.\n",
    "- Значения в столбцах соответствуют своему описанию.\n",
    "\n",
    "---"
   ]
  },
  {
   "cell_type": "markdown",
   "id": "0244011e-19b0-494b-83a7-26a7a2696dd6",
   "metadata": {},
   "source": [
    "Для дальнейшей предобработки необходимо объединить данные в единый датафреймы."
   ]
  },
  {
   "cell_type": "code",
   "execution_count": 9,
   "id": "e2e1998c-57fe-4f76-b2be-7c3930983b7d",
   "metadata": {},
   "outputs": [
    {
     "data": {
      "text/html": [
       "<div>\n",
       "<style scoped>\n",
       "    .dataframe tbody tr th:only-of-type {\n",
       "        vertical-align: middle;\n",
       "    }\n",
       "\n",
       "    .dataframe tbody tr th {\n",
       "        vertical-align: top;\n",
       "    }\n",
       "\n",
       "    .dataframe thead th {\n",
       "        text-align: right;\n",
       "    }\n",
       "</style>\n",
       "<table border=\"1\" class=\"dataframe\">\n",
       "  <thead>\n",
       "    <tr style=\"text-align: right;\">\n",
       "      <th></th>\n",
       "      <th>order_id</th>\n",
       "      <th>user_id</th>\n",
       "      <th>created_dt_msk</th>\n",
       "      <th>created_ts_msk</th>\n",
       "      <th>event_id</th>\n",
       "      <th>cinema_circuit</th>\n",
       "      <th>age_limit</th>\n",
       "      <th>currency_code</th>\n",
       "      <th>device_type_canonical</th>\n",
       "      <th>revenue</th>\n",
       "      <th>service_name</th>\n",
       "      <th>tickets_count</th>\n",
       "      <th>total</th>\n",
       "      <th>days_since_prev</th>\n",
       "      <th>data</th>\n",
       "      <th>nominal</th>\n",
       "      <th>curs</th>\n",
       "    </tr>\n",
       "  </thead>\n",
       "  <tbody>\n",
       "    <tr>\n",
       "      <th>0</th>\n",
       "      <td>4359165</td>\n",
       "      <td>0002849b70a3ce2</td>\n",
       "      <td>2024-08-20</td>\n",
       "      <td>2024-08-20 16:08:03</td>\n",
       "      <td>169230</td>\n",
       "      <td>нет</td>\n",
       "      <td>16</td>\n",
       "      <td>rub</td>\n",
       "      <td>mobile</td>\n",
       "      <td>1521.94</td>\n",
       "      <td>Край билетов</td>\n",
       "      <td>4</td>\n",
       "      <td>10870.99</td>\n",
       "      <td>NaN</td>\n",
       "      <td>2024-08-20</td>\n",
       "      <td>100</td>\n",
       "      <td>18.6972</td>\n",
       "    </tr>\n",
       "    <tr>\n",
       "      <th>1</th>\n",
       "      <td>7965605</td>\n",
       "      <td>0005ca5e93f2cf4</td>\n",
       "      <td>2024-07-23</td>\n",
       "      <td>2024-07-23 18:36:24</td>\n",
       "      <td>237325</td>\n",
       "      <td>нет</td>\n",
       "      <td>0</td>\n",
       "      <td>rub</td>\n",
       "      <td>mobile</td>\n",
       "      <td>289.45</td>\n",
       "      <td>Мой билет</td>\n",
       "      <td>2</td>\n",
       "      <td>2067.51</td>\n",
       "      <td>NaN</td>\n",
       "      <td>2024-07-23</td>\n",
       "      <td>100</td>\n",
       "      <td>18.3419</td>\n",
       "    </tr>\n",
       "    <tr>\n",
       "      <th>2</th>\n",
       "      <td>7292370</td>\n",
       "      <td>0005ca5e93f2cf4</td>\n",
       "      <td>2024-10-06</td>\n",
       "      <td>2024-10-06 13:56:02</td>\n",
       "      <td>578454</td>\n",
       "      <td>нет</td>\n",
       "      <td>0</td>\n",
       "      <td>rub</td>\n",
       "      <td>mobile</td>\n",
       "      <td>1258.57</td>\n",
       "      <td>За билетом!</td>\n",
       "      <td>4</td>\n",
       "      <td>13984.16</td>\n",
       "      <td>75.0</td>\n",
       "      <td>2024-10-06</td>\n",
       "      <td>100</td>\n",
       "      <td>19.6475</td>\n",
       "    </tr>\n",
       "    <tr>\n",
       "      <th>3</th>\n",
       "      <td>1139875</td>\n",
       "      <td>000898990054619</td>\n",
       "      <td>2024-07-13</td>\n",
       "      <td>2024-07-13 19:40:48</td>\n",
       "      <td>387271</td>\n",
       "      <td>нет</td>\n",
       "      <td>0</td>\n",
       "      <td>rub</td>\n",
       "      <td>mobile</td>\n",
       "      <td>8.49</td>\n",
       "      <td>Лови билет!</td>\n",
       "      <td>2</td>\n",
       "      <td>212.28</td>\n",
       "      <td>NaN</td>\n",
       "      <td>2024-07-13</td>\n",
       "      <td>100</td>\n",
       "      <td>18.5010</td>\n",
       "    </tr>\n",
       "    <tr>\n",
       "      <th>4</th>\n",
       "      <td>972400</td>\n",
       "      <td>000898990054619</td>\n",
       "      <td>2024-10-04</td>\n",
       "      <td>2024-10-04 22:33:15</td>\n",
       "      <td>509453</td>\n",
       "      <td>нет</td>\n",
       "      <td>18</td>\n",
       "      <td>rub</td>\n",
       "      <td>mobile</td>\n",
       "      <td>1390.41</td>\n",
       "      <td>Билеты без проблем</td>\n",
       "      <td>3</td>\n",
       "      <td>10695.43</td>\n",
       "      <td>83.0</td>\n",
       "      <td>2024-10-04</td>\n",
       "      <td>100</td>\n",
       "      <td>19.6648</td>\n",
       "    </tr>\n",
       "  </tbody>\n",
       "</table>\n",
       "</div>"
      ],
      "text/plain": [
       "   order_id          user_id created_dt_msk       created_ts_msk  event_id  \\\n",
       "0   4359165  0002849b70a3ce2     2024-08-20  2024-08-20 16:08:03    169230   \n",
       "1   7965605  0005ca5e93f2cf4     2024-07-23  2024-07-23 18:36:24    237325   \n",
       "2   7292370  0005ca5e93f2cf4     2024-10-06  2024-10-06 13:56:02    578454   \n",
       "3   1139875  000898990054619     2024-07-13  2024-07-13 19:40:48    387271   \n",
       "4    972400  000898990054619     2024-10-04  2024-10-04 22:33:15    509453   \n",
       "\n",
       "  cinema_circuit  age_limit currency_code device_type_canonical  revenue  \\\n",
       "0            нет         16           rub                mobile  1521.94   \n",
       "1            нет          0           rub                mobile   289.45   \n",
       "2            нет          0           rub                mobile  1258.57   \n",
       "3            нет          0           rub                mobile     8.49   \n",
       "4            нет         18           rub                mobile  1390.41   \n",
       "\n",
       "         service_name  tickets_count     total  days_since_prev        data  \\\n",
       "0        Край билетов              4  10870.99              NaN  2024-08-20   \n",
       "1           Мой билет              2   2067.51              NaN  2024-07-23   \n",
       "2         За билетом!              4  13984.16             75.0  2024-10-06   \n",
       "3         Лови билет!              2    212.28              NaN  2024-07-13   \n",
       "4  Билеты без проблем              3  10695.43             83.0  2024-10-04   \n",
       "\n",
       "   nominal     curs  \n",
       "0      100  18.6972  \n",
       "1      100  18.3419  \n",
       "2      100  19.6475  \n",
       "3      100  18.5010  \n",
       "4      100  19.6648  "
      ]
     },
     "execution_count": 9,
     "metadata": {},
     "output_type": "execute_result"
    }
   ],
   "source": [
    "# Объединяем датафреймы final_tickets_orders_df и final_tickets_tenge_df\n",
    "orders_tenge_df = pd.merge(\n",
    "    final_tickets_orders_df,\n",
    "    final_tickets_tenge_df[['data', 'nominal', 'curs']],\n",
    "    how='left',\n",
    "    left_on='created_dt_msk',\n",
    "    right_on='data'\n",
    ")\n",
    "\n",
    "# Проверяем результат\n",
    "orders_tenge_df.head()"
   ]
  },
  {
   "cell_type": "code",
   "execution_count": 10,
   "id": "db43744b-875c-4747-9021-02afcb02d977",
   "metadata": {},
   "outputs": [
    {
     "data": {
      "text/html": [
       "<div>\n",
       "<style scoped>\n",
       "    .dataframe tbody tr th:only-of-type {\n",
       "        vertical-align: middle;\n",
       "    }\n",
       "\n",
       "    .dataframe tbody tr th {\n",
       "        vertical-align: top;\n",
       "    }\n",
       "\n",
       "    .dataframe thead th {\n",
       "        text-align: right;\n",
       "    }\n",
       "</style>\n",
       "<table border=\"1\" class=\"dataframe\">\n",
       "  <thead>\n",
       "    <tr style=\"text-align: right;\">\n",
       "      <th></th>\n",
       "      <th>order_id</th>\n",
       "      <th>user_id</th>\n",
       "      <th>created_dt_msk</th>\n",
       "      <th>created_ts_msk</th>\n",
       "      <th>event_id</th>\n",
       "      <th>cinema_circuit</th>\n",
       "      <th>age_limit</th>\n",
       "      <th>currency_code</th>\n",
       "      <th>device_type_canonical</th>\n",
       "      <th>revenue</th>\n",
       "      <th>service_name</th>\n",
       "      <th>tickets_count</th>\n",
       "      <th>total</th>\n",
       "      <th>days_since_prev</th>\n",
       "      <th>nominal</th>\n",
       "      <th>curs</th>\n",
       "    </tr>\n",
       "  </thead>\n",
       "  <tbody>\n",
       "    <tr>\n",
       "      <th>0</th>\n",
       "      <td>4359165</td>\n",
       "      <td>0002849b70a3ce2</td>\n",
       "      <td>2024-08-20</td>\n",
       "      <td>2024-08-20 16:08:03</td>\n",
       "      <td>169230</td>\n",
       "      <td>нет</td>\n",
       "      <td>16</td>\n",
       "      <td>rub</td>\n",
       "      <td>mobile</td>\n",
       "      <td>1521.94</td>\n",
       "      <td>Край билетов</td>\n",
       "      <td>4</td>\n",
       "      <td>10870.99</td>\n",
       "      <td>NaN</td>\n",
       "      <td>100</td>\n",
       "      <td>18.6972</td>\n",
       "    </tr>\n",
       "    <tr>\n",
       "      <th>1</th>\n",
       "      <td>7965605</td>\n",
       "      <td>0005ca5e93f2cf4</td>\n",
       "      <td>2024-07-23</td>\n",
       "      <td>2024-07-23 18:36:24</td>\n",
       "      <td>237325</td>\n",
       "      <td>нет</td>\n",
       "      <td>0</td>\n",
       "      <td>rub</td>\n",
       "      <td>mobile</td>\n",
       "      <td>289.45</td>\n",
       "      <td>Мой билет</td>\n",
       "      <td>2</td>\n",
       "      <td>2067.51</td>\n",
       "      <td>NaN</td>\n",
       "      <td>100</td>\n",
       "      <td>18.3419</td>\n",
       "    </tr>\n",
       "    <tr>\n",
       "      <th>2</th>\n",
       "      <td>7292370</td>\n",
       "      <td>0005ca5e93f2cf4</td>\n",
       "      <td>2024-10-06</td>\n",
       "      <td>2024-10-06 13:56:02</td>\n",
       "      <td>578454</td>\n",
       "      <td>нет</td>\n",
       "      <td>0</td>\n",
       "      <td>rub</td>\n",
       "      <td>mobile</td>\n",
       "      <td>1258.57</td>\n",
       "      <td>За билетом!</td>\n",
       "      <td>4</td>\n",
       "      <td>13984.16</td>\n",
       "      <td>75.0</td>\n",
       "      <td>100</td>\n",
       "      <td>19.6475</td>\n",
       "    </tr>\n",
       "    <tr>\n",
       "      <th>3</th>\n",
       "      <td>1139875</td>\n",
       "      <td>000898990054619</td>\n",
       "      <td>2024-07-13</td>\n",
       "      <td>2024-07-13 19:40:48</td>\n",
       "      <td>387271</td>\n",
       "      <td>нет</td>\n",
       "      <td>0</td>\n",
       "      <td>rub</td>\n",
       "      <td>mobile</td>\n",
       "      <td>8.49</td>\n",
       "      <td>Лови билет!</td>\n",
       "      <td>2</td>\n",
       "      <td>212.28</td>\n",
       "      <td>NaN</td>\n",
       "      <td>100</td>\n",
       "      <td>18.5010</td>\n",
       "    </tr>\n",
       "    <tr>\n",
       "      <th>4</th>\n",
       "      <td>972400</td>\n",
       "      <td>000898990054619</td>\n",
       "      <td>2024-10-04</td>\n",
       "      <td>2024-10-04 22:33:15</td>\n",
       "      <td>509453</td>\n",
       "      <td>нет</td>\n",
       "      <td>18</td>\n",
       "      <td>rub</td>\n",
       "      <td>mobile</td>\n",
       "      <td>1390.41</td>\n",
       "      <td>Билеты без проблем</td>\n",
       "      <td>3</td>\n",
       "      <td>10695.43</td>\n",
       "      <td>83.0</td>\n",
       "      <td>100</td>\n",
       "      <td>19.6648</td>\n",
       "    </tr>\n",
       "  </tbody>\n",
       "</table>\n",
       "</div>"
      ],
      "text/plain": [
       "   order_id          user_id created_dt_msk       created_ts_msk  event_id  \\\n",
       "0   4359165  0002849b70a3ce2     2024-08-20  2024-08-20 16:08:03    169230   \n",
       "1   7965605  0005ca5e93f2cf4     2024-07-23  2024-07-23 18:36:24    237325   \n",
       "2   7292370  0005ca5e93f2cf4     2024-10-06  2024-10-06 13:56:02    578454   \n",
       "3   1139875  000898990054619     2024-07-13  2024-07-13 19:40:48    387271   \n",
       "4    972400  000898990054619     2024-10-04  2024-10-04 22:33:15    509453   \n",
       "\n",
       "  cinema_circuit  age_limit currency_code device_type_canonical  revenue  \\\n",
       "0            нет         16           rub                mobile  1521.94   \n",
       "1            нет          0           rub                mobile   289.45   \n",
       "2            нет          0           rub                mobile  1258.57   \n",
       "3            нет          0           rub                mobile     8.49   \n",
       "4            нет         18           rub                mobile  1390.41   \n",
       "\n",
       "         service_name  tickets_count     total  days_since_prev  nominal  \\\n",
       "0        Край билетов              4  10870.99              NaN      100   \n",
       "1           Мой билет              2   2067.51              NaN      100   \n",
       "2         За билетом!              4  13984.16             75.0      100   \n",
       "3         Лови билет!              2    212.28              NaN      100   \n",
       "4  Билеты без проблем              3  10695.43             83.0      100   \n",
       "\n",
       "      curs  \n",
       "0  18.6972  \n",
       "1  18.3419  \n",
       "2  19.6475  \n",
       "3  18.5010  \n",
       "4  19.6648  "
      ]
     },
     "execution_count": 10,
     "metadata": {},
     "output_type": "execute_result"
    }
   ],
   "source": [
    "# Удаляем дублирующий столбец\n",
    "orders_tenge_df = orders_tenge_df.drop(columns='data')\n",
    "\n",
    "# Проверяем результат\n",
    "orders_tenge_df.head()"
   ]
  },
  {
   "cell_type": "code",
   "execution_count": 11,
   "id": "47d5ef37-6578-4d77-ac8a-8ebce3da94f1",
   "metadata": {},
   "outputs": [
    {
     "data": {
      "text/html": [
       "<div>\n",
       "<style scoped>\n",
       "    .dataframe tbody tr th:only-of-type {\n",
       "        vertical-align: middle;\n",
       "    }\n",
       "\n",
       "    .dataframe tbody tr th {\n",
       "        vertical-align: top;\n",
       "    }\n",
       "\n",
       "    .dataframe thead th {\n",
       "        text-align: right;\n",
       "    }\n",
       "</style>\n",
       "<table border=\"1\" class=\"dataframe\">\n",
       "  <thead>\n",
       "    <tr style=\"text-align: right;\">\n",
       "      <th></th>\n",
       "      <th>order_id</th>\n",
       "      <th>user_id</th>\n",
       "      <th>created_dt_msk</th>\n",
       "      <th>created_ts_msk</th>\n",
       "      <th>event_id</th>\n",
       "      <th>cinema_circuit</th>\n",
       "      <th>age_limit</th>\n",
       "      <th>currency_code</th>\n",
       "      <th>device_type_canonical</th>\n",
       "      <th>revenue</th>\n",
       "      <th>...</th>\n",
       "      <th>event_name</th>\n",
       "      <th>event_type_description</th>\n",
       "      <th>event_type_main</th>\n",
       "      <th>organizers</th>\n",
       "      <th>region_name</th>\n",
       "      <th>city_name</th>\n",
       "      <th>city_id</th>\n",
       "      <th>venue_id</th>\n",
       "      <th>venue_name</th>\n",
       "      <th>venue_address</th>\n",
       "    </tr>\n",
       "  </thead>\n",
       "  <tbody>\n",
       "    <tr>\n",
       "      <th>0</th>\n",
       "      <td>4359165</td>\n",
       "      <td>0002849b70a3ce2</td>\n",
       "      <td>2024-08-20</td>\n",
       "      <td>2024-08-20 16:08:03</td>\n",
       "      <td>169230</td>\n",
       "      <td>нет</td>\n",
       "      <td>16</td>\n",
       "      <td>rub</td>\n",
       "      <td>mobile</td>\n",
       "      <td>1521.94</td>\n",
       "      <td>...</td>\n",
       "      <td>f0f7b271-04eb-4af6-bcb8-8f05cf46d6ad</td>\n",
       "      <td>спектакль</td>\n",
       "      <td>театр</td>\n",
       "      <td>№3322</td>\n",
       "      <td>Каменевский регион</td>\n",
       "      <td>Глиногорск</td>\n",
       "      <td>213.0</td>\n",
       "      <td>3972.0</td>\n",
       "      <td>Сценический центр \"Деталь\" Групп</td>\n",
       "      <td>алл. Машиностроителей, д. 19 стр. 6</td>\n",
       "    </tr>\n",
       "    <tr>\n",
       "      <th>1</th>\n",
       "      <td>7965605</td>\n",
       "      <td>0005ca5e93f2cf4</td>\n",
       "      <td>2024-07-23</td>\n",
       "      <td>2024-07-23 18:36:24</td>\n",
       "      <td>237325</td>\n",
       "      <td>нет</td>\n",
       "      <td>0</td>\n",
       "      <td>rub</td>\n",
       "      <td>mobile</td>\n",
       "      <td>289.45</td>\n",
       "      <td>...</td>\n",
       "      <td>40efeb04-81b7-4135-b41f-708ff00cc64c</td>\n",
       "      <td>событие</td>\n",
       "      <td>выставки</td>\n",
       "      <td>№4850</td>\n",
       "      <td>Каменевский регион</td>\n",
       "      <td>Глиногорск</td>\n",
       "      <td>213.0</td>\n",
       "      <td>2941.0</td>\n",
       "      <td>Музыкальная школа для детей \"Аккаунт\" Лтд</td>\n",
       "      <td>алл. Шмидта, д. 9 стр. 4</td>\n",
       "    </tr>\n",
       "    <tr>\n",
       "      <th>2</th>\n",
       "      <td>7292370</td>\n",
       "      <td>0005ca5e93f2cf4</td>\n",
       "      <td>2024-10-06</td>\n",
       "      <td>2024-10-06 13:56:02</td>\n",
       "      <td>578454</td>\n",
       "      <td>нет</td>\n",
       "      <td>0</td>\n",
       "      <td>rub</td>\n",
       "      <td>mobile</td>\n",
       "      <td>1258.57</td>\n",
       "      <td>...</td>\n",
       "      <td>01f3fb7b-ed07-4f94-b1d3-9a2e1ee5a8ca</td>\n",
       "      <td>цирковое шоу</td>\n",
       "      <td>другое</td>\n",
       "      <td>№1540</td>\n",
       "      <td>Каменевский регион</td>\n",
       "      <td>Глиногорск</td>\n",
       "      <td>213.0</td>\n",
       "      <td>4507.0</td>\n",
       "      <td>Училище искусств \"Нирвана\" Инк</td>\n",
       "      <td>алл. Юбилейная, д. 5/6</td>\n",
       "    </tr>\n",
       "    <tr>\n",
       "      <th>3</th>\n",
       "      <td>1139875</td>\n",
       "      <td>000898990054619</td>\n",
       "      <td>2024-07-13</td>\n",
       "      <td>2024-07-13 19:40:48</td>\n",
       "      <td>387271</td>\n",
       "      <td>нет</td>\n",
       "      <td>0</td>\n",
       "      <td>rub</td>\n",
       "      <td>mobile</td>\n",
       "      <td>8.49</td>\n",
       "      <td>...</td>\n",
       "      <td>2f638715-8844-466c-b43f-378a627c419f</td>\n",
       "      <td>выставка</td>\n",
       "      <td>другое</td>\n",
       "      <td>№5049</td>\n",
       "      <td>Североярская область</td>\n",
       "      <td>Озёрск</td>\n",
       "      <td>2.0</td>\n",
       "      <td>3574.0</td>\n",
       "      <td>Театр альтернативного искусства \"Ода\" Лимитед</td>\n",
       "      <td>алл. Есенина, д. 243 к. 3/8</td>\n",
       "    </tr>\n",
       "    <tr>\n",
       "      <th>4</th>\n",
       "      <td>972400</td>\n",
       "      <td>000898990054619</td>\n",
       "      <td>2024-10-04</td>\n",
       "      <td>2024-10-04 22:33:15</td>\n",
       "      <td>509453</td>\n",
       "      <td>нет</td>\n",
       "      <td>18</td>\n",
       "      <td>rub</td>\n",
       "      <td>mobile</td>\n",
       "      <td>1390.41</td>\n",
       "      <td>...</td>\n",
       "      <td>10d805d3-9809-4d8a-834e-225b7d03f95d</td>\n",
       "      <td>шоу</td>\n",
       "      <td>стендап</td>\n",
       "      <td>№832</td>\n",
       "      <td>Озернинский край</td>\n",
       "      <td>Родниковецк</td>\n",
       "      <td>240.0</td>\n",
       "      <td>1896.0</td>\n",
       "      <td>Театр кукол \"Огни\" Инкорпорэйтед</td>\n",
       "      <td>ш. Набережное, д. 595 стр. 8</td>\n",
       "    </tr>\n",
       "  </tbody>\n",
       "</table>\n",
       "<p>5 rows × 26 columns</p>\n",
       "</div>"
      ],
      "text/plain": [
       "   order_id          user_id created_dt_msk       created_ts_msk  event_id  \\\n",
       "0   4359165  0002849b70a3ce2     2024-08-20  2024-08-20 16:08:03    169230   \n",
       "1   7965605  0005ca5e93f2cf4     2024-07-23  2024-07-23 18:36:24    237325   \n",
       "2   7292370  0005ca5e93f2cf4     2024-10-06  2024-10-06 13:56:02    578454   \n",
       "3   1139875  000898990054619     2024-07-13  2024-07-13 19:40:48    387271   \n",
       "4    972400  000898990054619     2024-10-04  2024-10-04 22:33:15    509453   \n",
       "\n",
       "  cinema_circuit  age_limit currency_code device_type_canonical  revenue  ...  \\\n",
       "0            нет         16           rub                mobile  1521.94  ...   \n",
       "1            нет          0           rub                mobile   289.45  ...   \n",
       "2            нет          0           rub                mobile  1258.57  ...   \n",
       "3            нет          0           rub                mobile     8.49  ...   \n",
       "4            нет         18           rub                mobile  1390.41  ...   \n",
       "\n",
       "                             event_name  event_type_description  \\\n",
       "0  f0f7b271-04eb-4af6-bcb8-8f05cf46d6ad               спектакль   \n",
       "1  40efeb04-81b7-4135-b41f-708ff00cc64c                 событие   \n",
       "2  01f3fb7b-ed07-4f94-b1d3-9a2e1ee5a8ca            цирковое шоу   \n",
       "3  2f638715-8844-466c-b43f-378a627c419f                выставка   \n",
       "4  10d805d3-9809-4d8a-834e-225b7d03f95d                     шоу   \n",
       "\n",
       "   event_type_main  organizers           region_name    city_name city_id  \\\n",
       "0            театр       №3322    Каменевский регион   Глиногорск   213.0   \n",
       "1         выставки       №4850    Каменевский регион   Глиногорск   213.0   \n",
       "2           другое       №1540    Каменевский регион   Глиногорск   213.0   \n",
       "3           другое       №5049  Североярская область       Озёрск     2.0   \n",
       "4          стендап        №832      Озернинский край  Родниковецк   240.0   \n",
       "\n",
       "  venue_id                                     venue_name  \\\n",
       "0   3972.0               Сценический центр \"Деталь\" Групп   \n",
       "1   2941.0      Музыкальная школа для детей \"Аккаунт\" Лтд   \n",
       "2   4507.0                 Училище искусств \"Нирвана\" Инк   \n",
       "3   3574.0  Театр альтернативного искусства \"Ода\" Лимитед   \n",
       "4   1896.0               Театр кукол \"Огни\" Инкорпорэйтед   \n",
       "\n",
       "                         venue_address  \n",
       "0  алл. Машиностроителей, д. 19 стр. 6  \n",
       "1             алл. Шмидта, д. 9 стр. 4  \n",
       "2               алл. Юбилейная, д. 5/6  \n",
       "3          алл. Есенина, д. 243 к. 3/8  \n",
       "4         ш. Набережное, д. 595 стр. 8  \n",
       "\n",
       "[5 rows x 26 columns]"
      ]
     },
     "execution_count": 11,
     "metadata": {},
     "output_type": "execute_result"
    }
   ],
   "source": [
    "# Объединяем датафреймы orders_tenge_df и final_tickets_events_df\n",
    "union_df = pd.merge(\n",
    "    orders_tenge_df,\n",
    "    final_tickets_events_df,\n",
    "    how='left',\n",
    "    on='event_id'\n",
    ")\n",
    "\n",
    "# Проверяем результат\n",
    "union_df.head()"
   ]
  },
  {
   "cell_type": "code",
   "execution_count": 12,
   "id": "8408ff75-ac13-4b5e-9233-34d00c52ac25",
   "metadata": {},
   "outputs": [
    {
     "name": "stdout",
     "output_type": "stream",
     "text": [
      "<class 'pandas.core.frame.DataFrame'>\n",
      "RangeIndex: 290849 entries, 0 to 290848\n",
      "Data columns (total 26 columns):\n",
      " #   Column                  Non-Null Count   Dtype  \n",
      "---  ------                  --------------   -----  \n",
      " 0   order_id                290849 non-null  int64  \n",
      " 1   user_id                 290849 non-null  object \n",
      " 2   created_dt_msk          290849 non-null  object \n",
      " 3   created_ts_msk          290849 non-null  object \n",
      " 4   event_id                290849 non-null  int64  \n",
      " 5   cinema_circuit          290849 non-null  object \n",
      " 6   age_limit               290849 non-null  int64  \n",
      " 7   currency_code           290849 non-null  object \n",
      " 8   device_type_canonical   290849 non-null  object \n",
      " 9   revenue                 290849 non-null  float64\n",
      " 10  service_name            290849 non-null  object \n",
      " 11  tickets_count           290849 non-null  int64  \n",
      " 12  total                   290849 non-null  float64\n",
      " 13  days_since_prev         268909 non-null  float64\n",
      " 14  nominal                 290849 non-null  int64  \n",
      " 15  curs                    290849 non-null  float64\n",
      " 16  event_name              290611 non-null  object \n",
      " 17  event_type_description  290611 non-null  object \n",
      " 18  event_type_main         290611 non-null  object \n",
      " 19  organizers              290611 non-null  object \n",
      " 20  region_name             290611 non-null  object \n",
      " 21  city_name               290611 non-null  object \n",
      " 22  city_id                 290611 non-null  float64\n",
      " 23  venue_id                290611 non-null  float64\n",
      " 24  venue_name              290611 non-null  object \n",
      " 25  venue_address           290611 non-null  object \n",
      "dtypes: float64(6), int64(5), object(15)\n",
      "memory usage: 57.7+ MB\n"
     ]
    }
   ],
   "source": [
    "# Выводим информацию о датафрейме\n",
    "union_df.info()"
   ]
  },
  {
   "cell_type": "code",
   "execution_count": 13,
   "id": "9bc81e64-e974-44c9-bb26-de293f9d7692",
   "metadata": {},
   "outputs": [
    {
     "data": {
      "text/plain": [
       "290849"
      ]
     },
     "execution_count": 13,
     "metadata": {},
     "output_type": "execute_result"
    }
   ],
   "source": [
    "# Сохраняем в переменную количество строк до предобработки\n",
    "initial_row_count = union_df.shape[0]\n",
    "initial_row_count"
   ]
  },
  {
   "cell_type": "markdown",
   "id": "65cd6d16-70f8-4124-a5f2-ec6279dfb49d",
   "metadata": {},
   "source": [
    "Объединённый датафрейм `union_df` содержит 26 столбцов и 290 849 строк.\n",
    "\n",
    "После первичного анализа данных можно сделать следующие выводы:\n",
    "\n",
    "- Типы столбцов корректны, кроме `created_dt_msk` и `created_ts_msk`, которые нужно привести к временному типу и целочисленных столбцов `days_since_prev`, `city_id` и `venue_id`, представленных типом `float` из-за пропусков. Разрядность числовых столбцов можно оптимизировать.\n",
    "- Пропуски содержит столбец `days_since_prev` и столбцы, содержащие данные о событиях. Скорее всего, причина в объединении таблиц способом `left`: в таблице с заказами были `event_id`, не представленные в таблице с событиями. Стоит также проверить столбцы с категориальными данными на наличие значений, которые могут обозначать пропуски.\n",
    "\n",
    "Данные готовы к предобработке.\n",
    "\n",
    "---"
   ]
  },
  {
   "cell_type": "markdown",
   "id": "33f17f06-b620-409b-9ad6-34a4a8a247f6",
   "metadata": {},
   "source": [
    "## Предобработка данных"
   ]
  },
  {
   "cell_type": "markdown",
   "id": "154d4c26-f30e-4027-b67b-2d7234327af2",
   "metadata": {},
   "source": [
    "### Типы данных"
   ]
  },
  {
   "cell_type": "markdown",
   "id": "3d59e54b-a896-4521-8bdd-b065c16885f0",
   "metadata": {},
   "source": [
    "На этапе знакомства с данными было установлено, что столбцы `created_dt_msk` и `created_ts_msk` нужно привести к типу `datetime`, так как при выгрузке в CSV они стали `object`. Также оптимизируем разрядность числовых столбцов."
   ]
  },
  {
   "cell_type": "code",
   "execution_count": 14,
   "id": "07fb1597-af3a-4819-8a5f-4e1e6838eccf",
   "metadata": {},
   "outputs": [
    {
     "data": {
      "text/plain": [
       "order_id                    int64\n",
       "user_id                    object\n",
       "created_dt_msk             object\n",
       "created_ts_msk             object\n",
       "event_id                    int64\n",
       "cinema_circuit             object\n",
       "age_limit                   int64\n",
       "currency_code              object\n",
       "device_type_canonical      object\n",
       "revenue                   float64\n",
       "service_name               object\n",
       "tickets_count               int64\n",
       "total                     float64\n",
       "days_since_prev           float64\n",
       "nominal                     int64\n",
       "curs                      float64\n",
       "event_name                 object\n",
       "event_type_description     object\n",
       "event_type_main            object\n",
       "organizers                 object\n",
       "region_name                object\n",
       "city_name                  object\n",
       "city_id                   float64\n",
       "venue_id                  float64\n",
       "venue_name                 object\n",
       "venue_address              object\n",
       "dtype: object"
      ]
     },
     "execution_count": 14,
     "metadata": {},
     "output_type": "execute_result"
    }
   ],
   "source": [
    "# Выводим типы столбцов для удобства\n",
    "union_df.dtypes"
   ]
  },
  {
   "cell_type": "code",
   "execution_count": 15,
   "id": "576bf5ac-5150-43b7-80f3-98f948d90d13",
   "metadata": {},
   "outputs": [],
   "source": [
    "# Меняем тип данных\n",
    "union_df['created_dt_msk'] = pd.to_datetime(union_df['created_dt_msk'])\n",
    "union_df['created_ts_msk'] = pd.to_datetime(union_df['created_ts_msk'])"
   ]
  },
  {
   "cell_type": "code",
   "execution_count": 16,
   "id": "6374e3ca-1daf-4c3e-8408-80c134dc2487",
   "metadata": {},
   "outputs": [],
   "source": [
    "# Оптимизируем разрядность \n",
    "for col in union_df.columns:\n",
    "    if union_df[col].dtype == 'int64':\n",
    "        union_df[col] = pd.to_numeric(union_df[col], downcast='integer')\n",
    "    elif union_df[col].dtype == 'float64':\n",
    "        union_df[col] = pd.to_numeric(union_df[col], downcast='float')"
   ]
  },
  {
   "cell_type": "code",
   "execution_count": 17,
   "id": "843da6e7-3ec9-41f5-9217-a0ae31809d06",
   "metadata": {},
   "outputs": [
    {
     "data": {
      "text/plain": [
       "order_id                           int32\n",
       "user_id                           object\n",
       "created_dt_msk            datetime64[ns]\n",
       "created_ts_msk            datetime64[ns]\n",
       "event_id                           int32\n",
       "cinema_circuit                    object\n",
       "age_limit                           int8\n",
       "currency_code                     object\n",
       "device_type_canonical             object\n",
       "revenue                          float64\n",
       "service_name                      object\n",
       "tickets_count                       int8\n",
       "total                            float64\n",
       "days_since_prev                  float32\n",
       "nominal                             int8\n",
       "curs                             float32\n",
       "event_name                        object\n",
       "event_type_description            object\n",
       "event_type_main                   object\n",
       "organizers                        object\n",
       "region_name                       object\n",
       "city_name                         object\n",
       "city_id                          float32\n",
       "venue_id                         float32\n",
       "venue_name                        object\n",
       "venue_address                     object\n",
       "dtype: object"
      ]
     },
     "execution_count": 17,
     "metadata": {},
     "output_type": "execute_result"
    }
   ],
   "source": [
    "# Проверяем преобразования\n",
    "union_df.dtypes"
   ]
  },
  {
   "cell_type": "markdown",
   "id": "f92f7f18-c84e-4cc7-b5b4-4f6a00828e1e",
   "metadata": {},
   "source": [
    "Типы данных успешно преобразованы. Данные готовы к дальнейшему анализу.\n",
    "\n",
    "---"
   ]
  },
  {
   "cell_type": "markdown",
   "id": "564da059-119a-4bbe-879f-0a57f6e1cb74",
   "metadata": {},
   "source": [
    "### Наличие пропусков в данных"
   ]
  },
  {
   "cell_type": "markdown",
   "id": "a49a97e2-f28c-40c0-8a2c-cb2089a1f900",
   "metadata": {},
   "source": [
    "Подробнее изучим количество пропущенных значений по столбцам датафрейма."
   ]
  },
  {
   "cell_type": "code",
   "execution_count": 18,
   "id": "3997f6ac-64d5-475b-bfc9-e460ecad638e",
   "metadata": {},
   "outputs": [
    {
     "data": {
      "text/plain": [
       "days_since_prev           21940\n",
       "venue_id                    238\n",
       "event_type_main             238\n",
       "organizers                  238\n",
       "region_name                 238\n",
       "city_name                   238\n",
       "city_id                     238\n",
       "event_name                  238\n",
       "event_type_description      238\n",
       "venue_name                  238\n",
       "venue_address               238\n",
       "device_type_canonical         0\n",
       "revenue                       0\n",
       "age_limit                     0\n",
       "cinema_circuit                0\n",
       "event_id                      0\n",
       "created_ts_msk                0\n",
       "created_dt_msk                0\n",
       "user_id                       0\n",
       "order_id                      0\n",
       "currency_code                 0\n",
       "nominal                       0\n",
       "service_name                  0\n",
       "curs                          0\n",
       "tickets_count                 0\n",
       "total                         0\n",
       "dtype: int64"
      ]
     },
     "execution_count": 18,
     "metadata": {},
     "output_type": "execute_result"
    }
   ],
   "source": [
    "# Выводим количество пропущенных строк в датафрейме\n",
    "union_df.isna().sum().sort_values(ascending=False)"
   ]
  },
  {
   "cell_type": "code",
   "execution_count": 19,
   "id": "31e383d5-fbac-42ce-a5cf-96fc8ebbe571",
   "metadata": {},
   "outputs": [
    {
     "data": {
      "text/plain": [
       "days_since_prev           7.543433\n",
       "venue_id                  0.081829\n",
       "event_type_main           0.081829\n",
       "organizers                0.081829\n",
       "region_name               0.081829\n",
       "city_name                 0.081829\n",
       "city_id                   0.081829\n",
       "event_name                0.081829\n",
       "event_type_description    0.081829\n",
       "venue_name                0.081829\n",
       "venue_address             0.081829\n",
       "device_type_canonical     0.000000\n",
       "revenue                   0.000000\n",
       "age_limit                 0.000000\n",
       "cinema_circuit            0.000000\n",
       "event_id                  0.000000\n",
       "created_ts_msk            0.000000\n",
       "created_dt_msk            0.000000\n",
       "user_id                   0.000000\n",
       "order_id                  0.000000\n",
       "currency_code             0.000000\n",
       "nominal                   0.000000\n",
       "service_name              0.000000\n",
       "curs                      0.000000\n",
       "tickets_count             0.000000\n",
       "total                     0.000000\n",
       "dtype: float64"
      ]
     },
     "execution_count": 19,
     "metadata": {},
     "output_type": "execute_result"
    }
   ],
   "source": [
    "# Подсчитываем процент строк с пропусками\n",
    "union_df.isna().sum().sort_values(ascending=False) * 100 / union_df.shape[0]"
   ]
  },
  {
   "cell_type": "markdown",
   "id": "b23dc270-6051-4f25-a56f-9682a3c53ac9",
   "metadata": {},
   "source": [
    "В данных наблюдаются пропуски в следующих столбцах:\n",
    "- `days_since_prev` содержит ~7,5% пропусков. Наличие пропусков закономерно, так как столбец содержит данные о количестве дней с предыдущей покупки для каждого пользователя. Если покупки не было, данные содержат пропуск.\n",
    "- столбцы из присоединённой таблицы `final_tickets_events_df` содержат 0,08% пропусков. Скорее всего, причина в объединении таблиц способом `left`: в таблице с заказами были `event_id`, не представленные в таблице с событиями. Пропусков здесь не так много, поэтому принимаем решение оставить всё как есть.\n",
    "\n",
    "Для дальнейшей работы с пропусками необходимо изучить категориальные данные.\n",
    "\n",
    "---"
   ]
  },
  {
   "cell_type": "markdown",
   "id": "bd8e2aee-4e39-43fc-ac5b-8da377c88d3f",
   "metadata": {},
   "source": [
    "### Анализ категориальных данных"
   ]
  },
  {
   "cell_type": "markdown",
   "id": "9c33983d-8947-438f-957e-89419e32ab26",
   "metadata": {},
   "source": [
    "Проверим категориальные столбцы на возможные неявные пропуски и дубликаты, изучив их уникальные значения."
   ]
  },
  {
   "cell_type": "code",
   "execution_count": 20,
   "id": "7f3e5ed4-39fe-4b7a-b232-3309dc6d859a",
   "metadata": {},
   "outputs": [
    {
     "name": "stdout",
     "output_type": "stream",
     "text": [
      "Уникальные значения в столбце cinema_circuit: ['нет' 'Другое' 'Киномакс' 'КиноСити' 'Москино' 'ЦентрФильм']\n",
      "\n",
      "Уникальные значения в столбце age_limit: [16  0 18 12  6]\n",
      "\n",
      "Уникальные значения в столбце currency_code: ['rub' 'kzt']\n",
      "\n",
      "Уникальные значения в столбце device_type_canonical: ['mobile' 'desktop']\n",
      "\n",
      "Уникальные значения в столбце event_type_main: ['театр' 'выставки' 'другое' 'стендап' 'концерты' 'спорт' nan 'ёлки']\n",
      "\n"
     ]
    }
   ],
   "source": [
    "# Сохраняем категориальные столбцы\n",
    "category_cols = [\n",
    "    'cinema_circuit', \n",
    "    'age_limit', \n",
    "    'currency_code', \n",
    "    'device_type_canonical', \n",
    "    'event_type_main'\n",
    "]\n",
    "\n",
    "# Проверяем уникальные значения\n",
    "for col in category_cols:\n",
    "    print(f'Уникальные значения в столбце {col}: {union_df[col].unique()}')\n",
    "    print()"
   ]
  },
  {
   "cell_type": "markdown",
   "id": "ce0c313f-63dd-48aa-91e3-41434a547381",
   "metadata": {},
   "source": [
    "Дополнительно проверим наиболее часто встречающиеся значения в столбцах с большим количеством категорий."
   ]
  },
  {
   "cell_type": "code",
   "execution_count": 21,
   "id": "5f287985-1461-400d-bf08-d357f1fec27d",
   "metadata": {},
   "outputs": [
    {
     "name": "stdout",
     "output_type": "stream",
     "text": [
      "Количество уникальных значений в столбце service_name: 36\n",
      "Наиболее частые значения: service_name\n",
      "Билеты без проблем    63709\n",
      "Лови билет!           41126\n",
      "Билеты в руки         40364\n",
      "Мой билет             34843\n",
      "Облачко               26642\n",
      "Name: count, dtype: int64\n",
      "\n",
      "Количество уникальных значений в столбце region_name: 81\n",
      "Наиболее частые значения: region_name\n",
      "Каменевский регион      91058\n",
      "Североярская область    44049\n",
      "Широковская область     16457\n",
      "Медовская область       13901\n",
      "Озернинский край        10476\n",
      "Name: count, dtype: int64\n",
      "\n",
      "Количество уникальных значений в столбце city_name: 352\n",
      "Наиболее частые значения: city_name\n",
      "Глиногорск      89446\n",
      "Озёрск          43910\n",
      "Радужсвет       13711\n",
      "Радужнополье     8741\n",
      "Верховино        6579\n",
      "Name: count, dtype: int64\n",
      "\n",
      "Количество уникальных значений в столбце venue_name: 3217\n",
      "Наиболее частые значения: venue_name\n",
      "Студия дизайна \"Платформа\" Инкорпорэйтед         9910\n",
      "Картинная галерея \"Светлячок\" Лтд                4406\n",
      "Креативное пространство \"Вдох\" Лимитед           4257\n",
      "Центр культурного наследия \"Заряд\" и партнеры    4099\n",
      "Студия дизайна \"Лестница\" Лимитед                4025\n",
      "Name: count, dtype: int64\n",
      "\n"
     ]
    }
   ],
   "source": [
    "# Проверяем столбцы с большим количеством категорий\n",
    "for col in ['service_name', 'region_name', 'city_name', 'venue_name']:\n",
    "    print(f'Количество уникальных значений в столбце {col}: {union_df[col].nunique()}')\n",
    "    print(f'Наиболее частые значения: {union_df[col].value_counts().head()}')\n",
    "    print()"
   ]
  },
  {
   "cell_type": "markdown",
   "id": "606ed1be-b6a0-4d74-a9be-dc8cf4aad5d1",
   "metadata": {},
   "source": [
    "Значения выглядят корректными. Перейдём к изучению числовых данных.\n",
    "\n",
    "---"
   ]
  },
  {
   "cell_type": "markdown",
   "id": "414ba3a1-8c32-4bd2-86a6-db5f3f013dca",
   "metadata": {},
   "source": [
    "### Анализ числовых данных"
   ]
  },
  {
   "cell_type": "markdown",
   "id": "6c8cbf26-e2a4-4fec-a6e9-f14f8b9015f7",
   "metadata": {},
   "source": [
    "Проверим статистические показатели числовых данных, важных для дальнейшего анализа, в разрезе валют."
   ]
  },
  {
   "cell_type": "code",
   "execution_count": 22,
   "id": "24315fe4-e7fe-4140-b7ea-6c5711f19d6c",
   "metadata": {},
   "outputs": [
    {
     "name": "stdout",
     "output_type": "stream",
     "text": [
      "Статистика по рублям:\n",
      "             revenue  tickets_count\n",
      "count  285780.000000  285780.000000\n",
      "mean      547.568333       2.754077\n",
      "std       871.524559       1.171419\n",
      "min       -90.760000       1.000000\n",
      "25%       113.827500       2.000000\n",
      "50%       346.100000       3.000000\n",
      "75%       791.700000       4.000000\n",
      "max     81174.540000      57.000000\n",
      "\n",
      "Статистика по тенге:\n",
      "            revenue  tickets_count\n",
      "count   5069.000000    5069.000000\n",
      "mean    4995.206767       2.762872\n",
      "std     4916.752776       1.115558\n",
      "min        0.000000       1.000000\n",
      "25%      518.100000       2.000000\n",
      "50%     3698.830000       3.000000\n",
      "75%     7397.660000       4.000000\n",
      "max    26425.860000       6.000000\n"
     ]
    }
   ],
   "source": [
    "# Выводим статистические данные\n",
    "print('Статистика по рублям:')\n",
    "print(union_df[union_df['currency_code'] == 'rub'][['revenue', 'tickets_count']].describe())\n",
    "print()\n",
    "print('Статистика по тенге:')\n",
    "print(union_df[union_df['currency_code'] == 'kzt'][['revenue', 'tickets_count']].describe())"
   ]
  },
  {
   "cell_type": "markdown",
   "id": "93f73b89-4d19-41d6-89af-2cce3184f767",
   "metadata": {},
   "source": [
    "Средние значения выручки в обеих валютах заметно выше медианных (547 ₽ против 346 ₽ и 4995 ₸ против 3699 ₸), что указывает на наличие выбросов — редких заказов с очень высокой выручкой. В рублях разброс больше — максимум 81 174 ₽, тогда как в тенге — 26 426 ₸. Количество билетов распределено более равномерно: чаще всего пользователи покупают 2–4 билета, медианна в обеих валютах 3 билета.\n",
    "\n",
    "Визуализируем статистику выручки в обеих валютах на диаграмме размаха."
   ]
  },
  {
   "cell_type": "code",
   "execution_count": 23,
   "id": "1bbc6fd9-7a6d-436b-9271-bac0c57ebfb5",
   "metadata": {},
   "outputs": [
    {
     "data": {
      "image/png": "[encoded data removed]",
      "text/plain": [
       "<Figure size 1500x600 with 1 Axes>"
      ]
     },
     "metadata": {},
     "output_type": "display_data"
    }
   ],
   "source": [
    "# Создаём контейнер графика matplotlib и задаём его размер\n",
    "plt.figure(figsize=(15, 6))\n",
    "\n",
    "# Строим диаграмму размаха\n",
    "sns.boxplot(data=union_df, x='currency_code', y='revenue', color='skyblue')\n",
    " \n",
    "# Настраиваем подписи\n",
    "plt.title('Распределение выручки в рублях и тенге')\n",
    "plt.xlabel('Валюта')\n",
    "plt.ylabel('Выручка')\n",
    "\n",
    "#Выводим график\n",
    "plt.show()"
   ]
  },
  {
   "cell_type": "markdown",
   "id": "9345d41e-8b27-418e-936c-4f3f31448c3c",
   "metadata": {},
   "source": [
    "Диаграмма размаха подтверждает наличие выбросов, которые искажают средние значения. Отфильтруем значения выручки по 99-му процентилю. Это позволит отсечь экстремальные значения и сфокусироваться на «нормальных» заказах, чтобы провести более корректный анализ."
   ]
  },
  {
   "cell_type": "code",
   "execution_count": 24,
   "id": "451dbd4c-1e02-4e6c-a0b1-025b8a52eeb2",
   "metadata": {},
   "outputs": [],
   "source": [
    "# Фильтруем значения в рублях\n",
    "rub_df = union_df[union_df['currency_code'] == 'rub']\n",
    "rub_df = rub_df[rub_df['revenue'] <= rub_df['revenue'].quantile(0.99)]\n",
    "\n",
    "# Фильтруем значения в тенге\n",
    "kzt_df = union_df[union_df['currency_code'] == 'kzt']\n",
    "kzt_df = kzt_df[kzt_df['revenue'] <= kzt_df['revenue'].quantile(0.99)]\n",
    "\n",
    "# Объединяем обратно\n",
    "union_df_filtered = pd.concat([rub_df, kzt_df], ignore_index=True)"
   ]
  },
  {
   "cell_type": "code",
   "execution_count": 25,
   "id": "9f0c3be8-e4ee-4f68-9f41-538c32141ff1",
   "metadata": {},
   "outputs": [
    {
     "name": "stdout",
     "output_type": "stream",
     "text": [
      "Количество строк отфильтрованного датафрейма 287962, что составляет 99.01% от первоначального количества строк\n"
     ]
    }
   ],
   "source": [
    "# Сохраняем количество строк\n",
    "filtered_row_count = union_df_filtered.shape[0]\n",
    "print(f'Количество строк отфильтрованного датафрейма {filtered_row_count}, что составляет {round(filtered_row_count * 100.0 / initial_row_count, 2)}% от первоначального количества строк')"
   ]
  },
  {
   "cell_type": "markdown",
   "id": "62fe1521-ff0a-4443-8955-2e482d155813",
   "metadata": {},
   "source": [
    "---"
   ]
  },
  {
   "cell_type": "markdown",
   "id": "2645e34c-1e90-4106-82ab-0b07bd30cfd1",
   "metadata": {},
   "source": [
    "### Дубликаты в данных"
   ]
  },
  {
   "cell_type": "markdown",
   "id": "df091a96-26ec-4d82-b768-58ee6139e3d9",
   "metadata": {},
   "source": [
    "Перед проверкой на дубликаты нормализуем данные в текстовых столбцах."
   ]
  },
  {
   "cell_type": "code",
   "execution_count": 26,
   "id": "3fc67ecd-26dc-4614-b1fe-f043c23c733e",
   "metadata": {},
   "outputs": [],
   "source": [
    "# Нормализуем данные\n",
    "for col in union_df_filtered.columns:\n",
    "    if union_df_filtered[col].dtype == 'object':\n",
    "        union_df_filtered[col] = union_df_filtered[col].str.lower().str.strip()"
   ]
  },
  {
   "cell_type": "markdown",
   "id": "0c94843d-d436-4bc3-ae8b-95b0afe9d6c1",
   "metadata": {},
   "source": [
    "Проверим, есть ли в данных полные дубликаты."
   ]
  },
  {
   "cell_type": "code",
   "execution_count": 27,
   "id": "a3ce1137-a92b-4ed7-9d21-27cd2a7c7d4f",
   "metadata": {},
   "outputs": [
    {
     "data": {
      "text/plain": [
       "np.int64(0)"
      ]
     },
     "execution_count": 27,
     "metadata": {},
     "output_type": "execute_result"
    }
   ],
   "source": [
    "# Проверяем полные дубликаты\n",
    "union_df_filtered.duplicated().sum()"
   ]
  },
  {
   "cell_type": "markdown",
   "id": "93c6de09-9252-44c5-9f91-672d585a1369",
   "metadata": {},
   "source": [
    "Полных дубликатов нет. Проверим, есть ли строки с одинаковой комбинацией столбцов — это могут быть неявные дубликаты."
   ]
  },
  {
   "cell_type": "code",
   "execution_count": 28,
   "id": "0839903b-2eac-4eac-a437-92097ec98be4",
   "metadata": {},
   "outputs": [
    {
     "data": {
      "text/plain": [
       "np.int64(30)"
      ]
     },
     "execution_count": 28,
     "metadata": {},
     "output_type": "execute_result"
    }
   ],
   "source": [
    "# Проверяем наличие неявных дубликатов по сочетанию столбцов\n",
    "dup_cols = union_df_filtered.columns[1:]\n",
    "union_df_filtered.duplicated(subset=dup_cols).sum()"
   ]
  },
  {
   "cell_type": "markdown",
   "id": "2d2f5b24-a111-4261-a524-b4244f324777",
   "metadata": {},
   "source": [
    "В итоге мы обнаружили 30 неявных дубликата по всем признакам, кроме `order_id`. Удалим их с помощью метода `drop_duplicates()`."
   ]
  },
  {
   "cell_type": "code",
   "execution_count": 29,
   "id": "12096573-e645-4410-b174-7ec36e1c3084",
   "metadata": {},
   "outputs": [
    {
     "data": {
      "text/plain": [
       "np.int64(0)"
      ]
     },
     "execution_count": 29,
     "metadata": {},
     "output_type": "execute_result"
    }
   ],
   "source": [
    "#Удаляем неявные дубликаты\n",
    "union_df_filtered = union_df_filtered.drop_duplicates(subset=dup_cols)\n",
    "\n",
    "#Проверяем результат\n",
    "union_df_filtered.duplicated(subset=dup_cols).sum()"
   ]
  },
  {
   "cell_type": "code",
   "execution_count": 30,
   "id": "557ffc64-8e3e-4095-b551-b12c1452737a",
   "metadata": {},
   "outputs": [
    {
     "name": "stdout",
     "output_type": "stream",
     "text": [
      "Количество строк датафрейма без дубликатов 287932, что составляет 99.0% от первоначального количества строк\n"
     ]
    }
   ],
   "source": [
    "# Сохраняем количество строк\n",
    "final_row_count = union_df_filtered.shape[0]\n",
    "print(f'Количество строк датафрейма без дубликатов {final_row_count}, что составляет {round(final_row_count * 100.0 / initial_row_count, 2)}% от первоначального количества строк')"
   ]
  },
  {
   "cell_type": "markdown",
   "id": "6503fa41-e24a-4203-9c86-8228520b25b5",
   "metadata": {},
   "source": [
    "---"
   ]
  },
  {
   "cell_type": "markdown",
   "id": "23880900-6a87-4b87-9bfd-a986d6e41051",
   "metadata": {},
   "source": [
    "### Создание новых столбцов"
   ]
  },
  {
   "cell_type": "markdown",
   "id": "f708848d-8773-4177-9b2b-139f9c58198f",
   "metadata": {},
   "source": [
    "Для дальнейшей работы создадим несколько новых столбцов:\n",
    "\n",
    "- `revenue_rub` — выручка с заказа в единой валюте — рублях;\n",
    "- `one_ticket_revenue_rub` — выручка с продажи одного билета на мероприятие;\n",
    "- `month` — месяц оформления заказа;\n",
    "- `season` — сезон оформления заказа: лето, осень, зима, весна."
   ]
  },
  {
   "cell_type": "code",
   "execution_count": 31,
   "id": "2a4a46d2-dbb6-42f7-aadb-f70e1fcec0aa",
   "metadata": {},
   "outputs": [
    {
     "data": {
      "text/html": [
       "<div>\n",
       "<style scoped>\n",
       "    .dataframe tbody tr th:only-of-type {\n",
       "        vertical-align: middle;\n",
       "    }\n",
       "\n",
       "    .dataframe tbody tr th {\n",
       "        vertical-align: top;\n",
       "    }\n",
       "\n",
       "    .dataframe thead th {\n",
       "        text-align: right;\n",
       "    }\n",
       "</style>\n",
       "<table border=\"1\" class=\"dataframe\">\n",
       "  <thead>\n",
       "    <tr style=\"text-align: right;\">\n",
       "      <th></th>\n",
       "      <th>currency_code</th>\n",
       "      <th>revenue</th>\n",
       "      <th>curs</th>\n",
       "      <th>nominal</th>\n",
       "      <th>revenue_rub</th>\n",
       "    </tr>\n",
       "  </thead>\n",
       "  <tbody>\n",
       "    <tr>\n",
       "      <th>262815</th>\n",
       "      <td>rub</td>\n",
       "      <td>376.00</td>\n",
       "      <td>19.120199</td>\n",
       "      <td>100</td>\n",
       "      <td>376.00</td>\n",
       "    </tr>\n",
       "    <tr>\n",
       "      <th>31199</th>\n",
       "      <td>rub</td>\n",
       "      <td>706.85</td>\n",
       "      <td>19.865499</td>\n",
       "      <td>100</td>\n",
       "      <td>706.85</td>\n",
       "    </tr>\n",
       "    <tr>\n",
       "      <th>140978</th>\n",
       "      <td>rub</td>\n",
       "      <td>69.85</td>\n",
       "      <td>20.277300</td>\n",
       "      <td>100</td>\n",
       "      <td>69.85</td>\n",
       "    </tr>\n",
       "    <tr>\n",
       "      <th>99445</th>\n",
       "      <td>rub</td>\n",
       "      <td>280.42</td>\n",
       "      <td>18.506701</td>\n",
       "      <td>100</td>\n",
       "      <td>280.42</td>\n",
       "    </tr>\n",
       "    <tr>\n",
       "      <th>209687</th>\n",
       "      <td>rub</td>\n",
       "      <td>76.17</td>\n",
       "      <td>19.075800</td>\n",
       "      <td>100</td>\n",
       "      <td>76.17</td>\n",
       "    </tr>\n",
       "  </tbody>\n",
       "</table>\n",
       "</div>"
      ],
      "text/plain": [
       "       currency_code  revenue       curs  nominal  revenue_rub\n",
       "262815           rub   376.00  19.120199      100       376.00\n",
       "31199            rub   706.85  19.865499      100       706.85\n",
       "140978           rub    69.85  20.277300      100        69.85\n",
       "99445            rub   280.42  18.506701      100       280.42\n",
       "209687           rub    76.17  19.075800      100        76.17"
      ]
     },
     "execution_count": 31,
     "metadata": {},
     "output_type": "execute_result"
    }
   ],
   "source": [
    "# Функция для приведения выручки к единой валюте (рубли)\n",
    "def to_rub(row):\n",
    "    if row['currency_code'] == 'kzt':\n",
    "        return row['revenue'] * row['curs'] / row ['nominal']\n",
    "    else: \n",
    "        return row['revenue']\n",
    "\n",
    "# Создаём столбец revenue_rub\n",
    "union_df_filtered['revenue_rub'] = union_df_filtered.apply(to_rub, axis=1)\n",
    "\n",
    "# Проверяем результат\n",
    "union_df_filtered[['currency_code', 'revenue', 'curs', 'nominal', 'revenue_rub']].sample(n=5, random_state=40)"
   ]
  },
  {
   "cell_type": "code",
   "execution_count": 32,
   "id": "e2d5d5dd-f584-4bdb-bfd9-5ca74132d373",
   "metadata": {},
   "outputs": [
    {
     "data": {
      "text/html": [
       "<div>\n",
       "<style scoped>\n",
       "    .dataframe tbody tr th:only-of-type {\n",
       "        vertical-align: middle;\n",
       "    }\n",
       "\n",
       "    .dataframe tbody tr th {\n",
       "        vertical-align: top;\n",
       "    }\n",
       "\n",
       "    .dataframe thead th {\n",
       "        text-align: right;\n",
       "    }\n",
       "</style>\n",
       "<table border=\"1\" class=\"dataframe\">\n",
       "  <thead>\n",
       "    <tr style=\"text-align: right;\">\n",
       "      <th></th>\n",
       "      <th>revenue_rub</th>\n",
       "      <th>tickets_count</th>\n",
       "      <th>one_ticket_revenue_rub</th>\n",
       "    </tr>\n",
       "  </thead>\n",
       "  <tbody>\n",
       "    <tr>\n",
       "      <th>0</th>\n",
       "      <td>1521.94</td>\n",
       "      <td>4</td>\n",
       "      <td>380.4850</td>\n",
       "    </tr>\n",
       "    <tr>\n",
       "      <th>1</th>\n",
       "      <td>289.45</td>\n",
       "      <td>2</td>\n",
       "      <td>144.7250</td>\n",
       "    </tr>\n",
       "    <tr>\n",
       "      <th>2</th>\n",
       "      <td>1258.57</td>\n",
       "      <td>4</td>\n",
       "      <td>314.6425</td>\n",
       "    </tr>\n",
       "    <tr>\n",
       "      <th>3</th>\n",
       "      <td>8.49</td>\n",
       "      <td>2</td>\n",
       "      <td>4.2450</td>\n",
       "    </tr>\n",
       "    <tr>\n",
       "      <th>4</th>\n",
       "      <td>1390.41</td>\n",
       "      <td>3</td>\n",
       "      <td>463.4700</td>\n",
       "    </tr>\n",
       "  </tbody>\n",
       "</table>\n",
       "</div>"
      ],
      "text/plain": [
       "   revenue_rub  tickets_count  one_ticket_revenue_rub\n",
       "0      1521.94              4                380.4850\n",
       "1       289.45              2                144.7250\n",
       "2      1258.57              4                314.6425\n",
       "3         8.49              2                  4.2450\n",
       "4      1390.41              3                463.4700"
      ]
     },
     "execution_count": 32,
     "metadata": {},
     "output_type": "execute_result"
    }
   ],
   "source": [
    "# Создаём столбец one_ticket_revenue_rub\n",
    "union_df_filtered['one_ticket_revenue_rub'] = union_df_filtered['revenue_rub'] / union_df_filtered['tickets_count']\n",
    "\n",
    "# Проверяем результат\n",
    "union_df_filtered[['revenue_rub', 'tickets_count', 'one_ticket_revenue_rub']].head()"
   ]
  },
  {
   "cell_type": "code",
   "execution_count": 33,
   "id": "cbc8387c-cbde-4997-b795-519f70f82890",
   "metadata": {},
   "outputs": [
    {
     "data": {
      "text/html": [
       "<div>\n",
       "<style scoped>\n",
       "    .dataframe tbody tr th:only-of-type {\n",
       "        vertical-align: middle;\n",
       "    }\n",
       "\n",
       "    .dataframe tbody tr th {\n",
       "        vertical-align: top;\n",
       "    }\n",
       "\n",
       "    .dataframe thead th {\n",
       "        text-align: right;\n",
       "    }\n",
       "</style>\n",
       "<table border=\"1\" class=\"dataframe\">\n",
       "  <thead>\n",
       "    <tr style=\"text-align: right;\">\n",
       "      <th></th>\n",
       "      <th>created_dt_msk</th>\n",
       "      <th>month</th>\n",
       "    </tr>\n",
       "  </thead>\n",
       "  <tbody>\n",
       "    <tr>\n",
       "      <th>0</th>\n",
       "      <td>2024-08-20</td>\n",
       "      <td>8</td>\n",
       "    </tr>\n",
       "    <tr>\n",
       "      <th>1</th>\n",
       "      <td>2024-07-23</td>\n",
       "      <td>7</td>\n",
       "    </tr>\n",
       "    <tr>\n",
       "      <th>2</th>\n",
       "      <td>2024-10-06</td>\n",
       "      <td>10</td>\n",
       "    </tr>\n",
       "    <tr>\n",
       "      <th>3</th>\n",
       "      <td>2024-07-13</td>\n",
       "      <td>7</td>\n",
       "    </tr>\n",
       "    <tr>\n",
       "      <th>4</th>\n",
       "      <td>2024-10-04</td>\n",
       "      <td>10</td>\n",
       "    </tr>\n",
       "  </tbody>\n",
       "</table>\n",
       "</div>"
      ],
      "text/plain": [
       "  created_dt_msk  month\n",
       "0     2024-08-20      8\n",
       "1     2024-07-23      7\n",
       "2     2024-10-06     10\n",
       "3     2024-07-13      7\n",
       "4     2024-10-04     10"
      ]
     },
     "execution_count": 33,
     "metadata": {},
     "output_type": "execute_result"
    }
   ],
   "source": [
    "# Создаём столбец month\n",
    "union_df_filtered['month'] = union_df_filtered['created_dt_msk'].dt.month\n",
    "\n",
    "# Проверяем результат\n",
    "union_df_filtered[['created_dt_msk', 'month']].head()"
   ]
  },
  {
   "cell_type": "code",
   "execution_count": 34,
   "id": "2dfd38e3-864b-4533-9a33-5cc5cc505aa8",
   "metadata": {},
   "outputs": [
    {
     "data": {
      "text/html": [
       "<div>\n",
       "<style scoped>\n",
       "    .dataframe tbody tr th:only-of-type {\n",
       "        vertical-align: middle;\n",
       "    }\n",
       "\n",
       "    .dataframe tbody tr th {\n",
       "        vertical-align: top;\n",
       "    }\n",
       "\n",
       "    .dataframe thead th {\n",
       "        text-align: right;\n",
       "    }\n",
       "</style>\n",
       "<table border=\"1\" class=\"dataframe\">\n",
       "  <thead>\n",
       "    <tr style=\"text-align: right;\">\n",
       "      <th></th>\n",
       "      <th>created_dt_msk</th>\n",
       "      <th>month</th>\n",
       "      <th>season</th>\n",
       "    </tr>\n",
       "  </thead>\n",
       "  <tbody>\n",
       "    <tr>\n",
       "      <th>0</th>\n",
       "      <td>2024-08-20</td>\n",
       "      <td>8</td>\n",
       "      <td>лето</td>\n",
       "    </tr>\n",
       "    <tr>\n",
       "      <th>1</th>\n",
       "      <td>2024-07-23</td>\n",
       "      <td>7</td>\n",
       "      <td>лето</td>\n",
       "    </tr>\n",
       "    <tr>\n",
       "      <th>2</th>\n",
       "      <td>2024-10-06</td>\n",
       "      <td>10</td>\n",
       "      <td>осень</td>\n",
       "    </tr>\n",
       "    <tr>\n",
       "      <th>3</th>\n",
       "      <td>2024-07-13</td>\n",
       "      <td>7</td>\n",
       "      <td>лето</td>\n",
       "    </tr>\n",
       "    <tr>\n",
       "      <th>4</th>\n",
       "      <td>2024-10-04</td>\n",
       "      <td>10</td>\n",
       "      <td>осень</td>\n",
       "    </tr>\n",
       "  </tbody>\n",
       "</table>\n",
       "</div>"
      ],
      "text/plain": [
       "  created_dt_msk  month season\n",
       "0     2024-08-20      8   лето\n",
       "1     2024-07-23      7   лето\n",
       "2     2024-10-06     10  осень\n",
       "3     2024-07-13      7   лето\n",
       "4     2024-10-04     10  осень"
      ]
     },
     "execution_count": 34,
     "metadata": {},
     "output_type": "execute_result"
    }
   ],
   "source": [
    "# Функция для выделения сезона\n",
    "def what_season(row):\n",
    "    if row['month'] in [12, 1, 2]:\n",
    "        return 'зима'\n",
    "    elif row['month'] in [3, 4, 5]:\n",
    "        return 'весна'\n",
    "    elif row['month'] in [6, 7, 8]:\n",
    "        return 'лето'\n",
    "    else:\n",
    "        return 'осень'\n",
    "\n",
    "# Создаём столбец season\n",
    "union_df_filtered['season'] = union_df_filtered.apply(what_season, axis=1)\n",
    "\n",
    "# Проверяем результат\n",
    "union_df_filtered[['created_dt_msk', 'month', 'season']].head()"
   ]
  },
  {
   "cell_type": "markdown",
   "id": "97bd25c0-a77c-42a9-8aaf-fc76310dc4d1",
   "metadata": {},
   "source": [
    "Мы предобработали данные и создали новыe столбцы. Данные готовы к исследовательскому анализу.\n",
    "\n",
    "---"
   ]
  },
  {
   "cell_type": "markdown",
   "id": "c8bd9838-53b7-41a8-aeec-153728784281",
   "metadata": {},
   "source": [
    "### Промежуточные выводы по предобработке"
   ]
  },
  {
   "cell_type": "markdown",
   "id": "f01f6c5e-0ef1-4de7-ae78-6c303144f83b",
   "metadata": {},
   "source": [
    "В результате предобработки данных были выполнены следующие действия:\n",
    "\n",
    "**1. Типы данных**:\n",
    "\n",
    "- Столбцы с датой `created_dt_msk` и `created_ts_msk` приведены к типу `datetime`.\n",
    "- Числовые столбцы оптимизированы по разрядности.\n",
    "\n",
    "**2. Пропуски**:\n",
    "\n",
    "- `days_since_prev` содержит ~7,5% пропусков. Это связано с отсутствием предыдущих покупок.\n",
    "- Обнаружено 0,08% пропусков в столбцах с информацией о событиях. Это связано с объединением таблиц методом `left` на предыдущем шаге.\n",
    "- Пропуски оставлены без изменений.\n",
    "\n",
    "**3. Категориальные данные**:\n",
    "\n",
    "- Столбцы с небольшим количеством категорий (`cinema_circuit`, `age_limit`, `currency_code`, `device_type_canonical`, `event_type_main`) проверены на неявные пропуски и дубликаты.\n",
    "- В столбцах с большим числом категорий (`service_name`, `region_name`, `city_name`, `venue_name`) изучены топ-5 наиболее частых значений.\n",
    "- Значения в категориальных столбцах выглядят корректно.\n",
    "\n",
    "**4. Числовые данные**:\n",
    "\n",
    "- Средняя выручка выше медианной: 547 ₽ vs 346 ₽ (рубли), 4995 ₸ vs 3699 ₸ (тенге), что указывает на выбросы.\n",
    "- Диаграммы размаха подтвердили наличие редких заказов с высокой выручкой.\n",
    "- Отфильтрованы значения выручки по 99-му процентилю по обеим валютам.\n",
    "- Количество билетов распределено более равномерно: чаще всего пользователи покупают 2–4 билета, медианна в обеих валютах 3 билета.\n",
    "\n",
    "**5. Дубликаты**:\n",
    "\n",
    "- Текстовые столбцы приведены к нижнему регистру и очищены от лишних пробелов.\n",
    "- Полных дубликатов не найдено.\n",
    "- Найдено и удалено 30 неявных дубликата по сочетанию всех столбцов, кроме `order_id`.\n",
    "\n",
    "**6. Новые столбцы**:\n",
    "\n",
    "- Для дальнейшей работы созданы новые столбцы:\n",
    "    - `revenue_rub` — выручка с заказа в единой валюте — рублях;\n",
    "    - `one_ticket_revenue_rub` — выручка с продажи одного билета на мероприятие;\n",
    "    - `month` — месяц оформления заказа;\n",
    "    - `season` — сезон оформления заказа: лето, осень, зима, весна.\n",
    "\n",
    "**Главное**: данные очищены и подготовлены к исследовательскому анализу. После предобработки осталось 287 932 строки (99% от исходного объёма).\n",
    "\n",
    "---"
   ]
  },
  {
   "cell_type": "markdown",
   "id": "0be4bd59-1887-415e-b50d-c0d894cc6071",
   "metadata": {},
   "source": [
    "## Исследовательский анализ данных"
   ]
  },
  {
   "cell_type": "markdown",
   "id": "92a5b517-b21b-4067-9884-522b20578aea",
   "metadata": {},
   "source": [
    "### Анализ распределения заказов по сегментам и их сезонные изменения"
   ]
  },
  {
   "cell_type": "markdown",
   "id": "f9c8eac7-fb0b-4787-a647-ad951b4ac461",
   "metadata": {},
   "source": [
    "Изучим изменение пользовательской активности в связи с сезонностью.\n",
    "\n",
    "Для каждого месяца найдём количество заказов и визуализируем результаты. Проверим, фиксируется ли увеличение заказов от июня к ноябрю 2024 года."
   ]
  },
  {
   "cell_type": "code",
   "execution_count": 35,
   "id": "25e66bb0-d0e0-4067-bc07-9a5a3c3e2442",
   "metadata": {},
   "outputs": [
    {
     "data": {
      "text/html": [
       "<div>\n",
       "<style scoped>\n",
       "    .dataframe tbody tr th:only-of-type {\n",
       "        vertical-align: middle;\n",
       "    }\n",
       "\n",
       "    .dataframe tbody tr th {\n",
       "        vertical-align: top;\n",
       "    }\n",
       "\n",
       "    .dataframe thead th {\n",
       "        text-align: right;\n",
       "    }\n",
       "</style>\n",
       "<table border=\"1\" class=\"dataframe\">\n",
       "  <thead>\n",
       "    <tr style=\"text-align: right;\">\n",
       "      <th></th>\n",
       "      <th>month</th>\n",
       "      <th>order_count</th>\n",
       "    </tr>\n",
       "  </thead>\n",
       "  <tbody>\n",
       "    <tr>\n",
       "      <th>0</th>\n",
       "      <td>6</td>\n",
       "      <td>34343</td>\n",
       "    </tr>\n",
       "    <tr>\n",
       "      <th>1</th>\n",
       "      <td>7</td>\n",
       "      <td>40410</td>\n",
       "    </tr>\n",
       "    <tr>\n",
       "      <th>2</th>\n",
       "      <td>8</td>\n",
       "      <td>44572</td>\n",
       "    </tr>\n",
       "    <tr>\n",
       "      <th>3</th>\n",
       "      <td>9</td>\n",
       "      <td>69333</td>\n",
       "    </tr>\n",
       "    <tr>\n",
       "      <th>4</th>\n",
       "      <td>10</td>\n",
       "      <td>99274</td>\n",
       "    </tr>\n",
       "  </tbody>\n",
       "</table>\n",
       "</div>"
      ],
      "text/plain": [
       "   month  order_count\n",
       "0      6        34343\n",
       "1      7        40410\n",
       "2      8        44572\n",
       "3      9        69333\n",
       "4     10        99274"
      ]
     },
     "execution_count": 35,
     "metadata": {},
     "output_type": "execute_result"
    }
   ],
   "source": [
    "# Найдём количество заказов для каждого месяца\n",
    "order_count_per_month = union_df_filtered.groupby('month')['order_id'].count().reset_index()\n",
    "order_count_per_month.columns = ['month', 'order_count']\n",
    "order_count_per_month"
   ]
  },
  {
   "cell_type": "code",
   "execution_count": 36,
   "id": "755e289e-392f-4c8d-aa5f-ada93b19a8cf",
   "metadata": {},
   "outputs": [
    {
     "data": {
      "image/png": "[encoded data removed]",
      "text/plain": [
       "<Figure size 700x300 with 1 Axes>"
      ]
     },
     "metadata": {},
     "output_type": "display_data"
    }
   ],
   "source": [
    "# Задаём размер графика\n",
    "plt.figure(figsize=(7, 3))\n",
    "\n",
    "# Строим столбчатую диаграмму\n",
    "sns.barplot(data=order_count_per_month, \n",
    "            x='month', \n",
    "            y='order_count')\n",
    "\n",
    "# Настраиваем подписи\n",
    "plt.title('Распределение заказов по месяцам')\n",
    "plt.xlabel('Месяцы')\n",
    "plt.ylabel('Количество заказов')\n",
    "\n",
    "# Выводим график\n",
    "plt.show()"
   ]
  },
  {
   "cell_type": "markdown",
   "id": "f664097c-c89a-4322-9421-64e7250dc875",
   "metadata": {},
   "source": [
    "Количество заказов стабильно растёт от июня к октябрю: с 34 тыс. до почти 100 тыс. заказов. Наибольший рост наблюдается в начале осени — в сентябре и октябре.\n",
    "\n",
    "Для осеннего и летнего периодов сравним распределение заказов по разным категориям: тип мероприятия, тип устройства, категория по возрастному рейтингу. Результаты визуализируем, чтобы сопоставить значения. При сопоставлении результатов для каждого сегмента используем доли."
   ]
  },
  {
   "cell_type": "code",
   "execution_count": 37,
   "id": "a288b5bb-abba-4045-a184-fbeaf843cf2f",
   "metadata": {},
   "outputs": [
    {
     "data": {
      "text/html": [
       "<div>\n",
       "<style scoped>\n",
       "    .dataframe tbody tr th:only-of-type {\n",
       "        vertical-align: middle;\n",
       "    }\n",
       "\n",
       "    .dataframe tbody tr th {\n",
       "        vertical-align: top;\n",
       "    }\n",
       "\n",
       "    .dataframe thead th {\n",
       "        text-align: right;\n",
       "    }\n",
       "</style>\n",
       "<table border=\"1\" class=\"dataframe\">\n",
       "  <thead>\n",
       "    <tr style=\"text-align: right;\">\n",
       "      <th></th>\n",
       "      <th>season</th>\n",
       "      <th>event_type</th>\n",
       "      <th>order_count</th>\n",
       "      <th>order_count_per_season</th>\n",
       "      <th>share</th>\n",
       "    </tr>\n",
       "  </thead>\n",
       "  <tbody>\n",
       "    <tr>\n",
       "      <th>0</th>\n",
       "      <td>лето</td>\n",
       "      <td>выставки</td>\n",
       "      <td>2416</td>\n",
       "      <td>119109</td>\n",
       "      <td>0.020284</td>\n",
       "    </tr>\n",
       "    <tr>\n",
       "      <th>1</th>\n",
       "      <td>лето</td>\n",
       "      <td>другое</td>\n",
       "      <td>32369</td>\n",
       "      <td>119109</td>\n",
       "      <td>0.271759</td>\n",
       "    </tr>\n",
       "    <tr>\n",
       "      <th>2</th>\n",
       "      <td>лето</td>\n",
       "      <td>концерты</td>\n",
       "      <td>50757</td>\n",
       "      <td>119109</td>\n",
       "      <td>0.426139</td>\n",
       "    </tr>\n",
       "    <tr>\n",
       "      <th>3</th>\n",
       "      <td>лето</td>\n",
       "      <td>спорт</td>\n",
       "      <td>3006</td>\n",
       "      <td>119109</td>\n",
       "      <td>0.025237</td>\n",
       "    </tr>\n",
       "    <tr>\n",
       "      <th>4</th>\n",
       "      <td>лето</td>\n",
       "      <td>стендап</td>\n",
       "      <td>6346</td>\n",
       "      <td>119109</td>\n",
       "      <td>0.053279</td>\n",
       "    </tr>\n",
       "    <tr>\n",
       "      <th>5</th>\n",
       "      <td>лето</td>\n",
       "      <td>театр</td>\n",
       "      <td>23942</td>\n",
       "      <td>119109</td>\n",
       "      <td>0.201009</td>\n",
       "    </tr>\n",
       "    <tr>\n",
       "      <th>6</th>\n",
       "      <td>лето</td>\n",
       "      <td>ёлки</td>\n",
       "      <td>273</td>\n",
       "      <td>119109</td>\n",
       "      <td>0.002292</td>\n",
       "    </tr>\n",
       "    <tr>\n",
       "      <th>7</th>\n",
       "      <td>осень</td>\n",
       "      <td>выставки</td>\n",
       "      <td>2436</td>\n",
       "      <td>168585</td>\n",
       "      <td>0.014450</td>\n",
       "    </tr>\n",
       "    <tr>\n",
       "      <th>8</th>\n",
       "      <td>осень</td>\n",
       "      <td>другое</td>\n",
       "      <td>33225</td>\n",
       "      <td>168585</td>\n",
       "      <td>0.197082</td>\n",
       "    </tr>\n",
       "    <tr>\n",
       "      <th>9</th>\n",
       "      <td>осень</td>\n",
       "      <td>концерты</td>\n",
       "      <td>62694</td>\n",
       "      <td>168585</td>\n",
       "      <td>0.371884</td>\n",
       "    </tr>\n",
       "    <tr>\n",
       "      <th>10</th>\n",
       "      <td>осень</td>\n",
       "      <td>спорт</td>\n",
       "      <td>18881</td>\n",
       "      <td>168585</td>\n",
       "      <td>0.111997</td>\n",
       "    </tr>\n",
       "    <tr>\n",
       "      <th>11</th>\n",
       "      <td>осень</td>\n",
       "      <td>стендап</td>\n",
       "      <td>6923</td>\n",
       "      <td>168585</td>\n",
       "      <td>0.041065</td>\n",
       "    </tr>\n",
       "    <tr>\n",
       "      <th>12</th>\n",
       "      <td>осень</td>\n",
       "      <td>театр</td>\n",
       "      <td>42735</td>\n",
       "      <td>168585</td>\n",
       "      <td>0.253492</td>\n",
       "    </tr>\n",
       "    <tr>\n",
       "      <th>13</th>\n",
       "      <td>осень</td>\n",
       "      <td>ёлки</td>\n",
       "      <td>1691</td>\n",
       "      <td>168585</td>\n",
       "      <td>0.010031</td>\n",
       "    </tr>\n",
       "  </tbody>\n",
       "</table>\n",
       "</div>"
      ],
      "text/plain": [
       "   season event_type  order_count  order_count_per_season     share\n",
       "0    лето   выставки         2416                  119109  0.020284\n",
       "1    лето     другое        32369                  119109  0.271759\n",
       "2    лето   концерты        50757                  119109  0.426139\n",
       "3    лето      спорт         3006                  119109  0.025237\n",
       "4    лето    стендап         6346                  119109  0.053279\n",
       "5    лето      театр        23942                  119109  0.201009\n",
       "6    лето       ёлки          273                  119109  0.002292\n",
       "7   осень   выставки         2436                  168585  0.014450\n",
       "8   осень     другое        33225                  168585  0.197082\n",
       "9   осень   концерты        62694                  168585  0.371884\n",
       "10  осень      спорт        18881                  168585  0.111997\n",
       "11  осень    стендап         6923                  168585  0.041065\n",
       "12  осень      театр        42735                  168585  0.253492\n",
       "13  осень       ёлки         1691                  168585  0.010031"
      ]
     },
     "execution_count": 37,
     "metadata": {},
     "output_type": "execute_result"
    }
   ],
   "source": [
    "# Группируем заказы по сезонам и типам мероприятия\n",
    "order_count_season_event = union_df_filtered.groupby(['season', 'event_type_main'])['order_id'].count().reset_index()\n",
    "order_count_season_event.columns = ['season', 'event_type', 'order_count']\n",
    "\n",
    "# Находим общее число заказов для лета и осени\n",
    "order_count_total = order_count_season_event.groupby('season')['order_count'].sum().reset_index()\n",
    "order_count_total.columns = ['season', 'order_count_per_season']\n",
    "\n",
    "# Объединяем таблицы\n",
    "order_count_season_event = pd.merge(order_count_season_event, order_count_total, on='season')\n",
    "\n",
    "# Находим долю каждого события от общего количества событий в разрезе сезонов\n",
    "order_count_season_event['share'] = order_count_season_event['order_count'] / order_count_season_event['order_count_per_season']\n",
    "\n",
    "# Проверяем результат\n",
    "order_count_season_event"
   ]
  },
  {
   "cell_type": "code",
   "execution_count": 38,
   "id": "249ba019-63a0-4087-92dd-c2e0a00910c9",
   "metadata": {},
   "outputs": [
    {
     "data": {
      "image/png": "[encoded data removed]",
      "text/plain": [
       "<Figure size 700x300 with 1 Axes>"
      ]
     },
     "metadata": {},
     "output_type": "display_data"
    }
   ],
   "source": [
    "# Задаём размер графика\n",
    "plt.figure(figsize=(7, 3))\n",
    "\n",
    "# Строим столбчатую диаграмму\n",
    "sns.barplot(data=order_count_season_event, \n",
    "            x='event_type', \n",
    "            y='share',\n",
    "            hue = 'season'\n",
    "           )\n",
    "\n",
    "# Настраиваем подписи\n",
    "plt.title('Распределение заказов по типам мероприятий летом и осенью')\n",
    "plt.xlabel('Типы мероприятий')\n",
    "plt.ylabel('Доля от общего количества событий')\n",
    "\n",
    "# Выводим график\n",
    "plt.show()"
   ]
  },
  {
   "cell_type": "markdown",
   "id": "e2b15e8b-1762-41ae-8bc0-a424a6eb5837",
   "metadata": {},
   "source": [
    "И летом, и осенью основную часть заказов продолжают составлять концерты и театр — они остаются ключевыми типами мероприятий для сервиса. При этом график показывает изменение предпочтений пользователей со сменой сезонов. Если летом выше доля концертов (43% против заказов 37% осенью), стендап (5% против 4% осенью) и выставки (2% против 1% осенью), то осенью выше доля заказов в театры (25% против 20% летом), на спорт (11% против 3% летом) и ёлки (1% против 0,2% летом). Это закономерно: осенью начинается театральный и спортивный сезоны, а билеты на ёлки покупают заранее перед зимними праздниками."
   ]
  },
  {
   "cell_type": "code",
   "execution_count": 39,
   "id": "cf5029da-d646-43bd-891a-1fc60c5ebaea",
   "metadata": {},
   "outputs": [
    {
     "data": {
      "text/html": [
       "<div>\n",
       "<style scoped>\n",
       "    .dataframe tbody tr th:only-of-type {\n",
       "        vertical-align: middle;\n",
       "    }\n",
       "\n",
       "    .dataframe tbody tr th {\n",
       "        vertical-align: top;\n",
       "    }\n",
       "\n",
       "    .dataframe thead th {\n",
       "        text-align: right;\n",
       "    }\n",
       "</style>\n",
       "<table border=\"1\" class=\"dataframe\">\n",
       "  <thead>\n",
       "    <tr style=\"text-align: right;\">\n",
       "      <th></th>\n",
       "      <th>season</th>\n",
       "      <th>device_type</th>\n",
       "      <th>order_count</th>\n",
       "      <th>order_count_per_season</th>\n",
       "      <th>share</th>\n",
       "    </tr>\n",
       "  </thead>\n",
       "  <tbody>\n",
       "    <tr>\n",
       "      <th>0</th>\n",
       "      <td>лето</td>\n",
       "      <td>desktop</td>\n",
       "      <td>23103</td>\n",
       "      <td>119109</td>\n",
       "      <td>0.193965</td>\n",
       "    </tr>\n",
       "    <tr>\n",
       "      <th>1</th>\n",
       "      <td>лето</td>\n",
       "      <td>mobile</td>\n",
       "      <td>96222</td>\n",
       "      <td>119109</td>\n",
       "      <td>0.807848</td>\n",
       "    </tr>\n",
       "    <tr>\n",
       "      <th>2</th>\n",
       "      <td>осень</td>\n",
       "      <td>desktop</td>\n",
       "      <td>34303</td>\n",
       "      <td>168585</td>\n",
       "      <td>0.203476</td>\n",
       "    </tr>\n",
       "    <tr>\n",
       "      <th>3</th>\n",
       "      <td>осень</td>\n",
       "      <td>mobile</td>\n",
       "      <td>134304</td>\n",
       "      <td>168585</td>\n",
       "      <td>0.796655</td>\n",
       "    </tr>\n",
       "  </tbody>\n",
       "</table>\n",
       "</div>"
      ],
      "text/plain": [
       "  season device_type  order_count  order_count_per_season     share\n",
       "0   лето     desktop        23103                  119109  0.193965\n",
       "1   лето      mobile        96222                  119109  0.807848\n",
       "2  осень     desktop        34303                  168585  0.203476\n",
       "3  осень      mobile       134304                  168585  0.796655"
      ]
     },
     "execution_count": 39,
     "metadata": {},
     "output_type": "execute_result"
    }
   ],
   "source": [
    "# Группируем заказы по сезонам и типам устройства\n",
    "order_count_season_device = union_df_filtered.groupby(['season', 'device_type_canonical'])['order_id'].count().reset_index()\n",
    "order_count_season_device.columns = ['season', 'device_type', 'order_count']\n",
    "\n",
    "# Объединяем таблицы\n",
    "order_count_season_device = pd.merge(order_count_season_device, order_count_total, on='season')\n",
    "\n",
    "# Находим долю каждого события от общего количества событий в разрезе сезонов\n",
    "order_count_season_device['share'] = order_count_season_device['order_count'] / order_count_season_device['order_count_per_season']\n",
    "\n",
    "# Проверяем результат\n",
    "order_count_season_device"
   ]
  },
  {
   "cell_type": "code",
   "execution_count": 40,
   "id": "bd2e65f0-aab8-4780-a367-1fbf4f67a291",
   "metadata": {},
   "outputs": [
    {
     "data": {
      "image/png": "[encoded data removed]",
      "text/plain": [
       "<Figure size 700x300 with 1 Axes>"
      ]
     },
     "metadata": {},
     "output_type": "display_data"
    }
   ],
   "source": [
    "# Задаём размер графика\n",
    "plt.figure(figsize=(7, 3))\n",
    "\n",
    "# Строим столбчатую диаграмму\n",
    "sns.barplot(data=order_count_season_device, \n",
    "            x='device_type', \n",
    "            y='share',\n",
    "            hue = 'season'\n",
    "           )\n",
    "\n",
    "# Настраиваем подписи\n",
    "plt.title('Распределение заказов по типам устройств летом и осенью')\n",
    "plt.xlabel('Типы устройств')\n",
    "plt.ylabel('Доля от общего количества событий')\n",
    "\n",
    "# Выводим график\n",
    "plt.show()"
   ]
  },
  {
   "cell_type": "markdown",
   "id": "d5340151-bca9-4f59-aa7f-933cd67614d9",
   "metadata": {},
   "source": [
    "Соотношение заказов по типам устройств остаётся стабильным при смене сезонов — чаще всего пользователи делают заказы с мобильных (81% летом и 80% осенью)."
   ]
  },
  {
   "cell_type": "code",
   "execution_count": 41,
   "id": "98b7a0b4-1c88-40bd-ace1-630703b333ec",
   "metadata": {},
   "outputs": [
    {
     "data": {
      "text/html": [
       "<div>\n",
       "<style scoped>\n",
       "    .dataframe tbody tr th:only-of-type {\n",
       "        vertical-align: middle;\n",
       "    }\n",
       "\n",
       "    .dataframe tbody tr th {\n",
       "        vertical-align: top;\n",
       "    }\n",
       "\n",
       "    .dataframe thead th {\n",
       "        text-align: right;\n",
       "    }\n",
       "</style>\n",
       "<table border=\"1\" class=\"dataframe\">\n",
       "  <thead>\n",
       "    <tr style=\"text-align: right;\">\n",
       "      <th></th>\n",
       "      <th>season</th>\n",
       "      <th>age_limit</th>\n",
       "      <th>order_count</th>\n",
       "      <th>order_count_per_season</th>\n",
       "      <th>share</th>\n",
       "    </tr>\n",
       "  </thead>\n",
       "  <tbody>\n",
       "    <tr>\n",
       "      <th>0</th>\n",
       "      <td>лето</td>\n",
       "      <td>0</td>\n",
       "      <td>21404</td>\n",
       "      <td>119109</td>\n",
       "      <td>0.179701</td>\n",
       "    </tr>\n",
       "    <tr>\n",
       "      <th>1</th>\n",
       "      <td>лето</td>\n",
       "      <td>6</td>\n",
       "      <td>21679</td>\n",
       "      <td>119109</td>\n",
       "      <td>0.182010</td>\n",
       "    </tr>\n",
       "    <tr>\n",
       "      <th>2</th>\n",
       "      <td>лето</td>\n",
       "      <td>12</td>\n",
       "      <td>24520</td>\n",
       "      <td>119109</td>\n",
       "      <td>0.205862</td>\n",
       "    </tr>\n",
       "    <tr>\n",
       "      <th>3</th>\n",
       "      <td>лето</td>\n",
       "      <td>16</td>\n",
       "      <td>33778</td>\n",
       "      <td>119109</td>\n",
       "      <td>0.283589</td>\n",
       "    </tr>\n",
       "    <tr>\n",
       "      <th>4</th>\n",
       "      <td>лето</td>\n",
       "      <td>18</td>\n",
       "      <td>17944</td>\n",
       "      <td>119109</td>\n",
       "      <td>0.150652</td>\n",
       "    </tr>\n",
       "    <tr>\n",
       "      <th>5</th>\n",
       "      <td>осень</td>\n",
       "      <td>0</td>\n",
       "      <td>39828</td>\n",
       "      <td>168585</td>\n",
       "      <td>0.236249</td>\n",
       "    </tr>\n",
       "    <tr>\n",
       "      <th>6</th>\n",
       "      <td>осень</td>\n",
       "      <td>6</td>\n",
       "      <td>29725</td>\n",
       "      <td>168585</td>\n",
       "      <td>0.176321</td>\n",
       "    </tr>\n",
       "    <tr>\n",
       "      <th>7</th>\n",
       "      <td>осень</td>\n",
       "      <td>12</td>\n",
       "      <td>37233</td>\n",
       "      <td>168585</td>\n",
       "      <td>0.220856</td>\n",
       "    </tr>\n",
       "    <tr>\n",
       "      <th>8</th>\n",
       "      <td>осень</td>\n",
       "      <td>16</td>\n",
       "      <td>44218</td>\n",
       "      <td>168585</td>\n",
       "      <td>0.262289</td>\n",
       "    </tr>\n",
       "    <tr>\n",
       "      <th>9</th>\n",
       "      <td>осень</td>\n",
       "      <td>18</td>\n",
       "      <td>17603</td>\n",
       "      <td>168585</td>\n",
       "      <td>0.104416</td>\n",
       "    </tr>\n",
       "  </tbody>\n",
       "</table>\n",
       "</div>"
      ],
      "text/plain": [
       "  season  age_limit  order_count  order_count_per_season     share\n",
       "0   лето          0        21404                  119109  0.179701\n",
       "1   лето          6        21679                  119109  0.182010\n",
       "2   лето         12        24520                  119109  0.205862\n",
       "3   лето         16        33778                  119109  0.283589\n",
       "4   лето         18        17944                  119109  0.150652\n",
       "5  осень          0        39828                  168585  0.236249\n",
       "6  осень          6        29725                  168585  0.176321\n",
       "7  осень         12        37233                  168585  0.220856\n",
       "8  осень         16        44218                  168585  0.262289\n",
       "9  осень         18        17603                  168585  0.104416"
      ]
     },
     "execution_count": 41,
     "metadata": {},
     "output_type": "execute_result"
    }
   ],
   "source": [
    "# Группируем заказы по сезонам и возрастному рейтингу\n",
    "order_count_season_age = union_df_filtered.groupby(['season', 'age_limit'])['order_id'].count().reset_index()\n",
    "order_count_season_age.columns = ['season', 'age_limit', 'order_count']\n",
    "\n",
    "# Объединяем таблицы\n",
    "order_count_season_age = pd.merge(order_count_season_age, order_count_total, on='season')\n",
    "\n",
    "# Находим долю каждого события от общего количества событий в разрезе сезонов\n",
    "order_count_season_age['share'] = order_count_season_age['order_count'] / order_count_season_age['order_count_per_season']\n",
    "\n",
    "# Проверяем результат\n",
    "order_count_season_age"
   ]
  },
  {
   "cell_type": "code",
   "execution_count": 42,
   "id": "9e5b69e9-4e0b-488d-b4c8-2a2376e3656f",
   "metadata": {},
   "outputs": [
    {
     "data": {
      "image/png": "[encoded data removed]",
      "text/plain": [
       "<Figure size 700x300 with 1 Axes>"
      ]
     },
     "metadata": {},
     "output_type": "display_data"
    }
   ],
   "source": [
    "# Задаём размер графика\n",
    "plt.figure(figsize=(7, 3))\n",
    "\n",
    "# Строим столбчатую диаграмму\n",
    "sns.barplot(data=order_count_season_age, \n",
    "            x='age_limit', \n",
    "            y='share',\n",
    "            hue = 'season'\n",
    "           )\n",
    "\n",
    "# Настраиваем подписи\n",
    "plt.title('Распределение заказов по возрастному рейтингу летом и осенью')\n",
    "plt.xlabel('Возрастной рейтинг')\n",
    "plt.ylabel('Доля от общего количества событий')\n",
    "\n",
    "# Выводим график\n",
    "plt.show()"
   ]
  },
  {
   "cell_type": "markdown",
   "id": "0a2ca52b-6f21-4581-b66e-2f9c9fae7023",
   "metadata": {},
   "source": [
    "График показывает, что летом пользователи чаще покупают билеты на взрослые мероприятия 16+ (28% против 26% осенью) и 18+ (15% против 10% осенью). Спрос на мероприятия 6+ остаётся стабильным (примерно 18%). Осенью растёт доля мероприятий 0+ (24% против 18% летом) и 12+ (22% против 21% летом), что может отражать рост популярности семейных и детских мероприятий перед праздниками.\n",
    "\n",
    "Теперь изучим изменение выручки с продажи одного билета в зависимости от типа мероприятия летом и осенью."
   ]
  },
  {
   "cell_type": "code",
   "execution_count": 43,
   "id": "bea6ed0c-281c-43de-95fd-93e6822a347f",
   "metadata": {},
   "outputs": [
    {
     "data": {
      "text/html": [
       "<div>\n",
       "<style scoped>\n",
       "    .dataframe tbody tr th:only-of-type {\n",
       "        vertical-align: middle;\n",
       "    }\n",
       "\n",
       "    .dataframe tbody tr th {\n",
       "        vertical-align: top;\n",
       "    }\n",
       "\n",
       "    .dataframe thead th {\n",
       "        text-align: right;\n",
       "    }\n",
       "</style>\n",
       "<table border=\"1\" class=\"dataframe\">\n",
       "  <thead>\n",
       "    <tr style=\"text-align: right;\">\n",
       "      <th></th>\n",
       "      <th>event_type</th>\n",
       "      <th>one_ticket_revenue_summer</th>\n",
       "      <th>one_ticket_revenue_fall</th>\n",
       "      <th>change_fall_summer</th>\n",
       "    </tr>\n",
       "  </thead>\n",
       "  <tbody>\n",
       "    <tr>\n",
       "      <th>0</th>\n",
       "      <td>выставки</td>\n",
       "      <td>86.416198</td>\n",
       "      <td>90.603610</td>\n",
       "      <td>4.845634</td>\n",
       "    </tr>\n",
       "    <tr>\n",
       "      <th>1</th>\n",
       "      <td>другое</td>\n",
       "      <td>77.433968</td>\n",
       "      <td>76.115334</td>\n",
       "      <td>-1.702914</td>\n",
       "    </tr>\n",
       "    <tr>\n",
       "      <th>2</th>\n",
       "      <td>концерты</td>\n",
       "      <td>304.717077</td>\n",
       "      <td>268.084074</td>\n",
       "      <td>-12.021972</td>\n",
       "    </tr>\n",
       "    <tr>\n",
       "      <th>3</th>\n",
       "      <td>спорт</td>\n",
       "      <td>50.761831</td>\n",
       "      <td>49.969733</td>\n",
       "      <td>-1.560421</td>\n",
       "    </tr>\n",
       "    <tr>\n",
       "      <th>4</th>\n",
       "      <td>стендап</td>\n",
       "      <td>218.518107</td>\n",
       "      <td>231.124973</td>\n",
       "      <td>5.769255</td>\n",
       "    </tr>\n",
       "    <tr>\n",
       "      <th>5</th>\n",
       "      <td>театр</td>\n",
       "      <td>214.126333</td>\n",
       "      <td>175.969508</td>\n",
       "      <td>-17.819772</td>\n",
       "    </tr>\n",
       "    <tr>\n",
       "      <th>6</th>\n",
       "      <td>ёлки</td>\n",
       "      <td>271.436176</td>\n",
       "      <td>229.585589</td>\n",
       "      <td>-15.418205</td>\n",
       "    </tr>\n",
       "  </tbody>\n",
       "</table>\n",
       "</div>"
      ],
      "text/plain": [
       "  event_type  one_ticket_revenue_summer  one_ticket_revenue_fall  \\\n",
       "0   выставки                  86.416198                90.603610   \n",
       "1     другое                  77.433968                76.115334   \n",
       "2   концерты                 304.717077               268.084074   \n",
       "3      спорт                  50.761831                49.969733   \n",
       "4    стендап                 218.518107               231.124973   \n",
       "5      театр                 214.126333               175.969508   \n",
       "6       ёлки                 271.436176               229.585589   \n",
       "\n",
       "   change_fall_summer  \n",
       "0            4.845634  \n",
       "1           -1.702914  \n",
       "2          -12.021972  \n",
       "3           -1.560421  \n",
       "4            5.769255  \n",
       "5          -17.819772  \n",
       "6          -15.418205  "
      ]
     },
     "execution_count": 43,
     "metadata": {},
     "output_type": "execute_result"
    }
   ],
   "source": [
    "# Находим среднюю выручку с билета для каждого типа мероприятия летом\n",
    "summer_revenue = union_df_filtered[union_df_filtered['season'] == 'лето'].groupby('event_type_main')['one_ticket_revenue_rub'].mean().reset_index()\n",
    "summer_revenue.columns = ['event_type', 'one_ticket_revenue_summer']\n",
    "\n",
    "# Находим среднюю выручку с билета для каждого типа мероприятия осенью\n",
    "fall_revenue = union_df_filtered[union_df_filtered['season'] == 'осень'].groupby('event_type_main')['one_ticket_revenue_rub'].mean().reset_index()\n",
    "fall_revenue.columns = ['event_type', 'one_ticket_revenue_fall']\n",
    "\n",
    "# Объединяем таблицы\n",
    "summer_fall_revenue = pd.merge(summer_revenue, fall_revenue, on='event_type')\n",
    "\n",
    "# Находим относительное изменение\n",
    "summer_fall_revenue['change_fall_summer'] = (\n",
    "    (summer_fall_revenue['one_ticket_revenue_fall'] - \n",
    "     summer_fall_revenue['one_ticket_revenue_summer']) * 100 / \n",
    "     summer_fall_revenue['one_ticket_revenue_summer']\n",
    ")\n",
    "\n",
    "# Проверяем результат\n",
    "summer_fall_revenue"
   ]
  },
  {
   "cell_type": "code",
   "execution_count": 44,
   "id": "c420dae0-be24-453b-9f95-451974219bd9",
   "metadata": {},
   "outputs": [
    {
     "data": {
      "image/png": "[encoded data removed]",
      "text/plain": [
       "<Figure size 1000x600 with 1 Axes>"
      ]
     },
     "metadata": {},
     "output_type": "display_data"
    }
   ],
   "source": [
    "# Задаём размер графика\n",
    "plt.figure(figsize=(10, 6))\n",
    "\n",
    "# Строим столбчатую диаграмму\n",
    "sns.barplot(data=summer_fall_revenue, \n",
    "            x='event_type', \n",
    "            y='change_fall_summer'\n",
    "           )\n",
    "\n",
    "# Добавляем горизонтальную линию\n",
    "plt.axhline(0, color='black', linestyle='--')\n",
    "\n",
    "# Настраиваем подписи\n",
    "plt.title('Относительное изменение выручки с билета осенью по сравнению с летом по типам мероприятий')\n",
    "plt.xlabel('Типы мероприятий')\n",
    "plt.ylabel('Относительное изменение выручки с билета, %')\n",
    "\n",
    "# Выводим график\n",
    "plt.show()"
   ]
  },
  {
   "cell_type": "markdown",
   "id": "bee088ad-e4c4-4efe-91cd-eb5c6bcc1947",
   "metadata": {},
   "source": [
    "Осенью средняя выручка сервиса с одного билета снизилась для большинства типов мероприятий. \n",
    "\n",
    "Наибольшее падение отмечается у театра (−18%), ёлок (−15%) и концертов (−12%). Падение по театру может быть связано с тем, что осенью появляется больше событий, в том числе более дешёвых, где комиссия сервиса ниже. В случае с концертами летние крупные фестивали завершились, а осенью остаются более камерные события с меньшей выручкой на билет. С ёлками снижение можно объяснить ранними продажами новогодних мероприятий с более низкой стоимостью билета.\n",
    "\n",
    "У спортивных мероприятий выручка с билета снизилась незначительно (−2%), что связано с большим количеством осенних событий, включая дешёвые.\n",
    "\n",
    "В то же время для выставок (+5%) и стендапа (+6%) осенью наблюдается рост средней выручки с билета, вероятно, за счёт более дорогих или популярных событий.\n",
    "\n",
    "---\n",
    "\n",
    "Таким образом, после анализа пользовательских предпочтений летом и осенью можно сделать следующие выводы:\n",
    "\n",
    "**1. Рост числа заказов:** с июня по октябрь количество заказов стабильно увеличивается с 34 тыс. до почти 100 тыс., с наибольшим ростом в начале осени.\n",
    "\n",
    "**2. Распределение заказов по типам мероприятий:** Концерты и театр остаются ключевыми категориями в структуре заказов оба сезона. Однако летом выше доля концертов (43% от всех заказов против 37% осенью), стендапа (5% против 4% осенью) и выставок (2% против 1% осенью). Осенью выше доля заказов на театральные постановки (25% против 20% летом), спорт (11% против 3% летом) и ёлки (1% против 0,2% летом). Это отражает сезонность: лето — период концертов и фестивалей на открытом воздухе, осень — театральный и спортивный сезоны, а билеты на ёлки скорее всего покупают заранее перед наступлением новогодних \n",
    "праздников.\n",
    "\n",
    "**3. Распределение заказов по типам устройств:** распределение заказов по устройствам остаётся стабильным: около 80% заказов через мобильные устройства.\n",
    "\n",
    "**4. Распределение заказов по возрастным категориям:** летом пользователи чаще покупают билеты на взрослые мероприятия (16+ — 28% от всех заказов против 26% осенью, 18+ — 15% против 10% осенью). При этом осенью растёт доля детских и подростковых мероприятий: 0+ — 24% от всех заказов осенью против 18% летом, 12+ — 22% осенью против 21% летом, что может отражать смену предпочтений в строну семейных событий и подготовку к праздникам.\n",
    "\n",
    "**5. Выручка сервиса с одного билета:** осенью снизилась для большинства типов мероприятий: театр (−18%), ёлки (−15%), концерты (−12%), спорт (−2%). Исключения — выставки (+5%) и стендап (+6%). Снижение может быть связано с большим количеством осенних театральных и спортивных событий (в том числе недорогих), завершением летних крупных фестивалей, ранними продажами билетов на новогодние мероприятия со скидками.\n",
    "\n",
    "**Главное:** осень приносит рост общего числа заказов и смещение интереса пользователей к театру, спорту, ёлкам и семейным мероприятиям, при этом средняя выручка с билета снижается для большинства типов мероприятий, за исключением выставок и стендапа.\n",
    "\n",
    "---"
   ]
  },
  {
   "cell_type": "markdown",
   "id": "1006f349-9862-41a4-9d79-99141f5637c1",
   "metadata": {},
   "source": [
    "### Осенняя активность пользователей"
   ]
  },
  {
   "cell_type": "markdown",
   "id": "80e72085-1d8e-45d9-8135-e352d205b328",
   "metadata": {},
   "source": [
    "Изучим активность пользователей осенью 2024 года. \n",
    "\n",
    "Для начала проанализируем динамику изменений по дням для:\n",
    "- общего числа заказов;\n",
    "- количества активных пользователей DAU;\n",
    "- среднего числа заказов на одного пользователя;\n",
    "- средней стоимости одного билета."
   ]
  },
  {
   "cell_type": "code",
   "execution_count": 45,
   "id": "ee123d7f-7315-45a9-b6d1-da100627e23d",
   "metadata": {},
   "outputs": [
    {
     "data": {
      "text/html": [
       "<div>\n",
       "<style scoped>\n",
       "    .dataframe tbody tr th:only-of-type {\n",
       "        vertical-align: middle;\n",
       "    }\n",
       "\n",
       "    .dataframe tbody tr th {\n",
       "        vertical-align: top;\n",
       "    }\n",
       "\n",
       "    .dataframe thead th {\n",
       "        text-align: right;\n",
       "    }\n",
       "</style>\n",
       "<table border=\"1\" class=\"dataframe\">\n",
       "  <thead>\n",
       "    <tr style=\"text-align: right;\">\n",
       "      <th></th>\n",
       "      <th>date</th>\n",
       "      <th>order_count</th>\n",
       "      <th>revenue_per_day</th>\n",
       "      <th>tickets_per_day</th>\n",
       "      <th>active_users</th>\n",
       "      <th>orders_per_user</th>\n",
       "      <th>revenue_per_ticket</th>\n",
       "    </tr>\n",
       "  </thead>\n",
       "  <tbody>\n",
       "    <tr>\n",
       "      <th>0</th>\n",
       "      <td>2024-09-01</td>\n",
       "      <td>1327</td>\n",
       "      <td>733571.82</td>\n",
       "      <td>3718</td>\n",
       "      <td>564</td>\n",
       "      <td>2.352837</td>\n",
       "      <td>197.302803</td>\n",
       "    </tr>\n",
       "    <tr>\n",
       "      <th>1</th>\n",
       "      <td>2024-09-02</td>\n",
       "      <td>1380</td>\n",
       "      <td>777955.47</td>\n",
       "      <td>3704</td>\n",
       "      <td>574</td>\n",
       "      <td>2.404181</td>\n",
       "      <td>210.031174</td>\n",
       "    </tr>\n",
       "    <tr>\n",
       "      <th>2</th>\n",
       "      <td>2024-09-03</td>\n",
       "      <td>5111</td>\n",
       "      <td>1229176.90</td>\n",
       "      <td>15290</td>\n",
       "      <td>778</td>\n",
       "      <td>6.569409</td>\n",
       "      <td>80.390903</td>\n",
       "    </tr>\n",
       "    <tr>\n",
       "      <th>3</th>\n",
       "      <td>2024-09-04</td>\n",
       "      <td>1773</td>\n",
       "      <td>950093.25</td>\n",
       "      <td>4802</td>\n",
       "      <td>685</td>\n",
       "      <td>2.588321</td>\n",
       "      <td>197.853655</td>\n",
       "    </tr>\n",
       "    <tr>\n",
       "      <th>4</th>\n",
       "      <td>2024-09-05</td>\n",
       "      <td>1944</td>\n",
       "      <td>1106281.15</td>\n",
       "      <td>5214</td>\n",
       "      <td>739</td>\n",
       "      <td>2.630582</td>\n",
       "      <td>212.175134</td>\n",
       "    </tr>\n",
       "  </tbody>\n",
       "</table>\n",
       "</div>"
      ],
      "text/plain": [
       "        date  order_count  revenue_per_day  tickets_per_day  active_users  \\\n",
       "0 2024-09-01         1327        733571.82             3718           564   \n",
       "1 2024-09-02         1380        777955.47             3704           574   \n",
       "2 2024-09-03         5111       1229176.90            15290           778   \n",
       "3 2024-09-04         1773        950093.25             4802           685   \n",
       "4 2024-09-05         1944       1106281.15             5214           739   \n",
       "\n",
       "   orders_per_user  revenue_per_ticket  \n",
       "0         2.352837          197.302803  \n",
       "1         2.404181          210.031174  \n",
       "2         6.569409           80.390903  \n",
       "3         2.588321          197.853655  \n",
       "4         2.630582          212.175134  "
      ]
     },
     "execution_count": 45,
     "metadata": {},
     "output_type": "execute_result"
    }
   ],
   "source": [
    "# Формируем сводную таблицу\n",
    "pivot_table_day = pd.pivot_table(\n",
    "    data=union_df_filtered[union_df_filtered['season'] == 'осень'],\n",
    "    index='created_dt_msk',\n",
    "    aggfunc={\n",
    "        'order_id': 'count',\n",
    "        'user_id': 'nunique',\n",
    "        'revenue': 'sum',\n",
    "        'tickets_count': 'sum'\n",
    "    }\n",
    ").reset_index()\n",
    "\n",
    "# Переименовываем столбцы\n",
    "pivot_table_day = pivot_table_day.rename(columns={\n",
    "    'created_dt_msk': 'date',\n",
    "    'order_id': 'order_count',\n",
    "    'user_id': 'active_users',\n",
    "    'revenue': 'revenue_per_day',\n",
    "    'tickets_count': 'tickets_per_day'\n",
    "    \n",
    "})\n",
    "\n",
    "# Считаем остальные показатели\n",
    "pivot_table_day['orders_per_user'] = pivot_table_day['order_count'] / pivot_table_day['active_users']\n",
    "pivot_table_day['revenue_per_ticket'] = pivot_table_day['revenue_per_day'] / pivot_table_day['tickets_per_day']\n",
    "\n",
    "# Проверяем результат\n",
    "pivot_table_day.head()"
   ]
  },
  {
   "cell_type": "code",
   "execution_count": 46,
   "id": "d4912fdc-22ef-4475-9bff-5807ff0aa0c6",
   "metadata": {},
   "outputs": [
    {
     "data": {
      "image/png": "[encoded data removed]",
      "text/plain": [
       "<Figure size 1000x800 with 4 Axes>"
      ]
     },
     "metadata": {},
     "output_type": "display_data"
    }
   ],
   "source": [
    "# Создаём фигуру и оси — 4 строки, 1 столбец, общая ось X\n",
    "fig, axes = plt.subplots(4, 1, figsize=(10, 8), sharex=True)\n",
    "\n",
    "# График 1 — количество заказов\n",
    "sns.lineplot(data=pivot_table_day, x='date', y='order_count', ax=axes[0])\n",
    "axes[0].set_title('Количество заказов')\n",
    "\n",
    "# График 2 — активные пользователи\n",
    "sns.lineplot(data=pivot_table_day, x='date', y='active_users', ax=axes[1])\n",
    "axes[1].set_title('Количество активных пользователей')\n",
    "\n",
    "# График 3 — среднее число заказов на пользователя\n",
    "sns.lineplot(data=pivot_table_day, x='date', y='orders_per_user', ax=axes[2])\n",
    "axes[2].set_title('Среднее число заказов на пользователя')\n",
    "\n",
    "# График 4 — средняя выручка с билета\n",
    "sns.lineplot(data=pivot_table_day, x='date', y='revenue_per_ticket', ax=axes[3])\n",
    "axes[3].set_title('Средняя выручка с билета')\n",
    "\n",
    "# Настраиваем внешний вид\n",
    "plt.tight_layout()\n",
    "\n",
    "# Настраиваем подписи\n",
    "plt.xlabel('Дата')\n",
    "for ax in axes:\n",
    "    ax.set_ylabel('')\n",
    "\n",
    "# Выводим на экран\n",
    "plt.show()"
   ]
  },
  {
   "cell_type": "markdown",
   "id": "45cad503-3119-4891-9e24-3f80d98f9026",
   "metadata": {},
   "source": [
    "По графикам можно сделать следующие выводы:\n",
    "\n",
    "1. Количество заказов с начала сентября по конец октября постепенно растёт. \n",
    "2. Количество активных пользователей также увеличивается во времени, тренд повторяет рост заказов.\n",
    "3. Среднее число заказов на пользователя в среднем держится в районе 2–3 заказов, но иногда наблюдаются резкие всплески.\n",
    "4. Средняя выручка с билета в среднем держится в районе 190 рублей, но иногда наблюдаются резкие падения.\n",
    "5. В начале сентября и октября наблюдается всплеск количества заказов (общего и на пользователя), который совпадает со снижением средней выручки с билета. Вероятно, в эти дни проходили акции, и люди больше покупали по сниженной цене. В результате выручка с билета падает при росте количества заказов.\n",
    "\n",
    "Теперь изучим активность пользователей в зависимости от дня недели."
   ]
  },
  {
   "cell_type": "code",
   "execution_count": 47,
   "id": "1a4c98a8-d07c-4d73-b77a-c9c042fa97e1",
   "metadata": {},
   "outputs": [
    {
     "data": {
      "text/html": [
       "<div>\n",
       "<style scoped>\n",
       "    .dataframe tbody tr th:only-of-type {\n",
       "        vertical-align: middle;\n",
       "    }\n",
       "\n",
       "    .dataframe tbody tr th {\n",
       "        vertical-align: top;\n",
       "    }\n",
       "\n",
       "    .dataframe thead th {\n",
       "        text-align: right;\n",
       "    }\n",
       "</style>\n",
       "<table border=\"1\" class=\"dataframe\">\n",
       "  <thead>\n",
       "    <tr style=\"text-align: right;\">\n",
       "      <th></th>\n",
       "      <th>weekday</th>\n",
       "      <th>order_count_dow</th>\n",
       "      <th>active_users_dow</th>\n",
       "      <th>revenue_per_dow</th>\n",
       "      <th>tickets_per_dow</th>\n",
       "      <th>avg_order_count</th>\n",
       "      <th>avg_active_users</th>\n",
       "      <th>avg_orders_per_user</th>\n",
       "      <th>avg_revenue_per_ticket</th>\n",
       "    </tr>\n",
       "  </thead>\n",
       "  <tbody>\n",
       "    <tr>\n",
       "      <th>0</th>\n",
       "      <td>1</td>\n",
       "      <td>21517</td>\n",
       "      <td>7685</td>\n",
       "      <td>10962009.47</td>\n",
       "      <td>58592</td>\n",
       "      <td>2390.777778</td>\n",
       "      <td>853.888889</td>\n",
       "      <td>2.799870</td>\n",
       "      <td>187.090549</td>\n",
       "    </tr>\n",
       "    <tr>\n",
       "      <th>1</th>\n",
       "      <td>2</td>\n",
       "      <td>31480</td>\n",
       "      <td>8408</td>\n",
       "      <td>12495538.02</td>\n",
       "      <td>89614</td>\n",
       "      <td>3497.777778</td>\n",
       "      <td>934.222222</td>\n",
       "      <td>3.744053</td>\n",
       "      <td>139.437343</td>\n",
       "    </tr>\n",
       "    <tr>\n",
       "      <th>2</th>\n",
       "      <td>3</td>\n",
       "      <td>22888</td>\n",
       "      <td>8309</td>\n",
       "      <td>11899692.59</td>\n",
       "      <td>61659</td>\n",
       "      <td>2543.111111</td>\n",
       "      <td>923.222222</td>\n",
       "      <td>2.754603</td>\n",
       "      <td>192.991982</td>\n",
       "    </tr>\n",
       "    <tr>\n",
       "      <th>3</th>\n",
       "      <td>4</td>\n",
       "      <td>27169</td>\n",
       "      <td>8659</td>\n",
       "      <td>13432718.88</td>\n",
       "      <td>72538</td>\n",
       "      <td>3018.777778</td>\n",
       "      <td>962.111111</td>\n",
       "      <td>3.137660</td>\n",
       "      <td>185.181820</td>\n",
       "    </tr>\n",
       "    <tr>\n",
       "      <th>4</th>\n",
       "      <td>5</td>\n",
       "      <td>24828</td>\n",
       "      <td>8181</td>\n",
       "      <td>13009098.20</td>\n",
       "      <td>68240</td>\n",
       "      <td>3103.500000</td>\n",
       "      <td>1022.625000</td>\n",
       "      <td>3.034837</td>\n",
       "      <td>190.637430</td>\n",
       "    </tr>\n",
       "    <tr>\n",
       "      <th>5</th>\n",
       "      <td>6</td>\n",
       "      <td>21336</td>\n",
       "      <td>7686</td>\n",
       "      <td>11546206.35</td>\n",
       "      <td>59272</td>\n",
       "      <td>2667.000000</td>\n",
       "      <td>960.750000</td>\n",
       "      <td>2.775956</td>\n",
       "      <td>194.800350</td>\n",
       "    </tr>\n",
       "    <tr>\n",
       "      <th>6</th>\n",
       "      <td>7</td>\n",
       "      <td>19389</td>\n",
       "      <td>7404</td>\n",
       "      <td>10703118.05</td>\n",
       "      <td>53140</td>\n",
       "      <td>2154.333333</td>\n",
       "      <td>822.666667</td>\n",
       "      <td>2.618720</td>\n",
       "      <td>201.413588</td>\n",
       "    </tr>\n",
       "  </tbody>\n",
       "</table>\n",
       "</div>"
      ],
      "text/plain": [
       "   weekday  order_count_dow  active_users_dow  revenue_per_dow  \\\n",
       "0        1            21517              7685      10962009.47   \n",
       "1        2            31480              8408      12495538.02   \n",
       "2        3            22888              8309      11899692.59   \n",
       "3        4            27169              8659      13432718.88   \n",
       "4        5            24828              8181      13009098.20   \n",
       "5        6            21336              7686      11546206.35   \n",
       "6        7            19389              7404      10703118.05   \n",
       "\n",
       "   tickets_per_dow  avg_order_count  avg_active_users  avg_orders_per_user  \\\n",
       "0            58592      2390.777778        853.888889             2.799870   \n",
       "1            89614      3497.777778        934.222222             3.744053   \n",
       "2            61659      2543.111111        923.222222             2.754603   \n",
       "3            72538      3018.777778        962.111111             3.137660   \n",
       "4            68240      3103.500000       1022.625000             3.034837   \n",
       "5            59272      2667.000000        960.750000             2.775956   \n",
       "6            53140      2154.333333        822.666667             2.618720   \n",
       "\n",
       "   avg_revenue_per_ticket  \n",
       "0              187.090549  \n",
       "1              139.437343  \n",
       "2              192.991982  \n",
       "3              185.181820  \n",
       "4              190.637430  \n",
       "5              194.800350  \n",
       "6              201.413588  "
      ]
     },
     "execution_count": 47,
     "metadata": {},
     "output_type": "execute_result"
    }
   ],
   "source": [
    "# Добавляем в сводную таблицу столбец с днём недели, 1 — понедельник, 7 — воскресенье\n",
    "pivot_table_day['weekday'] = pivot_table_day['date'].dt.weekday + 1\n",
    "\n",
    "# Формируем сводную таблицу\n",
    "pivot_table_dow = pivot_table_day.groupby('weekday').agg(\n",
    "        order_count_dow=('order_count', 'sum'),\n",
    "        active_users_dow=('active_users', 'sum'),\n",
    "        revenue_per_dow=('revenue_per_day', 'sum'),\n",
    "        tickets_per_dow=('tickets_per_day', 'sum'),\n",
    "        avg_order_count=('order_count', 'mean'),\n",
    "        avg_active_users=('active_users', 'mean')\n",
    ").reset_index()\n",
    "\n",
    "# Считаем остальные показатели\n",
    "pivot_table_dow['avg_orders_per_user'] = pivot_table_dow['order_count_dow'] / pivot_table_dow['active_users_dow']\n",
    "pivot_table_dow['avg_revenue_per_ticket'] = pivot_table_dow['revenue_per_dow'] / pivot_table_dow['tickets_per_dow']\n",
    "\n",
    "# Проверяем результат\n",
    "pivot_table_dow"
   ]
  },
  {
   "cell_type": "code",
   "execution_count": 48,
   "id": "afdf55b3-5305-45da-a707-89cb6cc4d961",
   "metadata": {},
   "outputs": [
    {
     "data": {
      "image/png": "[encoded data removed]",
      "text/plain": [
       "<Figure size 1000x800 with 4 Axes>"
      ]
     },
     "metadata": {},
     "output_type": "display_data"
    }
   ],
   "source": [
    "# Создаём фигуру и оси\n",
    "fig, axes = plt.subplots(4, 1, figsize=(10, 8), sharex=True)\n",
    "\n",
    "# Сохраняем метрики\n",
    "metrics = [\n",
    "    ('avg_order_count', 'Среднее количество заказов'),\n",
    "    ('avg_active_users', 'Среднее количество активных пользователей'),\n",
    "    ('avg_orders_per_user', 'Среднее число заказов на пользователя'),\n",
    "    ('avg_revenue_per_ticket', 'Средняя выручка с билета')\n",
    "]\n",
    "\n",
    "# Строим графики\n",
    "for i, (metric, title) in enumerate(metrics):\n",
    "    sns.barplot(data=pivot_table_dow, x='weekday', y=metric, ax=axes[i])\n",
    "    axes[i].set_title(title)\n",
    "    \n",
    "    # Добавляем линии min и max\n",
    "    min_val = pivot_table_dow[metric].min()\n",
    "    max_val = pivot_table_dow[metric].max()\n",
    "    axes[i].axhline(min_val, color='red', linestyle='--', label='min')\n",
    "    axes[i].axhline(max_val, color='green', linestyle='--', label='max')\n",
    "\n",
    "    # Показываем легенду с min/max\n",
    "    axes[i].legend()  \n",
    "\n",
    "# Настраиваем внешний вид\n",
    "plt.tight_layout()\n",
    "\n",
    "# Настраиваем подписи\n",
    "plt.xlabel('День недели')\n",
    "for ax in axes:\n",
    "    ax.set_ylabel('')\n",
    "\n",
    "# Выводим на экран\n",
    "plt.show()"
   ]
  },
  {
   "cell_type": "markdown",
   "id": "aca2d9e4-87ff-406e-a407-c8343aa92654",
   "metadata": {},
   "source": [
    "Судя по графикам, можно сделать следующие наблюдения о динамике активности пользователей по дням недели:\n",
    "\n",
    "**1. Среднее количество заказов**\n",
    "- Наибольшее количество заказов приходится на вторник (ок. 3,5 тыс), четверг и пятницу (ок. 3 тыс).\n",
    "- Наименьшее — в воскресенье и понедельник (ок. 2 тыс).\n",
    "\n",
    "**2️. Среднее количество активных пользователей**\n",
    "- Наибольшее количество активных пользователей приходится на пятницу(более 1 тыс).\n",
    "- Наименьшее — в воскресенье (ок. 800) и понедельник (ок. 850).\n",
    "\n",
    "**3️. Среднее число заказов на пользователя**\n",
    "- Среднее количество заказов на одного пользователя выше всего во вторник (ок. 4).\n",
    "- В остальные дни показатель относительно стабилен (2-3 заказа).\n",
    "\n",
    "**4️. Средняя выручка с билета**\n",
    "- Наибольшая средняя выручка с билета — в выходные (195-200 руб) и среду (193 руб).\n",
    "- Наименьшая — во вторник (139 руб).\n",
    "\n",
    "---\n",
    "\n",
    "Таким образом, после анализа осенней активности пользователей можно сделать следующие выводы:\n",
    "\n",
    "**1. Динамика по дням:** \n",
    "- С начала осени и до конца октября наблюдается рост числа заказов (с 1,3 тыс. до почти 6 тыс.) и активных пользователей (от 600 до 1,3 тыс.). \n",
    "- Среднее число заказов на пользователя в среднем держится в районе 2–3 заказов, но иногда наблюдаются резкие всплески.\n",
    "- Средняя выручка с билета в среднем держится в районе 190 рублей, но иногда наблюдаются резкие падения.\n",
    "- Всплески среднего числа заказов на пользователя и падение средней выручки с билетов совпадают и, вероятно, связаны с акциями.\n",
    "\n",
    "**2. Недельная динамика:**\n",
    "   - Пик количества заказов приходится на вторник (ок. 3,5 тыс), а пик количества активных пользователей — на пятницу (ок. 1 тыс).\n",
    "   - При этом в будни средняя выручка с билета ниже, а к выходным этот показатель растёт и достигает 195-200 руб.\n",
    "   - Среднее число заказов на пользователя держится в районе 2-3 заказов, с небольшим ростом во вторник (до 4 заказов).\n",
    "   - Таким образом, во вторник и перед выходными наблюдается пик пользовательской активности — пользователи совершают больше покупок по выгодным ценам. В выходные и понедельник активность снижается, но растёт средняя выручка с билета, что может говорить о более дорогих и взвешенных покупках.\n",
    "\n",
    "---"
   ]
  },
  {
   "cell_type": "markdown",
   "id": "a9bf8337-adb0-4e88-8712-975451444759",
   "metadata": {},
   "source": [
    "### Топовые регионы и партнёры"
   ]
  },
  {
   "cell_type": "markdown",
   "id": "8bf7d2b4-0b12-4661-9802-96b064e236c2",
   "metadata": {},
   "source": [
    "Посмотрим на распределение событий по регионам и партнёрам осенью. Это позволит выделить ключевые категории, которые вносят наибольший вклад в выручку."
   ]
  },
  {
   "cell_type": "code",
   "execution_count": 49,
   "id": "c6b31019-c962-4b7f-bd01-ad73d1243387",
   "metadata": {},
   "outputs": [
    {
     "data": {
      "text/html": [
       "<div>\n",
       "<style scoped>\n",
       "    .dataframe tbody tr th:only-of-type {\n",
       "        vertical-align: middle;\n",
       "    }\n",
       "\n",
       "    .dataframe tbody tr th {\n",
       "        vertical-align: top;\n",
       "    }\n",
       "\n",
       "    .dataframe thead th {\n",
       "        text-align: right;\n",
       "    }\n",
       "</style>\n",
       "<table border=\"1\" class=\"dataframe\">\n",
       "  <thead>\n",
       "    <tr style=\"text-align: right;\">\n",
       "      <th></th>\n",
       "      <th>region_name</th>\n",
       "      <th>event_count</th>\n",
       "      <th>order_count</th>\n",
       "      <th>events_share</th>\n",
       "      <th>cum_events_share</th>\n",
       "      <th>orders_share</th>\n",
       "      <th>cum_orders_share</th>\n",
       "    </tr>\n",
       "  </thead>\n",
       "  <tbody>\n",
       "    <tr>\n",
       "      <th>0</th>\n",
       "      <td>каменевский регион</td>\n",
       "      <td>3910</td>\n",
       "      <td>46684</td>\n",
       "      <td>0.25</td>\n",
       "      <td>0.25</td>\n",
       "      <td>0.28</td>\n",
       "      <td>0.28</td>\n",
       "    </tr>\n",
       "    <tr>\n",
       "      <th>1</th>\n",
       "      <td>североярская область</td>\n",
       "      <td>2613</td>\n",
       "      <td>20718</td>\n",
       "      <td>0.16</td>\n",
       "      <td>0.41</td>\n",
       "      <td>0.12</td>\n",
       "      <td>0.40</td>\n",
       "    </tr>\n",
       "    <tr>\n",
       "      <th>2</th>\n",
       "      <td>широковская область</td>\n",
       "      <td>803</td>\n",
       "      <td>8715</td>\n",
       "      <td>0.05</td>\n",
       "      <td>0.46</td>\n",
       "      <td>0.05</td>\n",
       "      <td>0.45</td>\n",
       "    </tr>\n",
       "    <tr>\n",
       "      <th>3</th>\n",
       "      <td>светополянский округ</td>\n",
       "      <td>764</td>\n",
       "      <td>4779</td>\n",
       "      <td>0.05</td>\n",
       "      <td>0.51</td>\n",
       "      <td>0.03</td>\n",
       "      <td>0.48</td>\n",
       "    </tr>\n",
       "    <tr>\n",
       "      <th>4</th>\n",
       "      <td>речиновская область</td>\n",
       "      <td>529</td>\n",
       "      <td>3565</td>\n",
       "      <td>0.03</td>\n",
       "      <td>0.54</td>\n",
       "      <td>0.02</td>\n",
       "      <td>0.50</td>\n",
       "    </tr>\n",
       "    <tr>\n",
       "      <th>5</th>\n",
       "      <td>серебринская область</td>\n",
       "      <td>456</td>\n",
       "      <td>4467</td>\n",
       "      <td>0.03</td>\n",
       "      <td>0.57</td>\n",
       "      <td>0.03</td>\n",
       "      <td>0.53</td>\n",
       "    </tr>\n",
       "    <tr>\n",
       "      <th>6</th>\n",
       "      <td>яблоневская область</td>\n",
       "      <td>432</td>\n",
       "      <td>4199</td>\n",
       "      <td>0.03</td>\n",
       "      <td>0.60</td>\n",
       "      <td>0.02</td>\n",
       "      <td>0.55</td>\n",
       "    </tr>\n",
       "    <tr>\n",
       "      <th>7</th>\n",
       "      <td>тепляковская область</td>\n",
       "      <td>419</td>\n",
       "      <td>2485</td>\n",
       "      <td>0.03</td>\n",
       "      <td>0.63</td>\n",
       "      <td>0.01</td>\n",
       "      <td>0.56</td>\n",
       "    </tr>\n",
       "    <tr>\n",
       "      <th>8</th>\n",
       "      <td>горицветская область</td>\n",
       "      <td>406</td>\n",
       "      <td>3230</td>\n",
       "      <td>0.03</td>\n",
       "      <td>0.66</td>\n",
       "      <td>0.02</td>\n",
       "      <td>0.58</td>\n",
       "    </tr>\n",
       "    <tr>\n",
       "      <th>9</th>\n",
       "      <td>солнечноземская область</td>\n",
       "      <td>403</td>\n",
       "      <td>4228</td>\n",
       "      <td>0.03</td>\n",
       "      <td>0.69</td>\n",
       "      <td>0.03</td>\n",
       "      <td>0.61</td>\n",
       "    </tr>\n",
       "  </tbody>\n",
       "</table>\n",
       "</div>"
      ],
      "text/plain": [
       "               region_name  event_count  order_count  events_share  \\\n",
       "0       каменевский регион         3910        46684          0.25   \n",
       "1     североярская область         2613        20718          0.16   \n",
       "2      широковская область          803         8715          0.05   \n",
       "3     светополянский округ          764         4779          0.05   \n",
       "4      речиновская область          529         3565          0.03   \n",
       "5     серебринская область          456         4467          0.03   \n",
       "6      яблоневская область          432         4199          0.03   \n",
       "7     тепляковская область          419         2485          0.03   \n",
       "8     горицветская область          406         3230          0.03   \n",
       "9  солнечноземская область          403         4228          0.03   \n",
       "\n",
       "   cum_events_share  orders_share  cum_orders_share  \n",
       "0              0.25          0.28              0.28  \n",
       "1              0.41          0.12              0.40  \n",
       "2              0.46          0.05              0.45  \n",
       "3              0.51          0.03              0.48  \n",
       "4              0.54          0.02              0.50  \n",
       "5              0.57          0.03              0.53  \n",
       "6              0.60          0.02              0.55  \n",
       "7              0.63          0.01              0.56  \n",
       "8              0.66          0.02              0.58  \n",
       "9              0.69          0.03              0.61  "
      ]
     },
     "execution_count": 49,
     "metadata": {},
     "output_type": "execute_result"
    }
   ],
   "source": [
    "# Для каждого региона считаем уникальное количество мероприятий и общее число заказов\n",
    "region_distribution = union_df_filtered[union_df_filtered['season'] == 'осень'].groupby('region_name').agg(\n",
    "    event_count=('event_id', 'nunique'),\n",
    "    order_count=('order_id', 'count')\n",
    ").sort_values(by='event_count', ascending=False).reset_index()\n",
    "\n",
    "# Добавляем дополнительные столбы\n",
    "region_distribution['events_share'] = round(region_distribution['event_count'] / region_distribution['event_count'].sum(), 2)\n",
    "region_distribution['cum_events_share'] = region_distribution['events_share'].cumsum()\n",
    "region_distribution['orders_share'] = round(region_distribution['order_count'] / region_distribution['order_count'].sum(), 2)\n",
    "region_distribution['cum_orders_share'] = region_distribution['orders_share'].cumsum()\n",
    "\n",
    "# Выводим топ-10 регионов по количеству событий\n",
    "region_distribution.head(10)"
   ]
  },
  {
   "cell_type": "code",
   "execution_count": 50,
   "id": "045e801d-4244-490c-8e35-fed3c7816fde",
   "metadata": {},
   "outputs": [
    {
     "name": "stdout",
     "output_type": "stream",
     "text": [
      "В 81% регионов проходит не более 1% от всех мероприятий\n"
     ]
    }
   ],
   "source": [
    "# Посчитаем процент регионов, в которых проходит не более 1% мероприятий\n",
    "outsider_regions = round(region_distribution[region_distribution['events_share'] <= 0.01].shape[0] * 100 / region_distribution.shape[0])\n",
    "print(f'В {outsider_regions}% регионов проходит не более 1% от всех мероприятий')"
   ]
  },
  {
   "cell_type": "markdown",
   "id": "769ddf7a-52ea-473a-89c4-ef06506c4c3e",
   "metadata": {},
   "source": [
    "Четыре крупнейших региона обеспечивают около 50% всех мероприятий и заказов:\n",
    "\n",
    "- Каменевский регион — 25% событий и 28% заказов;\n",
    "- Североярская область — 16% событий и 12% заказов;\n",
    "- Широковская область — 5% событий и 5% заказов;\n",
    "- Светополянский округ — 5% событий и 3% заказов.\n",
    "\n",
    "Активность пользователей и организаторов заметно сконцентрирована: значительная часть событий и покупок приходится на ограниченное число регионов. Остальные территории вносят относительно небольшой вклад — в 81% регионов проводится не более 1 % всех мероприятий. Это говорит о выраженной неравномерности распределения предложения и спроса: ключевые регионы формируют основной пул событий и заказов, тогда как другие остаются на периферии."
   ]
  },
  {
   "cell_type": "code",
   "execution_count": 51,
   "id": "c1e88262-0ad8-4661-b82b-5db621ccf5cc",
   "metadata": {},
   "outputs": [
    {
     "data": {
      "text/html": [
       "<div>\n",
       "<style scoped>\n",
       "    .dataframe tbody tr th:only-of-type {\n",
       "        vertical-align: middle;\n",
       "    }\n",
       "\n",
       "    .dataframe tbody tr th {\n",
       "        vertical-align: top;\n",
       "    }\n",
       "\n",
       "    .dataframe thead th {\n",
       "        text-align: right;\n",
       "    }\n",
       "</style>\n",
       "<table border=\"1\" class=\"dataframe\">\n",
       "  <thead>\n",
       "    <tr style=\"text-align: right;\">\n",
       "      <th></th>\n",
       "      <th>service_name</th>\n",
       "      <th>event_count</th>\n",
       "      <th>order_count</th>\n",
       "      <th>revenue_total</th>\n",
       "      <th>events_share</th>\n",
       "      <th>orders_share</th>\n",
       "      <th>revenue_share</th>\n",
       "      <th>cum_revenue_share</th>\n",
       "    </tr>\n",
       "  </thead>\n",
       "  <tbody>\n",
       "    <tr>\n",
       "      <th>0</th>\n",
       "      <td>билеты без проблем</td>\n",
       "      <td>2847</td>\n",
       "      <td>32383</td>\n",
       "      <td>13538511.75</td>\n",
       "      <td>0.16</td>\n",
       "      <td>0.19</td>\n",
       "      <td>0.16</td>\n",
       "      <td>0.16</td>\n",
       "    </tr>\n",
       "    <tr>\n",
       "      <th>1</th>\n",
       "      <td>мой билет</td>\n",
       "      <td>1006</td>\n",
       "      <td>19419</td>\n",
       "      <td>11636878.48</td>\n",
       "      <td>0.06</td>\n",
       "      <td>0.12</td>\n",
       "      <td>0.14</td>\n",
       "      <td>0.30</td>\n",
       "    </tr>\n",
       "    <tr>\n",
       "      <th>2</th>\n",
       "      <td>облачко</td>\n",
       "      <td>1409</td>\n",
       "      <td>15478</td>\n",
       "      <td>10611051.69</td>\n",
       "      <td>0.08</td>\n",
       "      <td>0.09</td>\n",
       "      <td>0.13</td>\n",
       "      <td>0.43</td>\n",
       "    </tr>\n",
       "    <tr>\n",
       "      <th>3</th>\n",
       "      <td>лови билет!</td>\n",
       "      <td>3616</td>\n",
       "      <td>25792</td>\n",
       "      <td>10376793.48</td>\n",
       "      <td>0.21</td>\n",
       "      <td>0.15</td>\n",
       "      <td>0.12</td>\n",
       "      <td>0.55</td>\n",
       "    </tr>\n",
       "    <tr>\n",
       "      <th>4</th>\n",
       "      <td>весь в билетах</td>\n",
       "      <td>599</td>\n",
       "      <td>9406</td>\n",
       "      <td>9325570.66</td>\n",
       "      <td>0.03</td>\n",
       "      <td>0.06</td>\n",
       "      <td>0.11</td>\n",
       "      <td>0.66</td>\n",
       "    </tr>\n",
       "    <tr>\n",
       "      <th>5</th>\n",
       "      <td>билеты в руки</td>\n",
       "      <td>2471</td>\n",
       "      <td>25734</td>\n",
       "      <td>7613965.50</td>\n",
       "      <td>0.14</td>\n",
       "      <td>0.15</td>\n",
       "      <td>0.09</td>\n",
       "      <td>0.75</td>\n",
       "    </tr>\n",
       "    <tr>\n",
       "      <th>6</th>\n",
       "      <td>край билетов</td>\n",
       "      <td>193</td>\n",
       "      <td>2997</td>\n",
       "      <td>3018372.54</td>\n",
       "      <td>0.01</td>\n",
       "      <td>0.02</td>\n",
       "      <td>0.04</td>\n",
       "      <td>0.79</td>\n",
       "    </tr>\n",
       "    <tr>\n",
       "      <th>7</th>\n",
       "      <td>яблоко</td>\n",
       "      <td>537</td>\n",
       "      <td>3473</td>\n",
       "      <td>2763332.31</td>\n",
       "      <td>0.03</td>\n",
       "      <td>0.02</td>\n",
       "      <td>0.03</td>\n",
       "      <td>0.82</td>\n",
       "    </tr>\n",
       "    <tr>\n",
       "      <th>8</th>\n",
       "      <td>прачечная</td>\n",
       "      <td>728</td>\n",
       "      <td>5798</td>\n",
       "      <td>2548310.47</td>\n",
       "      <td>0.04</td>\n",
       "      <td>0.03</td>\n",
       "      <td>0.03</td>\n",
       "      <td>0.85</td>\n",
       "    </tr>\n",
       "    <tr>\n",
       "      <th>9</th>\n",
       "      <td>тебе билет!</td>\n",
       "      <td>859</td>\n",
       "      <td>3749</td>\n",
       "      <td>2137900.34</td>\n",
       "      <td>0.05</td>\n",
       "      <td>0.02</td>\n",
       "      <td>0.03</td>\n",
       "      <td>0.88</td>\n",
       "    </tr>\n",
       "  </tbody>\n",
       "</table>\n",
       "</div>"
      ],
      "text/plain": [
       "         service_name  event_count  order_count  revenue_total  events_share  \\\n",
       "0  билеты без проблем         2847        32383    13538511.75          0.16   \n",
       "1           мой билет         1006        19419    11636878.48          0.06   \n",
       "2             облачко         1409        15478    10611051.69          0.08   \n",
       "3         лови билет!         3616        25792    10376793.48          0.21   \n",
       "4      весь в билетах          599         9406     9325570.66          0.03   \n",
       "5       билеты в руки         2471        25734     7613965.50          0.14   \n",
       "6        край билетов          193         2997     3018372.54          0.01   \n",
       "7              яблоко          537         3473     2763332.31          0.03   \n",
       "8           прачечная          728         5798     2548310.47          0.04   \n",
       "9         тебе билет!          859         3749     2137900.34          0.05   \n",
       "\n",
       "   orders_share  revenue_share  cum_revenue_share  \n",
       "0          0.19           0.16               0.16  \n",
       "1          0.12           0.14               0.30  \n",
       "2          0.09           0.13               0.43  \n",
       "3          0.15           0.12               0.55  \n",
       "4          0.06           0.11               0.66  \n",
       "5          0.15           0.09               0.75  \n",
       "6          0.02           0.04               0.79  \n",
       "7          0.02           0.03               0.82  \n",
       "8          0.03           0.03               0.85  \n",
       "9          0.02           0.03               0.88  "
      ]
     },
     "execution_count": 51,
     "metadata": {},
     "output_type": "execute_result"
    }
   ],
   "source": [
    "# Для каждого билетного партнёра считаем уникальное количество мероприятий и общее число заказов\n",
    "service_distribution = union_df_filtered[union_df_filtered['season'] == 'осень'].groupby('service_name').agg(\n",
    "    event_count=('event_id', 'nunique'),\n",
    "    order_count=('order_id', 'count'),\n",
    "    revenue_total=('revenue', 'sum')\n",
    ").sort_values(by='revenue_total', ascending=False).reset_index()\n",
    "\n",
    "# Добавляем дополнительные столбы\n",
    "service_distribution['events_share'] = round(service_distribution['event_count'] / service_distribution['event_count'].sum(), 2)\n",
    "service_distribution['orders_share'] = round(service_distribution['order_count'] / service_distribution['order_count'].sum(), 2)\n",
    "service_distribution['revenue_share'] = round(service_distribution['revenue_total'] / service_distribution['revenue_total'].sum(), 2)\n",
    "service_distribution['cum_revenue_share'] = service_distribution['revenue_share'].cumsum()\n",
    "\n",
    "\n",
    "# Выводим топ-10 билетных партнёров по выручке\n",
    "service_distribution.head(10)"
   ]
  },
  {
   "cell_type": "code",
   "execution_count": 52,
   "id": "aa8170cc-5e78-4d8b-8dce-25ea756beca5",
   "metadata": {},
   "outputs": [
    {
     "name": "stdout",
     "output_type": "stream",
     "text": [
      "66% билетных операторов приносят не более 1% выручки\n"
     ]
    }
   ],
   "source": [
    "# Посчитаем процент билетных партнёров, которые приносят не более 1% выручки\n",
    "outsider_services = round(service_distribution[service_distribution['revenue_share'] <= 0.01].shape[0] * 100 / service_distribution.shape[0])\n",
    "print(f'{outsider_services}% билетных операторов приносят не более 1% выручки')"
   ]
  },
  {
   "cell_type": "markdown",
   "id": "f7715469-1a16-42be-bb3a-fa89a8aad6d1",
   "metadata": {},
   "source": [
    "Десять крупнейших сервисов обеспечивают около 90% всей выручки, при этом лидирующие позиции занимают несколько компаний:\n",
    "\n",
    "- «Билеты без проблем» — абсолютный лидер по выручке (16% от общей суммы) при 16% событий и 19% заказов.\n",
    "- «Мой билет» — на втором месте с 14% выручки и относительно скромной долей событий (6%) и заказов (12%).\n",
    "- «Облачко» занимает 3 место, формируя 13% общей выручки при 8% событий и 9% заказовот общего числа.\n",
    "\n",
    "Уже после первых шести билетных партнёров доля накопленной выручки достигает 75% от общей суммы, а 66% билетных операторов приносят не более 1% выручки. Рынок билетных сервисов выглядит высококонцентрированным: несколько крупных игроков контролируют большую часть оборота.\n",
    "\n",
    "---\n",
    "\n",
    "Таким образом, осенью активность на рынке мероприятий и билетов остаётся сильно сконцентрированной — как по регионам, так и по билетным операторам.\n",
    "\n",
    "**По регионам**\n",
    "\n",
    "Примерно половина всех событий и заказов пришлась на четыре региона:\n",
    "\n",
    "- Каменевский регион — 25% событий и 28% заказов;\n",
    "- Североярская область — 16% событий и 12% заказов;\n",
    "- Широковская область — 5% событий и 5% заказов;\n",
    "- Светополянский округ — 5% событий и 3% заказов.\n",
    "\n",
    "Это означает, что половина активности сосредоточена всего в нескольких регионах, тогда как большинство регионов остаются слабо вовлечёнными: в 81% из них проходит не более 1% всех мероприятий. Ключевые регионы формируют основной поток событий и заказов, а периферийные вносят минимальный вклад.\n",
    "\n",
    "**По билетным операторам**\n",
    "\n",
    "Рынок продаж билетов демонстрирует схожую картину. Десять крупнейших партнёров обеспечивают около 90% выручки, а 66% операторов приносят не более 1%.\n",
    "Лидеры осеннего сезона:\n",
    "\n",
    "- «Билеты без проблем» — 16% выручки, 16% событий и 19% заказов;\n",
    "- «Мой билет» — 14% выручки при 6% событий и 12% заказов;\n",
    "- «Облачко» — 13% выручки, 8% событий и 9% заказов.\n",
    "\n",
    "Уже первые шесть операторов формируют три четверти выручки. Значительная часть оборота сосредоточена у нескольких крупных игроков.\n",
    "\n",
    "---"
   ]
  },
  {
   "cell_type": "markdown",
   "id": "565eebf9-8d5d-4660-a497-ef6303530a96",
   "metadata": {},
   "source": [
    "### Промежуточные выводы по исследовательскому анализу"
   ]
  },
  {
   "cell_type": "markdown",
   "id": "0bd505d1-6ca6-47cc-835e-db9b6bb3bfea",
   "metadata": {},
   "source": [
    "Исследовательский анализ данных позволил выявить следующие закономерности:\n",
    "\n",
    "**1. Динамика спроса и пользовательские предпочтения**\n",
    "\n",
    "С июня по октябрь количество заказов выросло почти в три раза — с 34 до 100 тыс. При этом структура заказов сместилась: \n",
    "\n",
    "- и летом, и осенью основную долю в струкруре заказов продолжают занимать концерты и театр — они остаются ключевыми типами мероприятий для сервиса;\n",
    "- летом выше доля концертов (43% от всех заказов против 37% осенью) и стендапа (5% заказов против 4% осенью);\n",
    "- осенью выше доля заказов в театр (25% заказов против 20% летом), на спорт (11% заказов против 3% летом) и ёлки (1% заказов против 0,2% летом).\n",
    "\n",
    "Осенью наблюдается смещение в сторону семейных событий: категории 0+ и 12+ осенью суммарно занимают 46% заказов против 39% летом.\n",
    "\n",
    "Несмотря на рост общего числа заказов, средняя выручка с билета осенью снизилась для большинства категорий (театр −18%, концерты −12%, ёлки -15%, спорт −2%), что может быть связано с большим предложением недорогих событий, переходом к более камерным концертам после сезона летних фестивалей и ранними скидками на новогодние мероприятия. В то же время для выставок и стендапа осенью наблюдается рост средней выручки с билета (+5% и +6% соответственно).\n",
    "\n",
    "**2. Активность пользователей осенью**\n",
    "\n",
    "С начала сентября до конца октября наблюдается устойчивый рост числа заказов (с 1,3 тыс. до почти 6 тыс.) и количества активных пользователей (от 600 до 1,3 тыс.). Среднее число заказов на пользователя в среднем держатся на уровне 2–3, средняя выручка с билета — на уровне ок. 190 ₽. Резкие всплески заказов на пользователя и падения выручки с билета обычно совпадают и, вероятно, связаны с акциями.\n",
    "\n",
    "По дням недели прослеживается чёткий ритм:\n",
    "\n",
    "- пик активности приходится на вторник, четверг и пятницу (3–3,5 тыс. заказов в день),\n",
    "- в выходные и понедельник активность снижается, но средняя выручка с билета возрастает до ~200 руб.\n",
    "\n",
    "Таким образом, будни — время массовых покупок по доступным ценам, а выходные — период более дорогих и обдуманных заказов.\n",
    "\n",
    "**3. Регионы и партнёры**\n",
    "\n",
    "Активность осенью остаётся сильно сконцентрированной географически. Примерно половина всех событий и заказов пришлась на четыре региона: \n",
    "- Каменевский (25% событий, 28% заказов),\n",
    "- Североярскую область (16% событий и 12% заказов),\n",
    "- Широковскую область (5% событий и 5% заказов),\n",
    "- Светополянский округ (5% событий и 3% заказов).\n",
    "\n",
    "При этом в 81% регионов проходит не более 1% всех мероприятий, что указывает на сильную неравномерность распределения.\n",
    "\n",
    "Похожая картина наблюдается и среди билетных операторов. 10 крупнейших партнёров обеспечивают около 90% выручки. Лидеры сезона:\n",
    "- «Билеты без проблем» (16% выручки),\n",
    "- «Мой билет» (14% выручки),\n",
    "- «Облачко» (13% выручки).\n",
    "\n",
    "При этом 66% операторов приносят менее 1% оборота, что говорит о высокой концентрации рынка.\n",
    "\n",
    "**Главное:**\n",
    "\n",
    "1. Осень — пик пользовательской активности и смена культурного фокуса: в структуре заказов растет доля театра, спорта и семейных мероприятий.\n",
    "2. Несмотря на рост количества заказов, осенью средняя выручка с билета снизилась для большинства типов мероприятий.\n",
    "3. Активность пользователей циклична: больше покупок в будни (особенно вторник и перед выходными), дороже — в выходные.\n",
    "5. Рынок остаётся высококонцентрированным: несколько регионов и билетных операторов формируют основную долю событий, заказов и выручки. \n",
    "\n",
    "---"
   ]
  },
  {
   "cell_type": "markdown",
   "id": "ac7ebda7-640e-4671-90ff-d28b9cdb02fa",
   "metadata": {},
   "source": [
    "## Статистический анализ данных"
   ]
  },
  {
   "cell_type": "markdown",
   "id": "cf202caa-babd-43d3-9027-ce32a4a8a556",
   "metadata": {},
   "source": [
    "Проверим две гипотезы, которые предполагают большую активность пользователей мобильных устройств в осенний период:\n",
    "- Среднее количество заказов на одного пользователя мобильного приложения выше по сравнению с пользователями стационарных устройств.\n",
    "- Среднее время между заказами пользователей мобильных приложений выше по сравнению с пользователями стационарных устройств."
   ]
  },
  {
   "cell_type": "markdown",
   "id": "bc46c56b-a803-46dc-8fd5-5126420792d3",
   "metadata": {},
   "source": [
    "### Сравнение групп"
   ]
  },
  {
   "cell_type": "markdown",
   "id": "41e1a313-e074-44af-bd29-aa6137798ef6",
   "metadata": {},
   "source": [
    "Сравним размеры групп, их статистики и распределение."
   ]
  },
  {
   "cell_type": "code",
   "execution_count": 53,
   "id": "fed7e323-ac54-4ae8-9579-987223cdeccf",
   "metadata": {},
   "outputs": [
    {
     "data": {
      "text/plain": [
       "device_type_canonical\n",
       "desktop     4869\n",
       "mobile     14190\n",
       "Name: user_id, dtype: int64"
      ]
     },
     "execution_count": 53,
     "metadata": {},
     "output_type": "execute_result"
    }
   ],
   "source": [
    "# Сравниваем размеры групп\n",
    "union_df_filtered[union_df_filtered['season'] == 'осень'].groupby('device_type_canonical')['user_id'].nunique()"
   ]
  },
  {
   "cell_type": "markdown",
   "id": "466afada-e870-4655-b8c4-742e183b18b1",
   "metadata": {},
   "source": [
    "Размеры групп разные: пользователей, делающих заказы с мобильных устройств более чем в 3 раза больше, чем пользователей ПК. Неравный размер групп сам по себе не запрещает сравнение средних, и многие статистические тесты устойчивы к разной выборке. Но будем иметь в виду, что из-за бОльшего количества записей мы можем получить более стабильную оценку среднего среди пользователей мобильных, а среди ПК оценка может быть менее надёжной, а дисперсия — выше.\n",
    "\n",
    "Для дальнейшего анализа агрегируем данные по пользователям и устройствам. Для каждого пользователя рассчитаем количество заказов и среднее время между ними. Усреднение по пользователю позволит избежать ситуации, когда активные пользователи с большим числом заказов оказывают непропорционально сильное влияние на результат. "
   ]
  },
  {
   "cell_type": "code",
   "execution_count": 54,
   "id": "9d8b0206-85a1-4ac5-b6f2-7a2e10c5a854",
   "metadata": {},
   "outputs": [
    {
     "data": {
      "text/html": [
       "<div>\n",
       "<style scoped>\n",
       "    .dataframe tbody tr th:only-of-type {\n",
       "        vertical-align: middle;\n",
       "    }\n",
       "\n",
       "    .dataframe tbody tr th {\n",
       "        vertical-align: top;\n",
       "    }\n",
       "\n",
       "    .dataframe thead th {\n",
       "        text-align: right;\n",
       "    }\n",
       "</style>\n",
       "<table border=\"1\" class=\"dataframe\">\n",
       "  <thead>\n",
       "    <tr style=\"text-align: right;\">\n",
       "      <th></th>\n",
       "      <th>device_type_canonical</th>\n",
       "      <th>user_id</th>\n",
       "      <th>order_count</th>\n",
       "      <th>avg_days_since_prev</th>\n",
       "    </tr>\n",
       "  </thead>\n",
       "  <tbody>\n",
       "    <tr>\n",
       "      <th>0</th>\n",
       "      <td>desktop</td>\n",
       "      <td>0028d17a676f8c8</td>\n",
       "      <td>1</td>\n",
       "      <td>NaN</td>\n",
       "    </tr>\n",
       "    <tr>\n",
       "      <th>1</th>\n",
       "      <td>desktop</td>\n",
       "      <td>002b75ca606ba46</td>\n",
       "      <td>3</td>\n",
       "      <td>4.666667</td>\n",
       "    </tr>\n",
       "    <tr>\n",
       "      <th>2</th>\n",
       "      <td>desktop</td>\n",
       "      <td>002ec276eee9b0b</td>\n",
       "      <td>1</td>\n",
       "      <td>10.000000</td>\n",
       "    </tr>\n",
       "    <tr>\n",
       "      <th>3</th>\n",
       "      <td>desktop</td>\n",
       "      <td>0040e12d70fae81</td>\n",
       "      <td>1</td>\n",
       "      <td>39.000000</td>\n",
       "    </tr>\n",
       "    <tr>\n",
       "      <th>4</th>\n",
       "      <td>desktop</td>\n",
       "      <td>005fefeabf1e678</td>\n",
       "      <td>3</td>\n",
       "      <td>0.000000</td>\n",
       "    </tr>\n",
       "  </tbody>\n",
       "</table>\n",
       "</div>"
      ],
      "text/plain": [
       "  device_type_canonical          user_id  order_count  avg_days_since_prev\n",
       "0               desktop  0028d17a676f8c8            1                  NaN\n",
       "1               desktop  002b75ca606ba46            3             4.666667\n",
       "2               desktop  002ec276eee9b0b            1            10.000000\n",
       "3               desktop  0040e12d70fae81            1            39.000000\n",
       "4               desktop  005fefeabf1e678            3             0.000000"
      ]
     },
     "execution_count": 54,
     "metadata": {},
     "output_type": "execute_result"
    }
   ],
   "source": [
    "# Агрегируем данные по пользователям и устройствам\n",
    "device_user_agg_df = (\n",
    "    union_df_filtered[union_df_filtered['season'] == 'осень']\n",
    "    .groupby(['device_type_canonical', 'user_id'])\n",
    "    .agg(\n",
    "        order_count=('order_id', 'count'),\n",
    "        avg_days_since_prev=('days_since_prev', 'mean')\n",
    "    )\n",
    "    .reset_index()\n",
    ")\n",
    "\n",
    "\n",
    "# Проверяем результат\n",
    "device_user_agg_df.head()"
   ]
  },
  {
   "cell_type": "markdown",
   "id": "6414ca07-c849-458b-abd9-f6cbef03c7fd",
   "metadata": {},
   "source": [
    "В третьей строке мы видим количество дней с предыдущего заказа 10, не смотря на то, что заказ всего один. Такое может быть, если пользователь совершал предыдущие заказы с другого типа устройства. Таким образом, с ПК данный пользователь купил всего раз, а предыдущие покупки делал с мобильного устройства. Посчитаем процент таких пользователей — которые покупали с разных девайсов."
   ]
  },
  {
   "cell_type": "code",
   "execution_count": 55,
   "id": "1f7584b1-3e09-4bbe-918a-268152b0e960",
   "metadata": {},
   "outputs": [
    {
     "data": {
      "text/plain": [
       "np.float64(20.55791005123664)"
      ]
     },
     "execution_count": 55,
     "metadata": {},
     "output_type": "execute_result"
    }
   ],
   "source": [
    "(device_user_agg_df['user_id'].value_counts() > 1).mean() * 100"
   ]
  },
  {
   "cell_type": "markdown",
   "id": "b0cf7d7b-de17-4e7d-8923-540fd8c57766",
   "metadata": {},
   "source": [
    "Около 21% пользователей совершали покупки с разных устройств. Поскольку промежутки между заказами учитываются независимо от устройства, это может слегка размывать различия между группами. Тем не менее, для анализа мы будем рассматривать группы как есть, чтобы показать общее поведение пользователей."
   ]
  },
  {
   "cell_type": "code",
   "execution_count": 56,
   "id": "abe74ba3-c2cb-42f2-888b-41d5ba739cbd",
   "metadata": {},
   "outputs": [
    {
     "data": {
      "text/html": [
       "<div>\n",
       "<style scoped>\n",
       "    .dataframe tbody tr th:only-of-type {\n",
       "        vertical-align: middle;\n",
       "    }\n",
       "\n",
       "    .dataframe tbody tr th {\n",
       "        vertical-align: top;\n",
       "    }\n",
       "\n",
       "    .dataframe thead th {\n",
       "        text-align: right;\n",
       "    }\n",
       "</style>\n",
       "<table border=\"1\" class=\"dataframe\">\n",
       "  <thead>\n",
       "    <tr style=\"text-align: right;\">\n",
       "      <th></th>\n",
       "      <th>count</th>\n",
       "      <th>mean</th>\n",
       "      <th>std</th>\n",
       "      <th>min</th>\n",
       "      <th>25%</th>\n",
       "      <th>50%</th>\n",
       "      <th>75%</th>\n",
       "      <th>max</th>\n",
       "    </tr>\n",
       "    <tr>\n",
       "      <th>device_type_canonical</th>\n",
       "      <th></th>\n",
       "      <th></th>\n",
       "      <th></th>\n",
       "      <th></th>\n",
       "      <th></th>\n",
       "      <th></th>\n",
       "      <th></th>\n",
       "      <th></th>\n",
       "    </tr>\n",
       "  </thead>\n",
       "  <tbody>\n",
       "    <tr>\n",
       "      <th>desktop</th>\n",
       "      <td>4869.0</td>\n",
       "      <td>7.045184</td>\n",
       "      <td>35.987490</td>\n",
       "      <td>1.0</td>\n",
       "      <td>1.0</td>\n",
       "      <td>2.0</td>\n",
       "      <td>4.0</td>\n",
       "      <td>1502.0</td>\n",
       "    </tr>\n",
       "    <tr>\n",
       "      <th>mobile</th>\n",
       "      <td>14190.0</td>\n",
       "      <td>9.464693</td>\n",
       "      <td>68.055516</td>\n",
       "      <td>1.0</td>\n",
       "      <td>1.0</td>\n",
       "      <td>2.0</td>\n",
       "      <td>5.0</td>\n",
       "      <td>4336.0</td>\n",
       "    </tr>\n",
       "  </tbody>\n",
       "</table>\n",
       "</div>"
      ],
      "text/plain": [
       "                         count      mean        std  min  25%  50%  75%  \\\n",
       "device_type_canonical                                                     \n",
       "desktop                 4869.0  7.045184  35.987490  1.0  1.0  2.0  4.0   \n",
       "mobile                 14190.0  9.464693  68.055516  1.0  1.0  2.0  5.0   \n",
       "\n",
       "                          max  \n",
       "device_type_canonical          \n",
       "desktop                1502.0  \n",
       "mobile                 4336.0  "
      ]
     },
     "execution_count": 56,
     "metadata": {},
     "output_type": "execute_result"
    }
   ],
   "source": [
    "# Сравниваем статистики групп по количеству заказов на пользователя\n",
    "device_user_agg_df.groupby('device_type_canonical')['order_count'].describe()"
   ]
  },
  {
   "cell_type": "markdown",
   "id": "d284eae9-8884-4976-8eac-5d5e65dbd70f",
   "metadata": {},
   "source": [
    "В обоих случаях средние значения (7 заказов на пользователя в случае со стационарными устройствами и 9 в случае с мобильными) значительно превышают медианные (2 заказа в обоих случаях), а максимальные значения составляют тысячи заказов на одного пользователя. Это может укзывать на наличие выбросов. Разброс по количеству заказов значительно выше у мобильных (std = 68 против 36). Проверим распределения на графике."
   ]
  },
  {
   "cell_type": "code",
   "execution_count": 57,
   "id": "9688c99c-bde2-430b-98ea-f4769bd443a8",
   "metadata": {},
   "outputs": [
    {
     "data": {
      "image/png": "[encoded data removed]",
      "text/plain": [
       "<Figure size 1000x600 with 1 Axes>"
      ]
     },
     "metadata": {},
     "output_type": "display_data"
    }
   ],
   "source": [
    "# Создаём контейнер графика matplotlib и задаём его размер\n",
    "plt.figure(figsize=(10, 6))\n",
    "\n",
    "# Строим график распределения\n",
    "sns.histplot(data=device_user_agg_df, \n",
    "             x='order_count', \n",
    "             hue='device_type_canonical', \n",
    "             bins=100,\n",
    "             stat='density',\n",
    "             common_norm=False\n",
    ")\n",
    "\n",
    "# Настраиваем подписи\n",
    "plt.title('Распределение количества заказов на пользователя — mobile vs desktop')\n",
    "plt.xlabel('Количество заказов')\n",
    "plt.ylabel('Плотность распределения')\n",
    "\n",
    "# Выводим график\n",
    "plt.show()"
   ]
  },
  {
   "cell_type": "markdown",
   "id": "3d59a2b7-e5d8-489e-ba94-81e7b38e9f0d",
   "metadata": {},
   "source": [
    "Судя по графику и статистикам, распределение часов чтения сильно скошено вправо: большинство пользователей делают небольшое количество заказов, а есть редкие экстремальные значения (до 1502 зказов со стационарных и 4336 с мобильных устройств). Обычный t-тест предполагает нормальность распределения, поэтому в данном случае логичнее использовать тест Манна-Уитни, хоть он и не сравнивает средние напрямую. Он устойчив к выбросам и скошенности."
   ]
  },
  {
   "cell_type": "code",
   "execution_count": 58,
   "id": "21b0a5e3-fc29-45d9-b07a-c255a21991b9",
   "metadata": {},
   "outputs": [
    {
     "data": {
      "text/html": [
       "<div>\n",
       "<style scoped>\n",
       "    .dataframe tbody tr th:only-of-type {\n",
       "        vertical-align: middle;\n",
       "    }\n",
       "\n",
       "    .dataframe tbody tr th {\n",
       "        vertical-align: top;\n",
       "    }\n",
       "\n",
       "    .dataframe thead th {\n",
       "        text-align: right;\n",
       "    }\n",
       "</style>\n",
       "<table border=\"1\" class=\"dataframe\">\n",
       "  <thead>\n",
       "    <tr style=\"text-align: right;\">\n",
       "      <th></th>\n",
       "      <th>count</th>\n",
       "      <th>mean</th>\n",
       "      <th>std</th>\n",
       "      <th>min</th>\n",
       "      <th>25%</th>\n",
       "      <th>50%</th>\n",
       "      <th>75%</th>\n",
       "      <th>max</th>\n",
       "    </tr>\n",
       "    <tr>\n",
       "      <th>device_type_canonical</th>\n",
       "      <th></th>\n",
       "      <th></th>\n",
       "      <th></th>\n",
       "      <th></th>\n",
       "      <th></th>\n",
       "      <th></th>\n",
       "      <th></th>\n",
       "      <th></th>\n",
       "    </tr>\n",
       "  </thead>\n",
       "  <tbody>\n",
       "    <tr>\n",
       "      <th>desktop</th>\n",
       "      <td>4034.0</td>\n",
       "      <td>14.860467</td>\n",
       "      <td>24.200068</td>\n",
       "      <td>0.0</td>\n",
       "      <td>1.000000</td>\n",
       "      <td>4.5</td>\n",
       "      <td>17.0</td>\n",
       "      <td>146.0</td>\n",
       "    </tr>\n",
       "    <tr>\n",
       "      <th>mobile</th>\n",
       "      <td>10193.0</td>\n",
       "      <td>20.632370</td>\n",
       "      <td>27.374302</td>\n",
       "      <td>0.0</td>\n",
       "      <td>2.052632</td>\n",
       "      <td>9.5</td>\n",
       "      <td>28.0</td>\n",
       "      <td>148.0</td>\n",
       "    </tr>\n",
       "  </tbody>\n",
       "</table>\n",
       "</div>"
      ],
      "text/plain": [
       "                         count       mean        std  min       25%  50%  \\\n",
       "device_type_canonical                                                      \n",
       "desktop                 4034.0  14.860467  24.200068  0.0  1.000000  4.5   \n",
       "mobile                 10193.0  20.632370  27.374302  0.0  2.052632  9.5   \n",
       "\n",
       "                        75%    max  \n",
       "device_type_canonical               \n",
       "desktop                17.0  146.0  \n",
       "mobile                 28.0  148.0  "
      ]
     },
     "execution_count": 58,
     "metadata": {},
     "output_type": "execute_result"
    }
   ],
   "source": [
    "# Сравниваем статистики групп по времени между заказами\n",
    "device_user_agg_df.groupby('device_type_canonical')['avg_days_since_prev'].describe()"
   ]
  },
  {
   "cell_type": "markdown",
   "id": "1b260af7-1318-4bbb-ac48-b991fd0d8570",
   "metadata": {},
   "source": [
    "В обоих случаях средние значения (15 дней между заказами в случае стационарных устройств и 21 в случае мобильных) значительно превышают медианные (ок. 5 дней между заказами в случае стационарных устройств и ок. 10 в случае с мобильных), а максимальные значения составляют около 150 дней для обоих типов. Это может укзывать на наличие выбросов. Разброс по количеству дней различается не сильно (std = 24 и 27). Проверим распределения на графике."
   ]
  },
  {
   "cell_type": "code",
   "execution_count": 59,
   "id": "41dfeda1-9e0b-48e6-8aae-732ebc548938",
   "metadata": {},
   "outputs": [
    {
     "data": {
      "image/png": "[encoded data removed]",
      "text/plain": [
       "<Figure size 1000x600 with 1 Axes>"
      ]
     },
     "metadata": {},
     "output_type": "display_data"
    }
   ],
   "source": [
    "# Создаём контейнер графика matplotlib и задаём его размер\n",
    "plt.figure(figsize=(10, 6))\n",
    "\n",
    "# Строим график распределения\n",
    "sns.histplot(data=device_user_agg_df, \n",
    "             x='avg_days_since_prev', \n",
    "             hue='device_type_canonical', \n",
    "             bins=100,\n",
    "             stat='density',\n",
    "             common_norm=False\n",
    ")\n",
    "\n",
    "# Настраиваем подписи\n",
    "plt.title('Распределение времени между заказами — mobile vs desktop')\n",
    "plt.xlabel('Время между заказами')\n",
    "plt.ylabel('Плотность распределения')\n",
    "\n",
    "# Выводим график\n",
    "plt.show()"
   ]
  },
  {
   "cell_type": "markdown",
   "id": "c00c9d88-c6fc-4816-8078-30175584d4a3",
   "metadata": {},
   "source": [
    "Судя по графику и статистикам, распределение времени между заказами сильно скошено вправо: между заказами пользователей мобильных устройств проходит обычно 0-28 дней, в случае с ПК — 0-17 дней, при этом есть экстремальные значения до 146-148 дней. Обычный t-тест предполагает нормальность распределения, поэтому в данном случае логичнее использовать тест Манна-Уитни, хоть он и не сравнивает средние напрямую. Он устойчив к выбросам и скошенности.\n",
    "\n",
    "---"
   ]
  },
  {
   "cell_type": "markdown",
   "id": "5662dd47-38a3-40bf-8f63-1ad9db6cb802",
   "metadata": {},
   "source": [
    "### Проверка гипотез"
   ]
  },
  {
   "cell_type": "markdown",
   "id": "9260b47c-7b18-4d9a-a38f-1a4b0903c7b4",
   "metadata": {},
   "source": [
    "Сформулируем нулевую и альтернативную гипотезы о количестве заказов на пользователя разных типов устройств:\n",
    "\n",
    "- Нулевая гипотеза H₀: Среднее количество заказов на одного пользователя мобильного приложения не превышает среднее количество заказов на одного пользователя стационарного устройства.\n",
    "- Альтернативная гипотеза H₁: Среднее количество заказов на одного пользователя мобильного приложения выше по сравнению с пользователями стационарных устройств."
   ]
  },
  {
   "cell_type": "code",
   "execution_count": 60,
   "id": "ae376a69-e4b0-43c6-ad81-eb207f4e4fce",
   "metadata": {},
   "outputs": [
    {
     "name": "stdout",
     "output_type": "stream",
     "text": [
      "pvalue=3.4035315919495096e-07 < 0.05\n",
      "Отвергаем нулевую гипотезу\n"
     ]
    }
   ],
   "source": [
    "# Проводим тест Манна-Уитни\n",
    "\n",
    "alpha = 0.05\n",
    "\n",
    "mw_test = st.mannwhitneyu(\n",
    "    device_user_agg_df[device_user_agg_df['device_type_canonical'] == 'mobile']['order_count'], \n",
    "    device_user_agg_df[device_user_agg_df['device_type_canonical'] == 'desktop']['order_count'],\n",
    "    alternative='greater'\n",
    ")\n",
    "\n",
    "if mw_test.pvalue < alpha:\n",
    "    print(f'pvalue={mw_test.pvalue} < {alpha}')\n",
    "    print('Отвергаем нулевую гипотезу')\n",
    "    \n",
    "else:\n",
    "    print(f'pvalue={mw_test.pvalue} > {alpha}')\n",
    "    print('Не получилось отвергнуть нулевую гипотезу')"
   ]
  },
  {
   "cell_type": "markdown",
   "id": "61d2d48a-a264-4ec5-87e1-f3802737ba7a",
   "metadata": {},
   "source": [
    "Таким образом, данные дают основание полагать, что среднее количество заказов на пользователя мобильного приложения выше по сравнению с пользователями стационарных устройств, и эта разница статистически значима.\n",
    "\n",
    "---\n",
    "\n",
    "Сформулируем нулевую и альтернативную гипотезы о среднем времени между заказами пользователей разных типов устройств:\n",
    "- Нулевая гипотеза H₀: Среднее время между заказами пользователей мобильных приложений не превышает среднего времени между заказами пользователей стационарных устройств.\n",
    "- Альтернативная гипотеза H₁: Среднее время между заказами пользователей мобильных приложений выше по сравнению с пользователями стационарных устройств."
   ]
  },
  {
   "cell_type": "code",
   "execution_count": 61,
   "id": "f6a9e682-9448-4a8a-821e-71b6e8c39f5e",
   "metadata": {},
   "outputs": [
    {
     "name": "stdout",
     "output_type": "stream",
     "text": [
      "pvalue=1.9756327794416175e-52 < 0.05\n",
      "Отвергаем нулевую гипотезу\n"
     ]
    }
   ],
   "source": [
    "# Проводим тест Манна-Уитни\n",
    "\n",
    "alpha = 0.05\n",
    "\n",
    "mw_test = st.mannwhitneyu(\n",
    "    device_user_agg_df.loc[device_user_agg_df['device_type_canonical'] == 'mobile', 'avg_days_since_prev'].dropna(), \n",
    "    device_user_agg_df.loc[device_user_agg_df['device_type_canonical'] == 'desktop', 'avg_days_since_prev'].dropna(),\n",
    "    alternative='greater'\n",
    ")\n",
    "\n",
    "if mw_test.pvalue < alpha:\n",
    "    print(f'pvalue={mw_test.pvalue} < {alpha}')\n",
    "    print('Отвергаем нулевую гипотезу')\n",
    "    \n",
    "else:\n",
    "    print(f'pvalue={mw_test.pvalue} > {alpha}')\n",
    "    print('Не получилось отвергнуть нулевую гипотезу')"
   ]
  },
  {
   "cell_type": "markdown",
   "id": "2148a7cc-1b65-4333-acad-93ecdac2478f",
   "metadata": {},
   "source": [
    "Таким образом, данные дают основание полагать, что среднее время между заказами пользователей мобильных приложений выше по сравнению с пользователями стационарных устройств, и эта разница статистически значима.\n",
    "\n",
    "---"
   ]
  },
  {
   "cell_type": "markdown",
   "id": "73e5d13d-7d9b-442b-b9a5-b6106b317eed",
   "metadata": {},
   "source": [
    "### Промежуточные выводы по статистическому анализу данных"
   ]
  },
  {
   "cell_type": "markdown",
   "id": "95de603a-199f-4daa-b969-efad04e7792b",
   "metadata": {},
   "source": [
    "**Проверяемые гипотезы:** \n",
    "1. Среднее количество заказов на одного пользователя мобильного приложения выше по сравнению с пользователями ПК.\n",
    "2. Среднее время между заказами пользователей мобильных приложений выше по сравнению с пользователями ПК.\n",
    "  \n",
    "**Обоснование теста:**\n",
    "- Распределения обеих метрик (количество заказов на человека и время между заказами) имеют сильный правосторонний перекос и выбросы. Большинство пользователей совершают мало заказов, а у небольшой доли их тысячи.\n",
    "- Для проверки использован тест Манна-Уитни. Он подходит, когда присутствуют выбросы и распределение ассиметрично.\n",
    "- Уровень значимости выбран α = 0.05, что является стандартным порогом для статистических исследований и означает, что мы готовы принять риск ошибки первого рода (отклонения верной нулевой гипотезы) в 5%.\n",
    "\n",
    "**Результаты тестов:**\n",
    "- Гипотеза 1. pvalue=3.4035315919495096e-07 < 0.05\n",
    "- Гипотеза 2. pvalue=1.9756327794416175e-52 < 0.05\n",
    "\n",
    "**Интерпретации тестов:**\n",
    "1. Пользователи мобильного приложения совершают в среднем больше заказов, чем пользователи ПК. Разница статистически значима. Это подтверждает гипотезу о большей активности мобильных пользователей.\n",
    "2. Среднее время между заказами у мобильных пользователей также выше, чем у пользователей ПК. Это означает, что при большем количестве заказов на человека пользователи мобильных возвращаются к покупке с бОльшими интервалами.\n",
    "\n",
    "**Возможные причины полученных результатов:**\n",
    "- Мобильные пользователи могут иметь более широкий охват и разнообразное поведение: часть активно покупает билеты, часть заходит эпизодически. Это создаёт высокий разброс и увеличивает средние интервалы между заказами.\n",
    "- Пользователи ПК могут чаще совершать осознанные и «пакетные» покупки — например, планировать культурный досуг заранее и оформлять сразу несколько билетов, что сокращает интервалы между заказами.\n",
    "- Около 23% пользователей используют оба типа устройств, что немного размывает различия между группами, но не влияет на общую картину: мобильные в среднем покупают реже, но их аудитория значительно шире.\n",
    "- Разница в удобстве интерфейсов и сценариях использования (мобильное приложение для спонтанных покупок, ПК — для планирования) также может объяснять выявленные различия.\n",
    "\n",
    "**Главное:** Пользователи мобильных устройств делают в среднем больше заказов, чем пользователи ПК, но интервалы между их заказами длиннее. Обе разницы статистически значимы при уровне α = 0.05.\n",
    "\n",
    "---"
   ]
  },
  {
   "cell_type": "markdown",
   "id": "cc884e40-bda2-4cde-8e7c-238382d97467",
   "metadata": {},
   "source": [
    "## Итоговый вывод и рекомендации"
   ]
  },
  {
   "cell_type": "markdown",
   "id": "61641e89-48d8-4c4d-ae83-6836d3065d09",
   "metadata": {},
   "source": [
    "### Общий обзор проделанной работы"
   ]
  },
  {
   "cell_type": "markdown",
   "id": "b343df3e-6ea1-42c3-b6db-234d2c49f623",
   "metadata": {},
   "source": [
    "В ходе проекта был проведён всесторонний анализ данных Яндекс Афиши за лето-осень 2024 года, включающий этапы:\n",
    "\n",
    "**1. Объединение данных**\n",
    "\n",
    "Загружены три источника: данные о заказах (`final_tickets_orders_df`), о событиях (`final_tickets_events_df`) и курс тенге к рублю (`final_tickets_tenge_df`). После объединения получен единый датафрейм `union_df` с 26 столбцами и ~290 тыс. строк.\n",
    "\n",
    "**2. Предобработка**\n",
    "\n",
    "- Столбцы с данными о времени приведены к корректному типу `datetime`. Оптимизирована разрядность числовых столбцов.\n",
    "- Обнаруженные пропуски (7,5% в `days_since_prev` и 0,08% в информации о событиях) решено оставить как есть.\n",
    "- Явные дубликаты не обнаружены, 30 неявных дубликата удалены.\n",
    "- Созданы новые признаки: выручка в рублях, выручка с одного билета, месяц и сезон покупки.\n",
    "\n",
    "**3. Очистка выбросов**\n",
    "\n",
    "В данных по выручке обнаружены редкие заказы с очень высокими суммами. Значения выручки отфильтрованы по 99-му процентилю в каждой валюте (rub и kzt). Это позволило отсечь экстремальные значения и сфокусироваться на типичных заказах.\n",
    "\n",
    "**4. Исследовательский анализ**\n",
    "\n",
    "- Изучено распределение заказов по категориям (тип мероприятия, тип устройства, возрастной рейтинг) и сезонная динамика.\n",
    "- Проанализирована осенняя активность пользователей: динамика общего числа заказов, количества активных пользователей, среднего числа заказов на пользователя и средней стоимости билета по дням. Изучена недельная цикличность.\n",
    "- Определены топ-категории по числу мероприятий, заказов и выручке в разрезе регионов и билетных партнёров.\n",
    "\n",
    "**5. Проверка гипотез**\n",
    "\n",
    "Проверены две гипотезы с использованием теста Манна-Уитни:\n",
    "- Среднее количество заказов на одного пользователя мобильного приложения выше по сравнению с пользователями ПК.\n",
    "- Среднее время между заказами пользователей мобильных приложений выше по сравнению с пользователями ПК.\n",
    "\n",
    "В результате сформирована целостная картина изменений пользовательского спроса осенью 2024 года и различий в поведении аудиторий по типам устройств.\n",
    "\n",
    "---"
   ]
  },
  {
   "cell_type": "markdown",
   "id": "33149442-f14f-4092-9333-06cdac855c30",
   "metadata": {},
   "source": [
    "### Главные выводы"
   ]
  },
  {
   "cell_type": "markdown",
   "id": "1fe2df95-48f9-4d4a-9c69-72617d0f7e51",
   "metadata": {},
   "source": [
    "**Динамика и сезонные предпочтения**\n",
    "\n",
    "- Количество заказов с июня по октябрь выросло почти втрое (с 34 до 100 тыс.).\n",
    "- Концерты и театр остаются ключевыми категориями оба сезона. Однако летом выше доля концертов (43% против 37% осенью), стендапа и выставок, а осенью — театра (25% против 20% летом), спорта и ёлок. Это отражает сезонность: лето — сезон концертов, осень — театральных и спортивных мероприятий, а билеты на ёлки покупают заранее к праздникам.\n",
    "- Средняя выручка с билета осенью снизилась почти для всех типов мероприятий (театр −18%, концерты −12%), кроме выставок и стендапа. Это может быть связано с ростом недорогих камерных событий и акциями перед Новым годом.\n",
    "\n",
    "**Осенняя активность пользователей**\n",
    "\n",
    "- С начала осени по конец октября наблюдается рост числа заказов (с 1,3 тыс. до почти 6 тыс.) и активных пользователей (от 600 до 1,3 тыс.). Среднее число заказов на пользователя (2-3) и средняя выручка с билета (ок. 190 ₽) остаются стабильными.\n",
    "- Пик количества заказов приходится на вторник (ок. 3,5 тыс), а пик количества активных пользователей — на пятницу (ок. 1 тыс). \n",
    "- При этом в будни средняя выручка с билета ниже, а к выходным этот показатель растёт и достигает 195-200 руб.\n",
    "- Вероятно, в будни пользователи совершают массовые и дешёвые покупки, а в выходные — осознанные и более дорогие.\n",
    "\n",
    "**Регионы и билетные партнёры**\n",
    "\n",
    "- Ок. 50% событий и заказов пришлось на четыре региона: Каменевский (25% событий, 28% заказов), Североярская область (16% событий, 12% заказов), Широковская область (5% событий, 5% заказов) и Светополянский округ — 5% событий, 3% заказов).\n",
    "- 90% выручки обеспечивают 10 крупнейших операторов, лидируют «Билеты без проблем» (16% выручки, 16% событий и 19% заказов), «Мой билет» (14% выручки при 6% событий и 12% заказов) и «Облачко» (13% выручки, 8% событий и 9% заказов).\n",
    "- Это указывает на высокую концентрацию рынка и зависимость от нескольких ключевых игроков.\n",
    "\n",
    "**Разница в поведении пользователей разных устройств**\n",
    "\n",
    "- Мобильные пользователи совершают значимо больше заказов на человека (в среднем 9 заказов против 7 на ПК).\n",
    "- Время между заказами у мобильных пользователей также выше, чем у пользователей ПК (в среднем 21 день против 15 на ПК).\n",
    "- Выявленные различия можно объяснить разницей в удобстве интерфейсов и сценариях использования (мобильное приложение для спонтанных нерегулярных покупок, ПК — для осознанного планирования культурного досуга)."
   ]
  },
  {
   "cell_type": "markdown",
   "id": "5a1afbe9-2394-4ec3-84ab-7246b247f693",
   "metadata": {},
   "source": [
    "\n",
    "\n",
    "---"
   ]
  },
  {
   "cell_type": "markdown",
   "id": "3e9cfdd7-bdb8-4f01-9c4e-231b038f73a0",
   "metadata": {},
   "source": [
    "### Рекомендации"
   ]
  },
  {
   "cell_type": "markdown",
   "id": "5a68c2eb-8990-4761-8879-954e67dc7d97",
   "metadata": {},
   "source": [
    "**1. Стимулировать регулярные покупки мобильных пользователей:** Мобильные пользователи активнее, но делают покупки нерегулярно. Стоит стимулировать повторные покупки через персональные рекомендации и бонусы за регулярные покупки.\n",
    "\n",
    "**2. Продвигать сезонные события:** Осенью наблюдается рост интереса к театру, спорту и семейным мероприятиям. Чтобы увеличить продажи, можно усилить продвижение этих категорий через подборки и сезонные кампании.\n",
    "\n",
    "**3. Работать с региональной диверсификацией:** Сконцентрированность выручки в нескольких регионах создаёт риски. Важно расширять сеть партнёров и событий в менее активных областях, чтобы меньше зависеть от топ-регионов.\n",
    "\n",
    "**4. Развивать партнёрскую сеть:** Основная выручка приходится на нескольких крупных операторов. Важно укреплять сотрудничество с ними, а также помогать мелким партнёрам в продвижении своих событий — через маркетинговую поддержку, рекомендации и совместные акции. Это позволит расширять пул мероприятий и снижать зависимость от ключевых игроков.\n",
    "\n",
    "**5. Продолжить мониторинг сезонности:** Повторный анализ в зимне-весенний период поможет уточнить закономерности спроса и на его основе корректировать маркетинговую стратегию, планировать акции и адаптировать ассортимент билетов."
   ]
  }
 ],
 "metadata": {
  "ExecuteTimeLog": [
   {
    "duration": 1527,
    "start_time": "2025-07-11T16:23:25.994Z"
   },
   {
    "duration": 0,
    "start_time": "2025-07-11T16:23:27.524Z"
   },
   {
    "duration": 0,
    "start_time": "2025-07-11T16:23:27.526Z"
   },
   {
    "duration": 0,
    "start_time": "2025-07-11T16:23:27.527Z"
   },
   {
    "duration": 0,
    "start_time": "2025-07-11T16:23:27.528Z"
   },
   {
    "duration": 0,
    "start_time": "2025-07-11T16:23:27.529Z"
   },
   {
    "duration": 0,
    "start_time": "2025-07-11T16:23:27.530Z"
   },
   {
    "duration": 0,
    "start_time": "2025-07-11T16:23:27.532Z"
   },
   {
    "duration": 0,
    "start_time": "2025-07-11T16:23:27.532Z"
   },
   {
    "duration": 0,
    "start_time": "2025-07-11T16:23:27.534Z"
   },
   {
    "duration": 0,
    "start_time": "2025-07-11T16:23:27.535Z"
   },
   {
    "duration": 0,
    "start_time": "2025-07-11T16:23:27.536Z"
   },
   {
    "duration": 0,
    "start_time": "2025-07-11T16:23:27.537Z"
   },
   {
    "duration": 0,
    "start_time": "2025-07-11T16:23:27.538Z"
   },
   {
    "duration": 0,
    "start_time": "2025-07-11T16:23:27.539Z"
   },
   {
    "duration": 0,
    "start_time": "2025-07-11T16:23:27.540Z"
   },
   {
    "duration": 0,
    "start_time": "2025-07-11T16:23:27.541Z"
   },
   {
    "duration": 0,
    "start_time": "2025-07-11T16:23:27.543Z"
   },
   {
    "duration": 0,
    "start_time": "2025-07-11T16:23:27.577Z"
   },
   {
    "duration": 0,
    "start_time": "2025-07-11T16:23:27.578Z"
   },
   {
    "duration": 0,
    "start_time": "2025-07-11T16:23:27.580Z"
   },
   {
    "duration": 0,
    "start_time": "2025-07-11T16:23:27.581Z"
   },
   {
    "duration": 0,
    "start_time": "2025-07-11T16:23:27.583Z"
   },
   {
    "duration": 1,
    "start_time": "2025-07-11T16:23:27.584Z"
   },
   {
    "duration": 0,
    "start_time": "2025-07-11T16:23:27.586Z"
   },
   {
    "duration": 0,
    "start_time": "2025-07-11T16:23:27.587Z"
   },
   {
    "duration": 0,
    "start_time": "2025-07-11T16:23:27.589Z"
   },
   {
    "duration": 0,
    "start_time": "2025-07-11T16:23:27.590Z"
   },
   {
    "duration": 0,
    "start_time": "2025-07-11T16:23:27.592Z"
   },
   {
    "duration": 0,
    "start_time": "2025-07-11T16:23:27.593Z"
   },
   {
    "duration": 0,
    "start_time": "2025-07-11T16:23:27.595Z"
   },
   {
    "duration": 0,
    "start_time": "2025-07-11T16:23:27.596Z"
   },
   {
    "duration": 1,
    "start_time": "2025-07-11T16:23:27.597Z"
   },
   {
    "duration": 0,
    "start_time": "2025-07-11T16:23:27.599Z"
   },
   {
    "duration": 0,
    "start_time": "2025-07-11T16:23:27.600Z"
   },
   {
    "duration": 0,
    "start_time": "2025-07-11T16:23:27.602Z"
   },
   {
    "duration": 0,
    "start_time": "2025-07-11T16:23:27.604Z"
   },
   {
    "duration": 0,
    "start_time": "2025-07-11T16:23:27.605Z"
   },
   {
    "duration": 0,
    "start_time": "2025-07-11T16:23:27.607Z"
   },
   {
    "duration": 0,
    "start_time": "2025-07-11T16:23:27.608Z"
   },
   {
    "duration": 0,
    "start_time": "2025-07-11T16:23:27.609Z"
   },
   {
    "duration": 0,
    "start_time": "2025-07-11T16:23:27.611Z"
   },
   {
    "duration": 0,
    "start_time": "2025-07-11T16:23:27.612Z"
   },
   {
    "duration": 0,
    "start_time": "2025-07-11T16:23:27.614Z"
   },
   {
    "duration": 0,
    "start_time": "2025-07-11T16:23:27.677Z"
   },
   {
    "duration": 1,
    "start_time": "2025-07-11T16:23:27.678Z"
   },
   {
    "duration": 0,
    "start_time": "2025-07-11T16:23:27.680Z"
   },
   {
    "duration": 1,
    "start_time": "2025-07-11T16:23:27.681Z"
   },
   {
    "duration": 0,
    "start_time": "2025-07-11T16:23:27.683Z"
   },
   {
    "duration": 0,
    "start_time": "2025-07-11T16:23:27.684Z"
   },
   {
    "duration": 0,
    "start_time": "2025-07-11T16:23:27.685Z"
   },
   {
    "duration": 0,
    "start_time": "2025-07-11T16:23:27.687Z"
   },
   {
    "duration": 0,
    "start_time": "2025-07-11T16:23:27.688Z"
   },
   {
    "duration": 0,
    "start_time": "2025-07-11T16:23:27.690Z"
   },
   {
    "duration": 0,
    "start_time": "2025-07-11T16:23:27.692Z"
   },
   {
    "duration": 0,
    "start_time": "2025-07-11T16:23:27.693Z"
   },
   {
    "duration": 0,
    "start_time": "2025-07-11T16:23:27.694Z"
   },
   {
    "duration": 0,
    "start_time": "2025-07-11T16:23:27.695Z"
   },
   {
    "duration": 0,
    "start_time": "2025-07-11T16:23:27.696Z"
   },
   {
    "duration": 0,
    "start_time": "2025-07-11T16:23:27.697Z"
   },
   {
    "duration": 0,
    "start_time": "2025-07-11T16:23:27.698Z"
   },
   {
    "duration": 0,
    "start_time": "2025-07-11T16:23:27.699Z"
   },
   {
    "duration": 0,
    "start_time": "2025-07-11T16:23:27.700Z"
   },
   {
    "duration": 0,
    "start_time": "2025-07-11T16:23:27.701Z"
   },
   {
    "duration": 0,
    "start_time": "2025-07-11T16:23:27.703Z"
   },
   {
    "duration": 3372,
    "start_time": "2025-07-11T16:24:15.542Z"
   },
   {
    "duration": 1492,
    "start_time": "2025-07-11T16:24:18.917Z"
   },
   {
    "duration": 271,
    "start_time": "2025-07-11T16:24:20.410Z"
   },
   {
    "duration": 16,
    "start_time": "2025-07-11T16:24:20.683Z"
   },
   {
    "duration": 80,
    "start_time": "2025-07-11T16:24:20.700Z"
   },
   {
    "duration": 41,
    "start_time": "2025-07-11T16:24:20.782Z"
   },
   {
    "duration": 57,
    "start_time": "2025-07-11T16:24:20.826Z"
   },
   {
    "duration": 16,
    "start_time": "2025-07-11T16:24:20.885Z"
   },
   {
    "duration": 75,
    "start_time": "2025-07-11T16:24:20.903Z"
   },
   {
    "duration": 23,
    "start_time": "2025-07-11T16:24:20.982Z"
   },
   {
    "duration": 9,
    "start_time": "2025-07-11T16:24:21.007Z"
   },
   {
    "duration": 83,
    "start_time": "2025-07-11T16:24:21.018Z"
   },
   {
    "duration": 4,
    "start_time": "2025-07-11T16:24:21.103Z"
   },
   {
    "duration": 12,
    "start_time": "2025-07-11T16:24:21.109Z"
   },
   {
    "duration": 57,
    "start_time": "2025-07-11T16:24:21.123Z"
   },
   {
    "duration": 69,
    "start_time": "2025-07-11T16:24:21.182Z"
   },
   {
    "duration": 28,
    "start_time": "2025-07-11T16:24:21.253Z"
   },
   {
    "duration": 9,
    "start_time": "2025-07-11T16:24:21.283Z"
   },
   {
    "duration": 15,
    "start_time": "2025-07-11T16:24:21.294Z"
   },
   {
    "duration": 81,
    "start_time": "2025-07-11T16:24:21.311Z"
   },
   {
    "duration": 4,
    "start_time": "2025-07-11T16:24:21.394Z"
   },
   {
    "duration": 15,
    "start_time": "2025-07-11T16:24:21.399Z"
   },
   {
    "duration": 5,
    "start_time": "2025-07-11T16:24:21.416Z"
   },
   {
    "duration": 59,
    "start_time": "2025-07-11T16:24:21.422Z"
   },
   {
    "duration": 9,
    "start_time": "2025-07-11T16:24:21.483Z"
   },
   {
    "duration": 8,
    "start_time": "2025-07-11T16:24:21.494Z"
   },
   {
    "duration": 10,
    "start_time": "2025-07-11T16:24:21.503Z"
   },
   {
    "duration": 83,
    "start_time": "2025-07-11T16:24:21.518Z"
   },
   {
    "duration": 18,
    "start_time": "2025-07-11T16:24:21.602Z"
   },
   {
    "duration": 72,
    "start_time": "2025-07-11T16:24:21.621Z"
   },
   {
    "duration": 9,
    "start_time": "2025-07-11T16:24:21.694Z"
   },
   {
    "duration": 74,
    "start_time": "2025-07-11T16:24:21.704Z"
   },
   {
    "duration": 8,
    "start_time": "2025-07-11T16:24:21.779Z"
   },
   {
    "duration": 61,
    "start_time": "2025-07-11T16:24:21.789Z"
   },
   {
    "duration": 9,
    "start_time": "2025-07-11T16:24:21.876Z"
   },
   {
    "duration": 27,
    "start_time": "2025-07-11T16:24:21.887Z"
   },
   {
    "duration": 15,
    "start_time": "2025-07-11T16:24:21.916Z"
   },
   {
    "duration": 20,
    "start_time": "2025-07-11T16:24:21.933Z"
   },
   {
    "duration": 209,
    "start_time": "2025-07-11T16:24:21.955Z"
   },
   {
    "duration": 15,
    "start_time": "2025-07-11T16:24:22.165Z"
   },
   {
    "duration": 45,
    "start_time": "2025-07-11T16:24:22.181Z"
   },
   {
    "duration": 6,
    "start_time": "2025-07-11T16:24:22.227Z"
   },
   {
    "duration": 144,
    "start_time": "2025-07-11T16:24:22.235Z"
   },
   {
    "duration": 8,
    "start_time": "2025-07-11T16:24:22.381Z"
   },
   {
    "duration": 176,
    "start_time": "2025-07-11T16:24:22.391Z"
   },
   {
    "duration": 8,
    "start_time": "2025-07-11T16:24:22.569Z"
   },
   {
    "duration": 42,
    "start_time": "2025-07-11T16:24:22.578Z"
   },
   {
    "duration": 14,
    "start_time": "2025-07-11T16:24:22.621Z"
   },
   {
    "duration": 113,
    "start_time": "2025-07-11T16:24:22.637Z"
   },
   {
    "duration": 226,
    "start_time": "2025-07-11T16:24:22.752Z"
   },
   {
    "duration": 218,
    "start_time": "2025-07-11T16:24:22.979Z"
   },
   {
    "duration": 218,
    "start_time": "2025-07-11T16:24:23.198Z"
   },
   {
    "duration": 0,
    "start_time": "2025-07-11T16:24:23.417Z"
   },
   {
    "duration": 0,
    "start_time": "2025-07-11T16:24:23.418Z"
   },
   {
    "duration": 0,
    "start_time": "2025-07-11T16:24:23.419Z"
   },
   {
    "duration": 0,
    "start_time": "2025-07-11T16:24:23.420Z"
   },
   {
    "duration": 0,
    "start_time": "2025-07-11T16:24:23.421Z"
   },
   {
    "duration": 0,
    "start_time": "2025-07-11T16:24:23.422Z"
   },
   {
    "duration": 0,
    "start_time": "2025-07-11T16:24:23.423Z"
   },
   {
    "duration": 0,
    "start_time": "2025-07-11T16:24:23.424Z"
   },
   {
    "duration": 0,
    "start_time": "2025-07-11T16:24:23.425Z"
   },
   {
    "duration": 0,
    "start_time": "2025-07-11T16:24:23.426Z"
   },
   {
    "duration": 0,
    "start_time": "2025-07-11T16:24:23.427Z"
   },
   {
    "duration": 0,
    "start_time": "2025-07-11T16:24:23.428Z"
   },
   {
    "duration": 0,
    "start_time": "2025-07-11T16:24:23.429Z"
   },
   {
    "duration": 0,
    "start_time": "2025-07-11T16:24:23.430Z"
   },
   {
    "duration": 5,
    "start_time": "2025-07-11T16:27:08.127Z"
   },
   {
    "duration": 313,
    "start_time": "2025-07-11T16:27:09.110Z"
   },
   {
    "duration": 8,
    "start_time": "2025-07-11T16:27:11.473Z"
   },
   {
    "duration": 173,
    "start_time": "2025-07-11T16:27:12.465Z"
   },
   {
    "duration": 204,
    "start_time": "2025-07-11T16:27:14.288Z"
   },
   {
    "duration": 205,
    "start_time": "2025-07-11T16:27:15.433Z"
   },
   {
    "duration": 153,
    "start_time": "2025-07-11T16:27:16.473Z"
   },
   {
    "duration": 25,
    "start_time": "2025-07-11T16:27:22.989Z"
   },
   {
    "duration": 210,
    "start_time": "2025-07-11T16:27:23.787Z"
   },
   {
    "duration": 141,
    "start_time": "2025-07-11T16:27:24.138Z"
   },
   {
    "duration": 5,
    "start_time": "2025-07-11T16:27:24.683Z"
   },
   {
    "duration": 6,
    "start_time": "2025-07-11T16:27:26.293Z"
   },
   {
    "duration": 230,
    "start_time": "2025-07-11T16:27:26.982Z"
   },
   {
    "duration": 4,
    "start_time": "2025-07-11T16:27:37.626Z"
   },
   {
    "duration": 9,
    "start_time": "2025-07-11T16:27:47.085Z"
   },
   {
    "duration": 2809,
    "start_time": "2025-07-11T16:28:07.904Z"
   },
   {
    "duration": 1575,
    "start_time": "2025-07-11T16:28:10.716Z"
   },
   {
    "duration": 184,
    "start_time": "2025-07-11T16:28:12.293Z"
   },
   {
    "duration": 17,
    "start_time": "2025-07-11T16:28:12.480Z"
   },
   {
    "duration": 136,
    "start_time": "2025-07-11T16:28:12.498Z"
   },
   {
    "duration": 74,
    "start_time": "2025-07-11T16:28:12.636Z"
   },
   {
    "duration": 92,
    "start_time": "2025-07-11T16:28:12.711Z"
   },
   {
    "duration": 31,
    "start_time": "2025-07-11T16:28:12.805Z"
   },
   {
    "duration": 62,
    "start_time": "2025-07-11T16:28:12.838Z"
   },
   {
    "duration": 27,
    "start_time": "2025-07-11T16:28:12.904Z"
   },
   {
    "duration": 23,
    "start_time": "2025-07-11T16:28:12.933Z"
   },
   {
    "duration": 40,
    "start_time": "2025-07-11T16:28:12.957Z"
   },
   {
    "duration": 15,
    "start_time": "2025-07-11T16:28:12.999Z"
   },
   {
    "duration": 17,
    "start_time": "2025-07-11T16:28:13.015Z"
   },
   {
    "duration": 20,
    "start_time": "2025-07-11T16:28:13.033Z"
   },
   {
    "duration": 23,
    "start_time": "2025-07-11T16:28:13.055Z"
   },
   {
    "duration": 26,
    "start_time": "2025-07-11T16:28:13.079Z"
   },
   {
    "duration": 25,
    "start_time": "2025-07-11T16:28:13.107Z"
   },
   {
    "duration": 28,
    "start_time": "2025-07-11T16:28:13.133Z"
   },
   {
    "duration": 102,
    "start_time": "2025-07-11T16:28:13.163Z"
   },
   {
    "duration": 46,
    "start_time": "2025-07-11T16:28:13.266Z"
   },
   {
    "duration": 35,
    "start_time": "2025-07-11T16:28:13.314Z"
   },
   {
    "duration": 62,
    "start_time": "2025-07-11T16:28:13.350Z"
   },
   {
    "duration": 45,
    "start_time": "2025-07-11T16:28:13.414Z"
   },
   {
    "duration": 7,
    "start_time": "2025-07-11T16:28:13.461Z"
   },
   {
    "duration": 8,
    "start_time": "2025-07-11T16:28:13.470Z"
   },
   {
    "duration": 10,
    "start_time": "2025-07-11T16:28:13.480Z"
   },
   {
    "duration": 26,
    "start_time": "2025-07-11T16:28:13.496Z"
   },
   {
    "duration": 23,
    "start_time": "2025-07-11T16:28:13.525Z"
   },
   {
    "duration": 40,
    "start_time": "2025-07-11T16:28:13.549Z"
   },
   {
    "duration": 8,
    "start_time": "2025-07-11T16:28:13.591Z"
   },
   {
    "duration": 12,
    "start_time": "2025-07-11T16:28:13.600Z"
   },
   {
    "duration": 7,
    "start_time": "2025-07-11T16:28:13.613Z"
   },
   {
    "duration": 38,
    "start_time": "2025-07-11T16:28:13.621Z"
   },
   {
    "duration": 12,
    "start_time": "2025-07-11T16:28:13.660Z"
   },
   {
    "duration": 27,
    "start_time": "2025-07-11T16:28:13.674Z"
   },
   {
    "duration": 5,
    "start_time": "2025-07-11T16:28:13.703Z"
   },
   {
    "duration": 9,
    "start_time": "2025-07-11T16:28:13.710Z"
   },
   {
    "duration": 183,
    "start_time": "2025-07-11T16:28:13.721Z"
   },
   {
    "duration": 8,
    "start_time": "2025-07-11T16:28:13.905Z"
   },
   {
    "duration": 12,
    "start_time": "2025-07-11T16:28:13.915Z"
   },
   {
    "duration": 37,
    "start_time": "2025-07-11T16:28:13.928Z"
   },
   {
    "duration": 158,
    "start_time": "2025-07-11T16:28:13.967Z"
   },
   {
    "duration": 10,
    "start_time": "2025-07-11T16:28:14.127Z"
   },
   {
    "duration": 225,
    "start_time": "2025-07-11T16:28:14.138Z"
   },
   {
    "duration": 12,
    "start_time": "2025-07-11T16:28:14.365Z"
   },
   {
    "duration": 14,
    "start_time": "2025-07-11T16:28:14.379Z"
   },
   {
    "duration": 12,
    "start_time": "2025-07-11T16:28:14.395Z"
   },
   {
    "duration": 57,
    "start_time": "2025-07-11T16:28:14.409Z"
   },
   {
    "duration": 234,
    "start_time": "2025-07-11T16:28:14.468Z"
   },
   {
    "duration": 229,
    "start_time": "2025-07-11T16:28:14.704Z"
   },
   {
    "duration": 220,
    "start_time": "2025-07-11T16:28:14.935Z"
   },
   {
    "duration": 0,
    "start_time": "2025-07-11T16:28:15.157Z"
   },
   {
    "duration": 0,
    "start_time": "2025-07-11T16:28:15.158Z"
   },
   {
    "duration": 0,
    "start_time": "2025-07-11T16:28:15.160Z"
   },
   {
    "duration": 0,
    "start_time": "2025-07-11T16:28:15.177Z"
   },
   {
    "duration": 0,
    "start_time": "2025-07-11T16:28:15.178Z"
   },
   {
    "duration": 0,
    "start_time": "2025-07-11T16:28:15.179Z"
   },
   {
    "duration": 0,
    "start_time": "2025-07-11T16:28:15.181Z"
   },
   {
    "duration": 0,
    "start_time": "2025-07-11T16:28:15.183Z"
   },
   {
    "duration": 0,
    "start_time": "2025-07-11T16:28:15.185Z"
   },
   {
    "duration": 0,
    "start_time": "2025-07-11T16:28:15.187Z"
   },
   {
    "duration": 0,
    "start_time": "2025-07-11T16:28:15.188Z"
   },
   {
    "duration": 0,
    "start_time": "2025-07-11T16:28:15.189Z"
   },
   {
    "duration": 0,
    "start_time": "2025-07-11T16:28:15.191Z"
   },
   {
    "duration": 0,
    "start_time": "2025-07-11T16:28:15.192Z"
   },
   {
    "duration": 3582,
    "start_time": "2025-07-12T10:18:08.845Z"
   },
   {
    "duration": 1415,
    "start_time": "2025-07-12T10:18:12.430Z"
   },
   {
    "duration": 316,
    "start_time": "2025-07-12T10:18:13.847Z"
   },
   {
    "duration": 15,
    "start_time": "2025-07-12T10:18:14.165Z"
   },
   {
    "duration": 44,
    "start_time": "2025-07-12T10:18:14.181Z"
   },
   {
    "duration": 10,
    "start_time": "2025-07-12T10:18:14.226Z"
   },
   {
    "duration": 10,
    "start_time": "2025-07-12T10:18:14.238Z"
   },
   {
    "duration": 10,
    "start_time": "2025-07-12T10:18:14.250Z"
   },
   {
    "duration": 17,
    "start_time": "2025-07-12T10:18:14.261Z"
   },
   {
    "duration": 45,
    "start_time": "2025-07-12T10:18:14.280Z"
   },
   {
    "duration": 7,
    "start_time": "2025-07-12T10:18:14.327Z"
   },
   {
    "duration": 23,
    "start_time": "2025-07-12T10:18:14.336Z"
   },
   {
    "duration": 4,
    "start_time": "2025-07-12T10:18:14.360Z"
   },
   {
    "duration": 90,
    "start_time": "2025-07-12T10:18:14.366Z"
   },
   {
    "duration": 21,
    "start_time": "2025-07-12T10:18:14.457Z"
   },
   {
    "duration": 10,
    "start_time": "2025-07-12T10:18:14.479Z"
   },
   {
    "duration": 26,
    "start_time": "2025-07-12T10:18:14.490Z"
   },
   {
    "duration": 21,
    "start_time": "2025-07-12T10:18:14.517Z"
   },
   {
    "duration": 11,
    "start_time": "2025-07-12T10:18:14.540Z"
   },
   {
    "duration": 84,
    "start_time": "2025-07-12T10:18:14.552Z"
   },
   {
    "duration": 3,
    "start_time": "2025-07-12T10:18:14.638Z"
   },
   {
    "duration": 51,
    "start_time": "2025-07-12T10:18:14.643Z"
   },
   {
    "duration": 5,
    "start_time": "2025-07-12T10:18:14.696Z"
   },
   {
    "duration": 6,
    "start_time": "2025-07-12T10:18:14.702Z"
   },
   {
    "duration": 6,
    "start_time": "2025-07-12T10:18:14.709Z"
   },
   {
    "duration": 52,
    "start_time": "2025-07-12T10:18:14.717Z"
   },
   {
    "duration": 43,
    "start_time": "2025-07-12T10:18:14.771Z"
   },
   {
    "duration": 27,
    "start_time": "2025-07-12T10:18:14.818Z"
   },
   {
    "duration": 15,
    "start_time": "2025-07-12T10:18:14.847Z"
   },
   {
    "duration": 18,
    "start_time": "2025-07-12T10:18:14.864Z"
   },
   {
    "duration": 8,
    "start_time": "2025-07-12T10:18:14.883Z"
   },
   {
    "duration": 14,
    "start_time": "2025-07-12T10:18:14.892Z"
   },
   {
    "duration": 21,
    "start_time": "2025-07-12T10:18:14.908Z"
   },
   {
    "duration": 3,
    "start_time": "2025-07-12T10:18:14.930Z"
   },
   {
    "duration": 13,
    "start_time": "2025-07-12T10:18:14.935Z"
   },
   {
    "duration": 31,
    "start_time": "2025-07-12T10:18:14.950Z"
   },
   {
    "duration": 4,
    "start_time": "2025-07-12T10:18:14.983Z"
   },
   {
    "duration": 20,
    "start_time": "2025-07-12T10:18:14.988Z"
   },
   {
    "duration": 202,
    "start_time": "2025-07-12T10:18:15.009Z"
   },
   {
    "duration": 8,
    "start_time": "2025-07-12T10:18:15.213Z"
   },
   {
    "duration": 44,
    "start_time": "2025-07-12T10:18:15.223Z"
   },
   {
    "duration": 9,
    "start_time": "2025-07-12T10:18:15.268Z"
   },
   {
    "duration": 157,
    "start_time": "2025-07-12T10:18:15.278Z"
   },
   {
    "duration": 9,
    "start_time": "2025-07-12T10:18:15.436Z"
   },
   {
    "duration": 188,
    "start_time": "2025-07-12T10:18:15.446Z"
   },
   {
    "duration": 5,
    "start_time": "2025-07-12T10:18:15.636Z"
   },
   {
    "duration": 47,
    "start_time": "2025-07-12T10:18:15.643Z"
   },
   {
    "duration": 11,
    "start_time": "2025-07-12T10:18:15.692Z"
   },
   {
    "duration": 8,
    "start_time": "2025-07-12T10:18:15.705Z"
   },
   {
    "duration": 228,
    "start_time": "2025-07-12T10:18:15.714Z"
   },
   {
    "duration": 218,
    "start_time": "2025-07-12T10:18:15.943Z"
   },
   {
    "duration": 232,
    "start_time": "2025-07-12T10:18:16.163Z"
   },
   {
    "duration": 0,
    "start_time": "2025-07-12T10:18:16.397Z"
   },
   {
    "duration": 0,
    "start_time": "2025-07-12T10:18:16.399Z"
   },
   {
    "duration": 0,
    "start_time": "2025-07-12T10:18:16.400Z"
   },
   {
    "duration": 0,
    "start_time": "2025-07-12T10:18:16.401Z"
   },
   {
    "duration": 0,
    "start_time": "2025-07-12T10:18:16.401Z"
   },
   {
    "duration": 0,
    "start_time": "2025-07-12T10:18:16.403Z"
   },
   {
    "duration": 0,
    "start_time": "2025-07-12T10:18:16.404Z"
   },
   {
    "duration": 0,
    "start_time": "2025-07-12T10:18:16.404Z"
   },
   {
    "duration": 0,
    "start_time": "2025-07-12T10:18:16.405Z"
   },
   {
    "duration": 0,
    "start_time": "2025-07-12T10:18:16.406Z"
   },
   {
    "duration": 0,
    "start_time": "2025-07-12T10:18:16.407Z"
   },
   {
    "duration": 0,
    "start_time": "2025-07-12T10:18:16.408Z"
   },
   {
    "duration": 0,
    "start_time": "2025-07-12T10:18:16.409Z"
   },
   {
    "duration": 0,
    "start_time": "2025-07-12T10:18:16.410Z"
   },
   {
    "duration": 9,
    "start_time": "2025-07-12T10:20:22.970Z"
   },
   {
    "duration": 11,
    "start_time": "2025-07-12T10:22:27.651Z"
   },
   {
    "duration": 239,
    "start_time": "2025-07-12T10:28:51.865Z"
   },
   {
    "duration": 143,
    "start_time": "2025-07-12T10:29:55.908Z"
   },
   {
    "duration": 161,
    "start_time": "2025-07-12T10:30:51.130Z"
   },
   {
    "duration": 101,
    "start_time": "2025-07-12T10:33:19.776Z"
   },
   {
    "duration": 98,
    "start_time": "2025-07-12T10:36:12.691Z"
   },
   {
    "duration": 6,
    "start_time": "2025-07-12T10:37:06.976Z"
   },
   {
    "duration": 231,
    "start_time": "2025-07-12T10:37:08.295Z"
   },
   {
    "duration": 2746,
    "start_time": "2025-07-12T10:37:24.567Z"
   },
   {
    "duration": 1154,
    "start_time": "2025-07-12T10:37:27.315Z"
   },
   {
    "duration": 240,
    "start_time": "2025-07-12T10:37:28.471Z"
   },
   {
    "duration": 16,
    "start_time": "2025-07-12T10:37:28.713Z"
   },
   {
    "duration": 12,
    "start_time": "2025-07-12T10:37:28.731Z"
   },
   {
    "duration": 9,
    "start_time": "2025-07-12T10:37:28.745Z"
   },
   {
    "duration": 10,
    "start_time": "2025-07-12T10:37:28.756Z"
   },
   {
    "duration": 16,
    "start_time": "2025-07-12T10:37:28.768Z"
   },
   {
    "duration": 14,
    "start_time": "2025-07-12T10:37:28.786Z"
   },
   {
    "duration": 13,
    "start_time": "2025-07-12T10:37:28.802Z"
   },
   {
    "duration": 6,
    "start_time": "2025-07-12T10:37:28.817Z"
   },
   {
    "duration": 19,
    "start_time": "2025-07-12T10:37:28.825Z"
   },
   {
    "duration": 5,
    "start_time": "2025-07-12T10:37:28.870Z"
   },
   {
    "duration": 5,
    "start_time": "2025-07-12T10:37:28.876Z"
   },
   {
    "duration": 3,
    "start_time": "2025-07-12T10:37:28.883Z"
   },
   {
    "duration": 5,
    "start_time": "2025-07-12T10:37:28.887Z"
   },
   {
    "duration": 6,
    "start_time": "2025-07-12T10:37:28.893Z"
   },
   {
    "duration": 9,
    "start_time": "2025-07-12T10:37:28.900Z"
   },
   {
    "duration": 12,
    "start_time": "2025-07-12T10:37:28.911Z"
   },
   {
    "duration": 61,
    "start_time": "2025-07-12T10:37:28.925Z"
   },
   {
    "duration": 4,
    "start_time": "2025-07-12T10:37:28.987Z"
   },
   {
    "duration": 21,
    "start_time": "2025-07-12T10:37:28.992Z"
   },
   {
    "duration": 4,
    "start_time": "2025-07-12T10:37:29.015Z"
   },
   {
    "duration": 6,
    "start_time": "2025-07-12T10:37:29.020Z"
   },
   {
    "duration": 5,
    "start_time": "2025-07-12T10:37:29.028Z"
   },
   {
    "duration": 15,
    "start_time": "2025-07-12T10:37:29.035Z"
   },
   {
    "duration": 23,
    "start_time": "2025-07-12T10:37:29.052Z"
   },
   {
    "duration": 25,
    "start_time": "2025-07-12T10:37:29.079Z"
   },
   {
    "duration": 44,
    "start_time": "2025-07-12T10:37:29.105Z"
   },
   {
    "duration": 17,
    "start_time": "2025-07-12T10:37:29.151Z"
   },
   {
    "duration": 7,
    "start_time": "2025-07-12T10:37:29.170Z"
   },
   {
    "duration": 17,
    "start_time": "2025-07-12T10:37:29.179Z"
   },
   {
    "duration": 7,
    "start_time": "2025-07-12T10:37:29.197Z"
   },
   {
    "duration": 2,
    "start_time": "2025-07-12T10:37:29.206Z"
   },
   {
    "duration": 9,
    "start_time": "2025-07-12T10:37:29.210Z"
   },
   {
    "duration": 21,
    "start_time": "2025-07-12T10:37:29.221Z"
   },
   {
    "duration": 28,
    "start_time": "2025-07-12T10:37:29.244Z"
   },
   {
    "duration": 7,
    "start_time": "2025-07-12T10:37:29.274Z"
   },
   {
    "duration": 182,
    "start_time": "2025-07-12T10:37:29.282Z"
   },
   {
    "duration": 9,
    "start_time": "2025-07-12T10:37:29.466Z"
   },
   {
    "duration": 13,
    "start_time": "2025-07-12T10:37:29.477Z"
   },
   {
    "duration": 6,
    "start_time": "2025-07-12T10:37:29.492Z"
   },
   {
    "duration": 177,
    "start_time": "2025-07-12T10:37:29.499Z"
   },
   {
    "duration": 11,
    "start_time": "2025-07-12T10:37:29.678Z"
   },
   {
    "duration": 195,
    "start_time": "2025-07-12T10:37:29.690Z"
   },
   {
    "duration": 6,
    "start_time": "2025-07-12T10:37:29.886Z"
   },
   {
    "duration": 6,
    "start_time": "2025-07-12T10:37:29.893Z"
   },
   {
    "duration": 8,
    "start_time": "2025-07-12T10:37:29.900Z"
   },
   {
    "duration": 8,
    "start_time": "2025-07-12T10:37:29.910Z"
   },
   {
    "duration": 261,
    "start_time": "2025-07-12T10:37:29.919Z"
   },
   {
    "duration": 206,
    "start_time": "2025-07-12T10:37:30.182Z"
   },
   {
    "duration": 108,
    "start_time": "2025-07-12T10:37:30.390Z"
   },
   {
    "duration": 190,
    "start_time": "2025-07-12T10:37:30.500Z"
   },
   {
    "duration": 5,
    "start_time": "2025-07-12T10:37:30.692Z"
   },
   {
    "duration": 266,
    "start_time": "2025-07-12T10:37:30.699Z"
   },
   {
    "duration": 7,
    "start_time": "2025-07-12T10:37:30.971Z"
   },
   {
    "duration": 182,
    "start_time": "2025-07-12T10:37:30.980Z"
   },
   {
    "duration": 206,
    "start_time": "2025-07-12T10:37:31.170Z"
   },
   {
    "duration": 239,
    "start_time": "2025-07-12T10:37:31.377Z"
   },
   {
    "duration": 150,
    "start_time": "2025-07-12T10:37:31.618Z"
   },
   {
    "duration": 25,
    "start_time": "2025-07-12T10:37:31.771Z"
   },
   {
    "duration": 236,
    "start_time": "2025-07-12T10:37:31.797Z"
   },
   {
    "duration": 141,
    "start_time": "2025-07-12T10:37:32.035Z"
   },
   {
    "duration": 5,
    "start_time": "2025-07-12T10:37:32.177Z"
   },
   {
    "duration": 9,
    "start_time": "2025-07-12T10:37:32.184Z"
   },
   {
    "duration": 259,
    "start_time": "2025-07-12T10:37:32.194Z"
   },
   {
    "duration": 120,
    "start_time": "2025-07-12T10:38:39.251Z"
   },
   {
    "duration": 2823,
    "start_time": "2025-07-12T10:39:09.744Z"
   },
   {
    "duration": 1255,
    "start_time": "2025-07-12T10:39:12.569Z"
   },
   {
    "duration": 210,
    "start_time": "2025-07-12T10:39:13.826Z"
   },
   {
    "duration": 15,
    "start_time": "2025-07-12T10:39:14.037Z"
   },
   {
    "duration": 13,
    "start_time": "2025-07-12T10:39:14.054Z"
   },
   {
    "duration": 8,
    "start_time": "2025-07-12T10:39:14.068Z"
   },
   {
    "duration": 10,
    "start_time": "2025-07-12T10:39:14.078Z"
   },
   {
    "duration": 11,
    "start_time": "2025-07-12T10:39:14.089Z"
   },
   {
    "duration": 14,
    "start_time": "2025-07-12T10:39:14.101Z"
   },
   {
    "duration": 13,
    "start_time": "2025-07-12T10:39:14.117Z"
   },
   {
    "duration": 6,
    "start_time": "2025-07-12T10:39:14.131Z"
   },
   {
    "duration": 48,
    "start_time": "2025-07-12T10:39:14.139Z"
   },
   {
    "duration": 4,
    "start_time": "2025-07-12T10:39:14.189Z"
   },
   {
    "duration": 5,
    "start_time": "2025-07-12T10:39:14.195Z"
   },
   {
    "duration": 4,
    "start_time": "2025-07-12T10:39:14.201Z"
   },
   {
    "duration": 4,
    "start_time": "2025-07-12T10:39:14.207Z"
   },
   {
    "duration": 6,
    "start_time": "2025-07-12T10:39:14.213Z"
   },
   {
    "duration": 63,
    "start_time": "2025-07-12T10:39:14.220Z"
   },
   {
    "duration": 14,
    "start_time": "2025-07-12T10:39:14.284Z"
   },
   {
    "duration": 24,
    "start_time": "2025-07-12T10:39:14.299Z"
   },
   {
    "duration": 3,
    "start_time": "2025-07-12T10:39:14.325Z"
   },
   {
    "duration": 9,
    "start_time": "2025-07-12T10:39:14.329Z"
   },
   {
    "duration": 4,
    "start_time": "2025-07-12T10:39:14.340Z"
   },
   {
    "duration": 25,
    "start_time": "2025-07-12T10:39:14.346Z"
   },
   {
    "duration": 6,
    "start_time": "2025-07-12T10:39:14.373Z"
   },
   {
    "duration": 9,
    "start_time": "2025-07-12T10:39:14.381Z"
   },
   {
    "duration": 10,
    "start_time": "2025-07-12T10:39:14.392Z"
   },
   {
    "duration": 77,
    "start_time": "2025-07-12T10:39:14.403Z"
   },
   {
    "duration": 17,
    "start_time": "2025-07-12T10:39:14.482Z"
   },
   {
    "duration": 22,
    "start_time": "2025-07-12T10:39:14.501Z"
   },
   {
    "duration": 9,
    "start_time": "2025-07-12T10:39:14.524Z"
   },
   {
    "duration": 38,
    "start_time": "2025-07-12T10:39:14.534Z"
   },
   {
    "duration": 6,
    "start_time": "2025-07-12T10:39:14.574Z"
   },
   {
    "duration": 8,
    "start_time": "2025-07-12T10:39:14.581Z"
   },
   {
    "duration": 10,
    "start_time": "2025-07-12T10:39:14.591Z"
   },
   {
    "duration": 15,
    "start_time": "2025-07-12T10:39:14.603Z"
   },
   {
    "duration": 4,
    "start_time": "2025-07-12T10:39:14.620Z"
   },
   {
    "duration": 7,
    "start_time": "2025-07-12T10:39:14.625Z"
   },
   {
    "duration": 200,
    "start_time": "2025-07-12T10:39:14.633Z"
   },
   {
    "duration": 8,
    "start_time": "2025-07-12T10:39:14.835Z"
   },
   {
    "duration": 11,
    "start_time": "2025-07-12T10:39:14.847Z"
   },
   {
    "duration": 6,
    "start_time": "2025-07-12T10:39:14.872Z"
   },
   {
    "duration": 160,
    "start_time": "2025-07-12T10:39:14.880Z"
   },
   {
    "duration": 9,
    "start_time": "2025-07-12T10:39:15.041Z"
   },
   {
    "duration": 194,
    "start_time": "2025-07-12T10:39:15.051Z"
   },
   {
    "duration": 5,
    "start_time": "2025-07-12T10:39:15.247Z"
   },
   {
    "duration": 20,
    "start_time": "2025-07-12T10:39:15.254Z"
   },
   {
    "duration": 12,
    "start_time": "2025-07-12T10:39:15.276Z"
   },
   {
    "duration": 18,
    "start_time": "2025-07-12T10:39:15.289Z"
   },
   {
    "duration": 243,
    "start_time": "2025-07-12T10:39:15.309Z"
   },
   {
    "duration": 224,
    "start_time": "2025-07-12T10:39:15.553Z"
   },
   {
    "duration": 112,
    "start_time": "2025-07-12T10:39:15.779Z"
   },
   {
    "duration": 197,
    "start_time": "2025-07-12T10:39:15.892Z"
   },
   {
    "duration": 6,
    "start_time": "2025-07-12T10:39:16.090Z"
   },
   {
    "duration": 263,
    "start_time": "2025-07-12T10:39:16.097Z"
   },
   {
    "duration": 16,
    "start_time": "2025-07-12T10:39:16.362Z"
   },
   {
    "duration": 187,
    "start_time": "2025-07-12T10:39:16.379Z"
   },
   {
    "duration": 213,
    "start_time": "2025-07-12T10:39:16.571Z"
   },
   {
    "duration": 250,
    "start_time": "2025-07-12T10:39:16.786Z"
   },
   {
    "duration": 161,
    "start_time": "2025-07-12T10:39:17.038Z"
   },
   {
    "duration": 25,
    "start_time": "2025-07-12T10:39:17.202Z"
   },
   {
    "duration": 228,
    "start_time": "2025-07-12T10:39:17.229Z"
   },
   {
    "duration": 137,
    "start_time": "2025-07-12T10:39:17.460Z"
   },
   {
    "duration": 6,
    "start_time": "2025-07-12T10:39:17.599Z"
   },
   {
    "duration": 21,
    "start_time": "2025-07-12T10:39:17.607Z"
   },
   {
    "duration": 247,
    "start_time": "2025-07-12T10:39:17.630Z"
   },
   {
    "duration": 177,
    "start_time": "2025-07-12T10:40:38.044Z"
   },
   {
    "duration": 151,
    "start_time": "2025-07-12T10:41:40.052Z"
   },
   {
    "duration": 2809,
    "start_time": "2025-07-12T10:42:03.074Z"
   },
   {
    "duration": 1254,
    "start_time": "2025-07-12T10:42:05.886Z"
   },
   {
    "duration": 209,
    "start_time": "2025-07-12T10:42:07.142Z"
   },
   {
    "duration": 15,
    "start_time": "2025-07-12T10:42:07.353Z"
   },
   {
    "duration": 13,
    "start_time": "2025-07-12T10:42:07.369Z"
   },
   {
    "duration": 65,
    "start_time": "2025-07-12T10:42:07.383Z"
   },
   {
    "duration": 11,
    "start_time": "2025-07-12T10:42:07.450Z"
   },
   {
    "duration": 12,
    "start_time": "2025-07-12T10:42:07.463Z"
   },
   {
    "duration": 14,
    "start_time": "2025-07-12T10:42:07.476Z"
   },
   {
    "duration": 17,
    "start_time": "2025-07-12T10:42:07.492Z"
   },
   {
    "duration": 6,
    "start_time": "2025-07-12T10:42:07.511Z"
   },
   {
    "duration": 19,
    "start_time": "2025-07-12T10:42:07.518Z"
   },
   {
    "duration": 33,
    "start_time": "2025-07-12T10:42:07.538Z"
   },
   {
    "duration": 4,
    "start_time": "2025-07-12T10:42:07.573Z"
   },
   {
    "duration": 68,
    "start_time": "2025-07-12T10:42:07.578Z"
   },
   {
    "duration": 30,
    "start_time": "2025-07-12T10:42:07.648Z"
   },
   {
    "duration": 13,
    "start_time": "2025-07-12T10:42:07.680Z"
   },
   {
    "duration": 13,
    "start_time": "2025-07-12T10:42:07.695Z"
   },
   {
    "duration": 12,
    "start_time": "2025-07-12T10:42:07.709Z"
   },
   {
    "duration": 25,
    "start_time": "2025-07-12T10:42:07.723Z"
   },
   {
    "duration": 4,
    "start_time": "2025-07-12T10:42:07.750Z"
   },
   {
    "duration": 9,
    "start_time": "2025-07-12T10:42:07.772Z"
   },
   {
    "duration": 105,
    "start_time": "2025-07-12T10:42:07.783Z"
   },
   {
    "duration": 7,
    "start_time": "2025-07-12T10:42:07.890Z"
   },
   {
    "duration": 16,
    "start_time": "2025-07-12T10:42:07.899Z"
   },
   {
    "duration": 8,
    "start_time": "2025-07-12T10:42:07.917Z"
   },
   {
    "duration": 12,
    "start_time": "2025-07-12T10:42:07.927Z"
   },
   {
    "duration": 31,
    "start_time": "2025-07-12T10:42:07.943Z"
   },
   {
    "duration": 21,
    "start_time": "2025-07-12T10:42:07.976Z"
   },
   {
    "duration": 20,
    "start_time": "2025-07-12T10:42:07.999Z"
   },
   {
    "duration": 9,
    "start_time": "2025-07-12T10:42:08.021Z"
   },
   {
    "duration": 30,
    "start_time": "2025-07-12T10:42:08.031Z"
   },
   {
    "duration": 18,
    "start_time": "2025-07-12T10:42:08.063Z"
   },
   {
    "duration": 4,
    "start_time": "2025-07-12T10:42:08.083Z"
   },
   {
    "duration": 14,
    "start_time": "2025-07-12T10:42:08.089Z"
   },
   {
    "duration": 25,
    "start_time": "2025-07-12T10:42:08.105Z"
   },
   {
    "duration": 3,
    "start_time": "2025-07-12T10:42:08.132Z"
   },
   {
    "duration": 14,
    "start_time": "2025-07-12T10:42:08.137Z"
   },
   {
    "duration": 184,
    "start_time": "2025-07-12T10:42:08.153Z"
   },
   {
    "duration": 9,
    "start_time": "2025-07-12T10:42:08.339Z"
   },
   {
    "duration": 24,
    "start_time": "2025-07-12T10:42:08.350Z"
   },
   {
    "duration": 7,
    "start_time": "2025-07-12T10:42:08.376Z"
   },
   {
    "duration": 246,
    "start_time": "2025-07-12T10:42:08.384Z"
   },
   {
    "duration": 11,
    "start_time": "2025-07-12T10:42:08.632Z"
   },
   {
    "duration": 196,
    "start_time": "2025-07-12T10:42:08.644Z"
   },
   {
    "duration": 5,
    "start_time": "2025-07-12T10:42:08.842Z"
   },
   {
    "duration": 47,
    "start_time": "2025-07-12T10:42:08.849Z"
   },
   {
    "duration": 8,
    "start_time": "2025-07-12T10:42:08.898Z"
   },
   {
    "duration": 8,
    "start_time": "2025-07-12T10:42:08.907Z"
   },
   {
    "duration": 224,
    "start_time": "2025-07-12T10:42:08.917Z"
   },
   {
    "duration": 213,
    "start_time": "2025-07-12T10:42:09.143Z"
   },
   {
    "duration": 114,
    "start_time": "2025-07-12T10:42:09.359Z"
   },
   {
    "duration": 185,
    "start_time": "2025-07-12T10:42:09.475Z"
   },
   {
    "duration": 12,
    "start_time": "2025-07-12T10:42:09.662Z"
   },
   {
    "duration": 242,
    "start_time": "2025-07-12T10:42:09.675Z"
   },
   {
    "duration": 8,
    "start_time": "2025-07-12T10:42:09.919Z"
   },
   {
    "duration": 262,
    "start_time": "2025-07-12T10:42:09.929Z"
   },
   {
    "duration": 222,
    "start_time": "2025-07-12T10:42:10.193Z"
   },
   {
    "duration": 217,
    "start_time": "2025-07-12T10:42:10.416Z"
   },
   {
    "duration": 172,
    "start_time": "2025-07-12T10:42:10.635Z"
   },
   {
    "duration": 26,
    "start_time": "2025-07-12T10:42:10.809Z"
   },
   {
    "duration": 260,
    "start_time": "2025-07-12T10:42:10.837Z"
   },
   {
    "duration": 127,
    "start_time": "2025-07-12T10:42:11.099Z"
   },
   {
    "duration": 4,
    "start_time": "2025-07-12T10:42:11.227Z"
   },
   {
    "duration": 10,
    "start_time": "2025-07-12T10:42:11.233Z"
   },
   {
    "duration": 239,
    "start_time": "2025-07-12T10:42:11.244Z"
   },
   {
    "duration": 150,
    "start_time": "2025-07-12T10:43:21.208Z"
   },
   {
    "duration": 143,
    "start_time": "2025-07-12T10:43:49.582Z"
   },
   {
    "duration": 242,
    "start_time": "2025-07-12T10:44:15.543Z"
   },
   {
    "duration": 2731,
    "start_time": "2025-07-12T10:44:50.419Z"
   },
   {
    "duration": 1213,
    "start_time": "2025-07-12T10:44:53.153Z"
   },
   {
    "duration": 221,
    "start_time": "2025-07-12T10:44:54.367Z"
   },
   {
    "duration": 16,
    "start_time": "2025-07-12T10:44:54.590Z"
   },
   {
    "duration": 12,
    "start_time": "2025-07-12T10:44:54.607Z"
   },
   {
    "duration": 11,
    "start_time": "2025-07-12T10:44:54.621Z"
   },
   {
    "duration": 25,
    "start_time": "2025-07-12T10:44:54.633Z"
   },
   {
    "duration": 25,
    "start_time": "2025-07-12T10:44:54.660Z"
   },
   {
    "duration": 91,
    "start_time": "2025-07-12T10:44:54.687Z"
   },
   {
    "duration": 32,
    "start_time": "2025-07-12T10:44:54.780Z"
   },
   {
    "duration": 78,
    "start_time": "2025-07-12T10:44:54.813Z"
   },
   {
    "duration": 36,
    "start_time": "2025-07-12T10:44:54.893Z"
   },
   {
    "duration": 4,
    "start_time": "2025-07-12T10:44:54.930Z"
   },
   {
    "duration": 5,
    "start_time": "2025-07-12T10:44:54.935Z"
   },
   {
    "duration": 4,
    "start_time": "2025-07-12T10:44:54.942Z"
   },
   {
    "duration": 6,
    "start_time": "2025-07-12T10:44:54.948Z"
   },
   {
    "duration": 6,
    "start_time": "2025-07-12T10:44:54.956Z"
   },
   {
    "duration": 9,
    "start_time": "2025-07-12T10:44:54.963Z"
   },
   {
    "duration": 18,
    "start_time": "2025-07-12T10:44:54.974Z"
   },
   {
    "duration": 24,
    "start_time": "2025-07-12T10:44:54.994Z"
   },
   {
    "duration": 3,
    "start_time": "2025-07-12T10:44:55.020Z"
   },
   {
    "duration": 22,
    "start_time": "2025-07-12T10:44:55.025Z"
   },
   {
    "duration": 41,
    "start_time": "2025-07-12T10:44:55.048Z"
   },
   {
    "duration": 5,
    "start_time": "2025-07-12T10:44:55.091Z"
   },
   {
    "duration": 14,
    "start_time": "2025-07-12T10:44:55.097Z"
   },
   {
    "duration": 10,
    "start_time": "2025-07-12T10:44:55.112Z"
   },
   {
    "duration": 10,
    "start_time": "2025-07-12T10:44:55.124Z"
   },
   {
    "duration": 28,
    "start_time": "2025-07-12T10:44:55.138Z"
   },
   {
    "duration": 16,
    "start_time": "2025-07-12T10:44:55.168Z"
   },
   {
    "duration": 18,
    "start_time": "2025-07-12T10:44:55.186Z"
   },
   {
    "duration": 8,
    "start_time": "2025-07-12T10:44:55.205Z"
   },
   {
    "duration": 17,
    "start_time": "2025-07-12T10:44:55.214Z"
   },
   {
    "duration": 40,
    "start_time": "2025-07-12T10:44:55.233Z"
   },
   {
    "duration": 3,
    "start_time": "2025-07-12T10:44:55.275Z"
   },
   {
    "duration": 15,
    "start_time": "2025-07-12T10:44:55.279Z"
   },
   {
    "duration": 26,
    "start_time": "2025-07-12T10:44:55.296Z"
   },
   {
    "duration": 3,
    "start_time": "2025-07-12T10:44:55.324Z"
   },
   {
    "duration": 7,
    "start_time": "2025-07-12T10:44:55.329Z"
   },
   {
    "duration": 211,
    "start_time": "2025-07-12T10:44:55.338Z"
   },
   {
    "duration": 7,
    "start_time": "2025-07-12T10:44:55.551Z"
   },
   {
    "duration": 15,
    "start_time": "2025-07-12T10:44:55.559Z"
   },
   {
    "duration": 6,
    "start_time": "2025-07-12T10:44:55.575Z"
   },
   {
    "duration": 200,
    "start_time": "2025-07-12T10:44:55.583Z"
   },
   {
    "duration": 8,
    "start_time": "2025-07-12T10:44:55.785Z"
   },
   {
    "duration": 241,
    "start_time": "2025-07-12T10:44:55.794Z"
   },
   {
    "duration": 5,
    "start_time": "2025-07-12T10:44:56.037Z"
   },
   {
    "duration": 9,
    "start_time": "2025-07-12T10:44:56.043Z"
   },
   {
    "duration": 18,
    "start_time": "2025-07-12T10:44:56.054Z"
   },
   {
    "duration": 7,
    "start_time": "2025-07-12T10:44:56.073Z"
   },
   {
    "duration": 252,
    "start_time": "2025-07-12T10:44:56.081Z"
   },
   {
    "duration": 206,
    "start_time": "2025-07-12T10:44:56.334Z"
   },
   {
    "duration": 104,
    "start_time": "2025-07-12T10:44:56.542Z"
   },
   {
    "duration": 184,
    "start_time": "2025-07-12T10:44:56.647Z"
   },
   {
    "duration": 6,
    "start_time": "2025-07-12T10:44:56.832Z"
   },
   {
    "duration": 262,
    "start_time": "2025-07-12T10:44:56.839Z"
   },
   {
    "duration": 7,
    "start_time": "2025-07-12T10:44:57.103Z"
   },
   {
    "duration": 183,
    "start_time": "2025-07-12T10:44:57.112Z"
   },
   {
    "duration": 205,
    "start_time": "2025-07-12T10:44:57.296Z"
   },
   {
    "duration": 236,
    "start_time": "2025-07-12T10:44:57.503Z"
   },
   {
    "duration": 154,
    "start_time": "2025-07-12T10:44:57.740Z"
   },
   {
    "duration": 23,
    "start_time": "2025-07-12T10:44:57.896Z"
   },
   {
    "duration": 206,
    "start_time": "2025-07-12T10:44:57.921Z"
   },
   {
    "duration": 136,
    "start_time": "2025-07-12T10:44:58.129Z"
   },
   {
    "duration": 5,
    "start_time": "2025-07-12T10:44:58.267Z"
   },
   {
    "duration": 16,
    "start_time": "2025-07-12T10:44:58.274Z"
   },
   {
    "duration": 235,
    "start_time": "2025-07-12T10:44:58.291Z"
   },
   {
    "duration": 3489,
    "start_time": "2025-07-12T20:26:02.380Z"
   },
   {
    "duration": 1790,
    "start_time": "2025-07-12T20:26:05.871Z"
   },
   {
    "duration": 166,
    "start_time": "2025-07-12T20:26:07.663Z"
   },
   {
    "duration": 15,
    "start_time": "2025-07-12T20:26:07.831Z"
   },
   {
    "duration": 18,
    "start_time": "2025-07-12T20:26:07.847Z"
   },
   {
    "duration": 90,
    "start_time": "2025-07-12T20:26:07.867Z"
   },
   {
    "duration": 16,
    "start_time": "2025-07-12T20:26:07.958Z"
   },
   {
    "duration": 10,
    "start_time": "2025-07-12T20:26:07.975Z"
   },
   {
    "duration": 21,
    "start_time": "2025-07-12T20:26:07.986Z"
   },
   {
    "duration": 14,
    "start_time": "2025-07-12T20:26:08.010Z"
   },
   {
    "duration": 7,
    "start_time": "2025-07-12T20:26:08.026Z"
   },
   {
    "duration": 19,
    "start_time": "2025-07-12T20:26:08.034Z"
   },
   {
    "duration": 4,
    "start_time": "2025-07-12T20:26:08.054Z"
   },
   {
    "duration": 33,
    "start_time": "2025-07-12T20:26:08.059Z"
   },
   {
    "duration": 16,
    "start_time": "2025-07-12T20:26:08.094Z"
   },
   {
    "duration": 12,
    "start_time": "2025-07-12T20:26:08.112Z"
   },
   {
    "duration": 7,
    "start_time": "2025-07-12T20:26:08.125Z"
   },
   {
    "duration": 23,
    "start_time": "2025-07-12T20:26:08.133Z"
   },
   {
    "duration": 11,
    "start_time": "2025-07-12T20:26:08.157Z"
   },
   {
    "duration": 33,
    "start_time": "2025-07-12T20:26:08.170Z"
   },
   {
    "duration": 6,
    "start_time": "2025-07-12T20:26:08.205Z"
   },
   {
    "duration": 9,
    "start_time": "2025-07-12T20:26:08.213Z"
   },
   {
    "duration": 20,
    "start_time": "2025-07-12T20:26:08.223Z"
   },
   {
    "duration": 23,
    "start_time": "2025-07-12T20:26:08.245Z"
   },
   {
    "duration": 12,
    "start_time": "2025-07-12T20:26:08.270Z"
   },
   {
    "duration": 29,
    "start_time": "2025-07-12T20:26:08.284Z"
   },
   {
    "duration": 14,
    "start_time": "2025-07-12T20:26:08.315Z"
   },
   {
    "duration": 27,
    "start_time": "2025-07-12T20:26:08.333Z"
   },
   {
    "duration": 16,
    "start_time": "2025-07-12T20:26:08.362Z"
   },
   {
    "duration": 23,
    "start_time": "2025-07-12T20:26:08.380Z"
   },
   {
    "duration": 9,
    "start_time": "2025-07-12T20:26:08.406Z"
   },
   {
    "duration": 40,
    "start_time": "2025-07-12T20:26:08.417Z"
   },
   {
    "duration": 19,
    "start_time": "2025-07-12T20:26:08.460Z"
   },
   {
    "duration": 8,
    "start_time": "2025-07-12T20:26:08.481Z"
   },
   {
    "duration": 25,
    "start_time": "2025-07-12T20:26:08.490Z"
   },
   {
    "duration": 19,
    "start_time": "2025-07-12T20:26:08.517Z"
   },
   {
    "duration": 14,
    "start_time": "2025-07-12T20:26:08.537Z"
   },
   {
    "duration": 47,
    "start_time": "2025-07-12T20:26:08.553Z"
   },
   {
    "duration": 178,
    "start_time": "2025-07-12T20:26:08.602Z"
   },
   {
    "duration": 14,
    "start_time": "2025-07-12T20:26:08.782Z"
   },
   {
    "duration": 17,
    "start_time": "2025-07-12T20:26:08.798Z"
   },
   {
    "duration": 9,
    "start_time": "2025-07-12T20:26:08.817Z"
   },
   {
    "duration": 168,
    "start_time": "2025-07-12T20:26:08.827Z"
   },
   {
    "duration": 11,
    "start_time": "2025-07-12T20:26:08.997Z"
   },
   {
    "duration": 210,
    "start_time": "2025-07-12T20:26:09.010Z"
   },
   {
    "duration": 6,
    "start_time": "2025-07-12T20:26:09.222Z"
   },
   {
    "duration": 50,
    "start_time": "2025-07-12T20:26:09.229Z"
   },
   {
    "duration": 14,
    "start_time": "2025-07-12T20:26:09.281Z"
   },
   {
    "duration": 12,
    "start_time": "2025-07-12T20:26:09.298Z"
   },
   {
    "duration": 234,
    "start_time": "2025-07-12T20:26:09.312Z"
   },
   {
    "duration": 211,
    "start_time": "2025-07-12T20:26:09.548Z"
   },
   {
    "duration": 115,
    "start_time": "2025-07-12T20:26:09.760Z"
   },
   {
    "duration": 179,
    "start_time": "2025-07-12T20:26:09.877Z"
   },
   {
    "duration": 5,
    "start_time": "2025-07-12T20:26:10.058Z"
   },
   {
    "duration": 260,
    "start_time": "2025-07-12T20:26:10.064Z"
   },
   {
    "duration": 7,
    "start_time": "2025-07-12T20:26:10.326Z"
   },
   {
    "duration": 204,
    "start_time": "2025-07-12T20:26:10.335Z"
   },
   {
    "duration": 227,
    "start_time": "2025-07-12T20:26:10.541Z"
   },
   {
    "duration": 295,
    "start_time": "2025-07-12T20:26:10.770Z"
   },
   {
    "duration": 164,
    "start_time": "2025-07-12T20:26:11.067Z"
   },
   {
    "duration": 25,
    "start_time": "2025-07-12T20:26:11.232Z"
   },
   {
    "duration": 212,
    "start_time": "2025-07-12T20:26:11.259Z"
   },
   {
    "duration": 158,
    "start_time": "2025-07-12T20:26:11.473Z"
   },
   {
    "duration": 4,
    "start_time": "2025-07-12T20:26:11.633Z"
   },
   {
    "duration": 5,
    "start_time": "2025-07-12T20:26:11.639Z"
   },
   {
    "duration": 294,
    "start_time": "2025-07-12T20:26:11.646Z"
   },
   {
    "duration": 50,
    "start_time": "2025-07-14T10:51:50.084Z"
   },
   {
    "duration": 3733,
    "start_time": "2025-07-14T10:52:02.564Z"
   },
   {
    "duration": 1459,
    "start_time": "2025-07-14T10:52:06.301Z"
   },
   {
    "duration": 394,
    "start_time": "2025-07-14T10:52:07.761Z"
   },
   {
    "duration": 26,
    "start_time": "2025-07-14T10:52:08.157Z"
   },
   {
    "duration": 23,
    "start_time": "2025-07-14T10:52:08.185Z"
   },
   {
    "duration": 20,
    "start_time": "2025-07-14T10:52:08.210Z"
   },
   {
    "duration": 11,
    "start_time": "2025-07-14T10:52:08.232Z"
   },
   {
    "duration": 12,
    "start_time": "2025-07-14T10:52:08.245Z"
   },
   {
    "duration": 27,
    "start_time": "2025-07-14T10:52:08.258Z"
   },
   {
    "duration": 15,
    "start_time": "2025-07-14T10:52:08.288Z"
   },
   {
    "duration": 5,
    "start_time": "2025-07-14T10:52:08.305Z"
   },
   {
    "duration": 21,
    "start_time": "2025-07-14T10:52:08.312Z"
   },
   {
    "duration": 3,
    "start_time": "2025-07-14T10:52:08.335Z"
   },
   {
    "duration": 18,
    "start_time": "2025-07-14T10:52:08.340Z"
   },
   {
    "duration": 23,
    "start_time": "2025-07-14T10:52:08.360Z"
   },
   {
    "duration": 6,
    "start_time": "2025-07-14T10:52:08.385Z"
   },
   {
    "duration": 9,
    "start_time": "2025-07-14T10:52:08.393Z"
   },
   {
    "duration": 16,
    "start_time": "2025-07-14T10:52:08.403Z"
   },
   {
    "duration": 13,
    "start_time": "2025-07-14T10:52:08.421Z"
   },
   {
    "duration": 49,
    "start_time": "2025-07-14T10:52:08.436Z"
   },
   {
    "duration": 4,
    "start_time": "2025-07-14T10:52:08.486Z"
   },
   {
    "duration": 17,
    "start_time": "2025-07-14T10:52:08.491Z"
   },
   {
    "duration": 4,
    "start_time": "2025-07-14T10:52:08.510Z"
   },
   {
    "duration": 14,
    "start_time": "2025-07-14T10:52:08.516Z"
   },
   {
    "duration": 18,
    "start_time": "2025-07-14T10:52:08.532Z"
   },
   {
    "duration": 31,
    "start_time": "2025-07-14T10:52:08.551Z"
   },
   {
    "duration": 11,
    "start_time": "2025-07-14T10:52:08.585Z"
   },
   {
    "duration": 29,
    "start_time": "2025-07-14T10:52:08.600Z"
   },
   {
    "duration": 20,
    "start_time": "2025-07-14T10:52:08.635Z"
   },
   {
    "duration": 32,
    "start_time": "2025-07-14T10:52:08.657Z"
   },
   {
    "duration": 8,
    "start_time": "2025-07-14T10:52:08.691Z"
   },
   {
    "duration": 58,
    "start_time": "2025-07-14T10:52:08.700Z"
   },
   {
    "duration": 21,
    "start_time": "2025-07-14T10:52:08.760Z"
   },
   {
    "duration": 3,
    "start_time": "2025-07-14T10:52:08.784Z"
   },
   {
    "duration": 12,
    "start_time": "2025-07-14T10:52:08.788Z"
   },
   {
    "duration": 20,
    "start_time": "2025-07-14T10:52:08.802Z"
   },
   {
    "duration": 58,
    "start_time": "2025-07-14T10:52:08.824Z"
   },
   {
    "duration": 8,
    "start_time": "2025-07-14T10:52:08.884Z"
   },
   {
    "duration": 171,
    "start_time": "2025-07-14T10:52:08.894Z"
   },
   {
    "duration": 15,
    "start_time": "2025-07-14T10:52:09.070Z"
   },
   {
    "duration": 17,
    "start_time": "2025-07-14T10:52:09.086Z"
   },
   {
    "duration": 6,
    "start_time": "2025-07-14T10:52:09.105Z"
   },
   {
    "duration": 172,
    "start_time": "2025-07-14T10:52:09.113Z"
   },
   {
    "duration": 9,
    "start_time": "2025-07-14T10:52:09.287Z"
   },
   {
    "duration": 245,
    "start_time": "2025-07-14T10:52:09.298Z"
   },
   {
    "duration": 6,
    "start_time": "2025-07-14T10:52:09.545Z"
   },
   {
    "duration": 30,
    "start_time": "2025-07-14T10:52:09.552Z"
   },
   {
    "duration": 9,
    "start_time": "2025-07-14T10:52:09.584Z"
   },
   {
    "duration": 24,
    "start_time": "2025-07-14T10:52:09.594Z"
   },
   {
    "duration": 229,
    "start_time": "2025-07-14T10:52:09.620Z"
   },
   {
    "duration": 236,
    "start_time": "2025-07-14T10:52:09.851Z"
   },
   {
    "duration": 106,
    "start_time": "2025-07-14T10:52:10.089Z"
   },
   {
    "duration": 196,
    "start_time": "2025-07-14T10:52:10.196Z"
   },
   {
    "duration": 5,
    "start_time": "2025-07-14T10:52:10.394Z"
   },
   {
    "duration": 257,
    "start_time": "2025-07-14T10:52:10.400Z"
   },
   {
    "duration": 19,
    "start_time": "2025-07-14T10:52:10.659Z"
   },
   {
    "duration": 179,
    "start_time": "2025-07-14T10:52:10.682Z"
   },
   {
    "duration": 240,
    "start_time": "2025-07-14T10:52:10.863Z"
   },
   {
    "duration": 281,
    "start_time": "2025-07-14T10:52:11.104Z"
   },
   {
    "duration": 154,
    "start_time": "2025-07-14T10:52:11.387Z"
   },
   {
    "duration": 44,
    "start_time": "2025-07-14T10:52:11.544Z"
   },
   {
    "duration": 224,
    "start_time": "2025-07-14T10:52:11.590Z"
   },
   {
    "duration": 159,
    "start_time": "2025-07-14T10:52:11.816Z"
   },
   {
    "duration": 5,
    "start_time": "2025-07-14T10:52:11.983Z"
   },
   {
    "duration": 20,
    "start_time": "2025-07-14T10:52:11.990Z"
   },
   {
    "duration": 12,
    "start_time": "2025-07-14T10:52:12.012Z"
   },
   {
    "duration": 277,
    "start_time": "2025-07-14T10:52:12.026Z"
   },
   {
    "duration": 3651,
    "start_time": "2025-10-13T22:27:28.154Z"
   },
   {
    "duration": 2210,
    "start_time": "2025-10-13T22:27:31.808Z"
   },
   {
    "duration": 40,
    "start_time": "2025-10-13T22:27:34.020Z"
   },
   {
    "duration": 123,
    "start_time": "2025-10-13T22:27:34.063Z"
   },
   {
    "duration": 11,
    "start_time": "2025-10-13T22:27:34.188Z"
   },
   {
    "duration": 29,
    "start_time": "2025-10-13T22:27:34.201Z"
   },
   {
    "duration": 20,
    "start_time": "2025-10-13T22:27:34.232Z"
   },
   {
    "duration": 24,
    "start_time": "2025-10-13T22:27:34.256Z"
   },
   {
    "duration": 94,
    "start_time": "2025-10-13T22:27:34.282Z"
   },
   {
    "duration": 44,
    "start_time": "2025-10-13T22:27:34.378Z"
   },
   {
    "duration": 173,
    "start_time": "2025-10-13T22:27:34.424Z"
   },
   {
    "duration": 292,
    "start_time": "2025-10-13T22:27:34.599Z"
   },
   {
    "duration": 4,
    "start_time": "2025-10-13T22:27:34.893Z"
   },
   {
    "duration": 8,
    "start_time": "2025-10-13T22:27:34.900Z"
   },
   {
    "duration": 145,
    "start_time": "2025-10-13T22:27:34.909Z"
   },
   {
    "duration": 70,
    "start_time": "2025-10-13T22:27:35.058Z"
   },
   {
    "duration": 23,
    "start_time": "2025-10-13T22:27:35.130Z"
   },
   {
    "duration": 214,
    "start_time": "2025-10-13T22:27:35.162Z"
   },
   {
    "duration": 225,
    "start_time": "2025-10-13T22:27:35.378Z"
   },
   {
    "duration": 79,
    "start_time": "2025-10-13T22:27:35.604Z"
   },
   {
    "duration": 141,
    "start_time": "2025-10-13T22:27:35.685Z"
   },
   {
    "duration": 189,
    "start_time": "2025-10-13T22:27:35.842Z"
   },
   {
    "duration": 957,
    "start_time": "2025-10-13T22:27:36.032Z"
   },
   {
    "duration": 239,
    "start_time": "2025-10-13T22:27:36.991Z"
   },
   {
    "duration": 25,
    "start_time": "2025-10-13T22:27:37.231Z"
   },
   {
    "duration": 2032,
    "start_time": "2025-10-13T22:27:37.264Z"
   },
   {
    "duration": 774,
    "start_time": "2025-10-13T22:27:39.298Z"
   },
   {
    "duration": 137,
    "start_time": "2025-10-13T22:27:40.074Z"
   },
   {
    "duration": 340,
    "start_time": "2025-10-13T22:27:40.213Z"
   },
   {
    "duration": 6,
    "start_time": "2025-10-13T22:27:40.554Z"
   },
   {
    "duration": 4046,
    "start_time": "2025-10-13T22:27:40.561Z"
   },
   {
    "duration": 13,
    "start_time": "2025-10-13T22:27:44.608Z"
   },
   {
    "duration": 51,
    "start_time": "2025-10-13T22:27:44.622Z"
   },
   {
    "duration": 4724,
    "start_time": "2025-10-13T22:27:44.675Z"
   },
   {
    "duration": 11,
    "start_time": "2025-10-13T22:27:49.401Z"
   },
   {
    "duration": 294,
    "start_time": "2025-10-13T22:27:49.413Z"
   },
   {
    "duration": 90,
    "start_time": "2025-10-13T22:27:49.709Z"
   },
   {
    "duration": 361,
    "start_time": "2025-10-13T22:27:49.800Z"
   },
   {
    "duration": 56,
    "start_time": "2025-10-13T22:27:50.163Z"
   },
   {
    "duration": 308,
    "start_time": "2025-10-13T22:27:50.221Z"
   },
   {
    "duration": 65,
    "start_time": "2025-10-13T22:27:50.535Z"
   },
   {
    "duration": 354,
    "start_time": "2025-10-13T22:27:50.602Z"
   },
   {
    "duration": 269,
    "start_time": "2025-10-13T22:27:50.967Z"
   },
   {
    "duration": 381,
    "start_time": "2025-10-13T22:27:51.238Z"
   },
   {
    "duration": 183,
    "start_time": "2025-10-13T22:27:51.621Z"
   },
   {
    "duration": 1518,
    "start_time": "2025-10-13T22:27:51.806Z"
   },
   {
    "duration": 43,
    "start_time": "2025-10-13T22:27:53.326Z"
   },
   {
    "duration": 1485,
    "start_time": "2025-10-13T22:27:53.372Z"
   },
   {
    "duration": 165,
    "start_time": "2025-10-13T22:27:54.864Z"
   },
   {
    "duration": 5,
    "start_time": "2025-10-13T22:27:55.031Z"
   },
   {
    "duration": 229,
    "start_time": "2025-10-13T22:27:55.048Z"
   },
   {
    "duration": 6,
    "start_time": "2025-10-13T22:27:55.279Z"
   },
   {
    "duration": 59,
    "start_time": "2025-10-13T22:27:55.287Z"
   },
   {
    "duration": 107,
    "start_time": "2025-10-13T22:27:55.348Z"
   },
   {
    "duration": 22,
    "start_time": "2025-10-13T22:27:55.457Z"
   },
   {
    "duration": 24,
    "start_time": "2025-10-13T22:27:55.480Z"
   },
   {
    "duration": 715,
    "start_time": "2025-10-13T22:27:55.506Z"
   },
   {
    "duration": 37,
    "start_time": "2025-10-13T22:27:56.222Z"
   },
   {
    "duration": 712,
    "start_time": "2025-10-13T22:27:56.261Z"
   },
   {
    "duration": 16,
    "start_time": "2025-10-13T22:27:56.975Z"
   },
   {
    "duration": 14,
    "start_time": "2025-10-13T22:27:56.993Z"
   },
   {
    "duration": 55,
    "start_time": "2025-10-14T13:49:18.823Z"
   },
   {
    "duration": 1441,
    "start_time": "2025-10-14T13:49:24.739Z"
   },
   {
    "duration": 1792,
    "start_time": "2025-10-14T13:49:26.182Z"
   },
   {
    "duration": 18,
    "start_time": "2025-10-14T13:49:27.976Z"
   },
   {
    "duration": 104,
    "start_time": "2025-10-14T13:49:27.996Z"
   },
   {
    "duration": 11,
    "start_time": "2025-10-14T13:49:28.102Z"
   },
   {
    "duration": 27,
    "start_time": "2025-10-14T13:49:28.114Z"
   },
   {
    "duration": 8,
    "start_time": "2025-10-14T13:49:28.143Z"
   },
   {
    "duration": 10,
    "start_time": "2025-10-14T13:49:28.152Z"
   },
   {
    "duration": 229,
    "start_time": "2025-10-14T13:49:28.164Z"
   },
   {
    "duration": 145,
    "start_time": "2025-10-14T13:49:28.395Z"
   },
   {
    "duration": 518,
    "start_time": "2025-10-14T13:49:28.541Z"
   },
   {
    "duration": 470,
    "start_time": "2025-10-14T13:49:29.061Z"
   },
   {
    "duration": 4,
    "start_time": "2025-10-14T13:49:29.532Z"
   },
   {
    "duration": 6,
    "start_time": "2025-10-14T13:49:29.538Z"
   },
   {
    "duration": 208,
    "start_time": "2025-10-14T13:49:29.545Z"
   },
   {
    "duration": 92,
    "start_time": "2025-10-14T13:49:29.755Z"
   },
   {
    "duration": 5,
    "start_time": "2025-10-14T13:49:29.849Z"
   },
   {
    "duration": 414,
    "start_time": "2025-10-14T13:49:29.857Z"
   },
   {
    "duration": 343,
    "start_time": "2025-10-14T13:49:30.273Z"
   },
   {
    "duration": 69,
    "start_time": "2025-10-14T13:49:30.618Z"
   },
   {
    "duration": 301,
    "start_time": "2025-10-14T13:49:30.689Z"
   },
   {
    "duration": 277,
    "start_time": "2025-10-14T13:49:30.992Z"
   },
   {
    "duration": 321,
    "start_time": "2025-10-14T13:49:31.271Z"
   },
   {
    "duration": 226,
    "start_time": "2025-10-14T13:49:31.594Z"
   },
   {
    "duration": 8,
    "start_time": "2025-10-14T13:49:31.822Z"
   },
   {
    "duration": 2788,
    "start_time": "2025-10-14T13:49:31.832Z"
   },
   {
    "duration": 737,
    "start_time": "2025-10-14T13:49:34.622Z"
   },
   {
    "duration": 5,
    "start_time": "2025-10-14T13:49:35.383Z"
   },
   {
    "duration": 141,
    "start_time": "2025-10-14T13:49:35.389Z"
   },
   {
    "duration": 456,
    "start_time": "2025-10-14T13:49:35.532Z"
   },
   {
    "duration": 3,
    "start_time": "2025-10-14T13:49:35.990Z"
   },
   {
    "duration": 4808,
    "start_time": "2025-10-14T13:49:35.995Z"
   },
   {
    "duration": 27,
    "start_time": "2025-10-14T13:49:40.804Z"
   },
   {
    "duration": 36,
    "start_time": "2025-10-14T13:49:40.833Z"
   },
   {
    "duration": 5770,
    "start_time": "2025-10-14T13:49:40.871Z"
   },
   {
    "duration": 12,
    "start_time": "2025-10-14T13:49:46.643Z"
   },
   {
    "duration": 154,
    "start_time": "2025-10-14T13:49:46.657Z"
   },
   {
    "duration": 75,
    "start_time": "2025-10-14T13:49:46.813Z"
   },
   {
    "duration": 237,
    "start_time": "2025-10-14T13:49:46.890Z"
   },
   {
    "duration": 55,
    "start_time": "2025-10-14T13:49:47.129Z"
   },
   {
    "duration": 175,
    "start_time": "2025-10-14T13:49:47.186Z"
   },
   {
    "duration": 42,
    "start_time": "2025-10-14T13:49:47.363Z"
   },
   {
    "duration": 214,
    "start_time": "2025-10-14T13:49:47.407Z"
   },
   {
    "duration": 195,
    "start_time": "2025-10-14T13:49:47.630Z"
   },
   {
    "duration": 332,
    "start_time": "2025-10-14T13:49:47.830Z"
   },
   {
    "duration": 143,
    "start_time": "2025-10-14T13:49:48.164Z"
   },
   {
    "duration": 919,
    "start_time": "2025-10-14T13:49:48.308Z"
   },
   {
    "duration": 34,
    "start_time": "2025-10-14T13:49:49.228Z"
   },
   {
    "duration": 1183,
    "start_time": "2025-10-14T13:49:49.264Z"
   },
   {
    "duration": 155,
    "start_time": "2025-10-14T13:49:50.449Z"
   },
   {
    "duration": 4,
    "start_time": "2025-10-14T13:49:50.606Z"
   },
   {
    "duration": 179,
    "start_time": "2025-10-14T13:49:50.612Z"
   },
   {
    "duration": 5,
    "start_time": "2025-10-14T13:49:50.793Z"
   },
   {
    "duration": 80,
    "start_time": "2025-10-14T13:49:50.800Z"
   },
   {
    "duration": 118,
    "start_time": "2025-10-14T13:49:50.882Z"
   },
   {
    "duration": 18,
    "start_time": "2025-10-14T13:49:51.002Z"
   },
   {
    "duration": 21,
    "start_time": "2025-10-14T13:49:51.030Z"
   },
   {
    "duration": 597,
    "start_time": "2025-10-14T13:49:51.053Z"
   },
   {
    "duration": 23,
    "start_time": "2025-10-14T13:49:51.652Z"
   },
   {
    "duration": 615,
    "start_time": "2025-10-14T13:49:51.677Z"
   },
   {
    "duration": 41,
    "start_time": "2025-10-14T13:49:52.294Z"
   },
   {
    "duration": 24,
    "start_time": "2025-10-14T13:49:52.337Z"
   },
   {
    "duration": 4,
    "start_time": "2025-10-14T13:50:13.581Z"
   },
   {
    "duration": 5,
    "start_time": "2025-10-14T13:50:19.445Z"
   },
   {
    "duration": 4,
    "start_time": "2025-10-14T13:50:29.263Z"
   },
   {
    "duration": 1268,
    "start_time": "2025-10-14T13:50:52.197Z"
   },
   {
    "duration": 1762,
    "start_time": "2025-10-14T13:50:53.467Z"
   },
   {
    "duration": 19,
    "start_time": "2025-10-14T13:50:55.231Z"
   },
   {
    "duration": 119,
    "start_time": "2025-10-14T13:50:55.252Z"
   },
   {
    "duration": 12,
    "start_time": "2025-10-14T13:50:55.372Z"
   },
   {
    "duration": 42,
    "start_time": "2025-10-14T13:50:55.385Z"
   },
   {
    "duration": 9,
    "start_time": "2025-10-14T13:50:55.429Z"
   },
   {
    "duration": 11,
    "start_time": "2025-10-14T13:50:55.439Z"
   },
   {
    "duration": 217,
    "start_time": "2025-10-14T13:50:55.451Z"
   },
   {
    "duration": 148,
    "start_time": "2025-10-14T13:50:55.670Z"
   },
   {
    "duration": 269,
    "start_time": "2025-10-14T13:50:55.820Z"
   },
   {
    "duration": 253,
    "start_time": "2025-10-14T13:50:56.091Z"
   },
   {
    "duration": 4,
    "start_time": "2025-10-14T13:50:56.345Z"
   },
   {
    "duration": 8,
    "start_time": "2025-10-14T13:50:56.350Z"
   },
   {
    "duration": 209,
    "start_time": "2025-10-14T13:50:56.359Z"
   },
   {
    "duration": 95,
    "start_time": "2025-10-14T13:50:56.569Z"
   },
   {
    "duration": 5,
    "start_time": "2025-10-14T13:50:56.665Z"
   },
   {
    "duration": 386,
    "start_time": "2025-10-14T13:50:56.672Z"
   },
   {
    "duration": 386,
    "start_time": "2025-10-14T13:50:57.060Z"
   },
   {
    "duration": 116,
    "start_time": "2025-10-14T13:50:57.448Z"
   },
   {
    "duration": 592,
    "start_time": "2025-10-14T13:50:57.566Z"
   },
   {
    "duration": 280,
    "start_time": "2025-10-14T13:50:58.160Z"
   },
   {
    "duration": 313,
    "start_time": "2025-10-14T13:50:58.441Z"
   },
   {
    "duration": 224,
    "start_time": "2025-10-14T13:50:58.756Z"
   },
   {
    "duration": 4,
    "start_time": "2025-10-14T13:50:58.981Z"
   },
   {
    "duration": 2976,
    "start_time": "2025-10-14T13:50:58.987Z"
   },
   {
    "duration": 735,
    "start_time": "2025-10-14T13:51:01.965Z"
   },
   {
    "duration": 578,
    "start_time": "2025-10-14T13:51:02.730Z"
   },
   {
    "duration": 1324,
    "start_time": "2025-10-14T13:51:03.310Z"
   },
   {
    "duration": 3,
    "start_time": "2025-10-14T13:51:04.636Z"
   },
   {
    "duration": 4722,
    "start_time": "2025-10-14T13:51:04.641Z"
   },
   {
    "duration": 13,
    "start_time": "2025-10-14T13:51:09.365Z"
   },
   {
    "duration": 71,
    "start_time": "2025-10-14T13:51:09.380Z"
   },
   {
    "duration": 5682,
    "start_time": "2025-10-14T13:51:09.453Z"
   },
   {
    "duration": 13,
    "start_time": "2025-10-14T13:51:15.137Z"
   },
   {
    "duration": 161,
    "start_time": "2025-10-14T13:51:15.152Z"
   },
   {
    "duration": 72,
    "start_time": "2025-10-14T13:51:15.315Z"
   },
   {
    "duration": 254,
    "start_time": "2025-10-14T13:51:15.389Z"
   },
   {
    "duration": 59,
    "start_time": "2025-10-14T13:51:15.645Z"
   },
   {
    "duration": 181,
    "start_time": "2025-10-14T13:51:15.706Z"
   },
   {
    "duration": 56,
    "start_time": "2025-10-14T13:51:15.889Z"
   },
   {
    "duration": 210,
    "start_time": "2025-10-14T13:51:15.947Z"
   },
   {
    "duration": 204,
    "start_time": "2025-10-14T13:51:16.159Z"
   },
   {
    "duration": 291,
    "start_time": "2025-10-14T13:51:16.365Z"
   },
   {
    "duration": 144,
    "start_time": "2025-10-14T13:51:16.658Z"
   },
   {
    "duration": 919,
    "start_time": "2025-10-14T13:51:16.804Z"
   },
   {
    "duration": 33,
    "start_time": "2025-10-14T13:51:17.724Z"
   },
   {
    "duration": 1126,
    "start_time": "2025-10-14T13:51:17.758Z"
   },
   {
    "duration": 161,
    "start_time": "2025-10-14T13:51:18.886Z"
   },
   {
    "duration": 7,
    "start_time": "2025-10-14T13:51:19.050Z"
   },
   {
    "duration": 179,
    "start_time": "2025-10-14T13:51:19.059Z"
   },
   {
    "duration": 7,
    "start_time": "2025-10-14T13:51:19.240Z"
   },
   {
    "duration": 150,
    "start_time": "2025-10-14T13:51:19.248Z"
   },
   {
    "duration": 119,
    "start_time": "2025-10-14T13:51:19.399Z"
   },
   {
    "duration": 19,
    "start_time": "2025-10-14T13:51:19.520Z"
   },
   {
    "duration": 22,
    "start_time": "2025-10-14T13:51:19.541Z"
   },
   {
    "duration": 618,
    "start_time": "2025-10-14T13:51:19.565Z"
   },
   {
    "duration": 23,
    "start_time": "2025-10-14T13:51:20.185Z"
   },
   {
    "duration": 582,
    "start_time": "2025-10-14T13:51:20.209Z"
   },
   {
    "duration": 41,
    "start_time": "2025-10-14T13:51:20.793Z"
   },
   {
    "duration": 23,
    "start_time": "2025-10-14T13:51:20.836Z"
   },
   {
    "duration": 66,
    "start_time": "2025-10-14T13:53:16.619Z"
   },
   {
    "duration": 8,
    "start_time": "2025-10-14T14:12:47.542Z"
   },
   {
    "duration": 121,
    "start_time": "2025-10-14T14:23:11.216Z"
   },
   {
    "duration": 170,
    "start_time": "2025-10-14T14:25:00.164Z"
   },
   {
    "duration": 17,
    "start_time": "2025-10-14T14:25:35.528Z"
   },
   {
    "duration": 21,
    "start_time": "2025-10-14T14:26:44.223Z"
   },
   {
    "duration": 526,
    "start_time": "2025-10-14T14:28:04.378Z"
   },
   {
    "duration": 22,
    "start_time": "2025-10-14T14:28:51.614Z"
   },
   {
    "duration": 701,
    "start_time": "2025-10-14T14:30:20.853Z"
   },
   {
    "duration": 24,
    "start_time": "2025-10-14T14:31:29.778Z"
   },
   {
    "duration": 21,
    "start_time": "2025-10-14T14:31:37.799Z"
   },
   {
    "duration": 148,
    "start_time": "2025-10-14T14:37:52.632Z"
   },
   {
    "duration": 6,
    "start_time": "2025-10-14T14:37:56.207Z"
   },
   {
    "duration": 155,
    "start_time": "2025-10-14T14:38:43.297Z"
   }
  ],
  "kernelspec": {
   "display_name": "Python (phik_env)",
   "language": "python",
   "name": "phik_env"
  },
  "language_info": {
   "codemirror_mode": {
    "name": "ipython",
    "version": 3
   },
   "file_extension": ".py",
   "mimetype": "text/x-python",
   "name": "python",
   "nbconvert_exporter": "python",
   "pygments_lexer": "ipython3",
   "version": "3.10.18"
  },
  "toc": {
   "base_numbering": 1,
   "nav_menu": {},
   "number_sections": true,
   "sideBar": true,
   "skip_h1_title": true,
   "title_cell": "Table of Contents",
   "title_sidebar": "Contents",
   "toc_cell": false,
   "toc_position": {
    "height": "calc(100% - 180px)",
    "left": "10px",
    "top": "150px",
    "width": "294.4px"
   },
   "toc_section_display": true,
   "toc_window_display": true
  }
 },
 "nbformat": 4,
 "nbformat_minor": 5
}
