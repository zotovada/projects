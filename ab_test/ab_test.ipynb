{
 "cells": [
  {
   "cell_type": "markdown",
   "metadata": {
    "id": "u98L9TgH0eMk"
   },
   "source": [
    "# Разработка A/B-тестирования и анализ результатов\n",
    "\n",
    "- Автор: Зотова Дарья\n",
    "- Дата: 15.09.2025"
   ]
  },
  {
   "cell_type": "markdown",
   "metadata": {},
   "source": [
    "### Краткое описание проекта"
   ]
  },
  {
   "cell_type": "markdown",
   "metadata": {},
   "source": [
    "Компания разрабатывает развлекательное приложение с функцией «бесконечной» ленты. Команда разработчиков создала новый алгоритм рекомендаций, который, по их мнению, будет показывать более интересный контент для каждого пользователя. Нужно рассчитать параметры A/B-теста, который позволит проверить эту гипотезу, и проанализировать его результаты."
   ]
  },
  {
   "cell_type": "markdown",
   "metadata": {},
   "source": [
    "### Цель и задачи проекта\n",
    "\n",
    "**Цель:** Проверить эффективность нового алгоритма рекомендаций в приложении, чтобы определить, увеличивает ли он вовлечённость пользователей по сравнению с текущим алгоритмом.\n",
    "\n",
    "**Задачи:**\n",
    "\n",
    "1. Проанализировать исторические данные о поведении пользователей для оценки исходного уровня вовлечённости.\n",
    "2. Определить ключевую метрику эффективности.\n",
    "3. Сформулировать нулевую и альтернативную гипотезы для A/B-теста. \n",
    "4. Рассчитать параметры A/B-теста: размер выборки и длительность эксперимента.\n",
    "5. Оценить корректность проведения теста, включая сбалансированность экспериментальных групп по количеству пользователей, независимость выборок и равномерность распределения пользователей по категориальным признакам. \n",
    "6. Проанализировать результаты эксперимента и дать рекомендации продуктовой команде по внедрению нового алгоритма."
   ]
  },
  {
   "cell_type": "markdown",
   "metadata": {
    "id": "LJBRALHs0eMf"
   },
   "source": [
    "### Описание данных\n",
    "\n",
    "Данные состоят из трёх датасетов:\n",
    "\n",
    "- `sessions_project_history.csv` — таблица с историческими данными по сессиям на период 11.08.25 — 23.09.25.\n",
    "- `sessions_project_test_part.csv` — таблица с данными за первый день проведения A/B-теста, то есть за 14.10.25.\n",
    "- `sessions_project_test.csv` — таблица с данными за весь период проведения A/B-теста, то есть 14.10.25 — 02.11.25. \n",
    "\n",
    "У этих таблиц почти совпадает структура и содержание колонок, различаются лишь периоды наблюдения.\n",
    "\n",
    "Поля таблиц `sessions_project_history.csv`, `sessions_project_test.csv`, `sessions_project_test_part.csv`:\n",
    "\n",
    "- `user_id` — идентификатор пользователя;\n",
    "- `session_id` — идентификатор сессии в приложении;\n",
    "- `session_date` — дата сессии;\n",
    "- `session_start_ts` — дата и время начала сессии;\n",
    "- `install_date` — дата установки приложения;\n",
    "- `session_number` — порядковый номер сессии для конкретного пользователя;\n",
    "- `registration_flag` — является ли пользователь зарегистрированным;\n",
    "- `page_counter` — количество просмотренных страниц во время сессии;\n",
    "- `region` — регион пользователя;\n",
    "- `device` — тип устройства пользователя;\n",
    "- `test_group` — тестовая группа (в таблице с историческими данными этого столбца нет)."
   ]
  },
  {
   "cell_type": "markdown",
   "metadata": {},
   "source": [
    "### Содержимое проекта\n",
    "\n",
    "1. Работа с историческими данными\n",
    "   - 1.1. Загрузка данных и знакомство с ними\n",
    "   - 1.2. Анализ числа регистраций\n",
    "   - 1.3. Анализ числа просмотренных страниц\n",
    "   - 1.4. Анализ доли успешных сессий\n",
    "   - 1.5. Вывод после работы с историческими данными\n",
    "2. Подготовка к тесту\n",
    "   - 2.1. Формулировка нулевой и альтернативной гипотез\n",
    "   - 2.2. Расчёт размера выборки\n",
    "   - 2.3. Расчёт длительности A/B-теста\n",
    "   - 2.4. Вывод после подготовки к тесту\n",
    "3. Мониторинг A/B-теста\n",
    "   - 3.1. Загрузка данных и знакомство с ними\n",
    "   - 3.2. Проверка распределения пользователей по группам\n",
    "   - 3.3. Проверка пересечений пользователей\n",
    "   - 3.4. Равномерность разделения пользователей по устройствам\n",
    "   - 3.5. Равномерность распределения пользователей по регионам\n",
    "   - 3.6. Вывод после проверки A/B-теста\n",
    "4. Проверка результатов A/B-теста\n",
    "   - 4.1. Загрузка данных и знакомство с ними\n",
    "   - 4.2. Проверка корректности результатов теста\n",
    "   - 4.3. Сравнение доли успешных сессий\n",
    "   - 4.4. Проверка статистической значимости изменения ключевой метрики\n",
    "   - 4.5. Вывод по результатам A/B-эксперимента\n",
    "\n",
    "---"
   ]
  },
  {
   "cell_type": "markdown",
   "metadata": {
    "id": "UpOucjID0eMl"
   },
   "source": [
    "## Работа с историческими данными"
   ]
  },
  {
   "cell_type": "markdown",
   "metadata": {
    "id": "8iJMtL-30eMl"
   },
   "source": [
    "### Загрузка данных и знакомство с ними"
   ]
  },
  {
   "cell_type": "code",
   "execution_count": 1,
   "metadata": {
    "id": "6TPR2-1RPboT"
   },
   "outputs": [],
   "source": [
    "# Импортируем библиотеки\n",
    "import pandas as pd\n",
    "import matplotlib.pyplot as plt\n",
    "import seaborn as sns\n",
    "import scipy.stats as st\n",
    "from statsmodels.stats.proportion import proportions_ztest"
   ]
  },
  {
   "cell_type": "code",
   "execution_count": 2,
   "metadata": {},
   "outputs": [],
   "source": [
    "# Выгружаем исторические данные\n",
    "sessions_history = pd.read_csv('https://code.s3.yandex.net/datasets/sessions_project_history.csv')"
   ]
  },
  {
   "cell_type": "code",
   "execution_count": 3,
   "metadata": {},
   "outputs": [
    {
     "data": {
      "text/html": [
       "<div>\n",
       "<style scoped>\n",
       "    .dataframe tbody tr th:only-of-type {\n",
       "        vertical-align: middle;\n",
       "    }\n",
       "\n",
       "    .dataframe tbody tr th {\n",
       "        vertical-align: top;\n",
       "    }\n",
       "\n",
       "    .dataframe thead th {\n",
       "        text-align: right;\n",
       "    }\n",
       "</style>\n",
       "<table border=\"1\" class=\"dataframe\">\n",
       "  <thead>\n",
       "    <tr style=\"text-align: right;\">\n",
       "      <th></th>\n",
       "      <th>user_id</th>\n",
       "      <th>session_id</th>\n",
       "      <th>session_date</th>\n",
       "      <th>session_start_ts</th>\n",
       "      <th>install_date</th>\n",
       "      <th>session_number</th>\n",
       "      <th>registration_flag</th>\n",
       "      <th>page_counter</th>\n",
       "      <th>region</th>\n",
       "      <th>device</th>\n",
       "    </tr>\n",
       "  </thead>\n",
       "  <tbody>\n",
       "    <tr>\n",
       "      <th>0</th>\n",
       "      <td>E302123B7000BFE4</td>\n",
       "      <td>F9AF61A0C2023832</td>\n",
       "      <td>2025-08-15</td>\n",
       "      <td>2025-08-15 17:47:35</td>\n",
       "      <td>2025-08-15</td>\n",
       "      <td>1</td>\n",
       "      <td>0</td>\n",
       "      <td>3</td>\n",
       "      <td>CIS</td>\n",
       "      <td>iPhone</td>\n",
       "    </tr>\n",
       "    <tr>\n",
       "      <th>1</th>\n",
       "      <td>2530F72E221829FB</td>\n",
       "      <td>85003A206CBDAC6F</td>\n",
       "      <td>2025-08-15</td>\n",
       "      <td>2025-08-15 16:42:14</td>\n",
       "      <td>2025-08-15</td>\n",
       "      <td>1</td>\n",
       "      <td>0</td>\n",
       "      <td>4</td>\n",
       "      <td>MENA</td>\n",
       "      <td>Android</td>\n",
       "    </tr>\n",
       "    <tr>\n",
       "      <th>2</th>\n",
       "      <td>876E020A4FC512F5</td>\n",
       "      <td>3677423E49D72DEE</td>\n",
       "      <td>2025-08-15</td>\n",
       "      <td>2025-08-15 12:30:00</td>\n",
       "      <td>2025-08-15</td>\n",
       "      <td>1</td>\n",
       "      <td>0</td>\n",
       "      <td>4</td>\n",
       "      <td>EU</td>\n",
       "      <td>PC</td>\n",
       "    </tr>\n",
       "    <tr>\n",
       "      <th>3</th>\n",
       "      <td>2640B349E1D81584</td>\n",
       "      <td>956B45F5915CA225</td>\n",
       "      <td>2025-08-15</td>\n",
       "      <td>2025-08-15 15:31:31</td>\n",
       "      <td>2025-08-15</td>\n",
       "      <td>1</td>\n",
       "      <td>0</td>\n",
       "      <td>4</td>\n",
       "      <td>CIS</td>\n",
       "      <td>Android</td>\n",
       "    </tr>\n",
       "    <tr>\n",
       "      <th>4</th>\n",
       "      <td>94E1CBFAEF1F5EE9</td>\n",
       "      <td>83BF0DA35F9F1F40</td>\n",
       "      <td>2025-08-15</td>\n",
       "      <td>2025-08-15 21:33:53</td>\n",
       "      <td>2025-08-15</td>\n",
       "      <td>1</td>\n",
       "      <td>0</td>\n",
       "      <td>3</td>\n",
       "      <td>CIS</td>\n",
       "      <td>Android</td>\n",
       "    </tr>\n",
       "  </tbody>\n",
       "</table>\n",
       "</div>"
      ],
      "text/plain": [
       "            user_id        session_id session_date     session_start_ts  \\\n",
       "0  E302123B7000BFE4  F9AF61A0C2023832   2025-08-15  2025-08-15 17:47:35   \n",
       "1  2530F72E221829FB  85003A206CBDAC6F   2025-08-15  2025-08-15 16:42:14   \n",
       "2  876E020A4FC512F5  3677423E49D72DEE   2025-08-15  2025-08-15 12:30:00   \n",
       "3  2640B349E1D81584  956B45F5915CA225   2025-08-15  2025-08-15 15:31:31   \n",
       "4  94E1CBFAEF1F5EE9  83BF0DA35F9F1F40   2025-08-15  2025-08-15 21:33:53   \n",
       "\n",
       "  install_date  session_number  registration_flag  page_counter region  \\\n",
       "0   2025-08-15               1                  0             3    CIS   \n",
       "1   2025-08-15               1                  0             4   MENA   \n",
       "2   2025-08-15               1                  0             4     EU   \n",
       "3   2025-08-15               1                  0             4    CIS   \n",
       "4   2025-08-15               1                  0             3    CIS   \n",
       "\n",
       "    device  \n",
       "0   iPhone  \n",
       "1  Android  \n",
       "2       PC  \n",
       "3  Android  \n",
       "4  Android  "
      ]
     },
     "execution_count": 3,
     "metadata": {},
     "output_type": "execute_result"
    }
   ],
   "source": [
    "# Выводим первые строки датафрейма на экран\n",
    "sessions_history.head()"
   ]
  },
  {
   "cell_type": "code",
   "execution_count": 4,
   "metadata": {},
   "outputs": [
    {
     "name": "stdout",
     "output_type": "stream",
     "text": [
      "<class 'pandas.core.frame.DataFrame'>\n",
      "RangeIndex: 435924 entries, 0 to 435923\n",
      "Data columns (total 10 columns):\n",
      " #   Column             Non-Null Count   Dtype \n",
      "---  ------             --------------   ----- \n",
      " 0   user_id            435924 non-null  object\n",
      " 1   session_id         435924 non-null  object\n",
      " 2   session_date       435924 non-null  object\n",
      " 3   session_start_ts   435924 non-null  object\n",
      " 4   install_date       435924 non-null  object\n",
      " 5   session_number     435924 non-null  int64 \n",
      " 6   registration_flag  435924 non-null  int64 \n",
      " 7   page_counter       435924 non-null  int64 \n",
      " 8   region             435924 non-null  object\n",
      " 9   device             435924 non-null  object\n",
      "dtypes: int64(3), object(7)\n",
      "memory usage: 33.3+ MB\n"
     ]
    }
   ],
   "source": [
    "# Выводим базовую информацию о датафрейме\n",
    "sessions_history.info()"
   ]
  },
  {
   "cell_type": "markdown",
   "metadata": {},
   "source": [
    "Датасет `sessions_project_history.csv` содержит 10 столбцов и 435 924 строки, в которых представлены исторические данные по всем сессиям пользователей на период 11.08.25 — 23.09.25\n",
    "\n",
    "После первичного анализа данных можно сделать следующие выводы:\n",
    "\n",
    "- Названия столбцов соответствуют их сожержанию.\n",
    "- Типы столбцов корректны, кроме столбцов с временными данными`session_date`, `session_start_ts` и `install_date`.\n",
    "- На первый взгляд столбцы не содержат пропуски.\n",
    "- Значения в столбцах соответствуют своему описанию.\n",
    "\n",
    "---"
   ]
  },
  {
   "cell_type": "markdown",
   "metadata": {
    "id": "CmcGpJTP0eMq"
   },
   "source": [
    "### Анализ числа регистраций"
   ]
  },
  {
   "cell_type": "markdown",
   "metadata": {},
   "source": [
    "Динамика регистраций позволяет выявить сезонные колебания, пиковые дни и периоды активности пользователей. Это важно для планирования теста: нужно убедиться, что эксперимент не совпадёт с аномальными всплесками активности, которые могут исказить результаты. Посмотрим по историческим данным, как менялось число регистраций за представленный период.\n",
    "\n",
    "Агрегируем данные и рассчитаем число уникальных и зарегистрированных пользователей для каждого дня. Для упрощения примем, что у каждого пользователя в течение дня максимум одна сессия, а статус регистрации не изменяется в течение дня."
   ]
  },
  {
   "cell_type": "code",
   "execution_count": 40,
   "metadata": {
    "id": "tN_6Ml3EPatS"
   },
   "outputs": [
    {
     "data": {
      "text/html": [
       "<div>\n",
       "<style scoped>\n",
       "    .dataframe tbody tr th:only-of-type {\n",
       "        vertical-align: middle;\n",
       "    }\n",
       "\n",
       "    .dataframe tbody tr th {\n",
       "        vertical-align: top;\n",
       "    }\n",
       "\n",
       "    .dataframe thead th {\n",
       "        text-align: right;\n",
       "    }\n",
       "</style>\n",
       "<table border=\"1\" class=\"dataframe\">\n",
       "  <thead>\n",
       "    <tr style=\"text-align: right;\">\n",
       "      <th></th>\n",
       "      <th>session_date</th>\n",
       "      <th>user_id</th>\n",
       "      <th>registration_flag</th>\n",
       "    </tr>\n",
       "  </thead>\n",
       "  <tbody>\n",
       "    <tr>\n",
       "      <th>0</th>\n",
       "      <td>2025-08-11</td>\n",
       "      <td>00044C43F22EF7D7</td>\n",
       "      <td>0</td>\n",
       "    </tr>\n",
       "    <tr>\n",
       "      <th>1</th>\n",
       "      <td>2025-08-11</td>\n",
       "      <td>00058016FFE49A8B</td>\n",
       "      <td>0</td>\n",
       "    </tr>\n",
       "    <tr>\n",
       "      <th>2</th>\n",
       "      <td>2025-08-11</td>\n",
       "      <td>000C43350743C70D</td>\n",
       "      <td>0</td>\n",
       "    </tr>\n",
       "    <tr>\n",
       "      <th>3</th>\n",
       "      <td>2025-08-11</td>\n",
       "      <td>00152F90B456FCED</td>\n",
       "      <td>0</td>\n",
       "    </tr>\n",
       "    <tr>\n",
       "      <th>4</th>\n",
       "      <td>2025-08-11</td>\n",
       "      <td>001780C4B5F0E607</td>\n",
       "      <td>0</td>\n",
       "    </tr>\n",
       "  </tbody>\n",
       "</table>\n",
       "</div>"
      ],
      "text/plain": [
       "  session_date           user_id  registration_flag\n",
       "0   2025-08-11  00044C43F22EF7D7                  0\n",
       "1   2025-08-11  00058016FFE49A8B                  0\n",
       "2   2025-08-11  000C43350743C70D                  0\n",
       "3   2025-08-11  00152F90B456FCED                  0\n",
       "4   2025-08-11  001780C4B5F0E607                  0"
      ]
     },
     "execution_count": 40,
     "metadata": {},
     "output_type": "execute_result"
    }
   ],
   "source": [
    "# Формируем таблицу на уровне \"день-пользователь\":\n",
    "# - группируем по дате и пользователю,\n",
    "# - берём максимум по registration_flag (чтобы для каждого пользователя в день статус был 0 или 1).\n",
    "\n",
    "sessions_history_agg = sessions_history.groupby(['session_date', 'user_id'])['registration_flag'].max().reset_index()\n",
    "\n",
    "# Проверяем результат\n",
    "sessions_history_agg.head()"
   ]
  },
  {
   "cell_type": "code",
   "execution_count": 6,
   "metadata": {},
   "outputs": [
    {
     "data": {
      "text/html": [
       "<div>\n",
       "<style scoped>\n",
       "    .dataframe tbody tr th:only-of-type {\n",
       "        vertical-align: middle;\n",
       "    }\n",
       "\n",
       "    .dataframe tbody tr th {\n",
       "        vertical-align: top;\n",
       "    }\n",
       "\n",
       "    .dataframe thead th {\n",
       "        text-align: right;\n",
       "    }\n",
       "</style>\n",
       "<table border=\"1\" class=\"dataframe\">\n",
       "  <thead>\n",
       "    <tr style=\"text-align: right;\">\n",
       "      <th></th>\n",
       "      <th>session_date</th>\n",
       "      <th>users_count</th>\n",
       "      <th>registered_count</th>\n",
       "      <th>registered_share</th>\n",
       "    </tr>\n",
       "  </thead>\n",
       "  <tbody>\n",
       "    <tr>\n",
       "      <th>0</th>\n",
       "      <td>2025-08-11</td>\n",
       "      <td>3919</td>\n",
       "      <td>169</td>\n",
       "      <td>0.043123</td>\n",
       "    </tr>\n",
       "    <tr>\n",
       "      <th>1</th>\n",
       "      <td>2025-08-12</td>\n",
       "      <td>6056</td>\n",
       "      <td>336</td>\n",
       "      <td>0.055482</td>\n",
       "    </tr>\n",
       "    <tr>\n",
       "      <th>2</th>\n",
       "      <td>2025-08-13</td>\n",
       "      <td>8489</td>\n",
       "      <td>464</td>\n",
       "      <td>0.054659</td>\n",
       "    </tr>\n",
       "    <tr>\n",
       "      <th>3</th>\n",
       "      <td>2025-08-14</td>\n",
       "      <td>10321</td>\n",
       "      <td>625</td>\n",
       "      <td>0.060556</td>\n",
       "    </tr>\n",
       "    <tr>\n",
       "      <th>4</th>\n",
       "      <td>2025-08-15</td>\n",
       "      <td>14065</td>\n",
       "      <td>840</td>\n",
       "      <td>0.059723</td>\n",
       "    </tr>\n",
       "    <tr>\n",
       "      <th>5</th>\n",
       "      <td>2025-08-16</td>\n",
       "      <td>12205</td>\n",
       "      <td>916</td>\n",
       "      <td>0.075051</td>\n",
       "    </tr>\n",
       "    <tr>\n",
       "      <th>6</th>\n",
       "      <td>2025-08-17</td>\n",
       "      <td>11200</td>\n",
       "      <td>833</td>\n",
       "      <td>0.074375</td>\n",
       "    </tr>\n",
       "    <tr>\n",
       "      <th>7</th>\n",
       "      <td>2025-08-18</td>\n",
       "      <td>10839</td>\n",
       "      <td>860</td>\n",
       "      <td>0.079343</td>\n",
       "    </tr>\n",
       "    <tr>\n",
       "      <th>8</th>\n",
       "      <td>2025-08-19</td>\n",
       "      <td>12118</td>\n",
       "      <td>831</td>\n",
       "      <td>0.068576</td>\n",
       "    </tr>\n",
       "    <tr>\n",
       "      <th>9</th>\n",
       "      <td>2025-08-20</td>\n",
       "      <td>13514</td>\n",
       "      <td>1008</td>\n",
       "      <td>0.074589</td>\n",
       "    </tr>\n",
       "    <tr>\n",
       "      <th>10</th>\n",
       "      <td>2025-08-21</td>\n",
       "      <td>15051</td>\n",
       "      <td>1063</td>\n",
       "      <td>0.070627</td>\n",
       "    </tr>\n",
       "    <tr>\n",
       "      <th>11</th>\n",
       "      <td>2025-08-22</td>\n",
       "      <td>17563</td>\n",
       "      <td>1251</td>\n",
       "      <td>0.071229</td>\n",
       "    </tr>\n",
       "    <tr>\n",
       "      <th>12</th>\n",
       "      <td>2025-08-23</td>\n",
       "      <td>16082</td>\n",
       "      <td>1253</td>\n",
       "      <td>0.077913</td>\n",
       "    </tr>\n",
       "    <tr>\n",
       "      <th>13</th>\n",
       "      <td>2025-08-24</td>\n",
       "      <td>13683</td>\n",
       "      <td>1181</td>\n",
       "      <td>0.086311</td>\n",
       "    </tr>\n",
       "    <tr>\n",
       "      <th>14</th>\n",
       "      <td>2025-08-25</td>\n",
       "      <td>13635</td>\n",
       "      <td>1060</td>\n",
       "      <td>0.077741</td>\n",
       "    </tr>\n",
       "    <tr>\n",
       "      <th>15</th>\n",
       "      <td>2025-08-26</td>\n",
       "      <td>13289</td>\n",
       "      <td>1050</td>\n",
       "      <td>0.079013</td>\n",
       "    </tr>\n",
       "    <tr>\n",
       "      <th>16</th>\n",
       "      <td>2025-08-27</td>\n",
       "      <td>14766</td>\n",
       "      <td>1076</td>\n",
       "      <td>0.072870</td>\n",
       "    </tr>\n",
       "    <tr>\n",
       "      <th>17</th>\n",
       "      <td>2025-08-28</td>\n",
       "      <td>15388</td>\n",
       "      <td>1175</td>\n",
       "      <td>0.076358</td>\n",
       "    </tr>\n",
       "    <tr>\n",
       "      <th>18</th>\n",
       "      <td>2025-08-29</td>\n",
       "      <td>16873</td>\n",
       "      <td>1174</td>\n",
       "      <td>0.069579</td>\n",
       "    </tr>\n",
       "    <tr>\n",
       "      <th>19</th>\n",
       "      <td>2025-08-30</td>\n",
       "      <td>14891</td>\n",
       "      <td>1165</td>\n",
       "      <td>0.078235</td>\n",
       "    </tr>\n",
       "    <tr>\n",
       "      <th>20</th>\n",
       "      <td>2025-08-31</td>\n",
       "      <td>13266</td>\n",
       "      <td>1105</td>\n",
       "      <td>0.083296</td>\n",
       "    </tr>\n",
       "    <tr>\n",
       "      <th>21</th>\n",
       "      <td>2025-09-01</td>\n",
       "      <td>12685</td>\n",
       "      <td>1028</td>\n",
       "      <td>0.081041</td>\n",
       "    </tr>\n",
       "    <tr>\n",
       "      <th>22</th>\n",
       "      <td>2025-09-02</td>\n",
       "      <td>12672</td>\n",
       "      <td>1039</td>\n",
       "      <td>0.081992</td>\n",
       "    </tr>\n",
       "    <tr>\n",
       "      <th>23</th>\n",
       "      <td>2025-09-03</td>\n",
       "      <td>12777</td>\n",
       "      <td>1035</td>\n",
       "      <td>0.081005</td>\n",
       "    </tr>\n",
       "    <tr>\n",
       "      <th>24</th>\n",
       "      <td>2025-09-04</td>\n",
       "      <td>13683</td>\n",
       "      <td>1007</td>\n",
       "      <td>0.073595</td>\n",
       "    </tr>\n",
       "    <tr>\n",
       "      <th>25</th>\n",
       "      <td>2025-09-05</td>\n",
       "      <td>15324</td>\n",
       "      <td>1030</td>\n",
       "      <td>0.067215</td>\n",
       "    </tr>\n",
       "    <tr>\n",
       "      <th>26</th>\n",
       "      <td>2025-09-06</td>\n",
       "      <td>13078</td>\n",
       "      <td>1023</td>\n",
       "      <td>0.078223</td>\n",
       "    </tr>\n",
       "    <tr>\n",
       "      <th>27</th>\n",
       "      <td>2025-09-07</td>\n",
       "      <td>12367</td>\n",
       "      <td>1069</td>\n",
       "      <td>0.086440</td>\n",
       "    </tr>\n",
       "    <tr>\n",
       "      <th>28</th>\n",
       "      <td>2025-09-08</td>\n",
       "      <td>11826</td>\n",
       "      <td>1009</td>\n",
       "      <td>0.085320</td>\n",
       "    </tr>\n",
       "    <tr>\n",
       "      <th>29</th>\n",
       "      <td>2025-09-09</td>\n",
       "      <td>11780</td>\n",
       "      <td>980</td>\n",
       "      <td>0.083192</td>\n",
       "    </tr>\n",
       "    <tr>\n",
       "      <th>30</th>\n",
       "      <td>2025-09-10</td>\n",
       "      <td>12526</td>\n",
       "      <td>1015</td>\n",
       "      <td>0.081031</td>\n",
       "    </tr>\n",
       "    <tr>\n",
       "      <th>31</th>\n",
       "      <td>2025-09-11</td>\n",
       "      <td>8623</td>\n",
       "      <td>824</td>\n",
       "      <td>0.095558</td>\n",
       "    </tr>\n",
       "    <tr>\n",
       "      <th>32</th>\n",
       "      <td>2025-09-12</td>\n",
       "      <td>6436</td>\n",
       "      <td>669</td>\n",
       "      <td>0.103947</td>\n",
       "    </tr>\n",
       "    <tr>\n",
       "      <th>33</th>\n",
       "      <td>2025-09-13</td>\n",
       "      <td>5183</td>\n",
       "      <td>537</td>\n",
       "      <td>0.103608</td>\n",
       "    </tr>\n",
       "    <tr>\n",
       "      <th>34</th>\n",
       "      <td>2025-09-14</td>\n",
       "      <td>4364</td>\n",
       "      <td>440</td>\n",
       "      <td>0.100825</td>\n",
       "    </tr>\n",
       "    <tr>\n",
       "      <th>35</th>\n",
       "      <td>2025-09-15</td>\n",
       "      <td>3698</td>\n",
       "      <td>383</td>\n",
       "      <td>0.103569</td>\n",
       "    </tr>\n",
       "    <tr>\n",
       "      <th>36</th>\n",
       "      <td>2025-09-16</td>\n",
       "      <td>3032</td>\n",
       "      <td>286</td>\n",
       "      <td>0.094327</td>\n",
       "    </tr>\n",
       "    <tr>\n",
       "      <th>37</th>\n",
       "      <td>2025-09-17</td>\n",
       "      <td>2548</td>\n",
       "      <td>272</td>\n",
       "      <td>0.106750</td>\n",
       "    </tr>\n",
       "    <tr>\n",
       "      <th>38</th>\n",
       "      <td>2025-09-18</td>\n",
       "      <td>1952</td>\n",
       "      <td>201</td>\n",
       "      <td>0.102971</td>\n",
       "    </tr>\n",
       "    <tr>\n",
       "      <th>39</th>\n",
       "      <td>2025-09-19</td>\n",
       "      <td>1418</td>\n",
       "      <td>132</td>\n",
       "      <td>0.093089</td>\n",
       "    </tr>\n",
       "    <tr>\n",
       "      <th>40</th>\n",
       "      <td>2025-09-20</td>\n",
       "      <td>1100</td>\n",
       "      <td>107</td>\n",
       "      <td>0.097273</td>\n",
       "    </tr>\n",
       "    <tr>\n",
       "      <th>41</th>\n",
       "      <td>2025-09-21</td>\n",
       "      <td>776</td>\n",
       "      <td>87</td>\n",
       "      <td>0.112113</td>\n",
       "    </tr>\n",
       "    <tr>\n",
       "      <th>42</th>\n",
       "      <td>2025-09-22</td>\n",
       "      <td>546</td>\n",
       "      <td>68</td>\n",
       "      <td>0.124542</td>\n",
       "    </tr>\n",
       "    <tr>\n",
       "      <th>43</th>\n",
       "      <td>2025-09-23</td>\n",
       "      <td>317</td>\n",
       "      <td>32</td>\n",
       "      <td>0.100946</td>\n",
       "    </tr>\n",
       "  </tbody>\n",
       "</table>\n",
       "</div>"
      ],
      "text/plain": [
       "   session_date  users_count  registered_count  registered_share\n",
       "0    2025-08-11         3919               169          0.043123\n",
       "1    2025-08-12         6056               336          0.055482\n",
       "2    2025-08-13         8489               464          0.054659\n",
       "3    2025-08-14        10321               625          0.060556\n",
       "4    2025-08-15        14065               840          0.059723\n",
       "5    2025-08-16        12205               916          0.075051\n",
       "6    2025-08-17        11200               833          0.074375\n",
       "7    2025-08-18        10839               860          0.079343\n",
       "8    2025-08-19        12118               831          0.068576\n",
       "9    2025-08-20        13514              1008          0.074589\n",
       "10   2025-08-21        15051              1063          0.070627\n",
       "11   2025-08-22        17563              1251          0.071229\n",
       "12   2025-08-23        16082              1253          0.077913\n",
       "13   2025-08-24        13683              1181          0.086311\n",
       "14   2025-08-25        13635              1060          0.077741\n",
       "15   2025-08-26        13289              1050          0.079013\n",
       "16   2025-08-27        14766              1076          0.072870\n",
       "17   2025-08-28        15388              1175          0.076358\n",
       "18   2025-08-29        16873              1174          0.069579\n",
       "19   2025-08-30        14891              1165          0.078235\n",
       "20   2025-08-31        13266              1105          0.083296\n",
       "21   2025-09-01        12685              1028          0.081041\n",
       "22   2025-09-02        12672              1039          0.081992\n",
       "23   2025-09-03        12777              1035          0.081005\n",
       "24   2025-09-04        13683              1007          0.073595\n",
       "25   2025-09-05        15324              1030          0.067215\n",
       "26   2025-09-06        13078              1023          0.078223\n",
       "27   2025-09-07        12367              1069          0.086440\n",
       "28   2025-09-08        11826              1009          0.085320\n",
       "29   2025-09-09        11780               980          0.083192\n",
       "30   2025-09-10        12526              1015          0.081031\n",
       "31   2025-09-11         8623               824          0.095558\n",
       "32   2025-09-12         6436               669          0.103947\n",
       "33   2025-09-13         5183               537          0.103608\n",
       "34   2025-09-14         4364               440          0.100825\n",
       "35   2025-09-15         3698               383          0.103569\n",
       "36   2025-09-16         3032               286          0.094327\n",
       "37   2025-09-17         2548               272          0.106750\n",
       "38   2025-09-18         1952               201          0.102971\n",
       "39   2025-09-19         1418               132          0.093089\n",
       "40   2025-09-20         1100               107          0.097273\n",
       "41   2025-09-21          776                87          0.112113\n",
       "42   2025-09-22          546                68          0.124542\n",
       "43   2025-09-23          317                32          0.100946"
      ]
     },
     "execution_count": 6,
     "metadata": {},
     "output_type": "execute_result"
    }
   ],
   "source": [
    "# Считаем ежедневные значения:\n",
    "# - количество уникальных пользователей в день,\n",
    "# - количество зарегистрированных пользователей (сумма по registration_flag),\n",
    "# - долю зарегистрированных пользователей от общего количества пользователей (среднее по registration_flag).\n",
    "\n",
    "sessions_history_users_count = (\n",
    "    sessions_history_agg\n",
    "    .groupby('session_date')\n",
    "    .agg(users_count=('user_id', 'count'),\n",
    "        registered_count=('registration_flag', 'sum'),\n",
    "        registered_share=('registration_flag', 'mean'))\n",
    ").reset_index()\n",
    "\n",
    "# Выводим результат\n",
    "sessions_history_users_count"
   ]
  },
  {
   "cell_type": "code",
   "execution_count": 7,
   "metadata": {},
   "outputs": [
    {
     "data": {
      "image/png": "[encoded data removed]",
      "text/plain": [
       "<Figure size 1500x700 with 1 Axes>"
      ]
     },
     "metadata": {},
     "output_type": "display_data"
    }
   ],
   "source": [
    "# Строим линейный график общего числа пользователей и общего числа зарегистрированных пользователей по дням\n",
    "\n",
    "# Создаём контейнер графика matplotlib и задаём его размер\n",
    "plt.figure(figsize=(15, 7))\n",
    "\n",
    "# Строим линейный график — количество уникальных пользователей в день\n",
    "sns.lineplot(\n",
    "    data=sessions_history_users_count,\n",
    "    x='session_date',\n",
    "    y='users_count',\n",
    "    label='Все пользователи',\n",
    "    marker='s',\n",
    "    linestyle='--'\n",
    ")\n",
    "\n",
    "# Строим линейный график — количество зарегистрированных пользователей в день\n",
    "sns.lineplot(\n",
    "    data=sessions_history_users_count,\n",
    "    x='session_date',\n",
    "    y='registered_count',\n",
    "    label='Зарегистрированные пользователи',\n",
    "    marker='o',\n",
    "    linestyle='-' \n",
    ")\n",
    "\n",
    "# Заголовок и подписи осей\n",
    "plt.title(\"Изменение общего числа пользователей и общего числа зарегистрированных пользователей по дням\")\n",
    "plt.xlabel(\"Дни\")\n",
    "plt.ylabel(\"Количество пользователей\")\n",
    "\n",
    "# Поворачиваем подписи на оси X вертикально\n",
    "plt.xticks(rotation=90)\n",
    "\n",
    "# Настраиваем легенду\n",
    "plt.legend()\n",
    "\n",
    "# Добавляем сетку\n",
    "plt.grid()\n",
    "\n",
    "# Выводим график\n",
    "plt.show()"
   ]
  },
  {
   "cell_type": "code",
   "execution_count": 8,
   "metadata": {},
   "outputs": [
    {
     "data": {
      "image/png": "[encoded data removed]",
      "text/plain": [
       "<Figure size 1500x700 with 1 Axes>"
      ]
     },
     "metadata": {},
     "output_type": "display_data"
    }
   ],
   "source": [
    "# Строим линейный график доли зарегистрированных пользователей от всех пользователей по дням\n",
    "\n",
    "# Создаём контейнер графика matplotlib и задаём его размер\n",
    "plt.figure(figsize=(15, 7))\n",
    "\n",
    "# Строим линейный график\n",
    "sns.lineplot(\n",
    "    data=sessions_history_users_count,\n",
    "    x='session_date',\n",
    "    y='registered_share',\n",
    "    marker='o',\n",
    "    linestyle='-'\n",
    ")\n",
    "\n",
    "# Заголовок и подписи осей\n",
    "plt.title(\"Изменение доли зарегистрированных пользователей от всех пользователей по дням\")\n",
    "plt.xlabel(\"Дни\")\n",
    "plt.ylabel(\"Доля зарегистрированных пользователей\")\n",
    "\n",
    "# Поворачиваем подписи на оси X вертикально\n",
    "plt.xticks(rotation=90)\n",
    "\n",
    "# Добавляем сетку\n",
    "plt.grid()\n",
    "\n",
    "# Выводим график\n",
    "plt.show()"
   ]
  },
  {
   "cell_type": "markdown",
   "metadata": {},
   "source": [
    "Аудитория приложения сначала быстро росла и достигла пика 22 августа (около 17,5 тыс. пользователей), после чего началось устойчивое снижение. При этом доля регистраций последовательно увеличивалась с 4% до 10–12%, что говорит о росте конверсии: пользователей стало меньше, но среди них больше тех, кто регистрируется. По дням недели активность распределена неравномерно: максимум по пользователям наблюдается в четверг–пятницу, по регистрациям — в пятницу–субботу, а минимальные значения приходятся на воскресенье-понедельник.\n",
    "\n",
    "---"
   ]
  },
  {
   "cell_type": "markdown",
   "metadata": {
    "id": "UR7D7RhF0eMr"
   },
   "source": [
    "### Анализ числа просмотренных страниц"
   ]
  },
  {
   "cell_type": "markdown",
   "metadata": {},
   "source": [
    "Анализ числа просмотренных страниц поможет определить типичное поведение пользователей и выбрать реалистичный порог «успешной сессии» (например, просмотр не менее 4 страниц), доли которых мы будем сравнивать в рамках A/B-теста."
   ]
  },
  {
   "cell_type": "code",
   "execution_count": 9,
   "metadata": {
    "id": "cb6hPlVzPaSf"
   },
   "outputs": [
    {
     "data": {
      "text/html": [
       "<div>\n",
       "<style scoped>\n",
       "    .dataframe tbody tr th:only-of-type {\n",
       "        vertical-align: middle;\n",
       "    }\n",
       "\n",
       "    .dataframe tbody tr th {\n",
       "        vertical-align: top;\n",
       "    }\n",
       "\n",
       "    .dataframe thead th {\n",
       "        text-align: right;\n",
       "    }\n",
       "</style>\n",
       "<table border=\"1\" class=\"dataframe\">\n",
       "  <thead>\n",
       "    <tr style=\"text-align: right;\">\n",
       "      <th></th>\n",
       "      <th>page_counter</th>\n",
       "      <th>sessions_count</th>\n",
       "    </tr>\n",
       "  </thead>\n",
       "  <tbody>\n",
       "    <tr>\n",
       "      <th>0</th>\n",
       "      <td>1</td>\n",
       "      <td>29160</td>\n",
       "    </tr>\n",
       "    <tr>\n",
       "      <th>1</th>\n",
       "      <td>2</td>\n",
       "      <td>105536</td>\n",
       "    </tr>\n",
       "    <tr>\n",
       "      <th>2</th>\n",
       "      <td>3</td>\n",
       "      <td>166690</td>\n",
       "    </tr>\n",
       "    <tr>\n",
       "      <th>3</th>\n",
       "      <td>4</td>\n",
       "      <td>105569</td>\n",
       "    </tr>\n",
       "    <tr>\n",
       "      <th>4</th>\n",
       "      <td>5</td>\n",
       "      <td>26288</td>\n",
       "    </tr>\n",
       "    <tr>\n",
       "      <th>5</th>\n",
       "      <td>6</td>\n",
       "      <td>2589</td>\n",
       "    </tr>\n",
       "    <tr>\n",
       "      <th>6</th>\n",
       "      <td>7</td>\n",
       "      <td>92</td>\n",
       "    </tr>\n",
       "  </tbody>\n",
       "</table>\n",
       "</div>"
      ],
      "text/plain": [
       "   page_counter  sessions_count\n",
       "0             1           29160\n",
       "1             2          105536\n",
       "2             3          166690\n",
       "3             4          105569\n",
       "4             5           26288\n",
       "5             6            2589\n",
       "6             7              92"
      ]
     },
     "execution_count": 9,
     "metadata": {},
     "output_type": "execute_result"
    }
   ],
   "source": [
    "# Находим количество сессий для каждого значения количества просмотренных страниц\n",
    "sessions_history_sessions_count = sessions_history.groupby('page_counter')['session_id'].count().reset_index()\n",
    "sessions_history_sessions_count = sessions_history_sessions_count.rename(columns={'session_id': 'sessions_count'})\n",
    "sessions_history_sessions_count"
   ]
  },
  {
   "cell_type": "code",
   "execution_count": 54,
   "metadata": {},
   "outputs": [
    {
     "data": {
      "image/png": "[encoded data removed]",
      "text/plain": [
       "<Figure size 700x300 with 1 Axes>"
      ]
     },
     "metadata": {},
     "output_type": "display_data"
    }
   ],
   "source": [
    "# Создаём контейнер графика matplotlib и задаём его размер\n",
    "plt.figure(figsize=(7, 3))\n",
    "\n",
    "# Строим горизонтальный barplot\n",
    "sns.barplot(\n",
    "    data=sessions_history_sessions_count,\n",
    "    x='page_counter',\n",
    "    y='sessions_count'\n",
    ")\n",
    "\n",
    "# Заголовок и подписи осей\n",
    "plt.title('Анализ числа просмотренных страниц')\n",
    "plt.xlabel('Число просмотренных страниц')\n",
    "plt.ylabel('Количество сессий')\n",
    "\n",
    "# Добавляем сетку\n",
    "plt.grid(axis='y')\n",
    "\n",
    "# Выводим график\n",
    "plt.show()"
   ]
  },
  {
   "cell_type": "markdown",
   "metadata": {},
   "source": [
    "Пользователи чаще всего просматривают 3 страницы за сессию (105569 сессий), активность резко падает после 4 страниц.\n",
    "\n",
    "---"
   ]
  },
  {
   "cell_type": "markdown",
   "metadata": {
    "id": "xDltSpVP0eMr"
   },
   "source": [
    "### Анализ доли успешных сессий"
   ]
  },
  {
   "cell_type": "markdown",
   "metadata": {},
   "source": [
    "Продуктовая команда продукта считает, что сессии, в рамках которых пользователь просмотрел 4 и более страниц, говорят об удовлетворённости контентом и алгоритмами рекомендаций. Этот показатель является важной прокси-метрикой для продукта. Его анализ позволит нам оценить базовое значение метрики, от которого мы будем отталкиваться в A/B-тесте.\n",
    "\n",
    "В датафрейме `sessions_history` создадим дополнительный столбец `good_session`. В него войдёт значение `1`, если за одну сессию было просмотрено 4 и более страниц, и значение `0`, если было просмотрено меньше."
   ]
  },
  {
   "cell_type": "code",
   "execution_count": 11,
   "metadata": {
    "id": "iygaPfixPYMW"
   },
   "outputs": [
    {
     "data": {
      "text/html": [
       "<div>\n",
       "<style scoped>\n",
       "    .dataframe tbody tr th:only-of-type {\n",
       "        vertical-align: middle;\n",
       "    }\n",
       "\n",
       "    .dataframe tbody tr th {\n",
       "        vertical-align: top;\n",
       "    }\n",
       "\n",
       "    .dataframe thead th {\n",
       "        text-align: right;\n",
       "    }\n",
       "</style>\n",
       "<table border=\"1\" class=\"dataframe\">\n",
       "  <thead>\n",
       "    <tr style=\"text-align: right;\">\n",
       "      <th></th>\n",
       "      <th>user_id</th>\n",
       "      <th>session_id</th>\n",
       "      <th>session_date</th>\n",
       "      <th>session_start_ts</th>\n",
       "      <th>install_date</th>\n",
       "      <th>session_number</th>\n",
       "      <th>registration_flag</th>\n",
       "      <th>page_counter</th>\n",
       "      <th>region</th>\n",
       "      <th>device</th>\n",
       "      <th>good_session</th>\n",
       "    </tr>\n",
       "  </thead>\n",
       "  <tbody>\n",
       "    <tr>\n",
       "      <th>0</th>\n",
       "      <td>E302123B7000BFE4</td>\n",
       "      <td>F9AF61A0C2023832</td>\n",
       "      <td>2025-08-15</td>\n",
       "      <td>2025-08-15 17:47:35</td>\n",
       "      <td>2025-08-15</td>\n",
       "      <td>1</td>\n",
       "      <td>0</td>\n",
       "      <td>3</td>\n",
       "      <td>CIS</td>\n",
       "      <td>iPhone</td>\n",
       "      <td>0</td>\n",
       "    </tr>\n",
       "    <tr>\n",
       "      <th>1</th>\n",
       "      <td>2530F72E221829FB</td>\n",
       "      <td>85003A206CBDAC6F</td>\n",
       "      <td>2025-08-15</td>\n",
       "      <td>2025-08-15 16:42:14</td>\n",
       "      <td>2025-08-15</td>\n",
       "      <td>1</td>\n",
       "      <td>0</td>\n",
       "      <td>4</td>\n",
       "      <td>MENA</td>\n",
       "      <td>Android</td>\n",
       "      <td>1</td>\n",
       "    </tr>\n",
       "    <tr>\n",
       "      <th>2</th>\n",
       "      <td>876E020A4FC512F5</td>\n",
       "      <td>3677423E49D72DEE</td>\n",
       "      <td>2025-08-15</td>\n",
       "      <td>2025-08-15 12:30:00</td>\n",
       "      <td>2025-08-15</td>\n",
       "      <td>1</td>\n",
       "      <td>0</td>\n",
       "      <td>4</td>\n",
       "      <td>EU</td>\n",
       "      <td>PC</td>\n",
       "      <td>1</td>\n",
       "    </tr>\n",
       "    <tr>\n",
       "      <th>3</th>\n",
       "      <td>2640B349E1D81584</td>\n",
       "      <td>956B45F5915CA225</td>\n",
       "      <td>2025-08-15</td>\n",
       "      <td>2025-08-15 15:31:31</td>\n",
       "      <td>2025-08-15</td>\n",
       "      <td>1</td>\n",
       "      <td>0</td>\n",
       "      <td>4</td>\n",
       "      <td>CIS</td>\n",
       "      <td>Android</td>\n",
       "      <td>1</td>\n",
       "    </tr>\n",
       "    <tr>\n",
       "      <th>4</th>\n",
       "      <td>94E1CBFAEF1F5EE9</td>\n",
       "      <td>83BF0DA35F9F1F40</td>\n",
       "      <td>2025-08-15</td>\n",
       "      <td>2025-08-15 21:33:53</td>\n",
       "      <td>2025-08-15</td>\n",
       "      <td>1</td>\n",
       "      <td>0</td>\n",
       "      <td>3</td>\n",
       "      <td>CIS</td>\n",
       "      <td>Android</td>\n",
       "      <td>0</td>\n",
       "    </tr>\n",
       "  </tbody>\n",
       "</table>\n",
       "</div>"
      ],
      "text/plain": [
       "            user_id        session_id session_date     session_start_ts  \\\n",
       "0  E302123B7000BFE4  F9AF61A0C2023832   2025-08-15  2025-08-15 17:47:35   \n",
       "1  2530F72E221829FB  85003A206CBDAC6F   2025-08-15  2025-08-15 16:42:14   \n",
       "2  876E020A4FC512F5  3677423E49D72DEE   2025-08-15  2025-08-15 12:30:00   \n",
       "3  2640B349E1D81584  956B45F5915CA225   2025-08-15  2025-08-15 15:31:31   \n",
       "4  94E1CBFAEF1F5EE9  83BF0DA35F9F1F40   2025-08-15  2025-08-15 21:33:53   \n",
       "\n",
       "  install_date  session_number  registration_flag  page_counter region  \\\n",
       "0   2025-08-15               1                  0             3    CIS   \n",
       "1   2025-08-15               1                  0             4   MENA   \n",
       "2   2025-08-15               1                  0             4     EU   \n",
       "3   2025-08-15               1                  0             4    CIS   \n",
       "4   2025-08-15               1                  0             3    CIS   \n",
       "\n",
       "    device  good_session  \n",
       "0   iPhone             0  \n",
       "1  Android             1  \n",
       "2       PC             1  \n",
       "3  Android             1  \n",
       "4  Android             0  "
      ]
     },
     "execution_count": 11,
     "metadata": {},
     "output_type": "execute_result"
    }
   ],
   "source": [
    "# Создаём функцию для заполнения столбца good_session\n",
    "def is_good_session(row):\n",
    "    if row['page_counter'] >= 4:\n",
    "        return 1\n",
    "    else:\n",
    "        return 0\n",
    "    \n",
    "# Применяем функцию к датафрейму\n",
    "sessions_history['good_session'] = sessions_history.apply(is_good_session, axis=1)\n",
    "\n",
    "# Проверяем результат\n",
    "sessions_history.head()"
   ]
  },
  {
   "cell_type": "code",
   "execution_count": 12,
   "metadata": {},
   "outputs": [
    {
     "data": {
      "text/html": [
       "<div>\n",
       "<style scoped>\n",
       "    .dataframe tbody tr th:only-of-type {\n",
       "        vertical-align: middle;\n",
       "    }\n",
       "\n",
       "    .dataframe tbody tr th {\n",
       "        vertical-align: top;\n",
       "    }\n",
       "\n",
       "    .dataframe thead th {\n",
       "        text-align: right;\n",
       "    }\n",
       "</style>\n",
       "<table border=\"1\" class=\"dataframe\">\n",
       "  <thead>\n",
       "    <tr style=\"text-align: right;\">\n",
       "      <th></th>\n",
       "      <th>session_date</th>\n",
       "      <th>good_session_share</th>\n",
       "    </tr>\n",
       "  </thead>\n",
       "  <tbody>\n",
       "    <tr>\n",
       "      <th>0</th>\n",
       "      <td>2025-08-11</td>\n",
       "      <td>0.312835</td>\n",
       "    </tr>\n",
       "    <tr>\n",
       "      <th>1</th>\n",
       "      <td>2025-08-12</td>\n",
       "      <td>0.302015</td>\n",
       "    </tr>\n",
       "    <tr>\n",
       "      <th>2</th>\n",
       "      <td>2025-08-13</td>\n",
       "      <td>0.306750</td>\n",
       "    </tr>\n",
       "    <tr>\n",
       "      <th>3</th>\n",
       "      <td>2025-08-14</td>\n",
       "      <td>0.316055</td>\n",
       "    </tr>\n",
       "    <tr>\n",
       "      <th>4</th>\n",
       "      <td>2025-08-15</td>\n",
       "      <td>0.304941</td>\n",
       "    </tr>\n",
       "    <tr>\n",
       "      <th>5</th>\n",
       "      <td>2025-08-16</td>\n",
       "      <td>0.306186</td>\n",
       "    </tr>\n",
       "    <tr>\n",
       "      <th>6</th>\n",
       "      <td>2025-08-17</td>\n",
       "      <td>0.317589</td>\n",
       "    </tr>\n",
       "    <tr>\n",
       "      <th>7</th>\n",
       "      <td>2025-08-18</td>\n",
       "      <td>0.310545</td>\n",
       "    </tr>\n",
       "    <tr>\n",
       "      <th>8</th>\n",
       "      <td>2025-08-19</td>\n",
       "      <td>0.312840</td>\n",
       "    </tr>\n",
       "    <tr>\n",
       "      <th>9</th>\n",
       "      <td>2025-08-20</td>\n",
       "      <td>0.306941</td>\n",
       "    </tr>\n",
       "    <tr>\n",
       "      <th>10</th>\n",
       "      <td>2025-08-21</td>\n",
       "      <td>0.303169</td>\n",
       "    </tr>\n",
       "    <tr>\n",
       "      <th>11</th>\n",
       "      <td>2025-08-22</td>\n",
       "      <td>0.313158</td>\n",
       "    </tr>\n",
       "    <tr>\n",
       "      <th>12</th>\n",
       "      <td>2025-08-23</td>\n",
       "      <td>0.302077</td>\n",
       "    </tr>\n",
       "    <tr>\n",
       "      <th>13</th>\n",
       "      <td>2025-08-24</td>\n",
       "      <td>0.309800</td>\n",
       "    </tr>\n",
       "    <tr>\n",
       "      <th>14</th>\n",
       "      <td>2025-08-25</td>\n",
       "      <td>0.305464</td>\n",
       "    </tr>\n",
       "    <tr>\n",
       "      <th>15</th>\n",
       "      <td>2025-08-26</td>\n",
       "      <td>0.310934</td>\n",
       "    </tr>\n",
       "    <tr>\n",
       "      <th>16</th>\n",
       "      <td>2025-08-27</td>\n",
       "      <td>0.311120</td>\n",
       "    </tr>\n",
       "    <tr>\n",
       "      <th>17</th>\n",
       "      <td>2025-08-28</td>\n",
       "      <td>0.310567</td>\n",
       "    </tr>\n",
       "    <tr>\n",
       "      <th>18</th>\n",
       "      <td>2025-08-29</td>\n",
       "      <td>0.313104</td>\n",
       "    </tr>\n",
       "    <tr>\n",
       "      <th>19</th>\n",
       "      <td>2025-08-30</td>\n",
       "      <td>0.313814</td>\n",
       "    </tr>\n",
       "    <tr>\n",
       "      <th>20</th>\n",
       "      <td>2025-08-31</td>\n",
       "      <td>0.302503</td>\n",
       "    </tr>\n",
       "    <tr>\n",
       "      <th>21</th>\n",
       "      <td>2025-09-01</td>\n",
       "      <td>0.312495</td>\n",
       "    </tr>\n",
       "    <tr>\n",
       "      <th>22</th>\n",
       "      <td>2025-09-02</td>\n",
       "      <td>0.315499</td>\n",
       "    </tr>\n",
       "    <tr>\n",
       "      <th>23</th>\n",
       "      <td>2025-09-03</td>\n",
       "      <td>0.304140</td>\n",
       "    </tr>\n",
       "    <tr>\n",
       "      <th>24</th>\n",
       "      <td>2025-09-04</td>\n",
       "      <td>0.315501</td>\n",
       "    </tr>\n",
       "    <tr>\n",
       "      <th>25</th>\n",
       "      <td>2025-09-05</td>\n",
       "      <td>0.303837</td>\n",
       "    </tr>\n",
       "    <tr>\n",
       "      <th>26</th>\n",
       "      <td>2025-09-06</td>\n",
       "      <td>0.304557</td>\n",
       "    </tr>\n",
       "    <tr>\n",
       "      <th>27</th>\n",
       "      <td>2025-09-07</td>\n",
       "      <td>0.312121</td>\n",
       "    </tr>\n",
       "    <tr>\n",
       "      <th>28</th>\n",
       "      <td>2025-09-08</td>\n",
       "      <td>0.308811</td>\n",
       "    </tr>\n",
       "    <tr>\n",
       "      <th>29</th>\n",
       "      <td>2025-09-09</td>\n",
       "      <td>0.305518</td>\n",
       "    </tr>\n",
       "    <tr>\n",
       "      <th>30</th>\n",
       "      <td>2025-09-10</td>\n",
       "      <td>0.305125</td>\n",
       "    </tr>\n",
       "    <tr>\n",
       "      <th>31</th>\n",
       "      <td>2025-09-11</td>\n",
       "      <td>0.304650</td>\n",
       "    </tr>\n",
       "    <tr>\n",
       "      <th>32</th>\n",
       "      <td>2025-09-12</td>\n",
       "      <td>0.301585</td>\n",
       "    </tr>\n",
       "    <tr>\n",
       "      <th>33</th>\n",
       "      <td>2025-09-13</td>\n",
       "      <td>0.299055</td>\n",
       "    </tr>\n",
       "    <tr>\n",
       "      <th>34</th>\n",
       "      <td>2025-09-14</td>\n",
       "      <td>0.307745</td>\n",
       "    </tr>\n",
       "    <tr>\n",
       "      <th>35</th>\n",
       "      <td>2025-09-15</td>\n",
       "      <td>0.305841</td>\n",
       "    </tr>\n",
       "    <tr>\n",
       "      <th>36</th>\n",
       "      <td>2025-09-16</td>\n",
       "      <td>0.312005</td>\n",
       "    </tr>\n",
       "    <tr>\n",
       "      <th>37</th>\n",
       "      <td>2025-09-17</td>\n",
       "      <td>0.320251</td>\n",
       "    </tr>\n",
       "    <tr>\n",
       "      <th>38</th>\n",
       "      <td>2025-09-18</td>\n",
       "      <td>0.292520</td>\n",
       "    </tr>\n",
       "    <tr>\n",
       "      <th>39</th>\n",
       "      <td>2025-09-19</td>\n",
       "      <td>0.318054</td>\n",
       "    </tr>\n",
       "    <tr>\n",
       "      <th>40</th>\n",
       "      <td>2025-09-20</td>\n",
       "      <td>0.301818</td>\n",
       "    </tr>\n",
       "    <tr>\n",
       "      <th>41</th>\n",
       "      <td>2025-09-21</td>\n",
       "      <td>0.288660</td>\n",
       "    </tr>\n",
       "    <tr>\n",
       "      <th>42</th>\n",
       "      <td>2025-09-22</td>\n",
       "      <td>0.309524</td>\n",
       "    </tr>\n",
       "    <tr>\n",
       "      <th>43</th>\n",
       "      <td>2025-09-23</td>\n",
       "      <td>0.290221</td>\n",
       "    </tr>\n",
       "  </tbody>\n",
       "</table>\n",
       "</div>"
      ],
      "text/plain": [
       "   session_date  good_session_share\n",
       "0    2025-08-11            0.312835\n",
       "1    2025-08-12            0.302015\n",
       "2    2025-08-13            0.306750\n",
       "3    2025-08-14            0.316055\n",
       "4    2025-08-15            0.304941\n",
       "5    2025-08-16            0.306186\n",
       "6    2025-08-17            0.317589\n",
       "7    2025-08-18            0.310545\n",
       "8    2025-08-19            0.312840\n",
       "9    2025-08-20            0.306941\n",
       "10   2025-08-21            0.303169\n",
       "11   2025-08-22            0.313158\n",
       "12   2025-08-23            0.302077\n",
       "13   2025-08-24            0.309800\n",
       "14   2025-08-25            0.305464\n",
       "15   2025-08-26            0.310934\n",
       "16   2025-08-27            0.311120\n",
       "17   2025-08-28            0.310567\n",
       "18   2025-08-29            0.313104\n",
       "19   2025-08-30            0.313814\n",
       "20   2025-08-31            0.302503\n",
       "21   2025-09-01            0.312495\n",
       "22   2025-09-02            0.315499\n",
       "23   2025-09-03            0.304140\n",
       "24   2025-09-04            0.315501\n",
       "25   2025-09-05            0.303837\n",
       "26   2025-09-06            0.304557\n",
       "27   2025-09-07            0.312121\n",
       "28   2025-09-08            0.308811\n",
       "29   2025-09-09            0.305518\n",
       "30   2025-09-10            0.305125\n",
       "31   2025-09-11            0.304650\n",
       "32   2025-09-12            0.301585\n",
       "33   2025-09-13            0.299055\n",
       "34   2025-09-14            0.307745\n",
       "35   2025-09-15            0.305841\n",
       "36   2025-09-16            0.312005\n",
       "37   2025-09-17            0.320251\n",
       "38   2025-09-18            0.292520\n",
       "39   2025-09-19            0.318054\n",
       "40   2025-09-20            0.301818\n",
       "41   2025-09-21            0.288660\n",
       "42   2025-09-22            0.309524\n",
       "43   2025-09-23            0.290221"
      ]
     },
     "execution_count": 12,
     "metadata": {},
     "output_type": "execute_result"
    }
   ],
   "source": [
    "# Готовим данные к визуализации\n",
    "sessions_history_good_session = sessions_history.groupby('session_date')['good_session'].mean().reset_index()\n",
    "sessions_history_good_session = sessions_history_good_session.rename(columns={'good_session': 'good_session_share'})\n",
    "sessions_history_good_session"
   ]
  },
  {
   "cell_type": "code",
   "execution_count": 13,
   "metadata": {},
   "outputs": [
    {
     "data": {
      "image/png": "[encoded data removed]",
      "text/plain": [
       "<Figure size 1500x700 with 1 Axes>"
      ]
     },
     "metadata": {},
     "output_type": "display_data"
    }
   ],
   "source": [
    "# Создаём контейнер графика matplotlib и задаём его размер\n",
    "plt.figure(figsize=(15, 7))\n",
    "\n",
    "# Строим линейный график\n",
    "sns.lineplot(\n",
    "    data=sessions_history_good_session,\n",
    "    x='session_date',\n",
    "    y='good_session_share',\n",
    "    marker='o',\n",
    "    linestyle='-'\n",
    ")\n",
    "\n",
    "# Заголовок и подписи осей\n",
    "plt.title(\"Изменение доли успешных сессий (>= 4 страницы) от всех сессий по дням\")\n",
    "plt.xlabel(\"Дни\")\n",
    "plt.ylabel(\"Доля успешных сессий\")\n",
    "\n",
    "# Поворачиваем подписи на оси X вертикально\n",
    "plt.xticks(rotation=90)\n",
    "\n",
    "# Добавляем сетку\n",
    "plt.grid()\n",
    "\n",
    "# Выводим график\n",
    "plt.show()"
   ]
  },
  {
   "cell_type": "markdown",
   "metadata": {},
   "source": [
    "Доля успешных сессий (>=4 страницы) по дням остаётся относительно стабильной и колеблется в диапазоне примерно 29–32%.\n",
    "\n",
    "---"
   ]
  },
  {
   "cell_type": "markdown",
   "metadata": {},
   "source": [
    "### Вывод после работы с историческими данными"
   ]
  },
  {
   "cell_type": "markdown",
   "metadata": {},
   "source": [
    "По историческим данным видно, что активность пользователей приложения постепенно снижается после августовского пика, при этом конверсия в регистрацию растёт — аудитория становится более целевой и заинтересованной. Поведение пользователей относительно стабильное: большинство ограничивается тремя просмотрами за сессию, а доля «успешных» сессий (с четырьмя и более просмотрами) держится на уровне 29–32% без значимых колебаний.\n",
    "\n",
    "Это говорит о том, что пользовательская активность и глубина взаимодействия с контентом относительно устойчивы, поэтому эксперимент можно проводить, не опасаясь сильных внешних и сезонных искажений. Но из-за снижения числа пользователей важно проверить, что в обе группы попадёт достаточно трафика, чтобы результаты теста были надёжными.\n",
    "\n",
    "---"
   ]
  },
  {
   "cell_type": "markdown",
   "metadata": {
    "id": "21JcG77Y0eMt"
   },
   "source": [
    "## Подготовка к тесту"
   ]
  },
  {
   "cell_type": "markdown",
   "metadata": {},
   "source": [
    "Мы определились, что целевой метрикой A/B-теста будет доля успешных сессий (просмотр не менее 4 страниц за сессию). \n",
    "\n",
    "При планировании теста необходимо проделать ещё несколько важных шагов:\n",
    "\n",
    "- Сформулировать нулевую и альтернативную гипотезы\n",
    "- Рассчитать необходимый размер выборки.\n",
    "- Исходя из текущих значений трафика рассчитать необходимую длительность проведения теста.\n",
    "\n",
    "---"
   ]
  },
  {
   "cell_type": "markdown",
   "metadata": {
    "id": "kXdcwkjf859k"
   },
   "source": [
    "### Формулировка нулевой и альтернативной гипотез"
   ]
  },
  {
   "cell_type": "markdown",
   "metadata": {
    "id": "RiKI8eT49h3F"
   },
   "source": [
    "Сформулируем нулевую и альтернативную гипотезы:\n",
    "\n",
    "**Нулевая гипотеза (H₀):**\n",
    "Доля успешных сессий (>= 4 страницы) у пользователей, использующих новый алгоритм рекомендаций, не выше, чем у пользователей, не использующих новый алгоритм.\n",
    "\n",
    "**Альтернативная гипотеза (H₁):**\n",
    "Доля успешных сессий (>= 4 страницы) у пользователей, использующих новый алгоритм рекомендаций, выше, чем у пользователей, не использующих новый алгоритм.\n",
    "\n",
    "---"
   ]
  },
  {
   "cell_type": "markdown",
   "metadata": {
    "id": "uzaeln270eMt"
   },
   "source": [
    "### Расчёт размера выборки"
   ]
  },
  {
   "cell_type": "markdown",
   "metadata": {},
   "source": [
    "Параметры теста:\n",
    "\n",
    "- Уровень значимости — 0.05.\n",
    "- Вероятность ошибки второго рода — 0.2.\n",
    "- Мощность теста — 0.8.\n",
    "- Минимальный детектируемый эффект (MDE) — 3% в относительном выражении.\n",
    "\n",
    "При расчёте используем метод `solve_power()` из класса `power.NormalIndPower` модуля `statsmodels.stats`."
   ]
  },
  {
   "cell_type": "code",
   "execution_count": 14,
   "metadata": {
    "id": "zSxJyPGPNdaI"
   },
   "outputs": [
    {
     "name": "stdout",
     "output_type": "stream",
     "text": [
      "Необходимый размер выборки для каждой группы: 41040\n"
     ]
    }
   ],
   "source": [
    "from statsmodels.stats.power import NormalIndPower\n",
    "from statsmodels.stats.proportion import proportion_effectsize\n",
    "\n",
    "# Задаём параметры\n",
    "alpha = 0.05  # Уровень значимости\n",
    "beta = 0.2  # Ошибка второго рода, часто 1 - мощность\n",
    "power = 0.8  # Мощность теста\n",
    "p = 0.3 # Базовый уровень доли\n",
    "mde = 0.03 * p  # Минимальный детектируемый эффект\n",
    "effect_size = proportion_effectsize(p, p + mde)\n",
    "\n",
    "# Инициализируем класс NormalIndPower\n",
    "power_analysis = NormalIndPower()\n",
    "\n",
    "# Рассчитываем размер выборки\n",
    "sample_size = power_analysis.solve_power(\n",
    "    effect_size = effect_size,\n",
    "    power = power,\n",
    "    alpha = alpha,\n",
    "    ratio = 1 # Равномерное распределение выборок\n",
    ")\n",
    "\n",
    "print(f\"Необходимый размер выборки для каждой группы: {int(sample_size)}\")"
   ]
  },
  {
   "cell_type": "markdown",
   "metadata": {},
   "source": [
    "---"
   ]
  },
  {
   "cell_type": "markdown",
   "metadata": {
    "id": "qLEv4RoV0eMu"
   },
   "source": [
    "### Расчёт длительности A/B-теста\n",
    "\n",
    "Определим длительность теста исходя из рассчитанного значения размера выборок и среднего дневного трафика приложения."
   ]
  },
  {
   "cell_type": "code",
   "execution_count": 48,
   "metadata": {
    "id": "KZDRbryDOGHa"
   },
   "outputs": [
    {
     "name": "stdout",
     "output_type": "stream",
     "text": [
      "Рассчитанная длительность A/B-теста при среднем дневном трафике в 9907 пользователей в день составит 9 дней\n"
     ]
    }
   ],
   "source": [
    "from math import ceil\n",
    "\n",
    "# Среднее количество пользователей приложения в день по историческим данным\n",
    "avg_daily_users = round(sessions_history.groupby('session_date')['user_id'].nunique().mean())\n",
    "\n",
    "# Рассчитываем длительность теста в днях как отношение размера выборки к среднему числу пользователей\n",
    "test_duration = ceil(sample_size * 2 / avg_daily_users)\n",
    "\n",
    "print(f\"Рассчитанная длительность A/B-теста при среднем дневном трафике в {avg_daily_users} пользователей в день составит {test_duration} дней\")"
   ]
  },
  {
   "cell_type": "markdown",
   "metadata": {},
   "source": [
    "---"
   ]
  },
  {
   "cell_type": "markdown",
   "metadata": {},
   "source": [
    "### Вывод после подготовки к тесту"
   ]
  },
  {
   "cell_type": "markdown",
   "metadata": {},
   "source": [
    "Обобщим информацию о тесте:\n",
    "\n",
    "**Ключевая метрика:** доля успешных сессий (просмотр не менее 4 страниц за одну сессию).\n",
    "\n",
    "**Гипотезы:**\n",
    "- H₀: Доля успешных сессий (>= 4 страниц) у пользователей, использующих новый алгоритм не выше, чем у не использующих.\n",
    "- H₁: Доля успешных сессий (>= 4 страниц) у пользователей, использующих новый алгоритм выше, чем у не использующих.\n",
    "\n",
    "**Параметры теста:**\n",
    "- Уровень значимости — 0.05.\n",
    "- Вероятность ошибки второго рода — 0.2.\n",
    "- Мощность теста — 0.8.\n",
    "- Минимальный детектируемый эффект (MDE) — 3% в относительном выражении.\n",
    "\n",
    "**Размер выборки:** 41 040 для каждой группы.\n",
    "\n",
    "**Длительность теста:** 9 дней при среднем дневном трафике в 9 907 пользователей. Однако нужно учитывать общее снижение аудитории: может потребоваться продлить эксперимент, чтобы набрать необходимое количество пользователей.\n",
    "\n",
    "---"
   ]
  },
  {
   "cell_type": "markdown",
   "metadata": {
    "id": "ZuvtAdha0eMv"
   },
   "source": [
    "## Мониторинг А/В-теста"
   ]
  },
  {
   "cell_type": "markdown",
   "metadata": {},
   "source": [
    "A/B-тест успешно запущен, и уже доступны данные за первые три дня. На этом этапе нужно убедиться, что всё идёт хорошо: пользователи разделены правильным образом, а интересующие нас метрики корректно считаются."
   ]
  },
  {
   "cell_type": "markdown",
   "metadata": {},
   "source": [
    "### Загрузка данных и знакомство с ними"
   ]
  },
  {
   "cell_type": "code",
   "execution_count": 16,
   "metadata": {
    "id": "G1bqIzDJOUiz"
   },
   "outputs": [],
   "source": [
    "# Выгружаем данные за первые три дня теста\n",
    "sessions_test_part = pd.read_csv('https://code.s3.yandex.net/datasets/sessions_project_test_part.csv')"
   ]
  },
  {
   "cell_type": "code",
   "execution_count": 17,
   "metadata": {},
   "outputs": [
    {
     "data": {
      "text/html": [
       "<div>\n",
       "<style scoped>\n",
       "    .dataframe tbody tr th:only-of-type {\n",
       "        vertical-align: middle;\n",
       "    }\n",
       "\n",
       "    .dataframe tbody tr th {\n",
       "        vertical-align: top;\n",
       "    }\n",
       "\n",
       "    .dataframe thead th {\n",
       "        text-align: right;\n",
       "    }\n",
       "</style>\n",
       "<table border=\"1\" class=\"dataframe\">\n",
       "  <thead>\n",
       "    <tr style=\"text-align: right;\">\n",
       "      <th></th>\n",
       "      <th>user_id</th>\n",
       "      <th>session_id</th>\n",
       "      <th>session_date</th>\n",
       "      <th>session_start_ts</th>\n",
       "      <th>install_date</th>\n",
       "      <th>session_number</th>\n",
       "      <th>registration_flag</th>\n",
       "      <th>page_counter</th>\n",
       "      <th>region</th>\n",
       "      <th>device</th>\n",
       "      <th>test_group</th>\n",
       "    </tr>\n",
       "  </thead>\n",
       "  <tbody>\n",
       "    <tr>\n",
       "      <th>0</th>\n",
       "      <td>3404844B53442747</td>\n",
       "      <td>B4901323BD537E45</td>\n",
       "      <td>2025-10-14</td>\n",
       "      <td>2025-10-14 19:28:49</td>\n",
       "      <td>2025-10-14</td>\n",
       "      <td>1</td>\n",
       "      <td>0</td>\n",
       "      <td>3</td>\n",
       "      <td>CIS</td>\n",
       "      <td>Android</td>\n",
       "      <td>B</td>\n",
       "    </tr>\n",
       "    <tr>\n",
       "      <th>1</th>\n",
       "      <td>3A2BF4D364E62D89</td>\n",
       "      <td>216FC619308F8788</td>\n",
       "      <td>2025-10-14</td>\n",
       "      <td>2025-10-14 21:11:04</td>\n",
       "      <td>2025-10-14</td>\n",
       "      <td>1</td>\n",
       "      <td>0</td>\n",
       "      <td>3</td>\n",
       "      <td>MENA</td>\n",
       "      <td>iPhone</td>\n",
       "      <td>A</td>\n",
       "    </tr>\n",
       "    <tr>\n",
       "      <th>2</th>\n",
       "      <td>79CDAE11E32B1597</td>\n",
       "      <td>EDFCE4AC1A504074</td>\n",
       "      <td>2025-10-14</td>\n",
       "      <td>2025-10-14 21:44:03</td>\n",
       "      <td>2025-10-14</td>\n",
       "      <td>1</td>\n",
       "      <td>0</td>\n",
       "      <td>3</td>\n",
       "      <td>CIS</td>\n",
       "      <td>iPhone</td>\n",
       "      <td>A</td>\n",
       "    </tr>\n",
       "    <tr>\n",
       "      <th>3</th>\n",
       "      <td>D6AF8D78297A931F</td>\n",
       "      <td>CF0AC0EEDE92C690</td>\n",
       "      <td>2025-10-14</td>\n",
       "      <td>2025-10-14 19:07:55</td>\n",
       "      <td>2025-10-14</td>\n",
       "      <td>1</td>\n",
       "      <td>0</td>\n",
       "      <td>4</td>\n",
       "      <td>CIS</td>\n",
       "      <td>PC</td>\n",
       "      <td>A</td>\n",
       "    </tr>\n",
       "    <tr>\n",
       "      <th>4</th>\n",
       "      <td>37E0CE723AE568E0</td>\n",
       "      <td>2E6ED45E8C86C4E9</td>\n",
       "      <td>2025-10-14</td>\n",
       "      <td>2025-10-14 15:39:44</td>\n",
       "      <td>2025-10-14</td>\n",
       "      <td>1</td>\n",
       "      <td>0</td>\n",
       "      <td>3</td>\n",
       "      <td>CIS</td>\n",
       "      <td>Mac</td>\n",
       "      <td>B</td>\n",
       "    </tr>\n",
       "  </tbody>\n",
       "</table>\n",
       "</div>"
      ],
      "text/plain": [
       "            user_id        session_id session_date     session_start_ts  \\\n",
       "0  3404844B53442747  B4901323BD537E45   2025-10-14  2025-10-14 19:28:49   \n",
       "1  3A2BF4D364E62D89  216FC619308F8788   2025-10-14  2025-10-14 21:11:04   \n",
       "2  79CDAE11E32B1597  EDFCE4AC1A504074   2025-10-14  2025-10-14 21:44:03   \n",
       "3  D6AF8D78297A931F  CF0AC0EEDE92C690   2025-10-14  2025-10-14 19:07:55   \n",
       "4  37E0CE723AE568E0  2E6ED45E8C86C4E9   2025-10-14  2025-10-14 15:39:44   \n",
       "\n",
       "  install_date  session_number  registration_flag  page_counter region  \\\n",
       "0   2025-10-14               1                  0             3    CIS   \n",
       "1   2025-10-14               1                  0             3   MENA   \n",
       "2   2025-10-14               1                  0             3    CIS   \n",
       "3   2025-10-14               1                  0             4    CIS   \n",
       "4   2025-10-14               1                  0             3    CIS   \n",
       "\n",
       "    device test_group  \n",
       "0  Android          B  \n",
       "1   iPhone          A  \n",
       "2   iPhone          A  \n",
       "3       PC          A  \n",
       "4      Mac          B  "
      ]
     },
     "execution_count": 17,
     "metadata": {},
     "output_type": "execute_result"
    }
   ],
   "source": [
    "# Выводим первые строки датафрейма на экран\n",
    "sessions_test_part.head()"
   ]
  },
  {
   "cell_type": "code",
   "execution_count": 18,
   "metadata": {},
   "outputs": [
    {
     "name": "stdout",
     "output_type": "stream",
     "text": [
      "<class 'pandas.core.frame.DataFrame'>\n",
      "RangeIndex: 3130 entries, 0 to 3129\n",
      "Data columns (total 11 columns):\n",
      " #   Column             Non-Null Count  Dtype \n",
      "---  ------             --------------  ----- \n",
      " 0   user_id            3130 non-null   object\n",
      " 1   session_id         3130 non-null   object\n",
      " 2   session_date       3130 non-null   object\n",
      " 3   session_start_ts   3130 non-null   object\n",
      " 4   install_date       3130 non-null   object\n",
      " 5   session_number     3130 non-null   int64 \n",
      " 6   registration_flag  3130 non-null   int64 \n",
      " 7   page_counter       3130 non-null   int64 \n",
      " 8   region             3130 non-null   object\n",
      " 9   device             3130 non-null   object\n",
      " 10  test_group         3130 non-null   object\n",
      "dtypes: int64(3), object(8)\n",
      "memory usage: 269.1+ KB\n"
     ]
    }
   ],
   "source": [
    "# Выводим базовую информацию о датафрейме\n",
    "sessions_test_part.info()"
   ]
  },
  {
   "cell_type": "markdown",
   "metadata": {},
   "source": [
    "Датасет `sessions_project_test_part.csv` содержит 11 столбцов и 3 130 строк, в которых представлены данные за первый день проведения A/B-теста, то есть за 14.10.25.\n",
    "\n",
    "После первичного анализа данных можно сделать следующие выводы:\n",
    "\n",
    "- Типы столбцов корректны, кроме столбцов с временными данными `session_date`, `session_start_ts` и `install_date`.\n",
    "- На первый взгляд столбцы не содержат пропуски.\n",
    "\n",
    "---"
   ]
  },
  {
   "cell_type": "markdown",
   "metadata": {},
   "source": [
    "### Проверка распределения пользователей по группам"
   ]
  },
  {
   "cell_type": "code",
   "execution_count": 19,
   "metadata": {},
   "outputs": [
    {
     "data": {
      "text/html": [
       "<div>\n",
       "<style scoped>\n",
       "    .dataframe tbody tr th:only-of-type {\n",
       "        vertical-align: middle;\n",
       "    }\n",
       "\n",
       "    .dataframe tbody tr th {\n",
       "        vertical-align: top;\n",
       "    }\n",
       "\n",
       "    .dataframe thead th {\n",
       "        text-align: right;\n",
       "    }\n",
       "</style>\n",
       "<table border=\"1\" class=\"dataframe\">\n",
       "  <thead>\n",
       "    <tr style=\"text-align: right;\">\n",
       "      <th></th>\n",
       "      <th>test_group</th>\n",
       "      <th>session_date</th>\n",
       "      <th>users_count</th>\n",
       "    </tr>\n",
       "  </thead>\n",
       "  <tbody>\n",
       "    <tr>\n",
       "      <th>0</th>\n",
       "      <td>A</td>\n",
       "      <td>2025-10-14</td>\n",
       "      <td>1477</td>\n",
       "    </tr>\n",
       "    <tr>\n",
       "      <th>1</th>\n",
       "      <td>B</td>\n",
       "      <td>2025-10-14</td>\n",
       "      <td>1466</td>\n",
       "    </tr>\n",
       "  </tbody>\n",
       "</table>\n",
       "</div>"
      ],
      "text/plain": [
       "  test_group session_date  users_count\n",
       "0          A   2025-10-14         1477\n",
       "1          B   2025-10-14         1466"
      ]
     },
     "execution_count": 19,
     "metadata": {},
     "output_type": "execute_result"
    }
   ],
   "source": [
    "# Рассчитываем количество уникальных пользователей в каждой из экспериментальных групп\n",
    "sessions_test_part_agg = sessions_test_part.groupby(['test_group', 'session_date'])['user_id'].nunique().reset_index()\n",
    "sessions_test_part_agg = sessions_test_part_agg.rename(columns={'user_id': 'users_count'})\n",
    "sessions_test_part_agg"
   ]
  },
  {
   "cell_type": "code",
   "execution_count": 20,
   "metadata": {},
   "outputs": [
    {
     "data": {
      "text/plain": [
       "np.float64(0.74)"
      ]
     },
     "execution_count": 20,
     "metadata": {},
     "output_type": "execute_result"
    }
   ],
   "source": [
    "# Рассчитываем процентную разницу в количестве пользователей в группах A и B\n",
    "user_counts_a = sessions_test_part_agg.loc[sessions_test_part_agg['test_group'] == 'A', 'users_count'].iloc[0]\n",
    "user_counts_b = sessions_test_part_agg.loc[sessions_test_part_agg['test_group'] == 'B', 'users_count'].iloc[0]\n",
    "\n",
    "P = round(100 * abs(user_counts_a - user_counts_b) / user_counts_a, 2)\n",
    "P"
   ]
  },
  {
   "cell_type": "code",
   "execution_count": 49,
   "metadata": {},
   "outputs": [
    {
     "data": {
      "image/png": "[encoded data removed]",
      "text/plain": [
       "<Figure size 700x300 with 1 Axes>"
      ]
     },
     "metadata": {},
     "output_type": "display_data"
    }
   ],
   "source": [
    "# Создаём контейнер графика matplotlib и задаём его размер\n",
    "plt.figure(figsize=(7, 3))\n",
    "\n",
    "# Строим столбчатую диаграмму\n",
    "sns.barplot(\n",
    "    data=sessions_test_part_agg,\n",
    "    x='test_group',\n",
    "    y='users_count'\n",
    ")\n",
    "\n",
    "# Заголовок и подписи осей\n",
    "plt.title(\"Количество уникальных пользователей в каждой из экспериментальных групп на 14.10.2025\")\n",
    "plt.xlabel(\"Группа\")\n",
    "plt.ylabel(\"Количество пользователей\")\n",
    "\n",
    "\n",
    "# Добавляем сетку\n",
    "plt.grid(axis='y')\n",
    "\n",
    "# Выводим график\n",
    "plt.show()"
   ]
  },
  {
   "cell_type": "markdown",
   "metadata": {},
   "source": [
    "Между группами A (1477 человек) и B (1466 человек) разница всего 11 пользователей (~0,7%), это практически баланс.\n",
    "\n",
    "---"
   ]
  },
  {
   "cell_type": "markdown",
   "metadata": {
    "id": "sgpNY5bv0eM0"
   },
   "source": [
    "### Проверка пересечений пользователей"
   ]
  },
  {
   "cell_type": "markdown",
   "metadata": {},
   "source": [
    "Помимо проверки равенства количества пользователей в экспериментальных группах, полезно убедиться в том, что группы независимы. Для этого нужно убедиться, что никто из пользователей случайно не попал в обе группы одновременно."
   ]
  },
  {
   "cell_type": "code",
   "execution_count": 22,
   "metadata": {
    "id": "E72ozN9FOX1u"
   },
   "outputs": [
    {
     "data": {
      "text/plain": [
       "0"
      ]
     },
     "execution_count": 22,
     "metadata": {},
     "output_type": "execute_result"
    }
   ],
   "source": [
    "# Найдём пользователей, которые встречаются одновременно в группах A и B\n",
    "a_users = sessions_test_part.loc[sessions_test_part['test_group'] == 'A', 'user_id']\n",
    "b_users = sessions_test_part.loc[sessions_test_part['test_group'] == 'B', 'user_id']\n",
    "\n",
    "intersection = list(set(a_users) & set(b_users))\n",
    "len(intersection)"
   ]
  },
  {
   "cell_type": "markdown",
   "metadata": {},
   "source": [
    "Пользователей, встречающихся сразу в обеих экспериментальных группах не обнаружено.\n",
    "\n",
    "---"
   ]
  },
  {
   "cell_type": "markdown",
   "metadata": {
    "id": "6RvkNLrg0eM1"
   },
   "source": [
    "### Равномерность разделения пользователей по устройствам"
   ]
  },
  {
   "cell_type": "markdown",
   "metadata": {},
   "source": [
    "Полезно также убедиться в том, что пользователи равномерно распределены по типам устройств."
   ]
  },
  {
   "cell_type": "code",
   "execution_count": 23,
   "metadata": {},
   "outputs": [
    {
     "data": {
      "text/html": [
       "<div>\n",
       "<style scoped>\n",
       "    .dataframe tbody tr th:only-of-type {\n",
       "        vertical-align: middle;\n",
       "    }\n",
       "\n",
       "    .dataframe tbody tr th {\n",
       "        vertical-align: top;\n",
       "    }\n",
       "\n",
       "    .dataframe thead th {\n",
       "        text-align: right;\n",
       "    }\n",
       "</style>\n",
       "<table border=\"1\" class=\"dataframe\">\n",
       "  <thead>\n",
       "    <tr style=\"text-align: right;\">\n",
       "      <th></th>\n",
       "      <th>device</th>\n",
       "      <th>user_id</th>\n",
       "      <th>share</th>\n",
       "    </tr>\n",
       "  </thead>\n",
       "  <tbody>\n",
       "    <tr>\n",
       "      <th>0</th>\n",
       "      <td>Android</td>\n",
       "      <td>656</td>\n",
       "      <td>0.444144</td>\n",
       "    </tr>\n",
       "    <tr>\n",
       "      <th>1</th>\n",
       "      <td>Mac</td>\n",
       "      <td>156</td>\n",
       "      <td>0.105619</td>\n",
       "    </tr>\n",
       "    <tr>\n",
       "      <th>2</th>\n",
       "      <td>PC</td>\n",
       "      <td>369</td>\n",
       "      <td>0.249831</td>\n",
       "    </tr>\n",
       "    <tr>\n",
       "      <th>3</th>\n",
       "      <td>iPhone</td>\n",
       "      <td>296</td>\n",
       "      <td>0.200406</td>\n",
       "    </tr>\n",
       "  </tbody>\n",
       "</table>\n",
       "</div>"
      ],
      "text/plain": [
       "    device  user_id     share\n",
       "0  Android      656  0.444144\n",
       "1      Mac      156  0.105619\n",
       "2       PC      369  0.249831\n",
       "3   iPhone      296  0.200406"
      ]
     },
     "execution_count": 23,
     "metadata": {},
     "output_type": "execute_result"
    }
   ],
   "source": [
    "# Готовим данные к визуализации\n",
    "a_devices = sessions_test_part[sessions_test_part['test_group'] == 'A'].groupby('device')['user_id'].nunique().reset_index()\n",
    "a_devices['share'] = a_devices['user_id'] / a_devices['user_id'].sum()\n",
    "a_devices"
   ]
  },
  {
   "cell_type": "code",
   "execution_count": 50,
   "metadata": {},
   "outputs": [
    {
     "data": {
      "image/png": "[encoded data removed]",
      "text/plain": [
       "<Figure size 700x300 with 1 Axes>"
      ]
     },
     "metadata": {},
     "output_type": "display_data"
    }
   ],
   "source": [
    "# Создаём контейнер графика matplotlib и задаём его размер\n",
    "plt.figure(figsize=(7, 3))\n",
    "\n",
    "\n",
    "# Строим круговую диаграмму\n",
    "labels = a_devices['device']\n",
    "sizes = a_devices['share']\n",
    "\n",
    "plt.pie(\n",
    "    sizes,\n",
    "    labels=labels,\n",
    "    autopct='%1.1f%%', \n",
    "    startangle=90\n",
    ")\n",
    "\n",
    "# Добавляем заголовок\n",
    "plt.title('Доля каждого типа устройства для пользователей из группы A')\n",
    "\n",
    "# Выводим график\n",
    "plt.show()"
   ]
  },
  {
   "cell_type": "code",
   "execution_count": 25,
   "metadata": {},
   "outputs": [
    {
     "data": {
      "text/html": [
       "<div>\n",
       "<style scoped>\n",
       "    .dataframe tbody tr th:only-of-type {\n",
       "        vertical-align: middle;\n",
       "    }\n",
       "\n",
       "    .dataframe tbody tr th {\n",
       "        vertical-align: top;\n",
       "    }\n",
       "\n",
       "    .dataframe thead th {\n",
       "        text-align: right;\n",
       "    }\n",
       "</style>\n",
       "<table border=\"1\" class=\"dataframe\">\n",
       "  <thead>\n",
       "    <tr style=\"text-align: right;\">\n",
       "      <th></th>\n",
       "      <th>device</th>\n",
       "      <th>user_id</th>\n",
       "      <th>share</th>\n",
       "    </tr>\n",
       "  </thead>\n",
       "  <tbody>\n",
       "    <tr>\n",
       "      <th>0</th>\n",
       "      <td>Android</td>\n",
       "      <td>668</td>\n",
       "      <td>0.455662</td>\n",
       "    </tr>\n",
       "    <tr>\n",
       "      <th>1</th>\n",
       "      <td>Mac</td>\n",
       "      <td>148</td>\n",
       "      <td>0.100955</td>\n",
       "    </tr>\n",
       "    <tr>\n",
       "      <th>2</th>\n",
       "      <td>PC</td>\n",
       "      <td>381</td>\n",
       "      <td>0.259891</td>\n",
       "    </tr>\n",
       "    <tr>\n",
       "      <th>3</th>\n",
       "      <td>iPhone</td>\n",
       "      <td>269</td>\n",
       "      <td>0.183492</td>\n",
       "    </tr>\n",
       "  </tbody>\n",
       "</table>\n",
       "</div>"
      ],
      "text/plain": [
       "    device  user_id     share\n",
       "0  Android      668  0.455662\n",
       "1      Mac      148  0.100955\n",
       "2       PC      381  0.259891\n",
       "3   iPhone      269  0.183492"
      ]
     },
     "execution_count": 25,
     "metadata": {},
     "output_type": "execute_result"
    }
   ],
   "source": [
    "# Готовим данные к визуализации\n",
    "b_devices = sessions_test_part[sessions_test_part['test_group'] == 'B'].groupby('device')['user_id'].nunique().reset_index()\n",
    "b_devices['share'] = b_devices['user_id'] / b_devices['user_id'].sum()\n",
    "b_devices"
   ]
  },
  {
   "cell_type": "code",
   "execution_count": 51,
   "metadata": {},
   "outputs": [
    {
     "data": {
      "image/png": "[encoded data removed]",
      "text/plain": [
       "<Figure size 700x300 with 1 Axes>"
      ]
     },
     "metadata": {},
     "output_type": "display_data"
    }
   ],
   "source": [
    "# Создаём контейнер графика matplotlib и задаём его размер\n",
    "plt.figure(figsize=(7, 3))\n",
    "\n",
    "\n",
    "# Строим круговую диаграмму\n",
    "labels = b_devices['device']\n",
    "sizes = b_devices['share']\n",
    "\n",
    "plt.pie(\n",
    "    sizes,\n",
    "    labels=labels,\n",
    "    autopct='%1.1f%%', \n",
    "    startangle=90\n",
    ")\n",
    "\n",
    "# Добавляем заголовок\n",
    "plt.title('Доля каждого типа устройства для пользователей из группы B')\n",
    "\n",
    "# Выводим график\n",
    "plt.show()"
   ]
  },
  {
   "cell_type": "markdown",
   "metadata": {},
   "source": [
    "В обеих экспериментальных группах пользователи распределены по устройствам приблизительно равномерно: \n",
    "- Android: около 44% в A и 46% в B,\n",
    "- PC: около 25% в A и 26% в B,\n",
    "- iPhone: около 20% в A и 18% в B,\n",
    "- Mac: около 11% в A и 10% в B.\n",
    "\n",
    "---"
   ]
  },
  {
   "cell_type": "markdown",
   "metadata": {
    "id": "gAgmP6vo0eM1"
   },
   "source": [
    "### Равномерность распределения пользователей по регионам"
   ]
  },
  {
   "cell_type": "markdown",
   "metadata": {},
   "source": [
    "Теперь убедимся, что пользователи равномерно распределены по регионам."
   ]
  },
  {
   "cell_type": "code",
   "execution_count": 27,
   "metadata": {
    "id": "3hAq-FG4OdYM"
   },
   "outputs": [
    {
     "data": {
      "text/html": [
       "<div>\n",
       "<style scoped>\n",
       "    .dataframe tbody tr th:only-of-type {\n",
       "        vertical-align: middle;\n",
       "    }\n",
       "\n",
       "    .dataframe tbody tr th {\n",
       "        vertical-align: top;\n",
       "    }\n",
       "\n",
       "    .dataframe thead th {\n",
       "        text-align: right;\n",
       "    }\n",
       "</style>\n",
       "<table border=\"1\" class=\"dataframe\">\n",
       "  <thead>\n",
       "    <tr style=\"text-align: right;\">\n",
       "      <th></th>\n",
       "      <th>region</th>\n",
       "      <th>user_id</th>\n",
       "      <th>share</th>\n",
       "    </tr>\n",
       "  </thead>\n",
       "  <tbody>\n",
       "    <tr>\n",
       "      <th>0</th>\n",
       "      <td>CIS</td>\n",
       "      <td>644</td>\n",
       "      <td>0.436019</td>\n",
       "    </tr>\n",
       "    <tr>\n",
       "      <th>1</th>\n",
       "      <td>EU</td>\n",
       "      <td>224</td>\n",
       "      <td>0.151659</td>\n",
       "    </tr>\n",
       "    <tr>\n",
       "      <th>2</th>\n",
       "      <td>MENA</td>\n",
       "      <td>609</td>\n",
       "      <td>0.412322</td>\n",
       "    </tr>\n",
       "  </tbody>\n",
       "</table>\n",
       "</div>"
      ],
      "text/plain": [
       "  region  user_id     share\n",
       "0    CIS      644  0.436019\n",
       "1     EU      224  0.151659\n",
       "2   MENA      609  0.412322"
      ]
     },
     "execution_count": 27,
     "metadata": {},
     "output_type": "execute_result"
    }
   ],
   "source": [
    "# Готовим данные к визуализации\n",
    "a_region = sessions_test_part[sessions_test_part['test_group'] == 'A'].groupby('region')['user_id'].nunique().reset_index()\n",
    "a_region['share'] = a_region['user_id'] / a_region['user_id'].sum()\n",
    "a_region"
   ]
  },
  {
   "cell_type": "code",
   "execution_count": 52,
   "metadata": {},
   "outputs": [
    {
     "data": {
      "image/png": "[encoded data removed]",
      "text/plain": [
       "<Figure size 700x300 with 1 Axes>"
      ]
     },
     "metadata": {},
     "output_type": "display_data"
    }
   ],
   "source": [
    "# Создаём контейнер графика matplotlib и задаём его размер\n",
    "plt.figure(figsize=(7, 3))\n",
    "\n",
    "# Строим столбчатую диаграмму\n",
    "sns.barplot(\n",
    "    data=a_region,\n",
    "    x='region',\n",
    "    y='share',\n",
    "    order=a_region.sort_values('share', ascending=False)['region']\n",
    ")\n",
    "\n",
    "# Заголовок и подписи осей\n",
    "plt.title(\"Доля каждого региона для пользователей из группы A\")\n",
    "plt.xlabel(\"Регион\")\n",
    "plt.ylabel(\"Доля пользователей\")\n",
    "\n",
    "\n",
    "# Добавляем сетку\n",
    "plt.grid(axis='y')\n",
    "\n",
    "# Выводим график\n",
    "plt.show()"
   ]
  },
  {
   "cell_type": "code",
   "execution_count": 29,
   "metadata": {},
   "outputs": [
    {
     "data": {
      "text/html": [
       "<div>\n",
       "<style scoped>\n",
       "    .dataframe tbody tr th:only-of-type {\n",
       "        vertical-align: middle;\n",
       "    }\n",
       "\n",
       "    .dataframe tbody tr th {\n",
       "        vertical-align: top;\n",
       "    }\n",
       "\n",
       "    .dataframe thead th {\n",
       "        text-align: right;\n",
       "    }\n",
       "</style>\n",
       "<table border=\"1\" class=\"dataframe\">\n",
       "  <thead>\n",
       "    <tr style=\"text-align: right;\">\n",
       "      <th></th>\n",
       "      <th>region</th>\n",
       "      <th>user_id</th>\n",
       "      <th>share</th>\n",
       "    </tr>\n",
       "  </thead>\n",
       "  <tbody>\n",
       "    <tr>\n",
       "      <th>0</th>\n",
       "      <td>CIS</td>\n",
       "      <td>645</td>\n",
       "      <td>0.439973</td>\n",
       "    </tr>\n",
       "    <tr>\n",
       "      <th>1</th>\n",
       "      <td>EU</td>\n",
       "      <td>217</td>\n",
       "      <td>0.148022</td>\n",
       "    </tr>\n",
       "    <tr>\n",
       "      <th>2</th>\n",
       "      <td>MENA</td>\n",
       "      <td>604</td>\n",
       "      <td>0.412005</td>\n",
       "    </tr>\n",
       "  </tbody>\n",
       "</table>\n",
       "</div>"
      ],
      "text/plain": [
       "  region  user_id     share\n",
       "0    CIS      645  0.439973\n",
       "1     EU      217  0.148022\n",
       "2   MENA      604  0.412005"
      ]
     },
     "execution_count": 29,
     "metadata": {},
     "output_type": "execute_result"
    }
   ],
   "source": [
    "# Готовим данные к визуализации\n",
    "b_region = sessions_test_part[sessions_test_part['test_group'] == 'B'].groupby('region')['user_id'].nunique().reset_index()\n",
    "b_region['share'] = b_region['user_id'] / b_region['user_id'].sum()\n",
    "b_region"
   ]
  },
  {
   "cell_type": "code",
   "execution_count": 53,
   "metadata": {},
   "outputs": [
    {
     "data": {
      "image/png": "[encoded data removed]",
      "text/plain": [
       "<Figure size 700x300 with 1 Axes>"
      ]
     },
     "metadata": {},
     "output_type": "display_data"
    }
   ],
   "source": [
    "# Создаём контейнер графика matplotlib и задаём его размер\n",
    "plt.figure(figsize=(7, 3))\n",
    "\n",
    "# Строим столбчатую диаграмму\n",
    "sns.barplot(\n",
    "    data=b_region,\n",
    "    x='region',\n",
    "    y='share',\n",
    "    order=b_region.sort_values('share', ascending=False)['region']\n",
    ")\n",
    "\n",
    "# Заголовок и подписи осей\n",
    "plt.title(\"Доля каждого региона для пользователей из группы B\")\n",
    "plt.xlabel(\"Регион\")\n",
    "plt.ylabel(\"Доля пользователей\")\n",
    "\n",
    "\n",
    "# Добавляем сетку\n",
    "plt.grid(axis='y')\n",
    "\n",
    "# Выводим график\n",
    "plt.show()"
   ]
  },
  {
   "cell_type": "markdown",
   "metadata": {},
   "source": [
    "В обеих экспериментальных группах пользователи распределены по регионам равномерно: \n",
    "- CIS (около 44%),\n",
    "- MENA (около 41%),\n",
    "- EU (около 15%).\n",
    "\n",
    "---"
   ]
  },
  {
   "cell_type": "markdown",
   "metadata": {
    "id": "X2WSZ-sDrSUi"
   },
   "source": [
    "### Вывод после проверки A/B-теста"
   ]
  },
  {
   "cell_type": "markdown",
   "metadata": {},
   "source": [
    "После проверки корректности проведения A/B-теста можно сделать следующие выводы:\n",
    "\n",
    "**Различие в количестве пользователей:**\n",
    "Между группами A (1477 человек) и B (1466 человек) разница составляет всего 11 пользователей (~0,7%), что практически несущественно. Количество пользователей в группах можно считать сбалансированным.\n",
    "\n",
    "**Независимость выборок:**\n",
    "Пользователи, встречающиеся одновременно в тестовой и контрольной группах, не обнаружены, следовательно, выборки являются независимыми.\n",
    "\n",
    "**Распределение по категориальным переменным:**\n",
    "\n",
    "- По устройствам: пользователи распределены приблизительно равномерно: Android (A: 44%, B: 46%), PC (A: 25%, B: 26%), iPhone (A: 20%, B: 18%), Mac (A: 11%, B: 10%).\n",
    "\n",
    "- По регионам: распределение также сбалансировано: CIS (44%), MENA (41%), EU (15%).\n",
    "\n",
    "**Заключение:**\n",
    "Все условия корректного A/B-теста соблюдены: группы сбалансированы по количеству пользователей, выборки независимы, пересечения нет, а распределение по устройствам и регионам равномерное. Нарушений в проведении теста не выявлено, тест проходит корректно."
   ]
  },
  {
   "cell_type": "markdown",
   "metadata": {
    "id": "nudRr_BQ0eM2"
   },
   "source": [
    "## Проверка результатов A/B-теста\n",
    "\n",
    "A/B-тест завершён, и у нас есть результаты за все дни эксперимента. Проверим корректность теста и проанализируем результаты."
   ]
  },
  {
   "cell_type": "markdown",
   "metadata": {
    "id": "JVve-YBB0eM2"
   },
   "source": [
    "### Загрузка данных и знакомство с ними"
   ]
  },
  {
   "cell_type": "code",
   "execution_count": 31,
   "metadata": {
    "id": "EqRlwMtKPTir"
   },
   "outputs": [],
   "source": [
    "# Выгружаем данные за весь период A/B-теста\n",
    "sessions_test = pd.read_csv('https://code.s3.yandex.net/datasets/sessions_project_test.csv')"
   ]
  },
  {
   "cell_type": "code",
   "execution_count": 32,
   "metadata": {},
   "outputs": [
    {
     "data": {
      "text/html": [
       "<div>\n",
       "<style scoped>\n",
       "    .dataframe tbody tr th:only-of-type {\n",
       "        vertical-align: middle;\n",
       "    }\n",
       "\n",
       "    .dataframe tbody tr th {\n",
       "        vertical-align: top;\n",
       "    }\n",
       "\n",
       "    .dataframe thead th {\n",
       "        text-align: right;\n",
       "    }\n",
       "</style>\n",
       "<table border=\"1\" class=\"dataframe\">\n",
       "  <thead>\n",
       "    <tr style=\"text-align: right;\">\n",
       "      <th></th>\n",
       "      <th>user_id</th>\n",
       "      <th>session_id</th>\n",
       "      <th>session_date</th>\n",
       "      <th>session_start_ts</th>\n",
       "      <th>install_date</th>\n",
       "      <th>session_number</th>\n",
       "      <th>registration_flag</th>\n",
       "      <th>page_counter</th>\n",
       "      <th>region</th>\n",
       "      <th>device</th>\n",
       "      <th>test_group</th>\n",
       "    </tr>\n",
       "  </thead>\n",
       "  <tbody>\n",
       "    <tr>\n",
       "      <th>0</th>\n",
       "      <td>6DAE3B3654DA738E</td>\n",
       "      <td>C69249E26E58F6E2</td>\n",
       "      <td>2025-10-26</td>\n",
       "      <td>2025-10-26 18:15:05</td>\n",
       "      <td>2025-10-16</td>\n",
       "      <td>3</td>\n",
       "      <td>0</td>\n",
       "      <td>3</td>\n",
       "      <td>MENA</td>\n",
       "      <td>Android</td>\n",
       "      <td>A</td>\n",
       "    </tr>\n",
       "    <tr>\n",
       "      <th>1</th>\n",
       "      <td>0A3FE5D1DD59110A</td>\n",
       "      <td>66D66D7C9F5181B7</td>\n",
       "      <td>2025-10-21</td>\n",
       "      <td>2025-10-21 17:04:53</td>\n",
       "      <td>2025-10-15</td>\n",
       "      <td>2</td>\n",
       "      <td>1</td>\n",
       "      <td>2</td>\n",
       "      <td>CIS</td>\n",
       "      <td>Android</td>\n",
       "      <td>B</td>\n",
       "    </tr>\n",
       "    <tr>\n",
       "      <th>2</th>\n",
       "      <td>2041F1D7AA740B88</td>\n",
       "      <td>50DE51D42215E74C</td>\n",
       "      <td>2025-10-23</td>\n",
       "      <td>2025-10-23 17:39:29</td>\n",
       "      <td>2025-10-19</td>\n",
       "      <td>3</td>\n",
       "      <td>0</td>\n",
       "      <td>2</td>\n",
       "      <td>MENA</td>\n",
       "      <td>Android</td>\n",
       "      <td>A</td>\n",
       "    </tr>\n",
       "    <tr>\n",
       "      <th>3</th>\n",
       "      <td>43D7585009168086</td>\n",
       "      <td>5763C0C353C22263</td>\n",
       "      <td>2025-10-24</td>\n",
       "      <td>2025-10-24 15:01:57</td>\n",
       "      <td>2025-10-18</td>\n",
       "      <td>4</td>\n",
       "      <td>0</td>\n",
       "      <td>1</td>\n",
       "      <td>CIS</td>\n",
       "      <td>iPhone</td>\n",
       "      <td>B</td>\n",
       "    </tr>\n",
       "    <tr>\n",
       "      <th>4</th>\n",
       "      <td>15AD68B14D62D88C</td>\n",
       "      <td>B1AD09F93C1053BC</td>\n",
       "      <td>2025-10-17</td>\n",
       "      <td>2025-10-17 17:34:39</td>\n",
       "      <td>2025-10-17</td>\n",
       "      <td>1</td>\n",
       "      <td>0</td>\n",
       "      <td>2</td>\n",
       "      <td>MENA</td>\n",
       "      <td>Android</td>\n",
       "      <td>B</td>\n",
       "    </tr>\n",
       "  </tbody>\n",
       "</table>\n",
       "</div>"
      ],
      "text/plain": [
       "            user_id        session_id session_date     session_start_ts  \\\n",
       "0  6DAE3B3654DA738E  C69249E26E58F6E2   2025-10-26  2025-10-26 18:15:05   \n",
       "1  0A3FE5D1DD59110A  66D66D7C9F5181B7   2025-10-21  2025-10-21 17:04:53   \n",
       "2  2041F1D7AA740B88  50DE51D42215E74C   2025-10-23  2025-10-23 17:39:29   \n",
       "3  43D7585009168086  5763C0C353C22263   2025-10-24  2025-10-24 15:01:57   \n",
       "4  15AD68B14D62D88C  B1AD09F93C1053BC   2025-10-17  2025-10-17 17:34:39   \n",
       "\n",
       "  install_date  session_number  registration_flag  page_counter region  \\\n",
       "0   2025-10-16               3                  0             3   MENA   \n",
       "1   2025-10-15               2                  1             2    CIS   \n",
       "2   2025-10-19               3                  0             2   MENA   \n",
       "3   2025-10-18               4                  0             1    CIS   \n",
       "4   2025-10-17               1                  0             2   MENA   \n",
       "\n",
       "    device test_group  \n",
       "0  Android          A  \n",
       "1  Android          B  \n",
       "2  Android          A  \n",
       "3   iPhone          B  \n",
       "4  Android          B  "
      ]
     },
     "execution_count": 32,
     "metadata": {},
     "output_type": "execute_result"
    }
   ],
   "source": [
    "# Выводим первые строки датафрейма на экран\n",
    "sessions_test.head()"
   ]
  },
  {
   "cell_type": "code",
   "execution_count": 33,
   "metadata": {},
   "outputs": [
    {
     "name": "stdout",
     "output_type": "stream",
     "text": [
      "<class 'pandas.core.frame.DataFrame'>\n",
      "RangeIndex: 100005 entries, 0 to 100004\n",
      "Data columns (total 11 columns):\n",
      " #   Column             Non-Null Count   Dtype \n",
      "---  ------             --------------   ----- \n",
      " 0   user_id            100005 non-null  object\n",
      " 1   session_id         100005 non-null  object\n",
      " 2   session_date       100005 non-null  object\n",
      " 3   session_start_ts   100005 non-null  object\n",
      " 4   install_date       100005 non-null  object\n",
      " 5   session_number     100005 non-null  int64 \n",
      " 6   registration_flag  100005 non-null  int64 \n",
      " 7   page_counter       100005 non-null  int64 \n",
      " 8   region             100005 non-null  object\n",
      " 9   device             100005 non-null  object\n",
      " 10  test_group         100005 non-null  object\n",
      "dtypes: int64(3), object(8)\n",
      "memory usage: 8.4+ MB\n"
     ]
    }
   ],
   "source": [
    "# Выводим базовую информацию о датафрейме\n",
    "sessions_test.info()"
   ]
  },
  {
   "cell_type": "markdown",
   "metadata": {},
   "source": [
    "Датасет `sessions_project_test.csv` содержит 11 столбцов и 100 005 строк, в которых представлены данные за весь период проведения A/B-теста, то есть 14.10.25 — 02.11.25.\n",
    "\n",
    "После первичного анализа данных можно сделать следующие выводы:\n",
    "\n",
    "- Типы столбцов корректны, кроме столбцов с временными данными `session_date`, `session_start_ts` и `install_date`.\n",
    "- На первый взгляд столбцы не содержат пропуски.\n",
    "\n",
    "Создадим дополнительный столбец `good session` для подсчёта ключевой метрики."
   ]
  },
  {
   "cell_type": "code",
   "execution_count": 34,
   "metadata": {
    "scrolled": true
   },
   "outputs": [
    {
     "data": {
      "text/html": [
       "<div>\n",
       "<style scoped>\n",
       "    .dataframe tbody tr th:only-of-type {\n",
       "        vertical-align: middle;\n",
       "    }\n",
       "\n",
       "    .dataframe tbody tr th {\n",
       "        vertical-align: top;\n",
       "    }\n",
       "\n",
       "    .dataframe thead th {\n",
       "        text-align: right;\n",
       "    }\n",
       "</style>\n",
       "<table border=\"1\" class=\"dataframe\">\n",
       "  <thead>\n",
       "    <tr style=\"text-align: right;\">\n",
       "      <th></th>\n",
       "      <th>user_id</th>\n",
       "      <th>session_id</th>\n",
       "      <th>session_date</th>\n",
       "      <th>session_start_ts</th>\n",
       "      <th>install_date</th>\n",
       "      <th>session_number</th>\n",
       "      <th>registration_flag</th>\n",
       "      <th>page_counter</th>\n",
       "      <th>region</th>\n",
       "      <th>device</th>\n",
       "      <th>test_group</th>\n",
       "      <th>good_session</th>\n",
       "    </tr>\n",
       "  </thead>\n",
       "  <tbody>\n",
       "    <tr>\n",
       "      <th>69766</th>\n",
       "      <td>F8CF53F32D4E00A8</td>\n",
       "      <td>38DD5A3495CEF7BA</td>\n",
       "      <td>2025-10-17</td>\n",
       "      <td>2025-10-17 18:33:46</td>\n",
       "      <td>2025-10-17</td>\n",
       "      <td>1</td>\n",
       "      <td>0</td>\n",
       "      <td>2</td>\n",
       "      <td>CIS</td>\n",
       "      <td>Mac</td>\n",
       "      <td>B</td>\n",
       "      <td>0</td>\n",
       "    </tr>\n",
       "    <tr>\n",
       "      <th>12971</th>\n",
       "      <td>16752876AF7A5185</td>\n",
       "      <td>0BACBDD1F9FEDB2E</td>\n",
       "      <td>2025-10-20</td>\n",
       "      <td>2025-10-20 17:16:25</td>\n",
       "      <td>2025-10-19</td>\n",
       "      <td>2</td>\n",
       "      <td>0</td>\n",
       "      <td>3</td>\n",
       "      <td>CIS</td>\n",
       "      <td>iPhone</td>\n",
       "      <td>B</td>\n",
       "      <td>0</td>\n",
       "    </tr>\n",
       "    <tr>\n",
       "      <th>20652</th>\n",
       "      <td>F1225DA128254F58</td>\n",
       "      <td>A65DE5CD14FD84AD</td>\n",
       "      <td>2025-10-20</td>\n",
       "      <td>2025-10-20 14:57:04</td>\n",
       "      <td>2025-10-19</td>\n",
       "      <td>2</td>\n",
       "      <td>0</td>\n",
       "      <td>1</td>\n",
       "      <td>MENA</td>\n",
       "      <td>Android</td>\n",
       "      <td>B</td>\n",
       "      <td>0</td>\n",
       "    </tr>\n",
       "    <tr>\n",
       "      <th>75710</th>\n",
       "      <td>300AD324EFB9AC91</td>\n",
       "      <td>7D21458909D84AAD</td>\n",
       "      <td>2025-10-20</td>\n",
       "      <td>2025-10-20 18:04:57</td>\n",
       "      <td>2025-10-20</td>\n",
       "      <td>1</td>\n",
       "      <td>0</td>\n",
       "      <td>4</td>\n",
       "      <td>CIS</td>\n",
       "      <td>iPhone</td>\n",
       "      <td>B</td>\n",
       "      <td>1</td>\n",
       "    </tr>\n",
       "    <tr>\n",
       "      <th>44030</th>\n",
       "      <td>F1DD57D2DB1C6EBF</td>\n",
       "      <td>3A378F1F9E26459F</td>\n",
       "      <td>2025-10-21</td>\n",
       "      <td>2025-10-21 17:55:52</td>\n",
       "      <td>2025-10-16</td>\n",
       "      <td>2</td>\n",
       "      <td>1</td>\n",
       "      <td>4</td>\n",
       "      <td>MENA</td>\n",
       "      <td>PC</td>\n",
       "      <td>B</td>\n",
       "      <td>1</td>\n",
       "    </tr>\n",
       "  </tbody>\n",
       "</table>\n",
       "</div>"
      ],
      "text/plain": [
       "                user_id        session_id session_date     session_start_ts  \\\n",
       "69766  F8CF53F32D4E00A8  38DD5A3495CEF7BA   2025-10-17  2025-10-17 18:33:46   \n",
       "12971  16752876AF7A5185  0BACBDD1F9FEDB2E   2025-10-20  2025-10-20 17:16:25   \n",
       "20652  F1225DA128254F58  A65DE5CD14FD84AD   2025-10-20  2025-10-20 14:57:04   \n",
       "75710  300AD324EFB9AC91  7D21458909D84AAD   2025-10-20  2025-10-20 18:04:57   \n",
       "44030  F1DD57D2DB1C6EBF  3A378F1F9E26459F   2025-10-21  2025-10-21 17:55:52   \n",
       "\n",
       "      install_date  session_number  registration_flag  page_counter region  \\\n",
       "69766   2025-10-17               1                  0             2    CIS   \n",
       "12971   2025-10-19               2                  0             3    CIS   \n",
       "20652   2025-10-19               2                  0             1   MENA   \n",
       "75710   2025-10-20               1                  0             4    CIS   \n",
       "44030   2025-10-16               2                  1             4   MENA   \n",
       "\n",
       "        device test_group  good_session  \n",
       "69766      Mac          B             0  \n",
       "12971   iPhone          B             0  \n",
       "20652  Android          B             0  \n",
       "75710   iPhone          B             1  \n",
       "44030       PC          B             1  "
      ]
     },
     "execution_count": 34,
     "metadata": {},
     "output_type": "execute_result"
    }
   ],
   "source": [
    "# Создаём дополнительный столбец good_session\n",
    "sessions_test['good_session'] = sessions_test.apply(is_good_session, axis=1)\n",
    "\n",
    "# Проверяем результат\n",
    "sessions_test.sample(n=5, random_state=45)"
   ]
  },
  {
   "cell_type": "markdown",
   "metadata": {
    "id": "aeYhrMYy0eM2"
   },
   "source": [
    "### Проверка корректности результатов теста"
   ]
  },
  {
   "cell_type": "markdown",
   "metadata": {},
   "source": [
    "Перед анализом ключевой метрики важно убедиться, что тест проведён корректно и сравниваются сопоставимые группы. Рассчитаем количество уникальных сессий по дням для обеих тестовых групп и проверим, что различия между ними отсутствуют или не являются статистически значимыми. Для проверки используем статистический тест на равенство средних двух выборок."
   ]
  },
  {
   "cell_type": "code",
   "execution_count": 42,
   "metadata": {
    "id": "5NUlcltkTTSU"
   },
   "outputs": [
    {
     "data": {
      "text/html": [
       "<div>\n",
       "<style scoped>\n",
       "    .dataframe tbody tr th:only-of-type {\n",
       "        vertical-align: middle;\n",
       "    }\n",
       "\n",
       "    .dataframe tbody tr th {\n",
       "        vertical-align: top;\n",
       "    }\n",
       "\n",
       "    .dataframe thead th {\n",
       "        text-align: right;\n",
       "    }\n",
       "</style>\n",
       "<table border=\"1\" class=\"dataframe\">\n",
       "  <thead>\n",
       "    <tr style=\"text-align: right;\">\n",
       "      <th></th>\n",
       "      <th>session_date</th>\n",
       "      <th>session_id</th>\n",
       "    </tr>\n",
       "  </thead>\n",
       "  <tbody>\n",
       "    <tr>\n",
       "      <th>0</th>\n",
       "      <td>2025-10-14</td>\n",
       "      <td>1502</td>\n",
       "    </tr>\n",
       "    <tr>\n",
       "      <th>1</th>\n",
       "      <td>2025-10-15</td>\n",
       "      <td>2235</td>\n",
       "    </tr>\n",
       "    <tr>\n",
       "      <th>2</th>\n",
       "      <td>2025-10-16</td>\n",
       "      <td>3280</td>\n",
       "    </tr>\n",
       "    <tr>\n",
       "      <th>3</th>\n",
       "      <td>2025-10-17</td>\n",
       "      <td>4089</td>\n",
       "    </tr>\n",
       "    <tr>\n",
       "      <th>4</th>\n",
       "      <td>2025-10-18</td>\n",
       "      <td>5013</td>\n",
       "    </tr>\n",
       "    <tr>\n",
       "      <th>5</th>\n",
       "      <td>2025-10-19</td>\n",
       "      <td>6535</td>\n",
       "    </tr>\n",
       "    <tr>\n",
       "      <th>6</th>\n",
       "      <td>2025-10-20</td>\n",
       "      <td>5837</td>\n",
       "    </tr>\n",
       "    <tr>\n",
       "      <th>7</th>\n",
       "      <td>2025-10-21</td>\n",
       "      <td>3927</td>\n",
       "    </tr>\n",
       "    <tr>\n",
       "      <th>8</th>\n",
       "      <td>2025-10-22</td>\n",
       "      <td>3083</td>\n",
       "    </tr>\n",
       "    <tr>\n",
       "      <th>9</th>\n",
       "      <td>2025-10-23</td>\n",
       "      <td>2470</td>\n",
       "    </tr>\n",
       "    <tr>\n",
       "      <th>10</th>\n",
       "      <td>2025-10-24</td>\n",
       "      <td>2090</td>\n",
       "    </tr>\n",
       "    <tr>\n",
       "      <th>11</th>\n",
       "      <td>2025-10-25</td>\n",
       "      <td>1897</td>\n",
       "    </tr>\n",
       "    <tr>\n",
       "      <th>12</th>\n",
       "      <td>2025-10-26</td>\n",
       "      <td>1669</td>\n",
       "    </tr>\n",
       "    <tr>\n",
       "      <th>13</th>\n",
       "      <td>2025-10-27</td>\n",
       "      <td>1454</td>\n",
       "    </tr>\n",
       "    <tr>\n",
       "      <th>14</th>\n",
       "      <td>2025-10-28</td>\n",
       "      <td>1279</td>\n",
       "    </tr>\n",
       "    <tr>\n",
       "      <th>15</th>\n",
       "      <td>2025-10-29</td>\n",
       "      <td>1068</td>\n",
       "    </tr>\n",
       "    <tr>\n",
       "      <th>16</th>\n",
       "      <td>2025-10-30</td>\n",
       "      <td>887</td>\n",
       "    </tr>\n",
       "    <tr>\n",
       "      <th>17</th>\n",
       "      <td>2025-10-31</td>\n",
       "      <td>644</td>\n",
       "    </tr>\n",
       "    <tr>\n",
       "      <th>18</th>\n",
       "      <td>2025-11-01</td>\n",
       "      <td>434</td>\n",
       "    </tr>\n",
       "    <tr>\n",
       "      <th>19</th>\n",
       "      <td>2025-11-02</td>\n",
       "      <td>158</td>\n",
       "    </tr>\n",
       "  </tbody>\n",
       "</table>\n",
       "</div>"
      ],
      "text/plain": [
       "   session_date  session_id\n",
       "0    2025-10-14        1502\n",
       "1    2025-10-15        2235\n",
       "2    2025-10-16        3280\n",
       "3    2025-10-17        4089\n",
       "4    2025-10-18        5013\n",
       "5    2025-10-19        6535\n",
       "6    2025-10-20        5837\n",
       "7    2025-10-21        3927\n",
       "8    2025-10-22        3083\n",
       "9    2025-10-23        2470\n",
       "10   2025-10-24        2090\n",
       "11   2025-10-25        1897\n",
       "12   2025-10-26        1669\n",
       "13   2025-10-27        1454\n",
       "14   2025-10-28        1279\n",
       "15   2025-10-29        1068\n",
       "16   2025-10-30         887\n",
       "17   2025-10-31         644\n",
       "18   2025-11-01         434\n",
       "19   2025-11-02         158"
      ]
     },
     "execution_count": 42,
     "metadata": {},
     "output_type": "execute_result"
    }
   ],
   "source": [
    "# Считаем количетво уникальных сессий по дням для группы A\n",
    "sessions_test_a_sessions = (\n",
    "    sessions_test[sessions_test['test_group'] == 'A']\n",
    "    .groupby('session_date')\n",
    "    ['session_id'].nunique()\n",
    "    .reset_index()\n",
    ")\n",
    "sessions_test_a_sessions"
   ]
  },
  {
   "cell_type": "code",
   "execution_count": 43,
   "metadata": {},
   "outputs": [
    {
     "data": {
      "text/html": [
       "<div>\n",
       "<style scoped>\n",
       "    .dataframe tbody tr th:only-of-type {\n",
       "        vertical-align: middle;\n",
       "    }\n",
       "\n",
       "    .dataframe tbody tr th {\n",
       "        vertical-align: top;\n",
       "    }\n",
       "\n",
       "    .dataframe thead th {\n",
       "        text-align: right;\n",
       "    }\n",
       "</style>\n",
       "<table border=\"1\" class=\"dataframe\">\n",
       "  <thead>\n",
       "    <tr style=\"text-align: right;\">\n",
       "      <th></th>\n",
       "      <th>session_date</th>\n",
       "      <th>session_id</th>\n",
       "    </tr>\n",
       "  </thead>\n",
       "  <tbody>\n",
       "    <tr>\n",
       "      <th>0</th>\n",
       "      <td>2025-10-14</td>\n",
       "      <td>1628</td>\n",
       "    </tr>\n",
       "    <tr>\n",
       "      <th>1</th>\n",
       "      <td>2025-10-15</td>\n",
       "      <td>2283</td>\n",
       "    </tr>\n",
       "    <tr>\n",
       "      <th>2</th>\n",
       "      <td>2025-10-16</td>\n",
       "      <td>3241</td>\n",
       "    </tr>\n",
       "    <tr>\n",
       "      <th>3</th>\n",
       "      <td>2025-10-17</td>\n",
       "      <td>4054</td>\n",
       "    </tr>\n",
       "    <tr>\n",
       "      <th>4</th>\n",
       "      <td>2025-10-18</td>\n",
       "      <td>5059</td>\n",
       "    </tr>\n",
       "    <tr>\n",
       "      <th>5</th>\n",
       "      <td>2025-10-19</td>\n",
       "      <td>6779</td>\n",
       "    </tr>\n",
       "    <tr>\n",
       "      <th>6</th>\n",
       "      <td>2025-10-20</td>\n",
       "      <td>6089</td>\n",
       "    </tr>\n",
       "    <tr>\n",
       "      <th>7</th>\n",
       "      <td>2025-10-21</td>\n",
       "      <td>3981</td>\n",
       "    </tr>\n",
       "    <tr>\n",
       "      <th>8</th>\n",
       "      <td>2025-10-22</td>\n",
       "      <td>3111</td>\n",
       "    </tr>\n",
       "    <tr>\n",
       "      <th>9</th>\n",
       "      <td>2025-10-23</td>\n",
       "      <td>2548</td>\n",
       "    </tr>\n",
       "    <tr>\n",
       "      <th>10</th>\n",
       "      <td>2025-10-24</td>\n",
       "      <td>2068</td>\n",
       "    </tr>\n",
       "    <tr>\n",
       "      <th>11</th>\n",
       "      <td>2025-10-25</td>\n",
       "      <td>1814</td>\n",
       "    </tr>\n",
       "    <tr>\n",
       "      <th>12</th>\n",
       "      <td>2025-10-26</td>\n",
       "      <td>1692</td>\n",
       "    </tr>\n",
       "    <tr>\n",
       "      <th>13</th>\n",
       "      <td>2025-10-27</td>\n",
       "      <td>1517</td>\n",
       "    </tr>\n",
       "    <tr>\n",
       "      <th>14</th>\n",
       "      <td>2025-10-28</td>\n",
       "      <td>1289</td>\n",
       "    </tr>\n",
       "    <tr>\n",
       "      <th>15</th>\n",
       "      <td>2025-10-29</td>\n",
       "      <td>1131</td>\n",
       "    </tr>\n",
       "    <tr>\n",
       "      <th>16</th>\n",
       "      <td>2025-10-30</td>\n",
       "      <td>876</td>\n",
       "    </tr>\n",
       "    <tr>\n",
       "      <th>17</th>\n",
       "      <td>2025-10-31</td>\n",
       "      <td>669</td>\n",
       "    </tr>\n",
       "    <tr>\n",
       "      <th>18</th>\n",
       "      <td>2025-11-01</td>\n",
       "      <td>465</td>\n",
       "    </tr>\n",
       "    <tr>\n",
       "      <th>19</th>\n",
       "      <td>2025-11-02</td>\n",
       "      <td>160</td>\n",
       "    </tr>\n",
       "  </tbody>\n",
       "</table>\n",
       "</div>"
      ],
      "text/plain": [
       "   session_date  session_id\n",
       "0    2025-10-14        1628\n",
       "1    2025-10-15        2283\n",
       "2    2025-10-16        3241\n",
       "3    2025-10-17        4054\n",
       "4    2025-10-18        5059\n",
       "5    2025-10-19        6779\n",
       "6    2025-10-20        6089\n",
       "7    2025-10-21        3981\n",
       "8    2025-10-22        3111\n",
       "9    2025-10-23        2548\n",
       "10   2025-10-24        2068\n",
       "11   2025-10-25        1814\n",
       "12   2025-10-26        1692\n",
       "13   2025-10-27        1517\n",
       "14   2025-10-28        1289\n",
       "15   2025-10-29        1131\n",
       "16   2025-10-30         876\n",
       "17   2025-10-31         669\n",
       "18   2025-11-01         465\n",
       "19   2025-11-02         160"
      ]
     },
     "execution_count": 43,
     "metadata": {},
     "output_type": "execute_result"
    }
   ],
   "source": [
    "# Считаем количетво уникальных сессий по дням для группы B\n",
    "sessions_test_b_sessions = (\n",
    "    sessions_test[sessions_test['test_group'] == 'B']\n",
    "    .groupby('session_date')\n",
    "    ['session_id'].nunique()\n",
    "    .reset_index()\n",
    ")\n",
    "sessions_test_b_sessions"
   ]
  },
  {
   "cell_type": "markdown",
   "metadata": {},
   "source": [
    "Сформулируем нулевую и альтернативную гипотезы:\n",
    "\n",
    "**Нулевая гипотеза (H₀):**\n",
    "В среднем количество уникальных дневных сессий в группе А равно количеству сессий в группе B.\n",
    "\n",
    "**Альтернативная гипотеза (H₁):**\n",
    "В среднем количество уникальных дневных сессий в группе А отличается от количества сессий в группе B."
   ]
  },
  {
   "cell_type": "code",
   "execution_count": 37,
   "metadata": {},
   "outputs": [
    {
     "name": "stdout",
     "output_type": "stream",
     "text": [
      "Среднее дневное количество сессий в группе A: 2478\n",
      "Среднее дневное количество сессий в группе B: 2523\n",
      "\n",
      "Полученное значение p_value=0.94 больше критического уровня alpha=0.05.\n",
      "Опровергнуть нулевую гипотезу нельзя.\n"
     ]
    }
   ],
   "source": [
    "alpha = 0.05\n",
    "\n",
    "a_sessions_mean = sessions_test_a_sessions['session_id'].mean()\n",
    "b_sessions_mean = sessions_test_b_sessions['session_id'].mean()\n",
    "\n",
    "print(f'Среднее дневное количество сессий в группе A: {round(a_sessions_mean)}')\n",
    "print(f'Среднее дневное количество сессий в группе B: {round(b_sessions_mean)}')\n",
    "print('')\n",
    "\n",
    "# Применяем t-тест Уэлча\n",
    "stat_welsh_ttest, p_value_welsh_ttest = st.ttest_ind(\n",
    "    sessions_test_a_sessions['session_id'],\n",
    "    sessions_test_b_sessions['session_id'],\n",
    "    equal_var=False,\n",
    "    alternative='two-sided'\n",
    ")\n",
    "\n",
    "if p_value_welsh_ttest > alpha:\n",
    "    print(f'Полученное значение p_value={round(p_value_welsh_ttest, 2)} больше критического уровня alpha={alpha}.')\n",
    "    print('Опровергнуть нулевую гипотезу нельзя.')\n",
    "else:\n",
    "    print(f'Полученное значение p_value={round(p_value_welsh_ttest, 2)} меньше критического уровня alpha={alpha}.') \n",
    "    print('Принимаем альтернативную гипотезу.')"
   ]
  },
  {
   "cell_type": "markdown",
   "metadata": {},
   "source": [
    "Таким образом, разница в среднем количестве уникальных дневных сессий в группе A и группе B статистически не значима. Группы сопоставимы."
   ]
  },
  {
   "cell_type": "markdown",
   "metadata": {
    "id": "7kwRxzg70eM3"
   },
   "source": [
    "### Сравнение доли успешных сессий"
   ]
  },
  {
   "cell_type": "markdown",
   "metadata": {},
   "source": [
    "Мы убедились, что разница в среднем количестве уникальных дневных сессий в группе A и группе B статистически не значима. Можно переходить к анализу ключевой метрики — доли успешных сессий.\n",
    "\n",
    "Рассчитаем доли успешных сессий для выборок A и B, а также разницу в этом показателе. "
   ]
  },
  {
   "cell_type": "code",
   "execution_count": 44,
   "metadata": {
    "id": "Uku-V1CpPRCz"
   },
   "outputs": [
    {
     "name": "stdout",
     "output_type": "stream",
     "text": [
      "Доля успешных сессий для выборки A составляет 30.77%.\n",
      "Доля успешных сессий для выборки B составляет 31.83%.\n",
      "Доля успешных сессий в группе B выше на 3.43%, чем в группе A.\n"
     ]
    }
   ],
   "source": [
    "# Вычисляем доли успешных сессий в экспериментальных группах\n",
    "good_session_a = sessions_test[sessions_test['test_group'] == 'A']['good_session'].mean()\n",
    "good_session_b = sessions_test[sessions_test['test_group'] == 'B']['good_session'].mean()\n",
    "difference = round((good_session_b - good_session_a) / good_session_a * 100, 2)\n",
    "\n",
    "print(f'Доля успешных сессий для выборки A составляет {round(good_session_a * 100, 2)}%.')\n",
    "print(f'Доля успешных сессий для выборки B составляет {round(good_session_b * 100, 2)}%.')\n",
    "print(f'Доля успешных сессий в группе B выше на {difference}%, чем в группе A.')"
   ]
  },
  {
   "cell_type": "markdown",
   "metadata": {
    "id": "9fMFuja10eM4"
   },
   "source": [
    "### Проверка статистической значимости изменения ключевой метрики"
   ]
  },
  {
   "cell_type": "markdown",
   "metadata": {},
   "source": [
    "На предыдущем шаге мы убедились, что количество успешных сессий в тестовой выборке примерно на 3.43% (в относильноном выражении) выше, чем в контрольной. Для принятия решения нужно понять, является ли изменение статистически значимым."
   ]
  },
  {
   "cell_type": "code",
   "execution_count": 47,
   "metadata": {
    "id": "gFvhRGwlPLS0"
   },
   "outputs": [
    {
     "name": "stdout",
     "output_type": "stream",
     "text": [
      "Полученное значение p_value=0.0001574739988036123 меньше критического уровня alpha=0.05.\n",
      "Отвергаем нулевую гипотезу.\n"
     ]
    }
   ],
   "source": [
    "# Применяем Z-тест пропорций\n",
    "\n",
    "n_a = sessions_test[ # считаем размер группы A\n",
    "    sessions_test['test_group'] =='A'\n",
    "].shape[0] \n",
    "\n",
    "n_b = sessions_test[ # считаем размер группы B\n",
    "    sessions_test['test_group'] =='B'\n",
    "].shape[0] \n",
    "\n",
    "m_a = sessions_test[ # считаем кол-во успехов в группе A\n",
    "    (sessions_test['test_group'] =='A')&(sessions_test['good_session']==1)\n",
    "].shape[0] \n",
    "\n",
    "m_b = sessions_test[ # считаем кол-во успехов в группе B\n",
    "    (sessions_test['test_group'] =='B')&(sessions_test['good_session']==1)\n",
    "].shape[0] \n",
    "\n",
    "alpha = 0.05\n",
    "\n",
    "stat_ztest, p_value_ztest = proportions_ztest( \n",
    "    [m_b, m_a],\n",
    "    [n_b, n_a],\n",
    "    alternative='larger'\n",
    ")\n",
    "\n",
    "if p_value_ztest > alpha:\n",
    "    print(f'Полученное значение p_value={p_value_ztest} больше критического уровня alpha={alpha}.')\n",
    "    print('Не получилось отвергнуть нулевую гипотезу.')\n",
    "else:\n",
    "    print(f'Полученное значение p_value={p_value_ztest} меньше критического уровня alpha={alpha}.') \n",
    "    print('Отвергаем нулевую гипотезу.')"
   ]
  },
  {
   "cell_type": "markdown",
   "metadata": {},
   "source": [
    "Таким образом данные дают основание полагать, что доля успешных сессий (>= 4 страницы) у пользователей, использующих новый алгоритм рекомендаций, статистически значимо выше, чем у пользователей, не использующих новый алгоритм."
   ]
  },
  {
   "cell_type": "markdown",
   "metadata": {
    "id": "GnJrkY9Q63zS"
   },
   "source": [
    "### Вывод по результатам A/B-эксперимента"
   ]
  },
  {
   "cell_type": "markdown",
   "metadata": {},
   "source": [
    "По результатам проведённого A/B-эксперимента можно сделать следующие выводы:\n",
    "\n",
    "**Характеристики эксперимента:**\n",
    "\n",
    "- Размер выборки: 41 040 пользователей в каждой группе.\n",
    "- Длительность теста: 19 дней.\n",
    "- Все условия корректного A/B-теста были соблюдены: группы сбалансированы по численности, выборки независимы, пересечений пользователей нет, распределение по устройствам и регионам равномерное.\n",
    "\n",
    "**Результаты анализа:**\n",
    "\n",
    "- Среднее количество уникальных дневных сессий в группах A и B статистически не различается (p-value = 0.94).\n",
    "- Ключевая метрика — доля успешных сессий (>= 4 страницы):\n",
    "    - группа A: 30.77%,\n",
    "    - группа B: 31.83%.\n",
    "    - разница составила +3.43% (в относильноном выражении) в пользу группы B.\n",
    "- Полученное значение p-value = 0.00016, что ниже критического уровня α = 0.05. Различие статистически значимо.\n",
    "\n",
    "**Заключение:**\n",
    "\n",
    "Новый алгоритм рекомендаций положительно влияет вовлечённость пользователей: доля успешных сессий у пользователей, использующих новый алгоритм, статистически значимо выше, чем у пользователей контрольной группы. Разница составила +3.43% (в относильноном выражении) в пользу группы B. Рекомендуется внедрить новый алгоритм в приложение."
   ]
  }
 ],
 "metadata": {
  "ExecuteTimeLog": [
   {
    "duration": 568,
    "start_time": "2025-09-15T10:58:23.783Z"
   },
   {
    "duration": 66,
    "start_time": "2025-09-15T11:00:39.615Z"
   },
   {
    "duration": 2109,
    "start_time": "2025-09-15T11:01:04.926Z"
   },
   {
    "duration": 3,
    "start_time": "2025-09-15T11:01:59.195Z"
   },
   {
    "duration": 1621,
    "start_time": "2025-09-15T11:02:37.878Z"
   },
   {
    "duration": 15,
    "start_time": "2025-09-15T11:02:42.347Z"
   },
   {
    "duration": 19,
    "start_time": "2025-09-15T11:05:33.827Z"
   },
   {
    "duration": 23,
    "start_time": "2025-09-15T11:05:45.867Z"
   },
   {
    "duration": 375,
    "start_time": "2025-09-15T11:06:21.580Z"
   },
   {
    "duration": 357,
    "start_time": "2025-09-15T11:06:44.945Z"
   },
   {
    "duration": 342,
    "start_time": "2025-09-15T11:09:08.952Z"
   },
   {
    "duration": 338,
    "start_time": "2025-09-15T11:09:41.555Z"
   },
   {
    "duration": 340,
    "start_time": "2025-09-15T11:10:04.014Z"
   },
   {
    "duration": 338,
    "start_time": "2025-09-15T11:10:48.324Z"
   },
   {
    "duration": 377,
    "start_time": "2025-09-15T11:11:06.020Z"
   },
   {
    "duration": 322,
    "start_time": "2025-09-15T11:11:41.604Z"
   },
   {
    "duration": 387,
    "start_time": "2025-09-15T11:14:30.266Z"
   },
   {
    "duration": 14,
    "start_time": "2025-09-15T11:17:02.827Z"
   },
   {
    "duration": 12,
    "start_time": "2025-09-15T11:17:36.565Z"
   },
   {
    "duration": 985,
    "start_time": "2025-09-15T11:17:41.790Z"
   },
   {
    "duration": 7,
    "start_time": "2025-09-15T11:17:45.253Z"
   },
   {
    "duration": 8,
    "start_time": "2025-09-15T11:19:43.535Z"
   },
   {
    "duration": 39,
    "start_time": "2025-09-15T11:21:31.902Z"
   },
   {
    "duration": 42,
    "start_time": "2025-09-15T11:23:15.733Z"
   },
   {
    "duration": 512,
    "start_time": "2025-09-15T11:38:19.639Z"
   },
   {
    "duration": 528,
    "start_time": "2025-09-15T11:38:30.888Z"
   },
   {
    "duration": 525,
    "start_time": "2025-09-15T11:38:58.972Z"
   },
   {
    "duration": 535,
    "start_time": "2025-09-15T11:39:02.106Z"
   },
   {
    "duration": 572,
    "start_time": "2025-09-15T11:39:08.768Z"
   },
   {
    "duration": 549,
    "start_time": "2025-09-15T11:39:16.354Z"
   },
   {
    "duration": 526,
    "start_time": "2025-09-15T11:39:37.690Z"
   },
   {
    "duration": 73,
    "start_time": "2025-09-15T11:42:18.580Z"
   },
   {
    "duration": 473,
    "start_time": "2025-09-15T11:47:56.816Z"
   },
   {
    "duration": 495,
    "start_time": "2025-09-15T11:50:51.328Z"
   },
   {
    "duration": 98,
    "start_time": "2025-09-15T11:52:00.374Z"
   },
   {
    "duration": 571,
    "start_time": "2025-09-15T11:52:21.587Z"
   },
   {
    "duration": 76,
    "start_time": "2025-09-15T11:52:33.859Z"
   },
   {
    "duration": 99,
    "start_time": "2025-09-15T11:56:34.545Z"
   },
   {
    "duration": 129,
    "start_time": "2025-09-15T11:58:38.131Z"
   },
   {
    "duration": 12,
    "start_time": "2025-09-15T12:03:13.057Z"
   },
   {
    "duration": 1075,
    "start_time": "2025-09-15T12:03:46.539Z"
   },
   {
    "duration": 632,
    "start_time": "2025-09-15T12:03:52.477Z"
   },
   {
    "duration": 695,
    "start_time": "2025-09-15T12:04:01.126Z"
   },
   {
    "duration": 648,
    "start_time": "2025-09-15T12:06:26.584Z"
   },
   {
    "duration": 721,
    "start_time": "2025-09-15T12:08:14.647Z"
   },
   {
    "duration": 727,
    "start_time": "2025-09-15T12:08:56.142Z"
   },
   {
    "duration": 646,
    "start_time": "2025-09-15T12:09:37.608Z"
   },
   {
    "duration": 623,
    "start_time": "2025-09-15T12:10:48.429Z"
   },
   {
    "duration": 111,
    "start_time": "2025-09-15T12:12:44.463Z"
   },
   {
    "duration": 47,
    "start_time": "2025-09-15T17:24:14.731Z"
   },
   {
    "duration": 1256,
    "start_time": "2025-09-15T17:24:34.041Z"
   },
   {
    "duration": 1525,
    "start_time": "2025-09-15T17:24:35.299Z"
   },
   {
    "duration": 16,
    "start_time": "2025-09-15T17:24:36.825Z"
   },
   {
    "duration": 59,
    "start_time": "2025-09-15T17:24:36.843Z"
   },
   {
    "duration": 493,
    "start_time": "2025-09-15T17:24:36.904Z"
   },
   {
    "duration": 90,
    "start_time": "2025-09-15T17:24:37.399Z"
   },
   {
    "duration": 567,
    "start_time": "2025-09-15T17:24:37.490Z"
   },
   {
    "duration": 110,
    "start_time": "2025-09-15T17:24:38.059Z"
   },
   {
    "duration": 0,
    "start_time": "2025-09-15T17:24:38.176Z"
   },
   {
    "duration": 88,
    "start_time": "2025-09-15T17:25:14.783Z"
   },
   {
    "duration": 85,
    "start_time": "2025-09-15T17:25:24.613Z"
   },
   {
    "duration": 86,
    "start_time": "2025-09-15T17:25:39.424Z"
   },
   {
    "duration": 1004,
    "start_time": "2025-09-15T17:26:16.668Z"
   },
   {
    "duration": 92,
    "start_time": "2025-09-15T17:26:44.255Z"
   },
   {
    "duration": 80,
    "start_time": "2025-09-15T17:26:59.500Z"
   },
   {
    "duration": 573,
    "start_time": "2025-09-15T17:27:18.883Z"
   },
   {
    "duration": 588,
    "start_time": "2025-09-15T17:37:51.647Z"
   },
   {
    "duration": 552,
    "start_time": "2025-09-15T17:41:08.501Z"
   },
   {
    "duration": 594,
    "start_time": "2025-09-15T17:41:16.667Z"
   },
   {
    "duration": 36,
    "start_time": "2025-09-15T17:59:15.442Z"
   },
   {
    "duration": 40,
    "start_time": "2025-09-15T17:59:32.051Z"
   },
   {
    "duration": 37,
    "start_time": "2025-09-15T18:00:35.402Z"
   },
   {
    "duration": 59,
    "start_time": "2025-09-15T18:02:22.026Z"
   },
   {
    "duration": 40,
    "start_time": "2025-09-15T18:02:56.853Z"
   },
   {
    "duration": 40,
    "start_time": "2025-09-15T18:05:10.841Z"
   },
   {
    "duration": 43,
    "start_time": "2025-09-15T18:05:20.481Z"
   },
   {
    "duration": 150,
    "start_time": "2025-09-15T18:07:47.661Z"
   },
   {
    "duration": 177,
    "start_time": "2025-09-15T18:08:07.493Z"
   },
   {
    "duration": 156,
    "start_time": "2025-09-15T18:08:29.262Z"
   },
   {
    "duration": 158,
    "start_time": "2025-09-15T18:09:03.112Z"
   },
   {
    "duration": 2488,
    "start_time": "2025-09-15T18:18:43.124Z"
   },
   {
    "duration": 2479,
    "start_time": "2025-09-15T18:19:18.970Z"
   },
   {
    "duration": 2501,
    "start_time": "2025-09-15T18:19:34.062Z"
   },
   {
    "duration": 2509,
    "start_time": "2025-09-15T18:20:54.080Z"
   },
   {
    "duration": 63,
    "start_time": "2025-09-15T18:34:24.088Z"
   },
   {
    "duration": 802,
    "start_time": "2025-09-15T18:36:54.822Z"
   },
   {
    "duration": 67,
    "start_time": "2025-09-15T18:37:17.230Z"
   },
   {
    "duration": 31,
    "start_time": "2025-09-15T18:38:29.901Z"
   },
   {
    "duration": 36,
    "start_time": "2025-09-15T18:38:51.868Z"
   },
   {
    "duration": 29,
    "start_time": "2025-09-15T18:39:48.606Z"
   },
   {
    "duration": 33,
    "start_time": "2025-09-15T18:40:23.166Z"
   },
   {
    "duration": 402,
    "start_time": "2025-09-15T18:41:12.226Z"
   },
   {
    "duration": 80,
    "start_time": "2025-09-15T18:43:41.407Z"
   },
   {
    "duration": 43,
    "start_time": "2025-09-15T18:49:05.189Z"
   },
   {
    "duration": 43,
    "start_time": "2025-09-15T18:50:16.766Z"
   },
   {
    "duration": 35,
    "start_time": "2025-09-15T18:53:23.754Z"
   },
   {
    "duration": 36,
    "start_time": "2025-09-15T18:53:28.945Z"
   },
   {
    "duration": 36,
    "start_time": "2025-09-15T18:53:39.794Z"
   },
   {
    "duration": 37,
    "start_time": "2025-09-15T18:54:12.347Z"
   },
   {
    "duration": 515,
    "start_time": "2025-09-15T18:55:38.726Z"
   },
   {
    "duration": 1102,
    "start_time": "2025-09-15T18:59:05.728Z"
   },
   {
    "duration": 1997,
    "start_time": "2025-09-15T18:59:06.832Z"
   },
   {
    "duration": 13,
    "start_time": "2025-09-15T18:59:08.831Z"
   },
   {
    "duration": 59,
    "start_time": "2025-09-15T18:59:08.845Z"
   },
   {
    "duration": 463,
    "start_time": "2025-09-15T18:59:08.906Z"
   },
   {
    "duration": 88,
    "start_time": "2025-09-15T18:59:09.371Z"
   },
   {
    "duration": 609,
    "start_time": "2025-09-15T18:59:09.461Z"
   },
   {
    "duration": 518,
    "start_time": "2025-09-15T18:59:10.071Z"
   },
   {
    "duration": 30,
    "start_time": "2025-09-15T18:59:10.591Z"
   },
   {
    "duration": 169,
    "start_time": "2025-09-15T18:59:10.622Z"
   },
   {
    "duration": 2523,
    "start_time": "2025-09-15T18:59:10.793Z"
   },
   {
    "duration": 58,
    "start_time": "2025-09-15T18:59:13.318Z"
   },
   {
    "duration": 542,
    "start_time": "2025-09-15T18:59:13.379Z"
   },
   {
    "duration": 102,
    "start_time": "2025-09-15T18:59:13.923Z"
   },
   {
    "duration": 0,
    "start_time": "2025-09-15T18:59:14.026Z"
   },
   {
    "duration": 1002,
    "start_time": "2025-09-16T12:38:46.199Z"
   },
   {
    "duration": 1444,
    "start_time": "2025-09-16T12:38:56.815Z"
   },
   {
    "duration": 1890,
    "start_time": "2025-09-16T12:38:58.261Z"
   },
   {
    "duration": 16,
    "start_time": "2025-09-16T12:39:00.153Z"
   },
   {
    "duration": 61,
    "start_time": "2025-09-16T12:39:00.172Z"
   },
   {
    "duration": 591,
    "start_time": "2025-09-16T12:39:00.235Z"
   },
   {
    "duration": 120,
    "start_time": "2025-09-16T12:39:00.828Z"
   },
   {
    "duration": 685,
    "start_time": "2025-09-16T12:39:00.949Z"
   },
   {
    "duration": 604,
    "start_time": "2025-09-16T12:39:01.636Z"
   },
   {
    "duration": 33,
    "start_time": "2025-09-16T12:39:02.242Z"
   },
   {
    "duration": 206,
    "start_time": "2025-09-16T12:39:02.278Z"
   },
   {
    "duration": 2905,
    "start_time": "2025-09-16T12:39:02.486Z"
   },
   {
    "duration": 56,
    "start_time": "2025-09-16T12:39:05.392Z"
   },
   {
    "duration": 633,
    "start_time": "2025-09-16T12:39:05.450Z"
   },
   {
    "duration": 120,
    "start_time": "2025-09-16T12:39:06.085Z"
   },
   {
    "duration": 0,
    "start_time": "2025-09-16T12:39:06.207Z"
   },
   {
    "duration": 15,
    "start_time": "2025-09-16T12:43:04.854Z"
   },
   {
    "duration": 5,
    "start_time": "2025-09-16T12:53:33.140Z"
   },
   {
    "duration": 7,
    "start_time": "2025-09-16T12:55:39.792Z"
   },
   {
    "duration": 199,
    "start_time": "2025-09-16T12:56:11.531Z"
   },
   {
    "duration": 4,
    "start_time": "2025-09-16T12:56:27.381Z"
   },
   {
    "duration": 5,
    "start_time": "2025-09-16T12:56:37.621Z"
   },
   {
    "duration": 86,
    "start_time": "2025-09-16T13:04:34.907Z"
   },
   {
    "duration": 13,
    "start_time": "2025-09-16T13:05:03.466Z"
   },
   {
    "duration": 15,
    "start_time": "2025-09-16T13:19:55.646Z"
   },
   {
    "duration": 12,
    "start_time": "2025-09-16T13:20:06.899Z"
   },
   {
    "duration": 12,
    "start_time": "2025-09-16T13:21:44.839Z"
   },
   {
    "duration": 13,
    "start_time": "2025-09-16T13:23:42.943Z"
   },
   {
    "duration": 7,
    "start_time": "2025-09-16T13:27:54.985Z"
   },
   {
    "duration": 14,
    "start_time": "2025-09-16T13:28:18.544Z"
   },
   {
    "duration": 11,
    "start_time": "2025-09-16T13:28:24.794Z"
   },
   {
    "duration": 5,
    "start_time": "2025-09-16T13:28:56.885Z"
   },
   {
    "duration": 5,
    "start_time": "2025-09-16T13:32:38.465Z"
   },
   {
    "duration": 53,
    "start_time": "2025-09-16T13:33:43.150Z"
   },
   {
    "duration": 7,
    "start_time": "2025-09-16T13:33:54.037Z"
   },
   {
    "duration": 6,
    "start_time": "2025-09-16T13:34:06.595Z"
   },
   {
    "duration": 150,
    "start_time": "2025-09-16T13:46:38.714Z"
   },
   {
    "duration": 211,
    "start_time": "2025-09-16T13:47:05.046Z"
   },
   {
    "duration": 126,
    "start_time": "2025-09-16T13:47:22.697Z"
   },
   {
    "duration": 143,
    "start_time": "2025-09-16T13:47:29.496Z"
   },
   {
    "duration": 12,
    "start_time": "2025-09-16T13:52:20.017Z"
   },
   {
    "duration": 3,
    "start_time": "2025-09-16T13:52:34.219Z"
   },
   {
    "duration": 6,
    "start_time": "2025-09-16T13:53:32.332Z"
   },
   {
    "duration": 16,
    "start_time": "2025-09-16T13:53:40.601Z"
   },
   {
    "duration": 5,
    "start_time": "2025-09-16T13:53:47.872Z"
   },
   {
    "duration": 9,
    "start_time": "2025-09-16T13:54:29.348Z"
   },
   {
    "duration": 10,
    "start_time": "2025-09-16T13:56:52.449Z"
   },
   {
    "duration": 10,
    "start_time": "2025-09-16T13:57:09.600Z"
   },
   {
    "duration": 7,
    "start_time": "2025-09-16T14:07:29.841Z"
   },
   {
    "duration": 8,
    "start_time": "2025-09-16T14:08:06.443Z"
   },
   {
    "duration": 14,
    "start_time": "2025-09-16T14:08:59.216Z"
   },
   {
    "duration": 5,
    "start_time": "2025-09-16T14:09:04.123Z"
   },
   {
    "duration": 152,
    "start_time": "2025-09-16T14:09:07.518Z"
   },
   {
    "duration": 67,
    "start_time": "2025-09-16T14:09:46.534Z"
   },
   {
    "duration": 163,
    "start_time": "2025-09-16T14:10:01.191Z"
   },
   {
    "duration": 7,
    "start_time": "2025-09-16T14:10:20.462Z"
   },
   {
    "duration": 7,
    "start_time": "2025-09-16T14:10:39.172Z"
   },
   {
    "duration": 137,
    "start_time": "2025-09-16T14:11:58.262Z"
   },
   {
    "duration": 8,
    "start_time": "2025-09-16T14:12:07.251Z"
   },
   {
    "duration": 138,
    "start_time": "2025-09-16T14:12:41.949Z"
   },
   {
    "duration": 139,
    "start_time": "2025-09-16T14:12:47.281Z"
   },
   {
    "duration": 139,
    "start_time": "2025-09-16T14:13:27.366Z"
   },
   {
    "duration": 134,
    "start_time": "2025-09-16T14:13:34.788Z"
   },
   {
    "duration": 140,
    "start_time": "2025-09-16T14:13:48.832Z"
   },
   {
    "duration": 152,
    "start_time": "2025-09-16T14:15:29.440Z"
   },
   {
    "duration": 222,
    "start_time": "2025-09-16T14:15:35.520Z"
   },
   {
    "duration": 7,
    "start_time": "2025-09-16T14:16:27.762Z"
   },
   {
    "duration": 8,
    "start_time": "2025-09-16T14:17:04.255Z"
   },
   {
    "duration": 8,
    "start_time": "2025-09-16T14:17:13.972Z"
   },
   {
    "duration": 134,
    "start_time": "2025-09-16T14:17:44.439Z"
   },
   {
    "duration": 8,
    "start_time": "2025-09-16T14:29:21.800Z"
   },
   {
    "duration": 138,
    "start_time": "2025-09-16T14:33:59.834Z"
   },
   {
    "duration": 135,
    "start_time": "2025-09-16T14:34:19.101Z"
   },
   {
    "duration": 8,
    "start_time": "2025-09-16T14:36:30.936Z"
   },
   {
    "duration": 128,
    "start_time": "2025-09-16T14:36:50.881Z"
   },
   {
    "duration": 102,
    "start_time": "2025-09-16T14:41:09.653Z"
   },
   {
    "duration": 98,
    "start_time": "2025-09-16T14:42:40.535Z"
   },
   {
    "duration": 98,
    "start_time": "2025-09-16T14:42:48.738Z"
   },
   {
    "duration": 107,
    "start_time": "2025-09-16T14:44:45.192Z"
   },
   {
    "duration": 115,
    "start_time": "2025-09-16T14:45:25.220Z"
   },
   {
    "duration": 127,
    "start_time": "2025-09-16T14:46:21.958Z"
   },
   {
    "duration": 133,
    "start_time": "2025-09-16T14:46:56.554Z"
   },
   {
    "duration": 1579,
    "start_time": "2025-09-17T10:35:00.931Z"
   },
   {
    "duration": 2430,
    "start_time": "2025-09-17T10:35:02.512Z"
   },
   {
    "duration": 16,
    "start_time": "2025-09-17T10:35:04.943Z"
   },
   {
    "duration": 77,
    "start_time": "2025-09-17T10:35:04.961Z"
   },
   {
    "duration": 565,
    "start_time": "2025-09-17T10:35:05.040Z"
   },
   {
    "duration": 109,
    "start_time": "2025-09-17T10:35:05.606Z"
   },
   {
    "duration": 671,
    "start_time": "2025-09-17T10:35:05.717Z"
   },
   {
    "duration": 599,
    "start_time": "2025-09-17T10:35:06.390Z"
   },
   {
    "duration": 34,
    "start_time": "2025-09-17T10:35:06.991Z"
   },
   {
    "duration": 202,
    "start_time": "2025-09-17T10:35:07.028Z"
   },
   {
    "duration": 2917,
    "start_time": "2025-09-17T10:35:07.232Z"
   },
   {
    "duration": 61,
    "start_time": "2025-09-17T10:35:10.151Z"
   },
   {
    "duration": 598,
    "start_time": "2025-09-17T10:35:10.214Z"
   },
   {
    "duration": 25,
    "start_time": "2025-09-17T10:35:10.814Z"
   },
   {
    "duration": 5,
    "start_time": "2025-09-17T10:35:10.841Z"
   },
   {
    "duration": 105,
    "start_time": "2025-09-17T10:35:10.848Z"
   },
   {
    "duration": 12,
    "start_time": "2025-09-17T10:35:10.956Z"
   },
   {
    "duration": 16,
    "start_time": "2025-09-17T10:35:10.970Z"
   },
   {
    "duration": 7,
    "start_time": "2025-09-17T10:35:10.988Z"
   },
   {
    "duration": 160,
    "start_time": "2025-09-17T10:35:10.996Z"
   },
   {
    "duration": 14,
    "start_time": "2025-09-17T10:35:11.158Z"
   },
   {
    "duration": 20,
    "start_time": "2025-09-17T10:35:11.174Z"
   },
   {
    "duration": 197,
    "start_time": "2025-09-17T10:35:11.196Z"
   },
   {
    "duration": 9,
    "start_time": "2025-09-17T10:35:11.395Z"
   },
   {
    "duration": 122,
    "start_time": "2025-09-17T10:35:11.406Z"
   },
   {
    "duration": 7,
    "start_time": "2025-09-17T10:35:11.530Z"
   },
   {
    "duration": 190,
    "start_time": "2025-09-17T10:35:11.539Z"
   },
   {
    "duration": 7,
    "start_time": "2025-09-17T10:35:11.733Z"
   },
   {
    "duration": 141,
    "start_time": "2025-09-17T10:35:11.742Z"
   },
   {
    "duration": 645,
    "start_time": "2025-09-17T10:36:10.986Z"
   },
   {
    "duration": 15,
    "start_time": "2025-09-17T10:36:46.128Z"
   },
   {
    "duration": 658,
    "start_time": "2025-09-17T10:38:10.633Z"
   },
   {
    "duration": 633,
    "start_time": "2025-09-17T10:38:36.197Z"
   },
   {
    "duration": 632,
    "start_time": "2025-09-17T10:38:52.320Z"
   },
   {
    "duration": 623,
    "start_time": "2025-09-17T10:39:33.044Z"
   },
   {
    "duration": 65,
    "start_time": "2025-09-17T10:44:16.881Z"
   },
   {
    "duration": 74,
    "start_time": "2025-09-17T10:46:15.413Z"
   },
   {
    "duration": 52,
    "start_time": "2025-09-17T10:47:32.443Z"
   },
   {
    "duration": 8,
    "start_time": "2025-09-17T11:03:16.895Z"
   },
   {
    "duration": 136,
    "start_time": "2025-09-17T11:12:14.504Z"
   },
   {
    "duration": 1204,
    "start_time": "2025-09-17T11:12:44.625Z"
   },
   {
    "duration": 2012,
    "start_time": "2025-09-17T11:12:45.831Z"
   },
   {
    "duration": 15,
    "start_time": "2025-09-17T11:12:47.845Z"
   },
   {
    "duration": 48,
    "start_time": "2025-09-17T11:12:47.872Z"
   },
   {
    "duration": 574,
    "start_time": "2025-09-17T11:12:47.922Z"
   },
   {
    "duration": 102,
    "start_time": "2025-09-17T11:12:48.498Z"
   },
   {
    "duration": 678,
    "start_time": "2025-09-17T11:12:48.601Z"
   },
   {
    "duration": 592,
    "start_time": "2025-09-17T11:12:49.281Z"
   },
   {
    "duration": 32,
    "start_time": "2025-09-17T11:12:49.875Z"
   },
   {
    "duration": 194,
    "start_time": "2025-09-17T11:12:49.910Z"
   },
   {
    "duration": 2848,
    "start_time": "2025-09-17T11:12:50.106Z"
   },
   {
    "duration": 58,
    "start_time": "2025-09-17T11:12:52.956Z"
   },
   {
    "duration": 596,
    "start_time": "2025-09-17T11:12:53.016Z"
   },
   {
    "duration": 22,
    "start_time": "2025-09-17T11:12:53.613Z"
   },
   {
    "duration": 5,
    "start_time": "2025-09-17T11:12:53.636Z"
   },
   {
    "duration": 62,
    "start_time": "2025-09-17T11:12:53.642Z"
   },
   {
    "duration": 13,
    "start_time": "2025-09-17T11:12:53.705Z"
   },
   {
    "duration": 37,
    "start_time": "2025-09-17T11:12:53.719Z"
   },
   {
    "duration": 7,
    "start_time": "2025-09-17T11:12:53.758Z"
   },
   {
    "duration": 145,
    "start_time": "2025-09-17T11:12:53.767Z"
   },
   {
    "duration": 8,
    "start_time": "2025-09-17T11:12:53.913Z"
   },
   {
    "duration": 9,
    "start_time": "2025-09-17T11:12:53.922Z"
   },
   {
    "duration": 197,
    "start_time": "2025-09-17T11:12:53.932Z"
   },
   {
    "duration": 7,
    "start_time": "2025-09-17T11:12:54.131Z"
   },
   {
    "duration": 114,
    "start_time": "2025-09-17T11:12:54.139Z"
   },
   {
    "duration": 8,
    "start_time": "2025-09-17T11:12:54.254Z"
   },
   {
    "duration": 137,
    "start_time": "2025-09-17T11:12:54.272Z"
   },
   {
    "duration": 7,
    "start_time": "2025-09-17T11:12:54.413Z"
   },
   {
    "duration": 142,
    "start_time": "2025-09-17T11:12:54.422Z"
   },
   {
    "duration": 552,
    "start_time": "2025-09-17T11:12:54.566Z"
   },
   {
    "duration": 13,
    "start_time": "2025-09-17T11:12:55.120Z"
   },
   {
    "duration": 661,
    "start_time": "2025-09-17T11:12:55.135Z"
   },
   {
    "duration": 45,
    "start_time": "2025-09-17T11:12:55.798Z"
   },
   {
    "duration": 62,
    "start_time": "2025-09-17T11:12:55.845Z"
   },
   {
    "duration": 131,
    "start_time": "2025-09-17T11:12:55.909Z"
   },
   {
    "duration": 6,
    "start_time": "2025-09-17T11:12:59.260Z"
   },
   {
    "duration": 9,
    "start_time": "2025-09-17T11:14:18.998Z"
   },
   {
    "duration": 84,
    "start_time": "2025-09-17T11:18:57.051Z"
   },
   {
    "duration": 11,
    "start_time": "2025-09-17T11:19:53.493Z"
   },
   {
    "duration": 8,
    "start_time": "2025-09-17T11:20:13.101Z"
   },
   {
    "duration": 8,
    "start_time": "2025-09-17T11:20:44.266Z"
   },
   {
    "duration": 73,
    "start_time": "2025-09-17T11:32:58.300Z"
   },
   {
    "duration": 36,
    "start_time": "2025-09-17T11:33:27.223Z"
   },
   {
    "duration": 44,
    "start_time": "2025-09-17T11:33:56.352Z"
   },
   {
    "duration": 44,
    "start_time": "2025-09-17T11:34:12.186Z"
   },
   {
    "duration": 36,
    "start_time": "2025-09-17T11:34:19.230Z"
   },
   {
    "duration": 58,
    "start_time": "2025-09-17T11:38:31.423Z"
   },
   {
    "duration": 36,
    "start_time": "2025-09-17T11:38:40.251Z"
   },
   {
    "duration": 74,
    "start_time": "2025-09-17T11:53:50.825Z"
   },
   {
    "duration": 35,
    "start_time": "2025-09-17T11:53:59.659Z"
   },
   {
    "duration": 112,
    "start_time": "2025-09-17T12:05:40.692Z"
   },
   {
    "duration": 82,
    "start_time": "2025-09-17T12:05:57.561Z"
   },
   {
    "duration": 4,
    "start_time": "2025-09-17T12:06:49.389Z"
   },
   {
    "duration": 79,
    "start_time": "2025-09-17T12:07:04.945Z"
   },
   {
    "duration": 64,
    "start_time": "2025-09-17T12:07:51.737Z"
   },
   {
    "duration": 77,
    "start_time": "2025-09-17T12:08:35.388Z"
   },
   {
    "duration": 74,
    "start_time": "2025-09-17T12:09:02.826Z"
   },
   {
    "duration": 75,
    "start_time": "2025-09-17T12:16:15.616Z"
   },
   {
    "duration": 36,
    "start_time": "2025-09-17T12:16:22.141Z"
   },
   {
    "duration": 87,
    "start_time": "2025-09-17T12:18:08.561Z"
   },
   {
    "duration": 57,
    "start_time": "2025-09-17T12:18:22.161Z"
   },
   {
    "duration": 56,
    "start_time": "2025-09-17T12:18:33.041Z"
   },
   {
    "duration": 14,
    "start_time": "2025-09-17T13:09:43.854Z"
   },
   {
    "duration": 741,
    "start_time": "2025-09-17T13:16:12.155Z"
   },
   {
    "duration": 633,
    "start_time": "2025-09-17T13:16:18.632Z"
   },
   {
    "duration": 638,
    "start_time": "2025-09-17T13:16:41.287Z"
   },
   {
    "duration": 642,
    "start_time": "2025-09-17T13:16:46.572Z"
   },
   {
    "duration": 648,
    "start_time": "2025-09-17T13:17:39.771Z"
   },
   {
    "duration": 643,
    "start_time": "2025-09-17T13:18:11.228Z"
   },
   {
    "duration": 239,
    "start_time": "2025-09-17T13:52:07.461Z"
   },
   {
    "duration": 175,
    "start_time": "2025-09-17T13:52:35.920Z"
   },
   {
    "duration": 1334,
    "start_time": "2025-09-17T13:52:43.924Z"
   },
   {
    "duration": 1982,
    "start_time": "2025-09-17T13:52:45.261Z"
   },
   {
    "duration": 28,
    "start_time": "2025-09-17T13:52:47.244Z"
   },
   {
    "duration": 48,
    "start_time": "2025-09-17T13:52:47.274Z"
   },
   {
    "duration": 579,
    "start_time": "2025-09-17T13:52:47.324Z"
   },
   {
    "duration": 109,
    "start_time": "2025-09-17T13:52:47.905Z"
   },
   {
    "duration": 675,
    "start_time": "2025-09-17T13:52:48.016Z"
   },
   {
    "duration": 617,
    "start_time": "2025-09-17T13:52:48.693Z"
   },
   {
    "duration": 37,
    "start_time": "2025-09-17T13:52:49.312Z"
   },
   {
    "duration": 195,
    "start_time": "2025-09-17T13:52:49.350Z"
   },
   {
    "duration": 2721,
    "start_time": "2025-09-17T13:52:49.546Z"
   },
   {
    "duration": 52,
    "start_time": "2025-09-17T13:52:52.269Z"
   },
   {
    "duration": 601,
    "start_time": "2025-09-17T13:52:52.323Z"
   },
   {
    "duration": 15,
    "start_time": "2025-09-17T13:52:52.927Z"
   },
   {
    "duration": 187,
    "start_time": "2025-09-17T13:52:52.944Z"
   },
   {
    "duration": 115,
    "start_time": "2025-09-17T13:52:53.133Z"
   },
   {
    "duration": 13,
    "start_time": "2025-09-17T13:52:53.249Z"
   },
   {
    "duration": 14,
    "start_time": "2025-09-17T13:52:53.264Z"
   },
   {
    "duration": 8,
    "start_time": "2025-09-17T13:52:53.280Z"
   },
   {
    "duration": 165,
    "start_time": "2025-09-17T13:52:53.290Z"
   },
   {
    "duration": 15,
    "start_time": "2025-09-17T13:52:53.457Z"
   },
   {
    "duration": 10,
    "start_time": "2025-09-17T13:52:53.474Z"
   },
   {
    "duration": 204,
    "start_time": "2025-09-17T13:52:53.486Z"
   },
   {
    "duration": 9,
    "start_time": "2025-09-17T13:52:53.693Z"
   },
   {
    "duration": 121,
    "start_time": "2025-09-17T13:52:53.704Z"
   },
   {
    "duration": 9,
    "start_time": "2025-09-17T13:52:53.827Z"
   },
   {
    "duration": 138,
    "start_time": "2025-09-17T13:52:53.838Z"
   },
   {
    "duration": 9,
    "start_time": "2025-09-17T13:52:53.979Z"
   },
   {
    "duration": 148,
    "start_time": "2025-09-17T13:52:53.990Z"
   },
   {
    "duration": 484,
    "start_time": "2025-09-17T13:52:54.140Z"
   },
   {
    "duration": 12,
    "start_time": "2025-09-17T13:52:54.626Z"
   },
   {
    "duration": 637,
    "start_time": "2025-09-17T13:52:54.640Z"
   },
   {
    "duration": 42,
    "start_time": "2025-09-17T13:52:55.279Z"
   },
   {
    "duration": 58,
    "start_time": "2025-09-17T13:52:55.323Z"
   },
   {
    "duration": 9,
    "start_time": "2025-09-17T13:52:55.382Z"
   },
   {
    "duration": 43,
    "start_time": "2025-09-17T13:52:55.393Z"
   },
   {
    "duration": 74,
    "start_time": "2025-09-17T13:52:55.437Z"
   },
   {
    "duration": 1282,
    "start_time": "2025-09-17T14:24:45.304Z"
   },
   {
    "duration": 3267,
    "start_time": "2025-09-17T14:24:46.588Z"
   },
   {
    "duration": 16,
    "start_time": "2025-09-17T14:24:49.857Z"
   },
   {
    "duration": 98,
    "start_time": "2025-09-17T14:24:49.875Z"
   },
   {
    "duration": 548,
    "start_time": "2025-09-17T14:24:49.974Z"
   },
   {
    "duration": 111,
    "start_time": "2025-09-17T14:24:50.524Z"
   },
   {
    "duration": 681,
    "start_time": "2025-09-17T14:24:50.637Z"
   },
   {
    "duration": 609,
    "start_time": "2025-09-17T14:24:51.320Z"
   },
   {
    "duration": 34,
    "start_time": "2025-09-17T14:24:51.931Z"
   },
   {
    "duration": 205,
    "start_time": "2025-09-17T14:24:51.969Z"
   },
   {
    "duration": 2905,
    "start_time": "2025-09-17T14:24:52.176Z"
   },
   {
    "duration": 61,
    "start_time": "2025-09-17T14:24:55.083Z"
   },
   {
    "duration": 577,
    "start_time": "2025-09-17T14:24:55.145Z"
   },
   {
    "duration": 15,
    "start_time": "2025-09-17T14:24:55.724Z"
   },
   {
    "duration": 220,
    "start_time": "2025-09-17T14:24:55.740Z"
   },
   {
    "duration": 43,
    "start_time": "2025-09-17T14:24:55.963Z"
   },
   {
    "duration": 13,
    "start_time": "2025-09-17T14:24:56.008Z"
   },
   {
    "duration": 24,
    "start_time": "2025-09-17T14:24:56.024Z"
   },
   {
    "duration": 9,
    "start_time": "2025-09-17T14:24:56.050Z"
   },
   {
    "duration": 168,
    "start_time": "2025-09-17T14:24:56.061Z"
   },
   {
    "duration": 10,
    "start_time": "2025-09-17T14:24:56.231Z"
   },
   {
    "duration": 31,
    "start_time": "2025-09-17T14:24:56.242Z"
   },
   {
    "duration": 233,
    "start_time": "2025-09-17T14:24:56.275Z"
   },
   {
    "duration": 7,
    "start_time": "2025-09-17T14:24:56.510Z"
   },
   {
    "duration": 117,
    "start_time": "2025-09-17T14:24:56.519Z"
   },
   {
    "duration": 8,
    "start_time": "2025-09-17T14:24:56.638Z"
   },
   {
    "duration": 152,
    "start_time": "2025-09-17T14:24:56.648Z"
   },
   {
    "duration": 8,
    "start_time": "2025-09-17T14:24:56.803Z"
   },
   {
    "duration": 146,
    "start_time": "2025-09-17T14:24:56.812Z"
   },
   {
    "duration": 385,
    "start_time": "2025-09-17T14:24:56.960Z"
   },
   {
    "duration": 12,
    "start_time": "2025-09-17T14:24:57.347Z"
   },
   {
    "duration": 684,
    "start_time": "2025-09-17T14:24:57.361Z"
   },
   {
    "duration": 55,
    "start_time": "2025-09-17T14:24:58.047Z"
   },
   {
    "duration": 80,
    "start_time": "2025-09-17T14:24:58.104Z"
   },
   {
    "duration": 7,
    "start_time": "2025-09-17T14:24:58.186Z"
   },
   {
    "duration": 62,
    "start_time": "2025-09-17T14:24:58.195Z"
   },
   {
    "duration": 57,
    "start_time": "2025-09-17T14:24:58.260Z"
   },
   {
    "duration": 1184,
    "start_time": "2025-09-17T14:27:02.656Z"
   },
   {
    "duration": 1681,
    "start_time": "2025-09-17T14:27:03.842Z"
   },
   {
    "duration": 15,
    "start_time": "2025-09-17T14:27:05.526Z"
   },
   {
    "duration": 62,
    "start_time": "2025-09-17T14:27:05.543Z"
   },
   {
    "duration": 577,
    "start_time": "2025-09-17T14:27:05.607Z"
   },
   {
    "duration": 99,
    "start_time": "2025-09-17T14:27:06.186Z"
   },
   {
    "duration": 708,
    "start_time": "2025-09-17T14:27:06.287Z"
   },
   {
    "duration": 618,
    "start_time": "2025-09-17T14:27:06.996Z"
   },
   {
    "duration": 35,
    "start_time": "2025-09-17T14:27:07.615Z"
   },
   {
    "duration": 202,
    "start_time": "2025-09-17T14:27:07.654Z"
   },
   {
    "duration": 2861,
    "start_time": "2025-09-17T14:27:07.858Z"
   },
   {
    "duration": 52,
    "start_time": "2025-09-17T14:27:10.721Z"
   },
   {
    "duration": 594,
    "start_time": "2025-09-17T14:27:10.774Z"
   },
   {
    "duration": 29,
    "start_time": "2025-09-17T14:27:11.370Z"
   },
   {
    "duration": 174,
    "start_time": "2025-09-17T14:27:11.401Z"
   },
   {
    "duration": 35,
    "start_time": "2025-09-17T14:27:11.577Z"
   },
   {
    "duration": 32,
    "start_time": "2025-09-17T14:27:11.614Z"
   },
   {
    "duration": 26,
    "start_time": "2025-09-17T14:27:11.648Z"
   },
   {
    "duration": 6,
    "start_time": "2025-09-17T14:27:11.676Z"
   },
   {
    "duration": 140,
    "start_time": "2025-09-17T14:27:11.684Z"
   },
   {
    "duration": 10,
    "start_time": "2025-09-17T14:27:11.826Z"
   },
   {
    "duration": 11,
    "start_time": "2025-09-17T14:27:11.838Z"
   },
   {
    "duration": 197,
    "start_time": "2025-09-17T14:27:11.851Z"
   },
   {
    "duration": 9,
    "start_time": "2025-09-17T14:27:12.049Z"
   },
   {
    "duration": 113,
    "start_time": "2025-09-17T14:27:12.060Z"
   },
   {
    "duration": 9,
    "start_time": "2025-09-17T14:27:12.175Z"
   },
   {
    "duration": 144,
    "start_time": "2025-09-17T14:27:12.186Z"
   },
   {
    "duration": 8,
    "start_time": "2025-09-17T14:27:12.335Z"
   },
   {
    "duration": 136,
    "start_time": "2025-09-17T14:27:12.345Z"
   },
   {
    "duration": 461,
    "start_time": "2025-09-17T14:27:12.483Z"
   },
   {
    "duration": 14,
    "start_time": "2025-09-17T14:27:12.946Z"
   },
   {
    "duration": 638,
    "start_time": "2025-09-17T14:27:12.962Z"
   },
   {
    "duration": 38,
    "start_time": "2025-09-17T14:27:13.602Z"
   },
   {
    "duration": 58,
    "start_time": "2025-09-17T14:27:13.641Z"
   },
   {
    "duration": 7,
    "start_time": "2025-09-17T14:27:13.702Z"
   },
   {
    "duration": 39,
    "start_time": "2025-09-17T14:27:13.711Z"
   },
   {
    "duration": 79,
    "start_time": "2025-09-17T14:27:13.752Z"
   },
   {
    "duration": 1298,
    "start_time": "2025-09-18T10:51:53.895Z"
   },
   {
    "duration": 1827,
    "start_time": "2025-09-18T10:51:55.195Z"
   },
   {
    "duration": 14,
    "start_time": "2025-09-18T10:51:57.024Z"
   },
   {
    "duration": 102,
    "start_time": "2025-09-18T10:51:57.040Z"
   },
   {
    "duration": 517,
    "start_time": "2025-09-18T10:51:57.144Z"
   },
   {
    "duration": 87,
    "start_time": "2025-09-18T10:51:57.662Z"
   },
   {
    "duration": 578,
    "start_time": "2025-09-18T10:51:57.750Z"
   },
   {
    "duration": 501,
    "start_time": "2025-09-18T10:51:58.330Z"
   },
   {
    "duration": 30,
    "start_time": "2025-09-18T10:51:58.833Z"
   },
   {
    "duration": 163,
    "start_time": "2025-09-18T10:51:58.875Z"
   },
   {
    "duration": 2549,
    "start_time": "2025-09-18T10:51:59.040Z"
   },
   {
    "duration": 46,
    "start_time": "2025-09-18T10:52:01.591Z"
   },
   {
    "duration": 554,
    "start_time": "2025-09-18T10:52:01.639Z"
   },
   {
    "duration": 13,
    "start_time": "2025-09-18T10:52:02.195Z"
   },
   {
    "duration": 166,
    "start_time": "2025-09-18T10:52:02.210Z"
   },
   {
    "duration": 77,
    "start_time": "2025-09-18T10:52:02.378Z"
   },
   {
    "duration": 11,
    "start_time": "2025-09-18T10:52:02.457Z"
   },
   {
    "duration": 64,
    "start_time": "2025-09-18T10:52:02.470Z"
   },
   {
    "duration": 34,
    "start_time": "2025-09-18T10:52:02.536Z"
   },
   {
    "duration": 136,
    "start_time": "2025-09-18T10:52:02.571Z"
   },
   {
    "duration": 6,
    "start_time": "2025-09-18T10:52:02.709Z"
   },
   {
    "duration": 43,
    "start_time": "2025-09-18T10:52:02.717Z"
   },
   {
    "duration": 223,
    "start_time": "2025-09-18T10:52:02.762Z"
   },
   {
    "duration": 23,
    "start_time": "2025-09-18T10:52:02.986Z"
   },
   {
    "duration": 158,
    "start_time": "2025-09-18T10:52:03.011Z"
   },
   {
    "duration": 60,
    "start_time": "2025-09-18T10:52:03.170Z"
   },
   {
    "duration": 255,
    "start_time": "2025-09-18T10:52:03.232Z"
   },
   {
    "duration": 7,
    "start_time": "2025-09-18T10:52:03.490Z"
   },
   {
    "duration": 142,
    "start_time": "2025-09-18T10:52:03.499Z"
   },
   {
    "duration": 458,
    "start_time": "2025-09-18T10:52:03.642Z"
   },
   {
    "duration": 11,
    "start_time": "2025-09-18T10:52:04.102Z"
   },
   {
    "duration": 609,
    "start_time": "2025-09-18T10:52:04.115Z"
   },
   {
    "duration": 38,
    "start_time": "2025-09-18T10:52:04.726Z"
   },
   {
    "duration": 35,
    "start_time": "2025-09-18T10:52:04.776Z"
   },
   {
    "duration": 6,
    "start_time": "2025-09-18T10:52:04.813Z"
   },
   {
    "duration": 73,
    "start_time": "2025-09-18T10:52:04.820Z"
   },
   {
    "duration": 50,
    "start_time": "2025-09-18T10:52:04.895Z"
   },
   {
    "duration": 6,
    "start_time": "2025-09-18T10:58:43.453Z"
   },
   {
    "duration": 13,
    "start_time": "2025-09-18T10:59:18.145Z"
   },
   {
    "duration": 98,
    "start_time": "2025-09-18T11:01:17.781Z"
   },
   {
    "duration": 10,
    "start_time": "2025-09-18T11:04:52.481Z"
   },
   {
    "duration": 13,
    "start_time": "2025-09-18T11:05:45.044Z"
   },
   {
    "duration": 12,
    "start_time": "2025-09-18T11:05:54.035Z"
   },
   {
    "duration": 13,
    "start_time": "2025-09-18T11:06:39.559Z"
   },
   {
    "duration": 100,
    "start_time": "2025-09-18T11:06:40.982Z"
   },
   {
    "duration": 13,
    "start_time": "2025-09-18T11:07:00.877Z"
   },
   {
    "duration": 103,
    "start_time": "2025-09-18T11:07:01.719Z"
   },
   {
    "duration": 17,
    "start_time": "2025-09-18T11:07:48.518Z"
   },
   {
    "duration": 85,
    "start_time": "2025-09-18T11:07:55.615Z"
   },
   {
    "duration": 96,
    "start_time": "2025-09-18T11:08:07.839Z"
   },
   {
    "duration": 104,
    "start_time": "2025-09-18T11:08:15.884Z"
   },
   {
    "duration": 165,
    "start_time": "2025-09-18T11:08:20.175Z"
   },
   {
    "duration": 87,
    "start_time": "2025-09-18T11:08:26.111Z"
   },
   {
    "duration": 98,
    "start_time": "2025-09-18T11:10:16.905Z"
   },
   {
    "duration": 12,
    "start_time": "2025-09-18T11:13:38.582Z"
   },
   {
    "duration": 96,
    "start_time": "2025-09-18T11:15:03.361Z"
   },
   {
    "duration": 12,
    "start_time": "2025-09-18T11:18:08.376Z"
   },
   {
    "duration": 158,
    "start_time": "2025-09-18T11:18:09.131Z"
   },
   {
    "duration": 88,
    "start_time": "2025-09-18T11:18:35.395Z"
   },
   {
    "duration": 13,
    "start_time": "2025-09-18T11:19:07.092Z"
   },
   {
    "duration": 89,
    "start_time": "2025-09-18T11:19:08.122Z"
   },
   {
    "duration": 20,
    "start_time": "2025-09-18T12:31:50.669Z"
   },
   {
    "duration": 121,
    "start_time": "2025-09-18T12:32:28.194Z"
   },
   {
    "duration": 13,
    "start_time": "2025-09-18T12:36:24.990Z"
   },
   {
    "duration": 143,
    "start_time": "2025-09-18T12:37:00.574Z"
   },
   {
    "duration": 142,
    "start_time": "2025-09-18T12:37:07.178Z"
   },
   {
    "duration": 123,
    "start_time": "2025-09-18T12:37:42.203Z"
   },
   {
    "duration": 146,
    "start_time": "2025-09-18T12:37:56.443Z"
   },
   {
    "duration": 15,
    "start_time": "2025-09-18T12:38:42.370Z"
   },
   {
    "duration": 150,
    "start_time": "2025-09-18T12:40:00.356Z"
   },
   {
    "duration": 149,
    "start_time": "2025-09-18T12:40:08.429Z"
   },
   {
    "duration": 111,
    "start_time": "2025-09-18T12:47:43.309Z"
   },
   {
    "duration": 111,
    "start_time": "2025-09-18T12:47:50.517Z"
   },
   {
    "duration": 134,
    "start_time": "2025-09-18T13:00:46.522Z"
   },
   {
    "duration": 126,
    "start_time": "2025-09-18T13:02:00.193Z"
   },
   {
    "duration": 11,
    "start_time": "2025-09-18T13:06:37.984Z"
   },
   {
    "duration": 44,
    "start_time": "2025-09-18T13:07:41.372Z"
   },
   {
    "duration": 1216,
    "start_time": "2025-09-18T13:08:44.110Z"
   },
   {
    "duration": 1815,
    "start_time": "2025-09-18T13:08:45.328Z"
   },
   {
    "duration": 14,
    "start_time": "2025-09-18T13:08:47.145Z"
   },
   {
    "duration": 164,
    "start_time": "2025-09-18T13:08:47.161Z"
   },
   {
    "duration": 41,
    "start_time": "2025-09-18T13:08:47.327Z"
   },
   {
    "duration": 521,
    "start_time": "2025-09-18T13:08:47.370Z"
   },
   {
    "duration": 95,
    "start_time": "2025-09-18T13:08:47.893Z"
   },
   {
    "duration": 591,
    "start_time": "2025-09-18T13:08:47.989Z"
   },
   {
    "duration": 541,
    "start_time": "2025-09-18T13:08:48.582Z"
   },
   {
    "duration": 31,
    "start_time": "2025-09-18T13:08:49.124Z"
   },
   {
    "duration": 184,
    "start_time": "2025-09-18T13:08:49.157Z"
   },
   {
    "duration": 2562,
    "start_time": "2025-09-18T13:08:49.343Z"
   },
   {
    "duration": 47,
    "start_time": "2025-09-18T13:08:51.907Z"
   },
   {
    "duration": 587,
    "start_time": "2025-09-18T13:08:51.958Z"
   },
   {
    "duration": 14,
    "start_time": "2025-09-18T13:08:52.547Z"
   },
   {
    "duration": 263,
    "start_time": "2025-09-18T13:08:52.562Z"
   },
   {
    "duration": 37,
    "start_time": "2025-09-18T13:08:52.827Z"
   },
   {
    "duration": 37,
    "start_time": "2025-09-18T13:08:52.865Z"
   },
   {
    "duration": 115,
    "start_time": "2025-09-18T13:08:52.904Z"
   },
   {
    "duration": 16,
    "start_time": "2025-09-18T13:08:53.020Z"
   },
   {
    "duration": 6,
    "start_time": "2025-09-18T13:08:53.038Z"
   },
   {
    "duration": 133,
    "start_time": "2025-09-18T13:08:53.045Z"
   },
   {
    "duration": 7,
    "start_time": "2025-09-18T13:08:53.180Z"
   },
   {
    "duration": 14,
    "start_time": "2025-09-18T13:08:53.189Z"
   },
   {
    "duration": 192,
    "start_time": "2025-09-18T13:08:53.205Z"
   },
   {
    "duration": 17,
    "start_time": "2025-09-18T13:08:53.399Z"
   },
   {
    "duration": 118,
    "start_time": "2025-09-18T13:08:53.418Z"
   },
   {
    "duration": 12,
    "start_time": "2025-09-18T13:08:53.537Z"
   },
   {
    "duration": 122,
    "start_time": "2025-09-18T13:08:53.551Z"
   },
   {
    "duration": 11,
    "start_time": "2025-09-18T13:08:53.676Z"
   },
   {
    "duration": 125,
    "start_time": "2025-09-18T13:08:53.689Z"
   },
   {
    "duration": 465,
    "start_time": "2025-09-18T13:08:53.816Z"
   },
   {
    "duration": 10,
    "start_time": "2025-09-18T13:08:54.283Z"
   },
   {
    "duration": 61,
    "start_time": "2025-09-18T13:08:54.295Z"
   },
   {
    "duration": 601,
    "start_time": "2025-09-18T13:08:54.357Z"
   },
   {
    "duration": 44,
    "start_time": "2025-09-18T13:08:54.959Z"
   },
   {
    "duration": 39,
    "start_time": "2025-09-18T13:08:55.004Z"
   },
   {
    "duration": 7,
    "start_time": "2025-09-18T13:08:55.044Z"
   },
   {
    "duration": 50,
    "start_time": "2025-09-18T13:08:55.052Z"
   },
   {
    "duration": 52,
    "start_time": "2025-09-18T13:08:55.104Z"
   },
   {
    "duration": 1261,
    "start_time": "2025-09-18T14:07:51.497Z"
   },
   {
    "duration": 2260,
    "start_time": "2025-09-18T14:07:52.760Z"
   },
   {
    "duration": 15,
    "start_time": "2025-09-18T14:07:55.022Z"
   },
   {
    "duration": 165,
    "start_time": "2025-09-18T14:07:55.039Z"
   },
   {
    "duration": 62,
    "start_time": "2025-09-18T14:07:55.206Z"
   },
   {
    "duration": 585,
    "start_time": "2025-09-18T14:07:55.270Z"
   },
   {
    "duration": 104,
    "start_time": "2025-09-18T14:07:55.857Z"
   },
   {
    "duration": 654,
    "start_time": "2025-09-18T14:07:55.963Z"
   },
   {
    "duration": 607,
    "start_time": "2025-09-18T14:07:56.619Z"
   },
   {
    "duration": 46,
    "start_time": "2025-09-18T14:07:57.228Z"
   },
   {
    "duration": 188,
    "start_time": "2025-09-18T14:07:57.276Z"
   },
   {
    "duration": 2809,
    "start_time": "2025-09-18T14:07:57.466Z"
   },
   {
    "duration": 51,
    "start_time": "2025-09-18T14:08:00.277Z"
   },
   {
    "duration": 603,
    "start_time": "2025-09-18T14:08:00.331Z"
   },
   {
    "duration": 24,
    "start_time": "2025-09-18T14:08:00.936Z"
   },
   {
    "duration": 208,
    "start_time": "2025-09-18T14:08:00.961Z"
   },
   {
    "duration": 91,
    "start_time": "2025-09-18T14:08:01.171Z"
   },
   {
    "duration": 14,
    "start_time": "2025-09-18T14:08:01.264Z"
   },
   {
    "duration": 45,
    "start_time": "2025-09-18T14:08:01.280Z"
   },
   {
    "duration": 65,
    "start_time": "2025-09-18T14:08:01.327Z"
   },
   {
    "duration": 8,
    "start_time": "2025-09-18T14:08:01.394Z"
   },
   {
    "duration": 308,
    "start_time": "2025-09-18T14:08:01.404Z"
   },
   {
    "duration": 9,
    "start_time": "2025-09-18T14:08:01.714Z"
   },
   {
    "duration": 37,
    "start_time": "2025-09-18T14:08:01.724Z"
   },
   {
    "duration": 206,
    "start_time": "2025-09-18T14:08:01.763Z"
   },
   {
    "duration": 14,
    "start_time": "2025-09-18T14:08:01.972Z"
   },
   {
    "duration": 145,
    "start_time": "2025-09-18T14:08:01.988Z"
   },
   {
    "duration": 18,
    "start_time": "2025-09-18T14:08:02.135Z"
   },
   {
    "duration": 149,
    "start_time": "2025-09-18T14:08:02.155Z"
   },
   {
    "duration": 14,
    "start_time": "2025-09-18T14:08:02.306Z"
   },
   {
    "duration": 153,
    "start_time": "2025-09-18T14:08:02.321Z"
   },
   {
    "duration": 532,
    "start_time": "2025-09-18T14:08:02.476Z"
   },
   {
    "duration": 13,
    "start_time": "2025-09-18T14:08:03.009Z"
   },
   {
    "duration": 63,
    "start_time": "2025-09-18T14:08:03.024Z"
   },
   {
    "duration": 657,
    "start_time": "2025-09-18T14:08:03.088Z"
   },
   {
    "duration": 44,
    "start_time": "2025-09-18T14:08:03.750Z"
   },
   {
    "duration": 61,
    "start_time": "2025-09-18T14:08:03.796Z"
   },
   {
    "duration": 8,
    "start_time": "2025-09-18T14:08:03.859Z"
   },
   {
    "duration": 52,
    "start_time": "2025-09-18T14:08:03.869Z"
   },
   {
    "duration": 73,
    "start_time": "2025-09-18T14:08:03.923Z"
   }
  ],
  "colab": {
   "provenance": []
  },
  "kernelspec": {
   "display_name": "Python (phik_env)",
   "language": "python",
   "name": "phik_env"
  },
  "language_info": {
   "codemirror_mode": {
    "name": "ipython",
    "version": 3
   },
   "file_extension": ".py",
   "mimetype": "text/x-python",
   "name": "python",
   "nbconvert_exporter": "python",
   "pygments_lexer": "ipython3",
   "version": "3.10.18"
  },
  "toc": {
   "base_numbering": 1,
   "nav_menu": {},
   "number_sections": true,
   "sideBar": true,
   "skip_h1_title": true,
   "title_cell": "Table of Contents",
   "title_sidebar": "Contents",
   "toc_cell": false,
   "toc_position": {},
   "toc_section_display": true,
   "toc_window_display": false
  }
 },
 "nbformat": 4,
 "nbformat_minor": 4
}
